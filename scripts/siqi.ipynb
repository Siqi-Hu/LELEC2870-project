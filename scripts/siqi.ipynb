{
 "cells": [
  {
   "cell_type": "markdown",
   "id": "67e96d4c",
   "metadata": {},
   "source": [
    "## Load the packages"
   ]
  },
  {
   "cell_type": "code",
   "execution_count": 1,
   "id": "1e258235",
   "metadata": {},
   "outputs": [],
   "source": [
    "import pandas as pd"
   ]
  },
  {
   "cell_type": "markdown",
   "source": [
    "## Read the data"
   ],
   "metadata": {
    "collapsed": false
   }
  },
  {
   "cell_type": "code",
   "execution_count": 2,
   "id": "5de98862",
   "metadata": {},
   "outputs": [],
   "source": [
    "# Use pandas to load into a DataFrame\n",
    "# Y1. csv doesn ’ t have a header so\n",
    "# add one when loading the file\n",
    "X1 = pd.read_csv(\"X1.csv\")\n",
    "Y1 = pd.read_csv(\"Y1.csv\", header=None, names=['revenue '])"
   ]
  },
  {
   "cell_type": "code",
   "execution_count": 9,
   "outputs": [],
   "source": [
    "# remove the index column\n",
    "X1.drop('Unnamed: 0', inplace=True, axis=1)"
   ],
   "metadata": {
    "collapsed": false
   }
  },
  {
   "cell_type": "markdown",
   "source": [
    "## Categorical data process"
   ],
   "metadata": {
    "collapsed": false
   }
  },
  {
   "cell_type": "code",
   "execution_count": 10,
   "outputs": [
    {
     "data": {
      "text/plain": "                           title  \\\n0              Letters to Juliet   \n1                  Veil of Tears   \n2           International Velvet   \n3                      8 Seconds   \n4                Penitentiary II   \n...                          ...   \n3535            Stiff Upper Lips   \n3536                  Twenty Two   \n3537                   Girlfight   \n3538  This Film Is Not Yet Rated   \n3539  MVP: Most Valuable Primate   \n\n                                                img_url  \\\n0     https://m.media-amazon.com/images/M/MV5BMjg0OT...   \n1     https://m.media-amazon.com/images/M/MV5BZjMxOD...   \n2     https://m.media-amazon.com/images/M/MV5BOGVkYj...   \n3     https://m.media-amazon.com/images/M/MV5BYjY4Nz...   \n4     https://m.media-amazon.com/images/M/MV5BNjQyZW...   \n...                                                 ...   \n3535  https://m.media-amazon.com/images/M/MV5BNGRiMz...   \n3536  https://m.media-amazon.com/images/M/MV5BMjMyMz...   \n3537  https://m.media-amazon.com/images/M/MV5BMTMzMz...   \n3538  https://m.media-amazon.com/images/M/MV5BMTk0ND...   \n3539  https://m.media-amazon.com/images/M/MV5BMjMzOD...   \n\n                                            description  ratings  n_votes  \\\n0     Letters to Juliet: Directed by Gary Winick. Wi...      6.5  92937.0   \n1     Veil of Tears: Directed by William Gereghty. W...      7.9     11.0   \n2     International Velvet: Directed by Bryan Forbes...      5.9   1345.0   \n3     8 Seconds: Directed by John G. Avildsen. With ...      6.6   4851.0   \n4     Penitentiary II: Directed by Jamaa Fanaka. Wit...      4.1    549.0   \n...                                                 ...      ...      ...   \n3535  Stiff Upper Lips: Directed by Gary Sinyor. Wit...      6.3    973.0   \n3536  Twenty Two: Directed by Jack Smight. With Barb...      8.0   2190.0   \n3537  Girlfight: Directed by Lawrence Trilling. With...      7.6     34.0   \n3538  This Film Is Not Yet Rated: Directed by Kirby ...      7.5  27379.0   \n3539  MVP: Most Valuable Primate: Directed by Robert...      4.1   2296.0   \n\n      is_adult  production_year runtime                  genres  release_year  \\\n0            0             2010     105  Adventure,Comedy,Drama        2010.0   \n1            0             1996      \\N      Action,Crime,Drama        2014.0   \n2            0             1978     127      Drama,Family,Sport        1978.0   \n3            0             1994     105   Biography,Drama,Sport        1994.0   \n4            0             1982     108       Crime,Drama,Sport        1982.0   \n...        ...              ...     ...                     ...           ...   \n3535         0             1997      94                  Comedy        1999.0   \n3536         0             1961      25    Drama,Fantasy,Horror        2017.0   \n3537         0             2001      44           Drama,Romance        2000.0   \n3538         0             2006      98             Documentary        2006.0   \n3539         0             2000      93     Comedy,Family,Sport        2000.0   \n\n      studio                                     img_embeddings  \\\n0       Sum.  [0.25030804, 2.4058464, 1.0431569, 0.030648155...   \n1         WF  [0.51250213, 2.8152602, 0.46308166, 0.29031387...   \n2        MGM  [0.18073043, 0.24735461, 0.63652813, 0.2496522...   \n3         NL  [0.025015268, 0.9105338, 0.3878257, 0.3421247,...   \n4        MGM  [0.19079691, 1.9068279, 0.29114372, 0.19527505...   \n...      ...                                                ...   \n3535    Cow.  [0.19991912, 1.3718543, 1.1531808, 0.052152418...   \n3536      CL  [0.38660493, 0.81947947, 1.9521054, 0.23831718...   \n3537    SGem  [0.15014637, 2.0139444, 1.0844889, 0.17270318,...   \n3538     IFC  [0.25391683, 3.8994913, 0.23327282, 0.17322594...   \n3539  Equin.  [0.3297945, 1.6534383, 0.968067, 0.37325135, 0...   \n\n                                        text_embeddings  \n0     [-0.6795498, 0.35658365, 0.9994932, -0.9793934...  \n1     [-0.6202415, 0.31657028, 0.9992422, -0.9703722...  \n2     [-0.709996, 0.4233521, 0.99980927, -0.98892415...  \n3     [-0.7416838, 0.38435012, 0.9998453, -0.9874693...  \n4     [-0.65501904, 0.3845747, 0.9996712, -0.9766391...  \n...                                                 ...  \n3535  [-0.55224955, 0.26953417, 0.99950045, -0.98031...  \n3536  [-0.52293366, 0.35181606, 0.9992165, -0.974448...  \n3537  [-0.61463475, 0.4013893, 0.99981415, -0.985390...  \n3538  [-0.74685824, 0.43955636, 0.99979496, -0.98784...  \n3539  [-0.5932971, 0.37042698, 0.9994072, -0.9731243...  \n\n[3540 rows x 13 columns]",
      "text/html": "<div>\n<style scoped>\n    .dataframe tbody tr th:only-of-type {\n        vertical-align: middle;\n    }\n\n    .dataframe tbody tr th {\n        vertical-align: top;\n    }\n\n    .dataframe thead th {\n        text-align: right;\n    }\n</style>\n<table border=\"1\" class=\"dataframe\">\n  <thead>\n    <tr style=\"text-align: right;\">\n      <th></th>\n      <th>title</th>\n      <th>img_url</th>\n      <th>description</th>\n      <th>ratings</th>\n      <th>n_votes</th>\n      <th>is_adult</th>\n      <th>production_year</th>\n      <th>runtime</th>\n      <th>genres</th>\n      <th>release_year</th>\n      <th>studio</th>\n      <th>img_embeddings</th>\n      <th>text_embeddings</th>\n    </tr>\n  </thead>\n  <tbody>\n    <tr>\n      <th>0</th>\n      <td>Letters to Juliet</td>\n      <td>https://m.media-amazon.com/images/M/MV5BMjg0OT...</td>\n      <td>Letters to Juliet: Directed by Gary Winick. Wi...</td>\n      <td>6.5</td>\n      <td>92937.0</td>\n      <td>0</td>\n      <td>2010</td>\n      <td>105</td>\n      <td>Adventure,Comedy,Drama</td>\n      <td>2010.0</td>\n      <td>Sum.</td>\n      <td>[0.25030804, 2.4058464, 1.0431569, 0.030648155...</td>\n      <td>[-0.6795498, 0.35658365, 0.9994932, -0.9793934...</td>\n    </tr>\n    <tr>\n      <th>1</th>\n      <td>Veil of Tears</td>\n      <td>https://m.media-amazon.com/images/M/MV5BZjMxOD...</td>\n      <td>Veil of Tears: Directed by William Gereghty. W...</td>\n      <td>7.9</td>\n      <td>11.0</td>\n      <td>0</td>\n      <td>1996</td>\n      <td>\\N</td>\n      <td>Action,Crime,Drama</td>\n      <td>2014.0</td>\n      <td>WF</td>\n      <td>[0.51250213, 2.8152602, 0.46308166, 0.29031387...</td>\n      <td>[-0.6202415, 0.31657028, 0.9992422, -0.9703722...</td>\n    </tr>\n    <tr>\n      <th>2</th>\n      <td>International Velvet</td>\n      <td>https://m.media-amazon.com/images/M/MV5BOGVkYj...</td>\n      <td>International Velvet: Directed by Bryan Forbes...</td>\n      <td>5.9</td>\n      <td>1345.0</td>\n      <td>0</td>\n      <td>1978</td>\n      <td>127</td>\n      <td>Drama,Family,Sport</td>\n      <td>1978.0</td>\n      <td>MGM</td>\n      <td>[0.18073043, 0.24735461, 0.63652813, 0.2496522...</td>\n      <td>[-0.709996, 0.4233521, 0.99980927, -0.98892415...</td>\n    </tr>\n    <tr>\n      <th>3</th>\n      <td>8 Seconds</td>\n      <td>https://m.media-amazon.com/images/M/MV5BYjY4Nz...</td>\n      <td>8 Seconds: Directed by John G. Avildsen. With ...</td>\n      <td>6.6</td>\n      <td>4851.0</td>\n      <td>0</td>\n      <td>1994</td>\n      <td>105</td>\n      <td>Biography,Drama,Sport</td>\n      <td>1994.0</td>\n      <td>NL</td>\n      <td>[0.025015268, 0.9105338, 0.3878257, 0.3421247,...</td>\n      <td>[-0.7416838, 0.38435012, 0.9998453, -0.9874693...</td>\n    </tr>\n    <tr>\n      <th>4</th>\n      <td>Penitentiary II</td>\n      <td>https://m.media-amazon.com/images/M/MV5BNjQyZW...</td>\n      <td>Penitentiary II: Directed by Jamaa Fanaka. Wit...</td>\n      <td>4.1</td>\n      <td>549.0</td>\n      <td>0</td>\n      <td>1982</td>\n      <td>108</td>\n      <td>Crime,Drama,Sport</td>\n      <td>1982.0</td>\n      <td>MGM</td>\n      <td>[0.19079691, 1.9068279, 0.29114372, 0.19527505...</td>\n      <td>[-0.65501904, 0.3845747, 0.9996712, -0.9766391...</td>\n    </tr>\n    <tr>\n      <th>...</th>\n      <td>...</td>\n      <td>...</td>\n      <td>...</td>\n      <td>...</td>\n      <td>...</td>\n      <td>...</td>\n      <td>...</td>\n      <td>...</td>\n      <td>...</td>\n      <td>...</td>\n      <td>...</td>\n      <td>...</td>\n      <td>...</td>\n    </tr>\n    <tr>\n      <th>3535</th>\n      <td>Stiff Upper Lips</td>\n      <td>https://m.media-amazon.com/images/M/MV5BNGRiMz...</td>\n      <td>Stiff Upper Lips: Directed by Gary Sinyor. Wit...</td>\n      <td>6.3</td>\n      <td>973.0</td>\n      <td>0</td>\n      <td>1997</td>\n      <td>94</td>\n      <td>Comedy</td>\n      <td>1999.0</td>\n      <td>Cow.</td>\n      <td>[0.19991912, 1.3718543, 1.1531808, 0.052152418...</td>\n      <td>[-0.55224955, 0.26953417, 0.99950045, -0.98031...</td>\n    </tr>\n    <tr>\n      <th>3536</th>\n      <td>Twenty Two</td>\n      <td>https://m.media-amazon.com/images/M/MV5BMjMyMz...</td>\n      <td>Twenty Two: Directed by Jack Smight. With Barb...</td>\n      <td>8.0</td>\n      <td>2190.0</td>\n      <td>0</td>\n      <td>1961</td>\n      <td>25</td>\n      <td>Drama,Fantasy,Horror</td>\n      <td>2017.0</td>\n      <td>CL</td>\n      <td>[0.38660493, 0.81947947, 1.9521054, 0.23831718...</td>\n      <td>[-0.52293366, 0.35181606, 0.9992165, -0.974448...</td>\n    </tr>\n    <tr>\n      <th>3537</th>\n      <td>Girlfight</td>\n      <td>https://m.media-amazon.com/images/M/MV5BMTMzMz...</td>\n      <td>Girlfight: Directed by Lawrence Trilling. With...</td>\n      <td>7.6</td>\n      <td>34.0</td>\n      <td>0</td>\n      <td>2001</td>\n      <td>44</td>\n      <td>Drama,Romance</td>\n      <td>2000.0</td>\n      <td>SGem</td>\n      <td>[0.15014637, 2.0139444, 1.0844889, 0.17270318,...</td>\n      <td>[-0.61463475, 0.4013893, 0.99981415, -0.985390...</td>\n    </tr>\n    <tr>\n      <th>3538</th>\n      <td>This Film Is Not Yet Rated</td>\n      <td>https://m.media-amazon.com/images/M/MV5BMTk0ND...</td>\n      <td>This Film Is Not Yet Rated: Directed by Kirby ...</td>\n      <td>7.5</td>\n      <td>27379.0</td>\n      <td>0</td>\n      <td>2006</td>\n      <td>98</td>\n      <td>Documentary</td>\n      <td>2006.0</td>\n      <td>IFC</td>\n      <td>[0.25391683, 3.8994913, 0.23327282, 0.17322594...</td>\n      <td>[-0.74685824, 0.43955636, 0.99979496, -0.98784...</td>\n    </tr>\n    <tr>\n      <th>3539</th>\n      <td>MVP: Most Valuable Primate</td>\n      <td>https://m.media-amazon.com/images/M/MV5BMjMzOD...</td>\n      <td>MVP: Most Valuable Primate: Directed by Robert...</td>\n      <td>4.1</td>\n      <td>2296.0</td>\n      <td>0</td>\n      <td>2000</td>\n      <td>93</td>\n      <td>Comedy,Family,Sport</td>\n      <td>2000.0</td>\n      <td>Equin.</td>\n      <td>[0.3297945, 1.6534383, 0.968067, 0.37325135, 0...</td>\n      <td>[-0.5932971, 0.37042698, 0.9994072, -0.9731243...</td>\n    </tr>\n  </tbody>\n</table>\n<p>3540 rows × 13 columns</p>\n</div>"
     },
     "execution_count": 10,
     "metadata": {},
     "output_type": "execute_result"
    }
   ],
   "source": [
    "X1"
   ],
   "metadata": {
    "collapsed": false
   }
  },
  {
   "cell_type": "code",
   "execution_count": null,
   "outputs": [],
   "source": [],
   "metadata": {
    "collapsed": false
   }
  }
 ],
 "metadata": {
  "kernelspec": {
   "display_name": "Python 3",
   "language": "python",
   "name": "python3"
  },
  "language_info": {
   "codemirror_mode": {
    "name": "ipython",
    "version": 3
   },
   "file_extension": ".py",
   "mimetype": "text/x-python",
   "name": "python",
   "nbconvert_exporter": "python",
   "pygments_lexer": "ipython3",
   "version": "3.7.4"
  },
  "varInspector": {
   "cols": {
    "lenName": 16,
    "lenType": 16,
    "lenVar": 40
   },
   "kernels_config": {
    "python": {
     "delete_cmd_postfix": "",
     "delete_cmd_prefix": "del ",
     "library": "var_list.py",
     "varRefreshCmd": "print(var_dic_list())"
    },
    "r": {
     "delete_cmd_postfix": ") ",
     "delete_cmd_prefix": "rm(",
     "library": "var_list.r",
     "varRefreshCmd": "cat(var_dic_list()) "
    }
   },
   "types_to_exclude": [
    "module",
    "function",
    "builtin_function_or_method",
    "instance",
    "_Feature"
   ],
   "window_display": true
  }
 },
 "nbformat": 4,
 "nbformat_minor": 5
}

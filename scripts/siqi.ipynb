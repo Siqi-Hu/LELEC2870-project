{
 "cells": [
  {
   "cell_type": "markdown",
   "source": [
    "# Predicting a film’s gross revenue"
   ],
   "metadata": {
    "collapsed": false
   }
  },
  {
   "cell_type": "markdown",
   "id": "67e96d4c",
   "metadata": {},
   "source": [
    "## 1. Load the packages"
   ]
  },
  {
   "cell_type": "code",
   "execution_count": 1,
   "id": "1e258235",
   "metadata": {},
   "outputs": [],
   "source": [
    "import pandas as pd\n",
    "from collections import Counter"
   ]
  },
  {
   "cell_type": "markdown",
   "source": [
    "## 2. Data at first glance"
   ],
   "metadata": {
    "collapsed": false
   }
  },
  {
   "cell_type": "markdown",
   "source": [
    "## 2.1 Read the data"
   ],
   "metadata": {
    "collapsed": false
   }
  },
  {
   "cell_type": "code",
   "execution_count": 2,
   "id": "5de98862",
   "metadata": {},
   "outputs": [],
   "source": [
    "# Use pandas to load into a DataFrame\n",
    "# Y1. csv doesn ’ t have a header so\n",
    "# add one when loading the file\n",
    "X1 = pd.read_csv(\"X1.csv\")\n",
    "Y1 = pd.read_csv(\"Y1.csv\", header=None, names=['revenue '])"
   ]
  },
  {
   "cell_type": "code",
   "execution_count": 3,
   "outputs": [
    {
     "data": {
      "text/plain": "   Unnamed: 0                 title  \\\n0        2502     Letters to Juliet   \n1        6238         Veil of Tears   \n2        1800  International Velvet   \n3        2675             8 Seconds   \n4        3674       Penitentiary II   \n\n                                             img_url  \\\n0  https://m.media-amazon.com/images/M/MV5BMjg0OT...   \n1  https://m.media-amazon.com/images/M/MV5BZjMxOD...   \n2  https://m.media-amazon.com/images/M/MV5BOGVkYj...   \n3  https://m.media-amazon.com/images/M/MV5BYjY4Nz...   \n4  https://m.media-amazon.com/images/M/MV5BNjQyZW...   \n\n                                         description  ratings  n_votes  \\\n0  Letters to Juliet: Directed by Gary Winick. Wi...      6.5  92937.0   \n1  Veil of Tears: Directed by William Gereghty. W...      7.9     11.0   \n2  International Velvet: Directed by Bryan Forbes...      5.9   1345.0   \n3  8 Seconds: Directed by John G. Avildsen. With ...      6.6   4851.0   \n4  Penitentiary II: Directed by Jamaa Fanaka. Wit...      4.1    549.0   \n\n   is_adult  production_year runtime                  genres  release_year  \\\n0         0             2010     105  Adventure,Comedy,Drama        2010.0   \n1         0             1996      \\N      Action,Crime,Drama        2014.0   \n2         0             1978     127      Drama,Family,Sport        1978.0   \n3         0             1994     105   Biography,Drama,Sport        1994.0   \n4         0             1982     108       Crime,Drama,Sport        1982.0   \n\n  studio                                     img_embeddings  \\\n0   Sum.  [0.25030804, 2.4058464, 1.0431569, 0.030648155...   \n1     WF  [0.51250213, 2.8152602, 0.46308166, 0.29031387...   \n2    MGM  [0.18073043, 0.24735461, 0.63652813, 0.2496522...   \n3     NL  [0.025015268, 0.9105338, 0.3878257, 0.3421247,...   \n4    MGM  [0.19079691, 1.9068279, 0.29114372, 0.19527505...   \n\n                                     text_embeddings  \n0  [-0.6795498, 0.35658365, 0.9994932, -0.9793934...  \n1  [-0.6202415, 0.31657028, 0.9992422, -0.9703722...  \n2  [-0.709996, 0.4233521, 0.99980927, -0.98892415...  \n3  [-0.7416838, 0.38435012, 0.9998453, -0.9874693...  \n4  [-0.65501904, 0.3845747, 0.9996712, -0.9766391...  ",
      "text/html": "<div>\n<style scoped>\n    .dataframe tbody tr th:only-of-type {\n        vertical-align: middle;\n    }\n\n    .dataframe tbody tr th {\n        vertical-align: top;\n    }\n\n    .dataframe thead th {\n        text-align: right;\n    }\n</style>\n<table border=\"1\" class=\"dataframe\">\n  <thead>\n    <tr style=\"text-align: right;\">\n      <th></th>\n      <th>Unnamed: 0</th>\n      <th>title</th>\n      <th>img_url</th>\n      <th>description</th>\n      <th>ratings</th>\n      <th>n_votes</th>\n      <th>is_adult</th>\n      <th>production_year</th>\n      <th>runtime</th>\n      <th>genres</th>\n      <th>release_year</th>\n      <th>studio</th>\n      <th>img_embeddings</th>\n      <th>text_embeddings</th>\n    </tr>\n  </thead>\n  <tbody>\n    <tr>\n      <th>0</th>\n      <td>2502</td>\n      <td>Letters to Juliet</td>\n      <td>https://m.media-amazon.com/images/M/MV5BMjg0OT...</td>\n      <td>Letters to Juliet: Directed by Gary Winick. Wi...</td>\n      <td>6.5</td>\n      <td>92937.0</td>\n      <td>0</td>\n      <td>2010</td>\n      <td>105</td>\n      <td>Adventure,Comedy,Drama</td>\n      <td>2010.0</td>\n      <td>Sum.</td>\n      <td>[0.25030804, 2.4058464, 1.0431569, 0.030648155...</td>\n      <td>[-0.6795498, 0.35658365, 0.9994932, -0.9793934...</td>\n    </tr>\n    <tr>\n      <th>1</th>\n      <td>6238</td>\n      <td>Veil of Tears</td>\n      <td>https://m.media-amazon.com/images/M/MV5BZjMxOD...</td>\n      <td>Veil of Tears: Directed by William Gereghty. W...</td>\n      <td>7.9</td>\n      <td>11.0</td>\n      <td>0</td>\n      <td>1996</td>\n      <td>\\N</td>\n      <td>Action,Crime,Drama</td>\n      <td>2014.0</td>\n      <td>WF</td>\n      <td>[0.51250213, 2.8152602, 0.46308166, 0.29031387...</td>\n      <td>[-0.6202415, 0.31657028, 0.9992422, -0.9703722...</td>\n    </tr>\n    <tr>\n      <th>2</th>\n      <td>1800</td>\n      <td>International Velvet</td>\n      <td>https://m.media-amazon.com/images/M/MV5BOGVkYj...</td>\n      <td>International Velvet: Directed by Bryan Forbes...</td>\n      <td>5.9</td>\n      <td>1345.0</td>\n      <td>0</td>\n      <td>1978</td>\n      <td>127</td>\n      <td>Drama,Family,Sport</td>\n      <td>1978.0</td>\n      <td>MGM</td>\n      <td>[0.18073043, 0.24735461, 0.63652813, 0.2496522...</td>\n      <td>[-0.709996, 0.4233521, 0.99980927, -0.98892415...</td>\n    </tr>\n    <tr>\n      <th>3</th>\n      <td>2675</td>\n      <td>8 Seconds</td>\n      <td>https://m.media-amazon.com/images/M/MV5BYjY4Nz...</td>\n      <td>8 Seconds: Directed by John G. Avildsen. With ...</td>\n      <td>6.6</td>\n      <td>4851.0</td>\n      <td>0</td>\n      <td>1994</td>\n      <td>105</td>\n      <td>Biography,Drama,Sport</td>\n      <td>1994.0</td>\n      <td>NL</td>\n      <td>[0.025015268, 0.9105338, 0.3878257, 0.3421247,...</td>\n      <td>[-0.7416838, 0.38435012, 0.9998453, -0.9874693...</td>\n    </tr>\n    <tr>\n      <th>4</th>\n      <td>3674</td>\n      <td>Penitentiary II</td>\n      <td>https://m.media-amazon.com/images/M/MV5BNjQyZW...</td>\n      <td>Penitentiary II: Directed by Jamaa Fanaka. Wit...</td>\n      <td>4.1</td>\n      <td>549.0</td>\n      <td>0</td>\n      <td>1982</td>\n      <td>108</td>\n      <td>Crime,Drama,Sport</td>\n      <td>1982.0</td>\n      <td>MGM</td>\n      <td>[0.19079691, 1.9068279, 0.29114372, 0.19527505...</td>\n      <td>[-0.65501904, 0.3845747, 0.9996712, -0.9766391...</td>\n    </tr>\n  </tbody>\n</table>\n</div>"
     },
     "execution_count": 3,
     "metadata": {},
     "output_type": "execute_result"
    }
   ],
   "source": [
    "X1.head()"
   ],
   "metadata": {
    "collapsed": false
   }
  },
  {
   "cell_type": "markdown",
   "source": [
    "# 2.2 Data visualization"
   ],
   "metadata": {
    "collapsed": false
   }
  },
  {
   "cell_type": "code",
   "execution_count": null,
   "outputs": [],
   "source": [],
   "metadata": {
    "collapsed": false
   }
  },
  {
   "cell_type": "markdown",
   "source": [
    "## 3. Data Engineering"
   ],
   "metadata": {
    "collapsed": false
   }
  },
  {
   "cell_type": "markdown",
   "source": [
    "### 3.1. Numerical and categorical features"
   ],
   "metadata": {
    "collapsed": false
   }
  },
  {
   "cell_type": "code",
   "execution_count": 4,
   "outputs": [],
   "source": [
    "categorical_features = X1.select_dtypes(exclude=\"number\").columns.tolist()\n",
    "numeric_features = X1.select_dtypes(include=\"number\").columns.tolist()"
   ],
   "metadata": {
    "collapsed": false
   }
  },
  {
   "cell_type": "code",
   "execution_count": 5,
   "outputs": [],
   "source": [
    "X1_num, X1_cat = X1.loc[:, numeric_features], X1.loc[:, categorical_features]"
   ],
   "metadata": {
    "collapsed": false
   }
  },
  {
   "cell_type": "code",
   "execution_count": 7,
   "outputs": [
    {
     "data": {
      "text/plain": "   Unnamed: 0  ratings  n_votes  is_adult  production_year  release_year\n0        2502      6.5  92937.0         0             2010        2010.0\n1        6238      7.9     11.0         0             1996        2014.0\n2        1800      5.9   1345.0         0             1978        1978.0\n3        2675      6.6   4851.0         0             1994        1994.0\n4        3674      4.1    549.0         0             1982        1982.0",
      "text/html": "<div>\n<style scoped>\n    .dataframe tbody tr th:only-of-type {\n        vertical-align: middle;\n    }\n\n    .dataframe tbody tr th {\n        vertical-align: top;\n    }\n\n    .dataframe thead th {\n        text-align: right;\n    }\n</style>\n<table border=\"1\" class=\"dataframe\">\n  <thead>\n    <tr style=\"text-align: right;\">\n      <th></th>\n      <th>Unnamed: 0</th>\n      <th>ratings</th>\n      <th>n_votes</th>\n      <th>is_adult</th>\n      <th>production_year</th>\n      <th>release_year</th>\n    </tr>\n  </thead>\n  <tbody>\n    <tr>\n      <th>0</th>\n      <td>2502</td>\n      <td>6.5</td>\n      <td>92937.0</td>\n      <td>0</td>\n      <td>2010</td>\n      <td>2010.0</td>\n    </tr>\n    <tr>\n      <th>1</th>\n      <td>6238</td>\n      <td>7.9</td>\n      <td>11.0</td>\n      <td>0</td>\n      <td>1996</td>\n      <td>2014.0</td>\n    </tr>\n    <tr>\n      <th>2</th>\n      <td>1800</td>\n      <td>5.9</td>\n      <td>1345.0</td>\n      <td>0</td>\n      <td>1978</td>\n      <td>1978.0</td>\n    </tr>\n    <tr>\n      <th>3</th>\n      <td>2675</td>\n      <td>6.6</td>\n      <td>4851.0</td>\n      <td>0</td>\n      <td>1994</td>\n      <td>1994.0</td>\n    </tr>\n    <tr>\n      <th>4</th>\n      <td>3674</td>\n      <td>4.1</td>\n      <td>549.0</td>\n      <td>0</td>\n      <td>1982</td>\n      <td>1982.0</td>\n    </tr>\n  </tbody>\n</table>\n</div>"
     },
     "execution_count": 7,
     "metadata": {},
     "output_type": "execute_result"
    }
   ],
   "source": [
    "X1_num.head()"
   ],
   "metadata": {
    "collapsed": false
   }
  },
  {
   "cell_type": "code",
   "execution_count": 8,
   "outputs": [
    {
     "data": {
      "text/plain": "                  title                                            img_url  \\\n0     Letters to Juliet  https://m.media-amazon.com/images/M/MV5BMjg0OT...   \n1         Veil of Tears  https://m.media-amazon.com/images/M/MV5BZjMxOD...   \n2  International Velvet  https://m.media-amazon.com/images/M/MV5BOGVkYj...   \n3             8 Seconds  https://m.media-amazon.com/images/M/MV5BYjY4Nz...   \n4       Penitentiary II  https://m.media-amazon.com/images/M/MV5BNjQyZW...   \n\n                                         description runtime  \\\n0  Letters to Juliet: Directed by Gary Winick. Wi...     105   \n1  Veil of Tears: Directed by William Gereghty. W...      \\N   \n2  International Velvet: Directed by Bryan Forbes...     127   \n3  8 Seconds: Directed by John G. Avildsen. With ...     105   \n4  Penitentiary II: Directed by Jamaa Fanaka. Wit...     108   \n\n                   genres studio  \\\n0  Adventure,Comedy,Drama   Sum.   \n1      Action,Crime,Drama     WF   \n2      Drama,Family,Sport    MGM   \n3   Biography,Drama,Sport     NL   \n4       Crime,Drama,Sport    MGM   \n\n                                      img_embeddings  \\\n0  [0.25030804, 2.4058464, 1.0431569, 0.030648155...   \n1  [0.51250213, 2.8152602, 0.46308166, 0.29031387...   \n2  [0.18073043, 0.24735461, 0.63652813, 0.2496522...   \n3  [0.025015268, 0.9105338, 0.3878257, 0.3421247,...   \n4  [0.19079691, 1.9068279, 0.29114372, 0.19527505...   \n\n                                     text_embeddings  \n0  [-0.6795498, 0.35658365, 0.9994932, -0.9793934...  \n1  [-0.6202415, 0.31657028, 0.9992422, -0.9703722...  \n2  [-0.709996, 0.4233521, 0.99980927, -0.98892415...  \n3  [-0.7416838, 0.38435012, 0.9998453, -0.9874693...  \n4  [-0.65501904, 0.3845747, 0.9996712, -0.9766391...  ",
      "text/html": "<div>\n<style scoped>\n    .dataframe tbody tr th:only-of-type {\n        vertical-align: middle;\n    }\n\n    .dataframe tbody tr th {\n        vertical-align: top;\n    }\n\n    .dataframe thead th {\n        text-align: right;\n    }\n</style>\n<table border=\"1\" class=\"dataframe\">\n  <thead>\n    <tr style=\"text-align: right;\">\n      <th></th>\n      <th>title</th>\n      <th>img_url</th>\n      <th>description</th>\n      <th>runtime</th>\n      <th>genres</th>\n      <th>studio</th>\n      <th>img_embeddings</th>\n      <th>text_embeddings</th>\n    </tr>\n  </thead>\n  <tbody>\n    <tr>\n      <th>0</th>\n      <td>Letters to Juliet</td>\n      <td>https://m.media-amazon.com/images/M/MV5BMjg0OT...</td>\n      <td>Letters to Juliet: Directed by Gary Winick. Wi...</td>\n      <td>105</td>\n      <td>Adventure,Comedy,Drama</td>\n      <td>Sum.</td>\n      <td>[0.25030804, 2.4058464, 1.0431569, 0.030648155...</td>\n      <td>[-0.6795498, 0.35658365, 0.9994932, -0.9793934...</td>\n    </tr>\n    <tr>\n      <th>1</th>\n      <td>Veil of Tears</td>\n      <td>https://m.media-amazon.com/images/M/MV5BZjMxOD...</td>\n      <td>Veil of Tears: Directed by William Gereghty. W...</td>\n      <td>\\N</td>\n      <td>Action,Crime,Drama</td>\n      <td>WF</td>\n      <td>[0.51250213, 2.8152602, 0.46308166, 0.29031387...</td>\n      <td>[-0.6202415, 0.31657028, 0.9992422, -0.9703722...</td>\n    </tr>\n    <tr>\n      <th>2</th>\n      <td>International Velvet</td>\n      <td>https://m.media-amazon.com/images/M/MV5BOGVkYj...</td>\n      <td>International Velvet: Directed by Bryan Forbes...</td>\n      <td>127</td>\n      <td>Drama,Family,Sport</td>\n      <td>MGM</td>\n      <td>[0.18073043, 0.24735461, 0.63652813, 0.2496522...</td>\n      <td>[-0.709996, 0.4233521, 0.99980927, -0.98892415...</td>\n    </tr>\n    <tr>\n      <th>3</th>\n      <td>8 Seconds</td>\n      <td>https://m.media-amazon.com/images/M/MV5BYjY4Nz...</td>\n      <td>8 Seconds: Directed by John G. Avildsen. With ...</td>\n      <td>105</td>\n      <td>Biography,Drama,Sport</td>\n      <td>NL</td>\n      <td>[0.025015268, 0.9105338, 0.3878257, 0.3421247,...</td>\n      <td>[-0.7416838, 0.38435012, 0.9998453, -0.9874693...</td>\n    </tr>\n    <tr>\n      <th>4</th>\n      <td>Penitentiary II</td>\n      <td>https://m.media-amazon.com/images/M/MV5BNjQyZW...</td>\n      <td>Penitentiary II: Directed by Jamaa Fanaka. Wit...</td>\n      <td>108</td>\n      <td>Crime,Drama,Sport</td>\n      <td>MGM</td>\n      <td>[0.19079691, 1.9068279, 0.29114372, 0.19527505...</td>\n      <td>[-0.65501904, 0.3845747, 0.9996712, -0.9766391...</td>\n    </tr>\n  </tbody>\n</table>\n</div>"
     },
     "execution_count": 8,
     "metadata": {},
     "output_type": "execute_result"
    }
   ],
   "source": [
    "X1_cat.head()"
   ],
   "metadata": {
    "collapsed": false
   }
  },
  {
   "cell_type": "markdown",
   "source": [
    "## Categorical data process\n",
    "\n",
    "`genres` and `studio` columns"
   ],
   "metadata": {
    "collapsed": false
   }
  },
  {
   "cell_type": "markdown",
   "source": [
    "### studio column processing\n",
    "\n",
    "The `studio` column will be transfomed as frequency of studio that appears in this dataset"
   ],
   "metadata": {
    "collapsed": false
   }
  },
  {
   "cell_type": "code",
   "execution_count": null,
   "outputs": [],
   "source": [
    "X1_cat = X1.loc[:, ['genres', 'studio']]"
   ],
   "metadata": {
    "collapsed": false
   }
  },
  {
   "cell_type": "code",
   "execution_count": null,
   "outputs": [],
   "source": [
    "X1_cat"
   ],
   "metadata": {
    "collapsed": false
   }
  },
  {
   "cell_type": "code",
   "execution_count": null,
   "outputs": [],
   "source": [
    "X1_cat['studio'].value_counts()"
   ],
   "metadata": {
    "collapsed": false
   }
  },
  {
   "cell_type": "code",
   "execution_count": null,
   "outputs": [],
   "source": [
    "X1_cat.describe()"
   ],
   "metadata": {
    "collapsed": false
   }
  },
  {
   "cell_type": "code",
   "execution_count": null,
   "outputs": [],
   "source": [
    "# X1_cat['studio'] = reduce_cardinality(dataset=X1, column_name='studio', threshold=0.72, inplace=False)"
   ],
   "metadata": {
    "collapsed": false
   }
  },
  {
   "cell_type": "code",
   "execution_count": null,
   "outputs": [],
   "source": [
    "# for i in range(len(X1['runtime'])):\n",
    "#     try:\n",
    "#         int(X1['runtime'].iloc[i].strip())\n",
    "#     except:\n",
    "#         X1['runtime'].iloc[i] = 0"
   ],
   "metadata": {
    "collapsed": false
   }
  },
  {
   "cell_type": "code",
   "execution_count": null,
   "outputs": [],
   "source": [
    "s = []\n",
    "for i in X1['genres']:\n",
    "    for element in i.split(','):\n",
    "        s.append(element)"
   ],
   "metadata": {
    "collapsed": false
   }
  },
  {
   "cell_type": "code",
   "execution_count": null,
   "outputs": [],
   "source": [
    "set(s)"
   ],
   "metadata": {
    "collapsed": false
   }
  },
  {
   "cell_type": "code",
   "execution_count": null,
   "outputs": [],
   "source": [
    "def catToFrequency(dataset, column_name, inplace=False):\n",
    "    column = dataset[column_name]\n",
    "    counts = Counter(column)\n",
    "\n",
    "    dict_cat_freq = {}\n",
    "\n",
    "    for category, freq in counts.most_common():\n",
    "        dict_cat_freq[category] = freq / len(column)\n",
    "\n",
    "    new_column = column.apply(lambda x: dict_cat_freq[x])\n",
    "\n",
    "    if inplace:\n",
    "        dataset[column_name] = new_column\n",
    "        return\n",
    "    else:\n",
    "        return new_column"
   ],
   "metadata": {
    "collapsed": false
   }
  },
  {
   "cell_type": "code",
   "execution_count": null,
   "outputs": [],
   "source": [
    "X1_cat['studio'] = catToFrequency(X1_cat, 'studio')"
   ],
   "metadata": {
    "collapsed": false
   }
  },
  {
   "cell_type": "code",
   "execution_count": null,
   "outputs": [],
   "source": [
    "X1_cat"
   ],
   "metadata": {
    "collapsed": false
   }
  },
  {
   "cell_type": "code",
   "execution_count": null,
   "outputs": [],
   "source": [],
   "metadata": {
    "collapsed": false
   }
  },
  {
   "cell_type": "code",
   "execution_count": null,
   "outputs": [],
   "source": [],
   "metadata": {
    "collapsed": false
   }
  },
  {
   "cell_type": "code",
   "execution_count": null,
   "outputs": [],
   "source": [],
   "metadata": {
    "collapsed": false
   }
  },
  {
   "cell_type": "code",
   "execution_count": null,
   "outputs": [],
   "source": [
    "def reduce_cardinality(dataset, column_name, threshold, inplace=False):\n",
    "\n",
    "    column = dataset[column_name]\n",
    "    threshold_freq = int(threshold * len(column))\n",
    "    counts = Counter(column)\n",
    "\n",
    "    sum_freq = 0\n",
    "    categories_kept = []\n",
    "\n",
    "    for level, freq in counts.most_common():\n",
    "        sum_freq += dict(counts)[level]\n",
    "        categories_kept.append(level)\n",
    "\n",
    "        if sum_freq >= threshold_freq:\n",
    "            break\n",
    "\n",
    "    categories_kept.append('Other')\n",
    "\n",
    "    new_column = column.apply(lambda x: x if x in categories_kept else 'Other')\n",
    "\n",
    "    if inplace:\n",
    "        dataset[column_name] = new_column\n",
    "    else:\n",
    "        return new_column"
   ],
   "metadata": {
    "collapsed": false
   }
  }
 ],
 "metadata": {
  "kernelspec": {
   "display_name": "Python 3",
   "language": "python",
   "name": "python3"
  },
  "language_info": {
   "codemirror_mode": {
    "name": "ipython",
    "version": 3
   },
   "file_extension": ".py",
   "mimetype": "text/x-python",
   "name": "python",
   "nbconvert_exporter": "python",
   "pygments_lexer": "ipython3",
   "version": "3.7.4"
  },
  "varInspector": {
   "cols": {
    "lenName": 16,
    "lenType": 16,
    "lenVar": 40
   },
   "kernels_config": {
    "python": {
     "delete_cmd_postfix": "",
     "delete_cmd_prefix": "del ",
     "library": "var_list.py",
     "varRefreshCmd": "print(var_dic_list())"
    },
    "r": {
     "delete_cmd_postfix": ") ",
     "delete_cmd_prefix": "rm(",
     "library": "var_list.r",
     "varRefreshCmd": "cat(var_dic_list()) "
    }
   },
   "types_to_exclude": [
    "module",
    "function",
    "builtin_function_or_method",
    "instance",
    "_Feature"
   ],
   "window_display": true
  }
 },
 "nbformat": 4,
 "nbformat_minor": 5
}

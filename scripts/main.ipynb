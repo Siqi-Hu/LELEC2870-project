{
 "cells": [
  {
   "cell_type": "markdown",
   "source": [
    "## 1. Load the packages"
   ],
   "metadata": {
    "collapsed": false
   },
   "execution_count": 1
  },
  {
   "cell_type": "code",
   "execution_count": 77,
   "outputs": [],
   "source": [
    "# Data processing packages\n",
    "import numpy as np\n",
    "import pandas as pd\n",
    "from collections import Counter\n",
    "\n",
    "# Machine learning packages\n",
    "from sklearn.model_selection import GridSearchCV, RepeatedKFold, cross_val_score, KFold, train_test_split\n",
    "from sklearn.preprocessing import MinMaxScaler, StandardScaler, MultiLabelBinarizer, FunctionTransformer\n",
    "from sklearn.pipeline import Pipeline\n",
    "from mlxtend.feature_selection import SequentialFeatureSelector as SFS\n",
    "from sklearn.feature_selection import SequentialFeatureSelector, RFE, SelectPercentile, chi2, mutual_info_regression, SelectFromModel\n",
    "from mlxtend.plotting import plot_sequential_feature_selection as plot_sfs\n",
    "from sklearn.linear_model import LinearRegression, Lasso\n",
    "from sklearn.neighbors import KNeighborsRegressor\n",
    "from sklearn.tree import DecisionTreeRegressor\n",
    "from sklearn.ensemble import RandomForestRegressor\n",
    "from sklearn.decomposition import PCA, KernelPCA, FastICA\n",
    "from sklearn.manifold import TSNE\n",
    "from sklearn.metrics import mean_squared_error\n",
    "\n",
    "import torch\n",
    "from keras.models import Sequential\n",
    "from keras.layers import Activation, Dense\n",
    "from keras import optimizers\n",
    "from keras.layers import BatchNormalization\n",
    "\n",
    "# Visualization packages\n",
    "import seaborn as sns\n",
    "import matplotlib.pyplot as plt\n",
    "\n",
    "# Others\n",
    "import time\n",
    "from pathlib import Path"
   ],
   "metadata": {
    "collapsed": false
   }
  },
  {
   "cell_type": "markdown",
   "source": [
    "## 2. Read the data"
   ],
   "metadata": {
    "collapsed": false
   }
  },
  {
   "cell_type": "code",
   "execution_count": null,
   "outputs": [],
   "source": [
    "X1 = pd.read_csv(\"X1.csv\")\n",
    "Y1 = pd.read_csv(\"Y1.csv\", header=None, names=['revenue '])\n",
    "X2 = pd.read_csv(\"X2.csv\")"
   ],
   "metadata": {
    "collapsed": false
   }
  },
  {
   "cell_type": "code",
   "execution_count": null,
   "outputs": [],
   "source": [
    "X1"
   ],
   "metadata": {
    "collapsed": false
   }
  },
  {
   "cell_type": "markdown",
   "source": [
    "## 3. Data Preprocessing"
   ],
   "metadata": {
    "collapsed": false
   }
  },
  {
   "cell_type": "markdown",
   "source": [
    "### STEP 1: Data Cleaning (columns drop off and missing value processing)"
   ],
   "metadata": {
    "collapsed": false
   }
  },
  {
   "cell_type": "code",
   "execution_count": null,
   "outputs": [],
   "source": [
    "def data_cleaning_process(df):\n",
    "    \"\"\"\n",
    "    This function will drop columns, like \"Unnamed: 0\", \"title\", \"img_url\", \"description\" from the dataset, and replace the missing value in `runtime` column with a median value, and replace the missing value in `genres` with \"Others\".\n",
    "    :param df: A dataframe (X1 or X2)\n",
    "    :return: A new cleaned dataframe\n",
    "    \"\"\"\n",
    "\n",
    "    new_df = df.copy()\n",
    "    # missing value for runtime: replace \"\\\\N\" with median value\n",
    "    median_runtime = np.median(new_df.loc[new_df['runtime'] != '\\\\N', 'runtime'].astype(np.int64))\n",
    "    new_df['runtime'] = np.where(new_df['runtime'] == '\\\\N', median_runtime, new_df['runtime']).astype(np.int64)\n",
    "\n",
    "    # missing value for genres: replace \"\\\\N\" with \"Others\"\n",
    "    new_df.loc[new_df['genres'] == \"\\\\N\", \"genres\"] = \"Others\"\n",
    "\n",
    "    # drop \"Unnamed: 0\", \"title\", \"img_url\", \"description\"\n",
    "    new_df = new_df.drop([\"Unnamed: 0\", \"title\", \"img_url\", \"description\"], axis=1)\n",
    "\n",
    "    return new_df"
   ],
   "metadata": {
    "collapsed": false
   }
  },
  {
   "cell_type": "code",
   "execution_count": null,
   "outputs": [],
   "source": [
    "X1_cleaned = data_cleaning_process(X1)"
   ],
   "metadata": {
    "collapsed": false
   }
  },
  {
   "cell_type": "markdown",
   "source": [
    "### STEP 2: Data Type Split (Numerical, Categorical, Embeddings)"
   ],
   "metadata": {
    "collapsed": false
   }
  },
  {
   "cell_type": "code",
   "execution_count": null,
   "outputs": [],
   "source": [
    "def data_type_split(df):\n",
    "    \"\"\"\n",
    "    This function will split the whole dataset into different sub dataset according to the data types of the columns\n",
    "    :param df: A dataframe\n",
    "    :return: three datadrames, which are numerical, categorical, embeddings\n",
    "    \"\"\"\n",
    "\n",
    "    new_df = df.copy()\n",
    "    numeric_features = new_df.select_dtypes(include=\"number\").columns.tolist()\n",
    "    non_numeric_features = new_df.select_dtypes(exclude=\"number\").columns.tolist()\n",
    "    embedding_features = ['img_embeddings', 'text_embeddings']\n",
    "    numeric_features.remove('is_adult')\n",
    "    categorical_features = non_numeric_features.copy()\n",
    "    [categorical_features.remove(col) for col in embedding_features]\n",
    "    categorical_features.append('is_adult')\n",
    "    return new_df.loc[:, numeric_features], new_df.loc[:, categorical_features], new_df.loc[:, embedding_features]"
   ],
   "metadata": {
    "collapsed": false
   }
  },
  {
   "cell_type": "code",
   "execution_count": null,
   "outputs": [],
   "source": [
    "df_num, df_cat, df_emb = data_type_split(X1_cleaned)"
   ],
   "metadata": {
    "collapsed": false
   }
  },
  {
   "cell_type": "code",
   "execution_count": null,
   "outputs": [],
   "source": [
    "df_num.head()"
   ],
   "metadata": {
    "collapsed": false
   }
  },
  {
   "cell_type": "code",
   "execution_count": null,
   "outputs": [],
   "source": [
    "df_cat.head()"
   ],
   "metadata": {
    "collapsed": false
   }
  },
  {
   "cell_type": "code",
   "execution_count": null,
   "outputs": [],
   "source": [
    "df_emb.head()"
   ],
   "metadata": {
    "collapsed": false
   }
  },
  {
   "cell_type": "markdown",
   "source": [
    "### STEP 3: Categorical Columns Processing (Genres --> multilable binary type, Studio --> studio_frequency)"
   ],
   "metadata": {
    "collapsed": false
   }
  },
  {
   "cell_type": "code",
   "execution_count": null,
   "outputs": [],
   "source": [
    "dict_cat_freq = torch.load(\"studio_freq\")"
   ],
   "metadata": {
    "collapsed": false
   }
  },
  {
   "cell_type": "code",
   "execution_count": null,
   "outputs": [],
   "source": [
    "mlb = MultiLabelBinarizer()\n",
    "df_cat['genres_split'] = df_cat['genres'].apply(lambda x: x.split(\",\"))\n",
    "mlb.fit(df_cat['genres_split'])"
   ],
   "metadata": {
    "collapsed": false
   }
  },
  {
   "cell_type": "code",
   "execution_count": null,
   "outputs": [],
   "source": [
    "def categorical_process(df):\n",
    "    \"\"\"\n",
    "    This function will process on `genres` and `studio` columns.\n",
    "    `genres` will be transformed to multilabel binary variables;\n",
    "    `studio` will be transformed to a frequency type.\n",
    "    :param df: A categorical datframe\n",
    "    :return: A new dataframe\n",
    "    \"\"\"\n",
    "\n",
    "    new_df = df.copy()\n",
    "\n",
    "    # processing on `genres` column\n",
    "    new_df['genres_split'] = new_df['genres'].apply(lambda x: x.split(\",\"))\n",
    "    # mlb = MultiLabelBinarizer()\n",
    "    genere_encoder_df = pd.DataFrame(mlb.transform(new_df['genres_split']))\n",
    "    genere_encoder_df.columns = mlb.classes_.tolist()\n",
    "\n",
    "    # processing on `studio` column\n",
    "    studio_freq_df = pd.DataFrame(new_df['studio'].apply(lambda x: dict_cat_freq[x] if x in dict_cat_freq.keys() else min(dict_cat_freq.values())))\n",
    "    studio_freq_df.columns = ['studio_freq']\n",
    "\n",
    "\n",
    "    processed_cat_df = pd.concat([genere_encoder_df, studio_freq_df, new_df['is_adult']], axis=1)\n",
    "\n",
    "    return processed_cat_df"
   ],
   "metadata": {
    "collapsed": false
   }
  },
  {
   "cell_type": "code",
   "execution_count": null,
   "outputs": [],
   "source": [
    "categorical_process(df_cat).columns"
   ],
   "metadata": {
    "collapsed": false
   }
  },
  {
   "cell_type": "markdown",
   "source": [
    "### STEP 4: Embedding Column Processing"
   ],
   "metadata": {
    "collapsed": false
   }
  },
  {
   "cell_type": "code",
   "execution_count": null,
   "outputs": [],
   "source": [
    "def listToDF(df, column_name):\n",
    "\n",
    "    new_df = []\n",
    "    for row in df[column_name]:\n",
    "        ls = []\n",
    "        row = eval(row)\n",
    "        for each in row:\n",
    "            ls.append(each)\n",
    "        new_df.append(ls)\n",
    "\n",
    "    new_df = pd.DataFrame(new_df)\n",
    "\n",
    "    return new_df"
   ],
   "metadata": {
    "collapsed": false
   }
  },
  {
   "cell_type": "code",
   "execution_count": null,
   "outputs": [],
   "source": [
    "def embedding_process(df):\n",
    "    new_df = df.copy()\n",
    "\n",
    "    # image embeddings\n",
    "    img_emb_df = listToDF(new_df, 'img_embeddings')\n",
    "    text_emb_df = listToDF(new_df, 'text_embeddings')\n",
    "\n",
    "    processed_emb_df = pd.concat([img_emb_df, text_emb_df], axis=1)\n",
    "    return processed_emb_df"
   ],
   "metadata": {
    "collapsed": false
   }
  },
  {
   "cell_type": "code",
   "execution_count": null,
   "outputs": [],
   "source": [
    "embedding_process(X1.loc[:, ['img_embeddings', 'text_embeddings']])"
   ],
   "metadata": {
    "collapsed": false
   }
  },
  {
   "cell_type": "markdown",
   "source": [
    "### STEP 5: Combine Everything"
   ],
   "metadata": {
    "collapsed": false
   }
  },
  {
   "cell_type": "code",
   "execution_count": null,
   "outputs": [],
   "source": [
    "def data_combine(df_num, df_cat, df_emb):\n",
    "    new_df = pd.concat([df_num, df_cat, df_emb], axis=1)\n",
    "    return new_df"
   ],
   "metadata": {
    "collapsed": false
   }
  },
  {
   "cell_type": "code",
   "execution_count": null,
   "outputs": [],
   "source": [
    "df_processed = data_combine(df_num, categorical_process(df_cat), df_emb)"
   ],
   "metadata": {
    "collapsed": false
   }
  },
  {
   "cell_type": "code",
   "execution_count": null,
   "outputs": [],
   "source": [
    "df_processed"
   ],
   "metadata": {
    "collapsed": false
   }
  },
  {
   "cell_type": "markdown",
   "source": [
    "### STEP 6: Normalization and Standarization"
   ],
   "metadata": {
    "collapsed": false
   }
  },
  {
   "cell_type": "code",
   "execution_count": null,
   "outputs": [],
   "source": [
    "def data_scaling(df):\n",
    "    \"\"\"\n",
    "    This function will process on the numercial columns.\n",
    "    For `ratings`, we will use normalization\n",
    "    For the other columns, we will use standardization\n",
    "    :param df:\n",
    "    :return:\n",
    "    \"\"\"\n",
    "    new_X = df.copy().to_numpy()\n",
    "    # new_df = df.copy()\n",
    "\n",
    "    # df_norm = new_df[\"ratings\"]\n",
    "    # df_stad = new_df.iloc[:, 1:]\n",
    "    scaler_norm = MinMaxScaler().fit(new_X[:, 0].reshape([-1, 1]))\n",
    "    scaler_stad = StandardScaler().fit(new_X[:, 1:5])\n",
    "    new_X[:, 0] = scaler_norm.transform(new_X[:, 0].reshape([-1, 1])).ravel()\n",
    "    new_X[:, 1:5] = scaler_stad.transform(new_X[:, 1:5])\n",
    "\n",
    "    return new_X"
   ],
   "metadata": {
    "collapsed": false
   }
  },
  {
   "cell_type": "code",
   "execution_count": null,
   "outputs": [],
   "source": [
    "data_scaling(df_processed)"
   ],
   "metadata": {
    "collapsed": false
   }
  },
  {
   "cell_type": "markdown",
   "source": [
    "### Construct Data Engineering Pipeline"
   ],
   "metadata": {
    "collapsed": false
   }
  },
  {
   "cell_type": "code",
   "execution_count": null,
   "outputs": [],
   "source": [
    "def DataEngineering(df):\n",
    "    df_cleaned = data_cleaning_process(df)\n",
    "    df_num, df_cat, df_emb = data_type_split(df_cleaned)\n",
    "    df_cat_processed = categorical_process(df_cat)\n",
    "    df_emb_processed = embedding_process(df_emb)\n",
    "    df_processed = data_combine(df_num, df_cat_processed, df_emb_processed)\n",
    "    X_ready = data_scaling(df_processed)\n",
    "\n",
    "    return X_ready"
   ],
   "metadata": {
    "collapsed": false
   }
  },
  {
   "cell_type": "code",
   "execution_count": null,
   "outputs": [],
   "source": [
    "preprocess_transformer = FunctionTransformer(DataEngineering)"
   ],
   "metadata": {
    "collapsed": false
   }
  },
  {
   "cell_type": "code",
   "execution_count": null,
   "outputs": [],
   "source": [
    "p1 = Pipeline([\n",
    "    ('Preprocessor', preprocess_transformer)\n",
    "])"
   ],
   "metadata": {
    "collapsed": false
   }
  },
  {
   "cell_type": "code",
   "execution_count": null,
   "outputs": [],
   "source": [
    "X1_pre = p1.fit_transform(X1)\n",
    "X1_pre[:5, :]"
   ],
   "metadata": {
    "collapsed": false
   }
  },
  {
   "cell_type": "markdown",
   "source": [
    "## 4. Feature Selection"
   ],
   "metadata": {
    "collapsed": false
   }
  },
  {
   "cell_type": "markdown",
   "source": [
    "### 4.1 Give the column names to the dataset"
   ],
   "metadata": {
    "collapsed": false
   }
  },
  {
   "cell_type": "code",
   "execution_count": null,
   "outputs": [],
   "source": [
    "def renamingDataset(X):\n",
    "    new_X = X.copy()\n",
    "    new_df = pd.DataFrame(new_X)\n",
    "    num_col_names = ['ratings', 'n_votes', 'production_year', 'runtime', 'release_year']\n",
    "    cat_col_names = ['Action', 'Adventure', 'Animation', 'Biography', 'Comedy', 'Crime',\n",
    "       'Documentary', 'Drama', 'Family', 'Fantasy', 'Film-Noir', 'Game-Show',\n",
    "       'History', 'Horror', 'Music', 'Musical', 'Mystery', 'News', 'Others',\n",
    "       'Reality-TV', 'Romance', 'Sci-Fi', 'Short', 'Sport', 'Thriller', 'War',\n",
    "       'Western', 'studio_freq', 'is_adult']\n",
    "    img_emb_names = []\n",
    "    for i in range(2048):\n",
    "        img_emb_names.append(\"img_emb_\" + str(i))\n",
    "\n",
    "    text_emb_names = []\n",
    "    for i in range(768):\n",
    "        text_emb_names.append(\"text_emb_\" + str(i))\n",
    "\n",
    "    all_col_names = num_col_names + cat_col_names + img_emb_names + text_emb_names\n",
    "\n",
    "    new_df.columns = all_col_names\n",
    "\n",
    "    return new_df"
   ],
   "metadata": {
    "collapsed": false
   }
  },
  {
   "cell_type": "code",
   "execution_count": null,
   "outputs": [],
   "source": [
    "renamed_df_ready = renamingDataset(X1_pre)\n",
    "renamed_df_ready.head()"
   ],
   "metadata": {
    "collapsed": false
   }
  },
  {
   "cell_type": "code",
   "execution_count": null,
   "outputs": [],
   "source": [
    "def divideDataset(df):\n",
    "    new_df = df.copy()\n",
    "\n",
    "    non_emb_df = new_df.iloc[:, :34]\n",
    "    img_emb_df = new_df.iloc[:, 34:2082]\n",
    "    text_emb_df = new_df.iloc[:, 2082:]\n",
    "\n",
    "    return non_emb_df, img_emb_df, text_emb_df # pd.dataframe type"
   ],
   "metadata": {
    "collapsed": false
   }
  },
  {
   "cell_type": "code",
   "execution_count": null,
   "outputs": [],
   "source": [
    "non_emb_df, img_emb_df, text_emb_df = divideDataset(renamed_df_ready)"
   ],
   "metadata": {
    "collapsed": false
   }
  },
  {
   "cell_type": "markdown",
   "source": [
    "### 4.2 DR on Embeddings"
   ],
   "metadata": {
    "collapsed": false
   }
  },
  {
   "cell_type": "markdown",
   "source": [
    "#### 4.2.1 Implement PCA for reducing the embedding features"
   ],
   "metadata": {
    "collapsed": false
   }
  },
  {
   "cell_type": "code",
   "execution_count": null,
   "outputs": [],
   "source": [
    "scaler_emb = MinMaxScaler()\n",
    "emb_df_scaled = scaler_emb.fit_transform(pd.concat([img_emb_df, text_emb_df], axis=1))\n",
    "pca_emb = PCA(n_components=0.9)\n",
    "pca_emb.fit(emb_df_scaled)\n",
    "\n",
    "def DRembeddings_pca(img_emb_df, text_emb_df):\n",
    "\n",
    "    # scale the data to the range between 0 and 1 before using PCA\n",
    "    # scaler_emb = MinMaxScaler()\n",
    "    # img_emb_df_scaled = scaler_emb.fit_transform(img_emb_df)\n",
    "    # text_emb_df_scaled = scaler_emb.fit_transform(text_emb_df)\n",
    "    emb_df_scaled = scaler_emb.fit_transform(pd.concat([img_emb_df, text_emb_df], axis=1))\n",
    "\n",
    "    # pca_emb = PCA(n_components=n_components)\n",
    "    # df_reduced_emb = pd.DataFrame(pca_emb.fit_transform(emb_df_scaled))\n",
    "    df_reduced_emb = pd.DataFrame(pca_emb.transform(emb_df_scaled))\n",
    "\n",
    "    emb_col_names = []\n",
    "    for i in range(df_reduced_emb.shape[1]):\n",
    "        emb_col_names.append(\"emb_\" + str(i))\n",
    "\n",
    "    df_reduced_emb.columns = emb_col_names\n",
    "\n",
    "    return df_reduced_emb"
   ],
   "metadata": {
    "collapsed": false
   }
  },
  {
   "cell_type": "code",
   "execution_count": null,
   "outputs": [],
   "source": [
    "df_reduced_emb_pca = DRembeddings_pca(img_emb_df, text_emb_df)\n",
    "df_reduced_emb_pca.head()"
   ],
   "metadata": {
    "collapsed": false
   }
  },
  {
   "cell_type": "markdown",
   "source": [
    "#### 4.2.2 tSNE for reducing the embedding features"
   ],
   "metadata": {
    "collapsed": false
   }
  },
  {
   "cell_type": "code",
   "execution_count": null,
   "outputs": [],
   "source": [
    "scaler_emb = MinMaxScaler()\n",
    "emb_df_scaled = scaler_emb.fit_transform(pd.concat([img_emb_df, text_emb_df], axis=1))\n",
    "\n",
    "def DRembeddings_tsne(img_emb_df, text_emb_df, n_components=2, perplexity=50):\n",
    "\n",
    "    # scale the data to the range between 0 and 1 before using PCA\n",
    "    # scaler_emb = MinMaxScaler()\n",
    "    # img_emb_df_scaled = scaler_emb.fit_transform(img_emb_df)\n",
    "    # text_emb_df_scaled = scaler_emb.fit_transform(text_emb_df)\n",
    "    emb_df_scaled = scaler_emb.fit_transform(pd.concat([img_emb_df, text_emb_df], axis=1))\n",
    "\n",
    "    # pca_emb = PCA(n_components=n_components)\n",
    "    tsne_emb = TSNE(n_components=n_components, perplexity=perplexity, init='pca', learning_rate='auto', random_state=42)\n",
    "    df_reduced_emb = pd.DataFrame(tsne_emb.fit_transform(emb_df_scaled))\n",
    "\n",
    "    emb_col_names = []\n",
    "    for i in range(df_reduced_emb.shape[1]):\n",
    "        emb_col_names.append(\"emb_\" + str(i))\n",
    "\n",
    "    df_reduced_emb.columns = emb_col_names\n",
    "\n",
    "    return df_reduced_emb"
   ],
   "metadata": {
    "collapsed": false
   }
  },
  {
   "cell_type": "code",
   "execution_count": null,
   "outputs": [],
   "source": [
    "df_reduced_emb_tsne = DRembeddings_tsne(img_emb_df, text_emb_df)\n",
    "df_reduced_emb_tsne.head()"
   ],
   "metadata": {
    "collapsed": false
   }
  },
  {
   "cell_type": "markdown",
   "source": [
    "#### 4.2.3 ICA for reducing the embedding features"
   ],
   "metadata": {
    "collapsed": false
   }
  },
  {
   "cell_type": "code",
   "execution_count": null,
   "outputs": [],
   "source": [
    "scaler_emb = MinMaxScaler()\n",
    "emb_df_scaled = scaler_emb.fit_transform(pd.concat([img_emb_df, text_emb_df], axis=1))\n",
    "\n",
    "def DRembeddings_ica(img_emb_df, text_emb_df, n_components=2):\n",
    "\n",
    "    # scale the data to the range between 0 and 1 before using PCA\n",
    "    # scaler_emb = MinMaxScaler()\n",
    "    # img_emb_df_scaled = scaler_emb.fit_transform(img_emb_df)\n",
    "    # text_emb_df_scaled = scaler_emb.fit_transform(text_emb_df)\n",
    "    emb_df_scaled = scaler_emb.fit_transform(pd.concat([img_emb_df, text_emb_df], axis=1))\n",
    "\n",
    "    # pca_emb = PCA(n_components=n_components)\n",
    "    ica_emb = FastICA(n_components=n_components, random_state=42, whiten='unit-variance')\n",
    "    df_reduced_emb = pd.DataFrame(ica_emb.fit_transform(emb_df_scaled))\n",
    "\n",
    "    emb_col_names = []\n",
    "    for i in range(df_reduced_emb.shape[1]):\n",
    "        emb_col_names.append(\"emb_\" + str(i))\n",
    "\n",
    "    df_reduced_emb.columns = emb_col_names\n",
    "\n",
    "    return df_reduced_emb"
   ],
   "metadata": {
    "collapsed": false
   }
  },
  {
   "cell_type": "code",
   "execution_count": null,
   "outputs": [],
   "source": [
    "df_reduced_emb_ica = DRembeddings_ica(img_emb_df, text_emb_df, n_components=199)\n",
    "df_reduced_emb_ica.head()"
   ],
   "metadata": {
    "collapsed": false
   }
  },
  {
   "cell_type": "markdown",
   "source": [
    "### 4.3 Feature Selection"
   ],
   "metadata": {
    "collapsed": false
   }
  },
  {
   "cell_type": "markdown",
   "source": [
    "We will predict the log(1 + Y1)"
   ],
   "metadata": {
    "collapsed": false
   }
  },
  {
   "cell_type": "code",
   "execution_count": null,
   "outputs": [],
   "source": [
    "\"\"\"\n",
    "    The forward feature selection takes a bit time, so we saved the feature selection reulst into a file using torch\n",
    "\"\"\"\n",
    "# np.random.seed(42)\n",
    "# rfr = RandomForestRegressor(n_jobs=-1)\n",
    "# sfs_34features = SequentialFeatureSelector(\n",
    "#     rfr,\n",
    "#     k_features=34,\n",
    "#     forward=True,\n",
    "#     floating=False,\n",
    "#     verbose=2,\n",
    "#     scoring='r2',\n",
    "#     cv=10,\n",
    "# ).fit(non_emb_df, np.log(1 + Y1))\n",
    "# if Path('../models').exists():\n",
    "#     torch.save(\"../models/foward_feature_selection_20features\")\n",
    "# else:\n",
    "#     Path('../model').mkdir(parents=True, exist_ok=True)\n",
    "#     torch.save(\"../models/foward_feature_selection_20features\")"
   ],
   "metadata": {
    "collapsed": false
   }
  },
  {
   "cell_type": "code",
   "execution_count": null,
   "outputs": [],
   "source": [
    "# Load the feature selection result\n",
    "sfs_34 = torch.load(\"../models/foward_feature_selection_20features\")"
   ],
   "metadata": {
    "collapsed": false
   }
  },
  {
   "cell_type": "code",
   "execution_count": null,
   "outputs": [],
   "source": [
    "pd.DataFrame.from_dict(sfs_34.get_metric_dict()).T"
   ],
   "metadata": {
    "collapsed": false
   }
  },
  {
   "cell_type": "code",
   "execution_count": null,
   "outputs": [],
   "source": [
    "fig1 = plot_sfs(sfs_34.get_metric_dict(), kind='std_dev')\n",
    "# plt.title('Forward Feature Selection (w. StdDev)')\n",
    "plt.grid()\n",
    "plt.savefig('../Figures/foward_selection.pdf')\n",
    "plt.show()"
   ],
   "metadata": {
    "collapsed": false
   }
  },
  {
   "cell_type": "code",
   "execution_count": null,
   "outputs": [],
   "source": [
    "sfs_34.k_score_"
   ],
   "metadata": {
    "collapsed": false
   }
  },
  {
   "cell_type": "code",
   "execution_count": null,
   "outputs": [],
   "source": [
    "sfs_34.k_feature_idx_"
   ],
   "metadata": {
    "collapsed": false
   }
  },
  {
   "cell_type": "code",
   "execution_count": null,
   "outputs": [],
   "source": [
    "features_selected = list(sfs_34.k_feature_names_)\n",
    "non_emb_df_selected = non_emb_df[features_selected]\n",
    "non_emb_df_selected.head()"
   ],
   "metadata": {
    "collapsed": false
   }
  },
  {
   "cell_type": "code",
   "execution_count": null,
   "outputs": [],
   "source": [
    "# ``ratings'',\n",
    "# ``n_votes'',\n",
    "# ``production_year'',\n",
    "# ``runtime'',\n",
    "# ``release_year'',\n",
    "# ``Action'',\n",
    "# ``Animation'',\n",
    "# ``Crime'',\n",
    "# ``Drama'',\n",
    "# ``Family'',\n",
    "# ``Fantasy'',\n",
    "# ``History'',\n",
    "# ``Horror'',\n",
    "# ``Mystery'',\n",
    "# ``Romance'',\n",
    "# ``Short'',\n",
    "# ``Thriller'',\n",
    "# ``War'',\n",
    "# ``Western'',\n",
    "# ``studio_freq''"
   ],
   "metadata": {
    "collapsed": false
   }
  },
  {
   "cell_type": "markdown",
   "source": [
    "### 4.4 Combine selected non_emb with reduced emb"
   ],
   "metadata": {
    "collapsed": false
   }
  },
  {
   "cell_type": "code",
   "execution_count": null,
   "outputs": [],
   "source": [
    "def combineNonReducedEmb(non_emb_df_selected, reduced_emb_df):\n",
    "    DR_df = pd.concat([non_emb_df_selected, reduced_emb_df], axis=1)\n",
    "    return DR_df"
   ],
   "metadata": {
    "collapsed": false
   }
  },
  {
   "cell_type": "code",
   "execution_count": null,
   "outputs": [],
   "source": [
    "DR_df = combineNonReducedEmb(non_emb_df_selected, df_reduced_emb_pca)\n",
    "DR_df.head()"
   ],
   "metadata": {
    "collapsed": false
   }
  },
  {
   "cell_type": "markdown",
   "source": [
    "### Construct Feature Selection Pipeline"
   ],
   "metadata": {
    "collapsed": false
   }
  },
  {
   "cell_type": "code",
   "execution_count": null,
   "outputs": [],
   "source": [
    "def FeatureSelection(X, dr_method, n_components=2, perplexity=50):\n",
    "    renamed_df_ready = renamingDataset(X)\n",
    "    non_emb_df, img_emb_df, text_emb_df = divideDataset(renamed_df_ready)\n",
    "    if dr_method == \"pca\":\n",
    "        reduced_emb_df = DRembeddings_pca(img_emb_df, text_emb_df)\n",
    "    elif dr_method == \"tsne\":\n",
    "        reduced_emb_df = DRembeddings_tsne(img_emb_df, text_emb_df, n_components=n_components, perplexity=perplexity)\n",
    "    elif dr_method == 'ica':\n",
    "        reduced_emb_df = DRembeddings_ica(img_emb_df, text_emb_df, n_components=n_components)\n",
    "    non_emb_df_selected = non_emb_df[features_selected]\n",
    "    DR_df = combineNonReducedEmb(non_emb_df_selected, reduced_emb_df)\n",
    "\n",
    "    return DR_df"
   ],
   "metadata": {
    "collapsed": false
   }
  },
  {
   "cell_type": "code",
   "execution_count": null,
   "outputs": [],
   "source": [
    "feature_selection_transformer_pca = FunctionTransformer(FeatureSelection, kw_args={'dr_method':'pca'})\n",
    "feature_selection_transformer_tsne = FunctionTransformer(FeatureSelection, kw_args={'dr_method':'tsne', 'n_components':3, 'perplexity':100})"
   ],
   "metadata": {
    "collapsed": false
   }
  },
  {
   "cell_type": "code",
   "execution_count": null,
   "outputs": [],
   "source": [
    "p2_pca = Pipeline([\n",
    "    ('Preprocessor', preprocess_transformer),\n",
    "    ('FeatureSelectionPCA', FunctionTransformer(FeatureSelection, kw_args={'dr_method':'pca'})),\n",
    "])\n",
    "\n",
    "# p2_tsne = Pipeline([\n",
    "#     ('Preprocessor', preprocess_transformer),\n",
    "#     ('FeatureSelectionTSNE', FunctionTransformer(FeatureSelection, kw_args={'dr_method':'tsne', 'n_components':3, 'perplexity':100})),\n",
    "# ])\n",
    "\n",
    "p2_ica = Pipeline([\n",
    "    ('Preprocessor', preprocess_transformer),\n",
    "    ('FeatureSelectionTSNE', FunctionTransformer(FeatureSelection, kw_args={'dr_method':'ica', 'n_components':199, 'perplexity':100})),\n",
    "])"
   ],
   "metadata": {
    "collapsed": false
   }
  },
  {
   "cell_type": "code",
   "execution_count": null,
   "outputs": [],
   "source": [
    "X1_pca = p2_pca.fit_transform(X1)\n",
    "torch.save(X1_pca, \"X1_pca\")\n",
    "X1_pca.head()"
   ],
   "metadata": {
    "collapsed": false
   }
  },
  {
   "cell_type": "code",
   "execution_count": null,
   "outputs": [],
   "source": [
    "# X1_tsne = p2_tsne.fit_transform(X1)\n",
    "# torch.save(X1_tsne, \"X1_tsne\")\n",
    "# X1_tsne.head()"
   ],
   "metadata": {
    "collapsed": false
   }
  },
  {
   "cell_type": "code",
   "execution_count": null,
   "outputs": [],
   "source": [
    "X1_ica = p2_ica.fit_transform(X1)\n",
    "torch.save(X1_ica, \"X1_ica\")\n",
    "X1_ica.head()"
   ],
   "metadata": {
    "collapsed": false
   }
  },
  {
   "cell_type": "markdown",
   "source": [
    "## 5. Models"
   ],
   "metadata": {
    "collapsed": false
   }
  },
  {
   "cell_type": "code",
   "execution_count": 82,
   "outputs": [],
   "source": [
    "X1_pca = torch.load('X1_pca').to_numpy()\n",
    "X1_ica = torch.load('X1_ica').to_numpy()\n",
    "X1_tsne = torch.load('X1_tsne').to_numpy()\n",
    "Y1 = pd.read_csv(\"Y1.csv\", header=None, names=['revenue ']).to_numpy().ravel()"
   ],
   "metadata": {
    "collapsed": false
   }
  },
  {
   "cell_type": "code",
   "execution_count": 85,
   "outputs": [],
   "source": [
    "X_train_pca, X_test_pca, y_train, y_test = train_test_split(X1_pca, Y1, random_state=42, test_size=0.1)\n",
    "X_train_ica, X_test_ica, _, _ = train_test_split(X1_ica, Y1, random_state=42, test_size=0.1)\n",
    "X_train_tsne, X_test_tsne, _, _ = train_test_split(X1_tsne, Y1, random_state=42, test_size=0.1)"
   ],
   "metadata": {
    "collapsed": false
   }
  },
  {
   "cell_type": "markdown",
   "source": [
    "### 5.1 Linear regression"
   ],
   "metadata": {
    "collapsed": false
   }
  },
  {
   "cell_type": "code",
   "execution_count": 86,
   "outputs": [],
   "source": [
    "LR_pca = LinearRegression()\n",
    "LR_ica = LinearRegression()\n",
    "LR_tsne = LinearRegression()"
   ],
   "metadata": {
    "collapsed": false
   }
  },
  {
   "cell_type": "code",
   "execution_count": 56,
   "outputs": [],
   "source": [
    "# # np.random.seed(42)\n",
    "# scores = cross_val_score(LR_model_pca, X_train_pca, np.log(1 + y_train), scoring='r2', cv=10)\n",
    "# print(\"R^2 of the Linear Regression based on the PCA embeddings: {:.6} %\".format(scores.mean()*100))\n",
    "# scores = cross_val_score(LR_model_pca, X_train_pca, np.log(1 + y_train), scoring='neg_root_mean_squared_error', cv=10)\n",
    "# print(\"RMSE of the Linear Regression based on the PCA embeddings: {:.4}\".format(scores.mean()))"
   ],
   "metadata": {
    "collapsed": false
   }
  },
  {
   "cell_type": "code",
   "execution_count": 57,
   "outputs": [],
   "source": [
    "# scores = cross_val_score(LR_model_ica, X_train_ica, np.log(1 + y_train), scoring='r2', cv=10)\n",
    "# print(\"R^2 of the Linear Regression based on the ICA embeddings: {:.6} %\".format(scores.mean()*100))\n",
    "# scores = cross_val_score(LR_model_ica, X_train_ica, np.log(1 + y_train), scoring='neg_root_mean_squared_error', cv=10)\n",
    "# print(\"RMSE of the Linear Regression based on the ICA embeddings: {:.4} \".format(scores.mean()))"
   ],
   "metadata": {
    "collapsed": false
   }
  },
  {
   "cell_type": "code",
   "execution_count": 92,
   "outputs": [
    {
     "name": "stdout",
     "output_type": "stream",
     "text": [
      "Root mean squared error (PCA Embeddings): 1277.04 Millions\n"
     ]
    }
   ],
   "source": [
    "LR_pca.fit(X_train_pca, np.log(1 + y_train))\n",
    "y_pred_LR_pca = np.exp(LR_pca.predict(X_test_pca)) - 1\n",
    "print(\"Root mean squared error (PCA Embeddings): {:.2f} Millions\".format(np.sqrt(mean_squared_error(y_test, y_pred_LR_pca))/1000000))"
   ],
   "metadata": {
    "collapsed": false
   }
  },
  {
   "cell_type": "code",
   "execution_count": 93,
   "outputs": [
    {
     "name": "stdout",
     "output_type": "stream",
     "text": [
      "Root mean squared error (ICA Embeddings): 1277.04 Millions\n"
     ]
    }
   ],
   "source": [
    "LR_ica.fit(X_train_ica, np.log(1 + y_train))\n",
    "y_pred_LR_ica = np.exp(LR_ica.predict(X_test_ica)) - 1\n",
    "print(\"Root mean squared error (ICA Embeddings): {:.2f} Millions\".format(np.sqrt(mean_squared_error(y_test, y_pred_LR_ica)) / 1000000))"
   ],
   "metadata": {
    "collapsed": false
   }
  },
  {
   "cell_type": "code",
   "execution_count": 94,
   "outputs": [
    {
     "name": "stdout",
     "output_type": "stream",
     "text": [
      "Root mean squared error (tSNE Embeddings): 1000.27 Millions\n"
     ]
    }
   ],
   "source": [
    "LR_tsne.fit(X_train_tsne, np.log(1 + y_train))\n",
    "y_pred_LR_tsne = np.exp(LR_tsne.predict(X_test_tsne)) - 1\n",
    "print(\"Root mean squared error (tSNE Embeddings): {:.2f} Millions\".format(np.sqrt(mean_squared_error(y_test, y_pred_LR_tsne))/1000000))"
   ],
   "metadata": {
    "collapsed": false
   }
  },
  {
   "cell_type": "code",
   "execution_count": 97,
   "outputs": [
    {
     "data": {
      "text/plain": "<matplotlib.legend.Legend at 0x7fb356735290>"
     },
     "execution_count": 97,
     "metadata": {},
     "output_type": "execute_result"
    },
    {
     "data": {
      "text/plain": "<Figure size 1200x700 with 1 Axes>",
      "image/png": "[encoded data removed]"
     },
     "metadata": {},
     "output_type": "display_data"
    }
   ],
   "source": [
    "plt.rc(\"font\", size=20)\n",
    "plt.figure(figsize=(12,7))\n",
    "plt.title('Linear regression')\n",
    "plt.xlabel(\"y predicted\")\n",
    "plt.ylabel(\"y test\")\n",
    "plt.plot(np.log(y_pred_LR_tsne), np.log(y_test),'o')\n",
    "plt.plot(np.linspace(np.min(np.log(y_pred_LR_tsne)),np.max(np.log(y_pred_LR_tsne)),2),np.linspace(np.min(np.log(y_pred_LR_tsne)),np.max(np.log(y_pred_LR_tsne)),2), label=\"y predicted\",color=\"red\")\n",
    "plt.legend()"
   ],
   "metadata": {
    "collapsed": false
   }
  },
  {
   "cell_type": "markdown",
   "source": [
    "### 5.2 KNN"
   ],
   "metadata": {
    "collapsed": false
   }
  },
  {
   "cell_type": "code",
   "execution_count": 95,
   "outputs": [],
   "source": [
    "knn = KNeighborsRegressor()\n",
    "knn_k_range = list(range(1, 41))\n",
    "knn_param_grid = {\n",
    "    'n_neighbors': knn_k_range,\n",
    "    'algorithm': ['ball_tree', 'kd_tree', 'brute'],\n",
    "    'leaf_size': list(range(1, 101))\n",
    "}"
   ],
   "metadata": {
    "collapsed": false
   }
  },
  {
   "cell_type": "code",
   "execution_count": 96,
   "outputs": [],
   "source": [
    "knn_grid_pca = GridSearchCV(knn, knn_param_grid, cv=10, scoring='neg_root_mean_squared_error', return_train_score=True,verbose=2)\n",
    "knn_grid_ica = GridSearchCV(knn, knn_param_grid, cv=10, scoring='neg_root_mean_squared_error', return_train_score=True,verbose=2)\n",
    "knn_grid_tsne = GridSearchCV(knn, knn_param_grid, cv=10, scoring='neg_root_mean_squared_error', return_train_score=True,verbose=2)"
   ],
   "metadata": {
    "collapsed": false
   }
  },
  {
   "cell_type": "code",
   "execution_count": null,
   "outputs": [
    {
     "name": "stdout",
     "output_type": "stream",
     "text": [
      "Fitting 10 folds for each of 12000 candidates, totalling 120000 fits\n",
      "[CV] END ....algorithm=ball_tree, leaf_size=1, n_neighbors=1; total time=   0.8s\n",
      "[CV] END ....algorithm=ball_tree, leaf_size=1, n_neighbors=1; total time=   0.5s\n",
      "[CV] END ....algorithm=ball_tree, leaf_size=1, n_neighbors=1; total time=   0.5s\n",
      "[CV] END ....algorithm=ball_tree, leaf_size=1, n_neighbors=1; total time=   0.4s\n",
      "[CV] END ....algorithm=ball_tree, leaf_size=1, n_neighbors=1; total time=   0.5s\n",
      "[CV] END ....algorithm=ball_tree, leaf_size=1, n_neighbors=1; total time=   0.5s\n",
      "[CV] END ....algorithm=ball_tree, leaf_size=1, n_neighbors=1; total time=   0.5s\n",
      "[CV] END ....algorithm=ball_tree, leaf_size=1, n_neighbors=1; total time=   0.5s\n",
      "[CV] END ....algorithm=ball_tree, leaf_size=1, n_neighbors=1; total time=   0.5s\n",
      "[CV] END ....algorithm=ball_tree, leaf_size=1, n_neighbors=1; total time=   0.5s\n",
      "[CV] END ....algorithm=ball_tree, leaf_size=1, n_neighbors=2; total time=   0.5s\n",
      "[CV] END ....algorithm=ball_tree, leaf_size=1, n_neighbors=2; total time=   0.6s\n",
      "[CV] END ....algorithm=ball_tree, leaf_size=1, n_neighbors=2; total time=   0.5s\n",
      "[CV] END ....algorithm=ball_tree, leaf_size=1, n_neighbors=2; total time=   0.5s\n",
      "[CV] END ....algorithm=ball_tree, leaf_size=1, n_neighbors=2; total time=   0.5s\n",
      "[CV] END ....algorithm=ball_tree, leaf_size=1, n_neighbors=2; total time=   0.5s\n",
      "[CV] END ....algorithm=ball_tree, leaf_size=1, n_neighbors=2; total time=   0.5s\n",
      "[CV] END ....algorithm=ball_tree, leaf_size=1, n_neighbors=2; total time=   0.5s\n",
      "[CV] END ....algorithm=ball_tree, leaf_size=1, n_neighbors=2; total time=   0.5s\n",
      "[CV] END ....algorithm=ball_tree, leaf_size=1, n_neighbors=2; total time=   0.5s\n",
      "[CV] END ....algorithm=ball_tree, leaf_size=1, n_neighbors=3; total time=   0.5s\n",
      "[CV] END ....algorithm=ball_tree, leaf_size=1, n_neighbors=3; total time=   0.5s\n",
      "[CV] END ....algorithm=ball_tree, leaf_size=1, n_neighbors=3; total time=   0.5s\n",
      "[CV] END ....algorithm=ball_tree, leaf_size=1, n_neighbors=3; total time=   0.5s\n",
      "[CV] END ....algorithm=ball_tree, leaf_size=1, n_neighbors=3; total time=   0.6s\n",
      "[CV] END ....algorithm=ball_tree, leaf_size=1, n_neighbors=3; total time=   0.5s\n",
      "[CV] END ....algorithm=ball_tree, leaf_size=1, n_neighbors=3; total time=   0.5s\n",
      "[CV] END ....algorithm=ball_tree, leaf_size=1, n_neighbors=3; total time=   0.5s\n",
      "[CV] END ....algorithm=ball_tree, leaf_size=1, n_neighbors=3; total time=   0.5s\n",
      "[CV] END ....algorithm=ball_tree, leaf_size=1, n_neighbors=3; total time=   0.5s\n",
      "[CV] END ....algorithm=ball_tree, leaf_size=1, n_neighbors=4; total time=   0.6s\n",
      "[CV] END ....algorithm=ball_tree, leaf_size=1, n_neighbors=4; total time=   0.5s\n",
      "[CV] END ....algorithm=ball_tree, leaf_size=1, n_neighbors=4; total time=   0.5s\n",
      "[CV] END ....algorithm=ball_tree, leaf_size=1, n_neighbors=4; total time=   0.6s\n",
      "[CV] END ....algorithm=ball_tree, leaf_size=1, n_neighbors=4; total time=   0.6s\n",
      "[CV] END ....algorithm=ball_tree, leaf_size=1, n_neighbors=4; total time=   0.5s\n",
      "[CV] END ....algorithm=ball_tree, leaf_size=1, n_neighbors=4; total time=   0.5s\n",
      "[CV] END ....algorithm=ball_tree, leaf_size=1, n_neighbors=4; total time=   0.5s\n",
      "[CV] END ....algorithm=ball_tree, leaf_size=1, n_neighbors=4; total time=   0.5s\n",
      "[CV] END ....algorithm=ball_tree, leaf_size=1, n_neighbors=4; total time=   0.6s\n",
      "[CV] END ....algorithm=ball_tree, leaf_size=1, n_neighbors=5; total time=   0.5s\n",
      "[CV] END ....algorithm=ball_tree, leaf_size=1, n_neighbors=5; total time=   0.5s\n",
      "[CV] END ....algorithm=ball_tree, leaf_size=1, n_neighbors=5; total time=   0.6s\n",
      "[CV] END ....algorithm=ball_tree, leaf_size=1, n_neighbors=5; total time=   0.5s\n",
      "[CV] END ....algorithm=ball_tree, leaf_size=1, n_neighbors=5; total time=   0.6s\n",
      "[CV] END ....algorithm=ball_tree, leaf_size=1, n_neighbors=5; total time=   0.5s\n",
      "[CV] END ....algorithm=ball_tree, leaf_size=1, n_neighbors=5; total time=   0.5s\n",
      "[CV] END ....algorithm=ball_tree, leaf_size=1, n_neighbors=5; total time=   0.5s\n",
      "[CV] END ....algorithm=ball_tree, leaf_size=1, n_neighbors=5; total time=   0.5s\n",
      "[CV] END ....algorithm=ball_tree, leaf_size=1, n_neighbors=5; total time=   0.6s\n",
      "[CV] END ....algorithm=ball_tree, leaf_size=1, n_neighbors=6; total time=   0.5s\n",
      "[CV] END ....algorithm=ball_tree, leaf_size=1, n_neighbors=6; total time=   0.5s\n",
      "[CV] END ....algorithm=ball_tree, leaf_size=1, n_neighbors=6; total time=   0.5s\n",
      "[CV] END ....algorithm=ball_tree, leaf_size=1, n_neighbors=6; total time=   0.5s\n",
      "[CV] END ....algorithm=ball_tree, leaf_size=1, n_neighbors=6; total time=   0.6s\n",
      "[CV] END ....algorithm=ball_tree, leaf_size=1, n_neighbors=6; total time=   0.5s\n",
      "[CV] END ....algorithm=ball_tree, leaf_size=1, n_neighbors=6; total time=   0.6s\n",
      "[CV] END ....algorithm=ball_tree, leaf_size=1, n_neighbors=6; total time=   0.5s\n",
      "[CV] END ....algorithm=ball_tree, leaf_size=1, n_neighbors=6; total time=   0.5s\n",
      "[CV] END ....algorithm=ball_tree, leaf_size=1, n_neighbors=6; total time=   0.6s\n",
      "[CV] END ....algorithm=ball_tree, leaf_size=1, n_neighbors=7; total time=   0.6s\n",
      "[CV] END ....algorithm=ball_tree, leaf_size=1, n_neighbors=7; total time=   0.5s\n",
      "[CV] END ....algorithm=ball_tree, leaf_size=1, n_neighbors=7; total time=   0.7s\n",
      "[CV] END ....algorithm=ball_tree, leaf_size=1, n_neighbors=7; total time=   0.6s\n",
      "[CV] END ....algorithm=ball_tree, leaf_size=1, n_neighbors=7; total time=   0.6s\n",
      "[CV] END ....algorithm=ball_tree, leaf_size=1, n_neighbors=7; total time=   0.6s\n",
      "[CV] END ....algorithm=ball_tree, leaf_size=1, n_neighbors=7; total time=   0.5s\n",
      "[CV] END ....algorithm=ball_tree, leaf_size=1, n_neighbors=7; total time=   1.0s\n",
      "[CV] END ....algorithm=ball_tree, leaf_size=1, n_neighbors=7; total time=   0.6s\n",
      "[CV] END ....algorithm=ball_tree, leaf_size=1, n_neighbors=7; total time=   0.6s\n",
      "[CV] END ....algorithm=ball_tree, leaf_size=1, n_neighbors=8; total time=   0.6s\n",
      "[CV] END ....algorithm=ball_tree, leaf_size=1, n_neighbors=8; total time=   0.5s\n",
      "[CV] END ....algorithm=ball_tree, leaf_size=1, n_neighbors=8; total time=   0.7s\n",
      "[CV] END ....algorithm=ball_tree, leaf_size=1, n_neighbors=8; total time=   0.6s\n",
      "[CV] END ....algorithm=ball_tree, leaf_size=1, n_neighbors=8; total time=   0.5s\n",
      "[CV] END ....algorithm=ball_tree, leaf_size=1, n_neighbors=8; total time=   0.5s\n",
      "[CV] END ....algorithm=ball_tree, leaf_size=1, n_neighbors=8; total time=   0.5s\n",
      "[CV] END ....algorithm=ball_tree, leaf_size=1, n_neighbors=8; total time=   0.7s\n",
      "[CV] END ....algorithm=ball_tree, leaf_size=1, n_neighbors=8; total time=   0.6s\n",
      "[CV] END ....algorithm=ball_tree, leaf_size=1, n_neighbors=8; total time=   0.5s\n",
      "[CV] END ....algorithm=ball_tree, leaf_size=1, n_neighbors=9; total time=   0.6s\n",
      "[CV] END ....algorithm=ball_tree, leaf_size=1, n_neighbors=9; total time=   0.6s\n",
      "[CV] END ....algorithm=ball_tree, leaf_size=1, n_neighbors=9; total time=   0.7s\n",
      "[CV] END ....algorithm=ball_tree, leaf_size=1, n_neighbors=9; total time=   1.5s\n",
      "[CV] END ....algorithm=ball_tree, leaf_size=1, n_neighbors=9; total time=   0.6s\n",
      "[CV] END ....algorithm=ball_tree, leaf_size=1, n_neighbors=9; total time=   0.5s\n",
      "[CV] END ....algorithm=ball_tree, leaf_size=1, n_neighbors=9; total time=   0.5s\n",
      "[CV] END ....algorithm=ball_tree, leaf_size=1, n_neighbors=9; total time=   0.6s\n",
      "[CV] END ....algorithm=ball_tree, leaf_size=1, n_neighbors=9; total time=   0.7s\n",
      "[CV] END ....algorithm=ball_tree, leaf_size=1, n_neighbors=9; total time=   0.6s\n",
      "[CV] END ...algorithm=ball_tree, leaf_size=1, n_neighbors=10; total time=   0.6s\n",
      "[CV] END ...algorithm=ball_tree, leaf_size=1, n_neighbors=10; total time=   0.6s\n",
      "[CV] END ...algorithm=ball_tree, leaf_size=1, n_neighbors=10; total time=   0.8s\n",
      "[CV] END ...algorithm=ball_tree, leaf_size=1, n_neighbors=10; total time=   0.6s\n",
      "[CV] END ...algorithm=ball_tree, leaf_size=1, n_neighbors=10; total time=   0.6s\n",
      "[CV] END ...algorithm=ball_tree, leaf_size=1, n_neighbors=10; total time=   0.8s\n",
      "[CV] END ...algorithm=ball_tree, leaf_size=1, n_neighbors=10; total time=   0.6s\n",
      "[CV] END ...algorithm=ball_tree, leaf_size=1, n_neighbors=10; total time=   0.6s\n",
      "[CV] END ...algorithm=ball_tree, leaf_size=1, n_neighbors=10; total time=   0.5s\n",
      "[CV] END ...algorithm=ball_tree, leaf_size=1, n_neighbors=10; total time=   0.6s\n",
      "[CV] END ...algorithm=ball_tree, leaf_size=1, n_neighbors=11; total time=   0.6s\n",
      "[CV] END ...algorithm=ball_tree, leaf_size=1, n_neighbors=11; total time=   0.6s\n",
      "[CV] END ...algorithm=ball_tree, leaf_size=1, n_neighbors=11; total time=   0.6s\n",
      "[CV] END ...algorithm=ball_tree, leaf_size=1, n_neighbors=11; total time=   0.6s\n",
      "[CV] END ...algorithm=ball_tree, leaf_size=1, n_neighbors=11; total time=   0.6s\n",
      "[CV] END ...algorithm=ball_tree, leaf_size=1, n_neighbors=11; total time=   0.7s\n",
      "[CV] END ...algorithm=ball_tree, leaf_size=1, n_neighbors=11; total time=   0.6s\n",
      "[CV] END ...algorithm=ball_tree, leaf_size=1, n_neighbors=11; total time=   0.6s\n",
      "[CV] END ...algorithm=ball_tree, leaf_size=1, n_neighbors=11; total time=   0.6s\n",
      "[CV] END ...algorithm=ball_tree, leaf_size=1, n_neighbors=11; total time=   0.6s\n",
      "[CV] END ...algorithm=ball_tree, leaf_size=1, n_neighbors=12; total time=   0.6s\n",
      "[CV] END ...algorithm=ball_tree, leaf_size=1, n_neighbors=12; total time=   0.6s\n",
      "[CV] END ...algorithm=ball_tree, leaf_size=1, n_neighbors=12; total time=   0.6s\n",
      "[CV] END ...algorithm=ball_tree, leaf_size=1, n_neighbors=12; total time=   0.6s\n",
      "[CV] END ...algorithm=ball_tree, leaf_size=1, n_neighbors=12; total time=   0.6s\n",
      "[CV] END ...algorithm=ball_tree, leaf_size=1, n_neighbors=12; total time=   0.6s\n",
      "[CV] END ...algorithm=ball_tree, leaf_size=1, n_neighbors=12; total time=   0.6s\n",
      "[CV] END ...algorithm=ball_tree, leaf_size=1, n_neighbors=12; total time=   0.6s\n",
      "[CV] END ...algorithm=ball_tree, leaf_size=1, n_neighbors=12; total time=   0.6s\n",
      "[CV] END ...algorithm=ball_tree, leaf_size=1, n_neighbors=12; total time=   0.6s\n",
      "[CV] END ...algorithm=ball_tree, leaf_size=1, n_neighbors=13; total time=   0.6s\n",
      "[CV] END ...algorithm=ball_tree, leaf_size=1, n_neighbors=13; total time=   0.6s\n",
      "[CV] END ...algorithm=ball_tree, leaf_size=1, n_neighbors=13; total time=   0.6s\n",
      "[CV] END ...algorithm=ball_tree, leaf_size=1, n_neighbors=13; total time=   0.6s\n",
      "[CV] END ...algorithm=ball_tree, leaf_size=1, n_neighbors=13; total time=   5.5s\n",
      "[CV] END ...algorithm=ball_tree, leaf_size=1, n_neighbors=13; total time=   0.6s\n",
      "[CV] END ...algorithm=ball_tree, leaf_size=1, n_neighbors=13; total time=   1.5s\n",
      "[CV] END ...algorithm=ball_tree, leaf_size=1, n_neighbors=13; total time=   1.7s\n",
      "[CV] END ...algorithm=ball_tree, leaf_size=1, n_neighbors=13; total time=   0.6s\n",
      "[CV] END ...algorithm=ball_tree, leaf_size=1, n_neighbors=13; total time=   0.6s\n",
      "[CV] END ...algorithm=ball_tree, leaf_size=1, n_neighbors=14; total time=   0.6s\n",
      "[CV] END ...algorithm=ball_tree, leaf_size=1, n_neighbors=14; total time=   0.6s\n",
      "[CV] END ...algorithm=ball_tree, leaf_size=1, n_neighbors=14; total time=   0.6s\n",
      "[CV] END ...algorithm=ball_tree, leaf_size=1, n_neighbors=14; total time=   0.6s\n",
      "[CV] END ...algorithm=ball_tree, leaf_size=1, n_neighbors=14; total time=   0.6s\n",
      "[CV] END ...algorithm=ball_tree, leaf_size=1, n_neighbors=14; total time=   1.4s\n",
      "[CV] END ...algorithm=ball_tree, leaf_size=1, n_neighbors=14; total time=   1.2s\n",
      "[CV] END ...algorithm=ball_tree, leaf_size=1, n_neighbors=14; total time=   0.7s\n",
      "[CV] END ...algorithm=ball_tree, leaf_size=1, n_neighbors=14; total time=   0.6s\n",
      "[CV] END ...algorithm=ball_tree, leaf_size=1, n_neighbors=14; total time=   0.6s\n",
      "[CV] END ...algorithm=ball_tree, leaf_size=1, n_neighbors=15; total time=   0.6s\n",
      "[CV] END ...algorithm=ball_tree, leaf_size=1, n_neighbors=15; total time=   0.6s\n",
      "[CV] END ...algorithm=ball_tree, leaf_size=1, n_neighbors=15; total time=   0.6s\n",
      "[CV] END ...algorithm=ball_tree, leaf_size=1, n_neighbors=15; total time=   0.6s\n",
      "[CV] END ...algorithm=ball_tree, leaf_size=1, n_neighbors=15; total time=   0.8s\n",
      "[CV] END ...algorithm=ball_tree, leaf_size=1, n_neighbors=15; total time=   0.6s\n",
      "[CV] END ...algorithm=ball_tree, leaf_size=1, n_neighbors=15; total time=   0.6s\n",
      "[CV] END ...algorithm=ball_tree, leaf_size=1, n_neighbors=15; total time=   0.6s\n",
      "[CV] END ...algorithm=ball_tree, leaf_size=1, n_neighbors=15; total time=   0.6s\n",
      "[CV] END ...algorithm=ball_tree, leaf_size=1, n_neighbors=15; total time=   0.6s\n",
      "[CV] END ...algorithm=ball_tree, leaf_size=1, n_neighbors=16; total time=   0.7s\n",
      "[CV] END ...algorithm=ball_tree, leaf_size=1, n_neighbors=16; total time=   0.6s\n",
      "[CV] END ...algorithm=ball_tree, leaf_size=1, n_neighbors=16; total time=   0.6s\n",
      "[CV] END ...algorithm=ball_tree, leaf_size=1, n_neighbors=16; total time=   0.6s\n",
      "[CV] END ...algorithm=ball_tree, leaf_size=1, n_neighbors=16; total time=   0.7s\n",
      "[CV] END ...algorithm=ball_tree, leaf_size=1, n_neighbors=16; total time=   0.6s\n",
      "[CV] END ...algorithm=ball_tree, leaf_size=1, n_neighbors=16; total time=   0.6s\n",
      "[CV] END ...algorithm=ball_tree, leaf_size=1, n_neighbors=16; total time=   0.6s\n",
      "[CV] END ...algorithm=ball_tree, leaf_size=1, n_neighbors=16; total time=   0.7s\n",
      "[CV] END ...algorithm=ball_tree, leaf_size=1, n_neighbors=16; total time=   0.6s\n",
      "[CV] END ...algorithm=ball_tree, leaf_size=1, n_neighbors=17; total time=   0.6s\n",
      "[CV] END ...algorithm=ball_tree, leaf_size=1, n_neighbors=17; total time=   1.1s\n",
      "[CV] END ...algorithm=ball_tree, leaf_size=1, n_neighbors=17; total time=   0.6s\n",
      "[CV] END ...algorithm=ball_tree, leaf_size=1, n_neighbors=17; total time=   0.7s\n",
      "[CV] END ...algorithm=ball_tree, leaf_size=1, n_neighbors=17; total time=   0.6s\n",
      "[CV] END ...algorithm=ball_tree, leaf_size=1, n_neighbors=17; total time=   0.6s\n",
      "[CV] END ...algorithm=ball_tree, leaf_size=1, n_neighbors=17; total time=   0.6s\n",
      "[CV] END ...algorithm=ball_tree, leaf_size=1, n_neighbors=17; total time=   0.7s\n",
      "[CV] END ...algorithm=ball_tree, leaf_size=1, n_neighbors=17; total time=   0.6s\n",
      "[CV] END ...algorithm=ball_tree, leaf_size=1, n_neighbors=17; total time=   0.6s\n",
      "[CV] END ...algorithm=ball_tree, leaf_size=1, n_neighbors=18; total time=   0.6s\n",
      "[CV] END ...algorithm=ball_tree, leaf_size=1, n_neighbors=18; total time=   0.6s\n",
      "[CV] END ...algorithm=ball_tree, leaf_size=1, n_neighbors=18; total time=   0.6s\n",
      "[CV] END ...algorithm=ball_tree, leaf_size=1, n_neighbors=18; total time=   0.6s\n",
      "[CV] END ...algorithm=ball_tree, leaf_size=1, n_neighbors=18; total time=   0.6s\n",
      "[CV] END ...algorithm=ball_tree, leaf_size=1, n_neighbors=18; total time=   0.6s\n",
      "[CV] END ...algorithm=ball_tree, leaf_size=1, n_neighbors=18; total time=   0.6s\n",
      "[CV] END ...algorithm=ball_tree, leaf_size=1, n_neighbors=18; total time=   0.6s\n",
      "[CV] END ...algorithm=ball_tree, leaf_size=1, n_neighbors=18; total time=   0.5s\n",
      "[CV] END ...algorithm=ball_tree, leaf_size=1, n_neighbors=18; total time=   0.5s\n",
      "[CV] END ...algorithm=ball_tree, leaf_size=1, n_neighbors=19; total time=   0.7s\n",
      "[CV] END ...algorithm=ball_tree, leaf_size=1, n_neighbors=19; total time=   0.6s\n",
      "[CV] END ...algorithm=ball_tree, leaf_size=1, n_neighbors=19; total time=   0.6s\n",
      "[CV] END ...algorithm=ball_tree, leaf_size=1, n_neighbors=19; total time=   0.6s\n",
      "[CV] END ...algorithm=ball_tree, leaf_size=1, n_neighbors=19; total time=   0.6s\n",
      "[CV] END ...algorithm=ball_tree, leaf_size=1, n_neighbors=19; total time=   0.5s\n",
      "[CV] END ...algorithm=ball_tree, leaf_size=1, n_neighbors=19; total time=   0.6s\n",
      "[CV] END ...algorithm=ball_tree, leaf_size=1, n_neighbors=19; total time=   0.6s\n",
      "[CV] END ...algorithm=ball_tree, leaf_size=1, n_neighbors=19; total time=   0.5s\n",
      "[CV] END ...algorithm=ball_tree, leaf_size=1, n_neighbors=19; total time=   0.5s\n",
      "[CV] END ...algorithm=ball_tree, leaf_size=1, n_neighbors=20; total time=   0.6s\n",
      "[CV] END ...algorithm=ball_tree, leaf_size=1, n_neighbors=20; total time=   0.5s\n",
      "[CV] END ...algorithm=ball_tree, leaf_size=1, n_neighbors=20; total time=   0.5s\n",
      "[CV] END ...algorithm=ball_tree, leaf_size=1, n_neighbors=20; total time=   0.6s\n",
      "[CV] END ...algorithm=ball_tree, leaf_size=1, n_neighbors=20; total time=   0.6s\n",
      "[CV] END ...algorithm=ball_tree, leaf_size=1, n_neighbors=20; total time=   0.5s\n",
      "[CV] END ...algorithm=ball_tree, leaf_size=1, n_neighbors=20; total time=   0.5s\n",
      "[CV] END ...algorithm=ball_tree, leaf_size=1, n_neighbors=20; total time=   0.6s\n",
      "[CV] END ...algorithm=ball_tree, leaf_size=1, n_neighbors=20; total time=   0.6s\n",
      "[CV] END ...algorithm=ball_tree, leaf_size=1, n_neighbors=20; total time=   0.6s\n",
      "[CV] END ...algorithm=ball_tree, leaf_size=1, n_neighbors=21; total time=   0.6s\n",
      "[CV] END ...algorithm=ball_tree, leaf_size=1, n_neighbors=21; total time=   0.5s\n",
      "[CV] END ...algorithm=ball_tree, leaf_size=1, n_neighbors=21; total time=   0.6s\n",
      "[CV] END ...algorithm=ball_tree, leaf_size=1, n_neighbors=21; total time=   0.6s\n",
      "[CV] END ...algorithm=ball_tree, leaf_size=1, n_neighbors=21; total time=   0.6s\n",
      "[CV] END ...algorithm=ball_tree, leaf_size=1, n_neighbors=21; total time=   0.6s\n",
      "[CV] END ...algorithm=ball_tree, leaf_size=1, n_neighbors=21; total time=   0.6s\n",
      "[CV] END ...algorithm=ball_tree, leaf_size=1, n_neighbors=21; total time=   0.6s\n",
      "[CV] END ...algorithm=ball_tree, leaf_size=1, n_neighbors=21; total time=   0.5s\n",
      "[CV] END ...algorithm=ball_tree, leaf_size=1, n_neighbors=21; total time=   0.6s\n",
      "[CV] END ...algorithm=ball_tree, leaf_size=1, n_neighbors=22; total time=   0.6s\n",
      "[CV] END ...algorithm=ball_tree, leaf_size=1, n_neighbors=22; total time=   0.5s\n",
      "[CV] END ...algorithm=ball_tree, leaf_size=1, n_neighbors=22; total time=   0.5s\n",
      "[CV] END ...algorithm=ball_tree, leaf_size=1, n_neighbors=22; total time=   0.6s\n",
      "[CV] END ...algorithm=ball_tree, leaf_size=1, n_neighbors=22; total time=   0.6s\n",
      "[CV] END ...algorithm=ball_tree, leaf_size=1, n_neighbors=22; total time=   0.6s\n",
      "[CV] END ...algorithm=ball_tree, leaf_size=1, n_neighbors=22; total time=   0.6s\n",
      "[CV] END ...algorithm=ball_tree, leaf_size=1, n_neighbors=22; total time=   0.6s\n",
      "[CV] END ...algorithm=ball_tree, leaf_size=1, n_neighbors=22; total time=   0.5s\n",
      "[CV] END ...algorithm=ball_tree, leaf_size=1, n_neighbors=22; total time=   0.5s\n",
      "[CV] END ...algorithm=ball_tree, leaf_size=1, n_neighbors=23; total time=   0.6s\n",
      "[CV] END ...algorithm=ball_tree, leaf_size=1, n_neighbors=23; total time=   0.6s\n",
      "[CV] END ...algorithm=ball_tree, leaf_size=1, n_neighbors=23; total time=   0.8s\n",
      "[CV] END ...algorithm=ball_tree, leaf_size=1, n_neighbors=23; total time=   0.6s\n",
      "[CV] END ...algorithm=ball_tree, leaf_size=1, n_neighbors=23; total time=   0.6s\n",
      "[CV] END ...algorithm=ball_tree, leaf_size=1, n_neighbors=23; total time=   0.5s\n",
      "[CV] END ...algorithm=ball_tree, leaf_size=1, n_neighbors=23; total time=   0.6s\n",
      "[CV] END ...algorithm=ball_tree, leaf_size=1, n_neighbors=23; total time=   2.3s\n",
      "[CV] END ...algorithm=ball_tree, leaf_size=1, n_neighbors=23; total time=   0.6s\n",
      "[CV] END ...algorithm=ball_tree, leaf_size=1, n_neighbors=23; total time=   0.6s\n",
      "[CV] END ...algorithm=ball_tree, leaf_size=1, n_neighbors=24; total time=   0.6s\n",
      "[CV] END ...algorithm=ball_tree, leaf_size=1, n_neighbors=24; total time=   0.6s\n",
      "[CV] END ...algorithm=ball_tree, leaf_size=1, n_neighbors=24; total time=   0.6s\n",
      "[CV] END ...algorithm=ball_tree, leaf_size=1, n_neighbors=24; total time=   0.6s\n",
      "[CV] END ...algorithm=ball_tree, leaf_size=1, n_neighbors=24; total time=   0.6s\n",
      "[CV] END ...algorithm=ball_tree, leaf_size=1, n_neighbors=24; total time=   0.5s\n",
      "[CV] END ...algorithm=ball_tree, leaf_size=1, n_neighbors=24; total time=   0.5s\n",
      "[CV] END ...algorithm=ball_tree, leaf_size=1, n_neighbors=24; total time=   0.7s\n",
      "[CV] END ...algorithm=ball_tree, leaf_size=1, n_neighbors=24; total time=   0.6s\n",
      "[CV] END ...algorithm=ball_tree, leaf_size=1, n_neighbors=24; total time=   0.8s\n",
      "[CV] END ...algorithm=ball_tree, leaf_size=1, n_neighbors=25; total time=   0.6s\n",
      "[CV] END ...algorithm=ball_tree, leaf_size=1, n_neighbors=25; total time=   0.6s\n",
      "[CV] END ...algorithm=ball_tree, leaf_size=1, n_neighbors=25; total time=   0.6s\n",
      "[CV] END ...algorithm=ball_tree, leaf_size=1, n_neighbors=25; total time=   0.6s\n",
      "[CV] END ...algorithm=ball_tree, leaf_size=1, n_neighbors=25; total time=   0.6s\n",
      "[CV] END ...algorithm=ball_tree, leaf_size=1, n_neighbors=25; total time=   0.6s\n",
      "[CV] END ...algorithm=ball_tree, leaf_size=1, n_neighbors=25; total time=   0.6s\n",
      "[CV] END ...algorithm=ball_tree, leaf_size=1, n_neighbors=25; total time=   0.6s\n",
      "[CV] END ...algorithm=ball_tree, leaf_size=1, n_neighbors=25; total time=   0.6s\n",
      "[CV] END ...algorithm=ball_tree, leaf_size=1, n_neighbors=25; total time=   0.6s\n",
      "[CV] END ...algorithm=ball_tree, leaf_size=1, n_neighbors=26; total time=   0.6s\n",
      "[CV] END ...algorithm=ball_tree, leaf_size=1, n_neighbors=26; total time=   0.6s\n",
      "[CV] END ...algorithm=ball_tree, leaf_size=1, n_neighbors=26; total time=   0.6s\n",
      "[CV] END ...algorithm=ball_tree, leaf_size=1, n_neighbors=26; total time=   0.6s\n",
      "[CV] END ...algorithm=ball_tree, leaf_size=1, n_neighbors=26; total time=   0.6s\n",
      "[CV] END ...algorithm=ball_tree, leaf_size=1, n_neighbors=26; total time=   0.6s\n",
      "[CV] END ...algorithm=ball_tree, leaf_size=1, n_neighbors=26; total time=   0.6s\n",
      "[CV] END ...algorithm=ball_tree, leaf_size=1, n_neighbors=26; total time=   0.6s\n",
      "[CV] END ...algorithm=ball_tree, leaf_size=1, n_neighbors=26; total time=   0.6s\n",
      "[CV] END ...algorithm=ball_tree, leaf_size=1, n_neighbors=26; total time=   0.6s\n",
      "[CV] END ...algorithm=ball_tree, leaf_size=1, n_neighbors=27; total time=   0.6s\n",
      "[CV] END ...algorithm=ball_tree, leaf_size=1, n_neighbors=27; total time=   0.6s\n",
      "[CV] END ...algorithm=ball_tree, leaf_size=1, n_neighbors=27; total time=   0.6s\n",
      "[CV] END ...algorithm=ball_tree, leaf_size=1, n_neighbors=27; total time=   0.6s\n",
      "[CV] END ...algorithm=ball_tree, leaf_size=1, n_neighbors=27; total time=   0.6s\n",
      "[CV] END ...algorithm=ball_tree, leaf_size=1, n_neighbors=27; total time=   0.6s\n",
      "[CV] END ...algorithm=ball_tree, leaf_size=1, n_neighbors=27; total time=   0.6s\n",
      "[CV] END ...algorithm=ball_tree, leaf_size=1, n_neighbors=27; total time=   0.6s\n",
      "[CV] END ...algorithm=ball_tree, leaf_size=1, n_neighbors=27; total time=   0.6s\n",
      "[CV] END ...algorithm=ball_tree, leaf_size=1, n_neighbors=27; total time=   0.6s\n",
      "[CV] END ...algorithm=ball_tree, leaf_size=1, n_neighbors=28; total time=   0.6s\n",
      "[CV] END ...algorithm=ball_tree, leaf_size=1, n_neighbors=28; total time=   0.6s\n",
      "[CV] END ...algorithm=ball_tree, leaf_size=1, n_neighbors=28; total time=   0.6s\n",
      "[CV] END ...algorithm=ball_tree, leaf_size=1, n_neighbors=28; total time=   0.6s\n",
      "[CV] END ...algorithm=ball_tree, leaf_size=1, n_neighbors=28; total time=   0.6s\n",
      "[CV] END ...algorithm=ball_tree, leaf_size=1, n_neighbors=28; total time=   0.6s\n",
      "[CV] END ...algorithm=ball_tree, leaf_size=1, n_neighbors=28; total time=   0.6s\n",
      "[CV] END ...algorithm=ball_tree, leaf_size=1, n_neighbors=28; total time=   0.6s\n",
      "[CV] END ...algorithm=ball_tree, leaf_size=1, n_neighbors=28; total time=   0.6s\n",
      "[CV] END ...algorithm=ball_tree, leaf_size=1, n_neighbors=28; total time=   0.6s\n",
      "[CV] END ...algorithm=ball_tree, leaf_size=1, n_neighbors=29; total time=   0.7s\n",
      "[CV] END ...algorithm=ball_tree, leaf_size=1, n_neighbors=29; total time=   0.6s\n",
      "[CV] END ...algorithm=ball_tree, leaf_size=1, n_neighbors=29; total time=   0.6s\n",
      "[CV] END ...algorithm=ball_tree, leaf_size=1, n_neighbors=29; total time=   0.6s\n",
      "[CV] END ...algorithm=ball_tree, leaf_size=1, n_neighbors=29; total time=   0.6s\n",
      "[CV] END ...algorithm=ball_tree, leaf_size=1, n_neighbors=29; total time=   0.6s\n",
      "[CV] END ...algorithm=ball_tree, leaf_size=1, n_neighbors=29; total time=   0.6s\n",
      "[CV] END ...algorithm=ball_tree, leaf_size=1, n_neighbors=29; total time=   0.6s\n",
      "[CV] END ...algorithm=ball_tree, leaf_size=1, n_neighbors=29; total time=   0.6s\n",
      "[CV] END ...algorithm=ball_tree, leaf_size=1, n_neighbors=29; total time=   0.6s\n",
      "[CV] END ...algorithm=ball_tree, leaf_size=1, n_neighbors=30; total time=   0.6s\n",
      "[CV] END ...algorithm=ball_tree, leaf_size=1, n_neighbors=30; total time=   0.6s\n",
      "[CV] END ...algorithm=ball_tree, leaf_size=1, n_neighbors=30; total time=   0.5s\n",
      "[CV] END ...algorithm=ball_tree, leaf_size=1, n_neighbors=30; total time=   0.6s\n",
      "[CV] END ...algorithm=ball_tree, leaf_size=1, n_neighbors=30; total time=   0.6s\n",
      "[CV] END ...algorithm=ball_tree, leaf_size=1, n_neighbors=30; total time=   0.6s\n",
      "[CV] END ...algorithm=ball_tree, leaf_size=1, n_neighbors=30; total time=   0.6s\n",
      "[CV] END ...algorithm=ball_tree, leaf_size=1, n_neighbors=30; total time=   0.6s\n",
      "[CV] END ...algorithm=ball_tree, leaf_size=1, n_neighbors=30; total time=   0.7s\n",
      "[CV] END ...algorithm=ball_tree, leaf_size=1, n_neighbors=30; total time=   0.6s\n",
      "[CV] END ...algorithm=ball_tree, leaf_size=1, n_neighbors=31; total time=   0.7s\n",
      "[CV] END ...algorithm=ball_tree, leaf_size=1, n_neighbors=31; total time=   0.6s\n",
      "[CV] END ...algorithm=ball_tree, leaf_size=1, n_neighbors=31; total time=   0.6s\n",
      "[CV] END ...algorithm=ball_tree, leaf_size=1, n_neighbors=31; total time=   0.6s\n",
      "[CV] END ...algorithm=ball_tree, leaf_size=1, n_neighbors=31; total time=   0.6s\n",
      "[CV] END ...algorithm=ball_tree, leaf_size=1, n_neighbors=31; total time=   0.6s\n",
      "[CV] END ...algorithm=ball_tree, leaf_size=1, n_neighbors=31; total time=   0.6s\n",
      "[CV] END ...algorithm=ball_tree, leaf_size=1, n_neighbors=31; total time=   0.6s\n",
      "[CV] END ...algorithm=ball_tree, leaf_size=1, n_neighbors=31; total time=   0.6s\n",
      "[CV] END ...algorithm=ball_tree, leaf_size=1, n_neighbors=31; total time=   0.6s\n",
      "[CV] END ...algorithm=ball_tree, leaf_size=1, n_neighbors=32; total time=   0.6s\n",
      "[CV] END ...algorithm=ball_tree, leaf_size=1, n_neighbors=32; total time=   0.6s\n",
      "[CV] END ...algorithm=ball_tree, leaf_size=1, n_neighbors=32; total time=   0.7s\n",
      "[CV] END ...algorithm=ball_tree, leaf_size=1, n_neighbors=32; total time=   0.6s\n",
      "[CV] END ...algorithm=ball_tree, leaf_size=1, n_neighbors=32; total time=   0.6s\n",
      "[CV] END ...algorithm=ball_tree, leaf_size=1, n_neighbors=32; total time=   0.6s\n",
      "[CV] END ...algorithm=ball_tree, leaf_size=1, n_neighbors=32; total time=   0.6s\n",
      "[CV] END ...algorithm=ball_tree, leaf_size=1, n_neighbors=32; total time=   0.6s\n",
      "[CV] END ...algorithm=ball_tree, leaf_size=1, n_neighbors=32; total time=   0.6s\n",
      "[CV] END ...algorithm=ball_tree, leaf_size=1, n_neighbors=32; total time=   0.6s\n",
      "[CV] END ...algorithm=ball_tree, leaf_size=1, n_neighbors=33; total time=   0.6s\n",
      "[CV] END ...algorithm=ball_tree, leaf_size=1, n_neighbors=33; total time=   0.6s\n",
      "[CV] END ...algorithm=ball_tree, leaf_size=1, n_neighbors=33; total time=   0.6s\n",
      "[CV] END ...algorithm=ball_tree, leaf_size=1, n_neighbors=33; total time=   0.6s\n",
      "[CV] END ...algorithm=ball_tree, leaf_size=1, n_neighbors=33; total time=   0.6s\n",
      "[CV] END ...algorithm=ball_tree, leaf_size=1, n_neighbors=33; total time=   0.6s\n",
      "[CV] END ...algorithm=ball_tree, leaf_size=1, n_neighbors=33; total time=   0.6s\n",
      "[CV] END ...algorithm=ball_tree, leaf_size=1, n_neighbors=33; total time=   0.6s\n",
      "[CV] END ...algorithm=ball_tree, leaf_size=1, n_neighbors=33; total time=   0.7s\n",
      "[CV] END ...algorithm=ball_tree, leaf_size=1, n_neighbors=33; total time=   0.6s\n",
      "[CV] END ...algorithm=ball_tree, leaf_size=1, n_neighbors=34; total time=   0.6s\n",
      "[CV] END ...algorithm=ball_tree, leaf_size=1, n_neighbors=34; total time=   0.6s\n",
      "[CV] END ...algorithm=ball_tree, leaf_size=1, n_neighbors=34; total time=   0.6s\n",
      "[CV] END ...algorithm=ball_tree, leaf_size=1, n_neighbors=34; total time=   0.6s\n",
      "[CV] END ...algorithm=ball_tree, leaf_size=1, n_neighbors=34; total time=   1.2s\n",
      "[CV] END ...algorithm=ball_tree, leaf_size=1, n_neighbors=34; total time=   0.6s\n",
      "[CV] END ...algorithm=ball_tree, leaf_size=1, n_neighbors=34; total time=   0.6s\n",
      "[CV] END ...algorithm=ball_tree, leaf_size=1, n_neighbors=34; total time=   0.6s\n",
      "[CV] END ...algorithm=ball_tree, leaf_size=1, n_neighbors=34; total time=   0.6s\n",
      "[CV] END ...algorithm=ball_tree, leaf_size=1, n_neighbors=34; total time=   0.6s\n",
      "[CV] END ...algorithm=ball_tree, leaf_size=1, n_neighbors=35; total time=   0.6s\n",
      "[CV] END ...algorithm=ball_tree, leaf_size=1, n_neighbors=35; total time=   0.6s\n",
      "[CV] END ...algorithm=ball_tree, leaf_size=1, n_neighbors=35; total time=   0.6s\n",
      "[CV] END ...algorithm=ball_tree, leaf_size=1, n_neighbors=35; total time=   0.6s\n",
      "[CV] END ...algorithm=ball_tree, leaf_size=1, n_neighbors=35; total time=   0.6s\n",
      "[CV] END ...algorithm=ball_tree, leaf_size=1, n_neighbors=35; total time=   0.6s\n",
      "[CV] END ...algorithm=ball_tree, leaf_size=1, n_neighbors=35; total time=   0.6s\n",
      "[CV] END ...algorithm=ball_tree, leaf_size=1, n_neighbors=35; total time=   0.6s\n",
      "[CV] END ...algorithm=ball_tree, leaf_size=1, n_neighbors=35; total time=   0.6s\n",
      "[CV] END ...algorithm=ball_tree, leaf_size=1, n_neighbors=35; total time=   0.6s\n",
      "[CV] END ...algorithm=ball_tree, leaf_size=1, n_neighbors=36; total time=   0.6s\n",
      "[CV] END ...algorithm=ball_tree, leaf_size=1, n_neighbors=36; total time=   0.6s\n",
      "[CV] END ...algorithm=ball_tree, leaf_size=1, n_neighbors=36; total time=   0.6s\n",
      "[CV] END ...algorithm=ball_tree, leaf_size=1, n_neighbors=36; total time=   0.6s\n",
      "[CV] END ...algorithm=ball_tree, leaf_size=1, n_neighbors=36; total time=   0.6s\n",
      "[CV] END ...algorithm=ball_tree, leaf_size=1, n_neighbors=36; total time=   0.6s\n",
      "[CV] END ...algorithm=ball_tree, leaf_size=1, n_neighbors=36; total time=   0.6s\n",
      "[CV] END ...algorithm=ball_tree, leaf_size=1, n_neighbors=36; total time=   0.6s\n",
      "[CV] END ...algorithm=ball_tree, leaf_size=1, n_neighbors=36; total time=   0.6s\n",
      "[CV] END ...algorithm=ball_tree, leaf_size=1, n_neighbors=36; total time=   0.6s\n",
      "[CV] END ...algorithm=ball_tree, leaf_size=1, n_neighbors=37; total time=   0.6s\n",
      "[CV] END ...algorithm=ball_tree, leaf_size=1, n_neighbors=37; total time=   0.6s\n",
      "[CV] END ...algorithm=ball_tree, leaf_size=1, n_neighbors=37; total time=   0.6s\n",
      "[CV] END ...algorithm=ball_tree, leaf_size=1, n_neighbors=37; total time=   0.6s\n",
      "[CV] END ...algorithm=ball_tree, leaf_size=1, n_neighbors=37; total time=   0.6s\n",
      "[CV] END ...algorithm=ball_tree, leaf_size=1, n_neighbors=37; total time=   0.6s\n",
      "[CV] END ...algorithm=ball_tree, leaf_size=1, n_neighbors=37; total time=   0.6s\n",
      "[CV] END ...algorithm=ball_tree, leaf_size=1, n_neighbors=37; total time=   0.6s\n",
      "[CV] END ...algorithm=ball_tree, leaf_size=1, n_neighbors=37; total time=   0.6s\n",
      "[CV] END ...algorithm=ball_tree, leaf_size=1, n_neighbors=37; total time=   0.6s\n",
      "[CV] END ...algorithm=ball_tree, leaf_size=1, n_neighbors=38; total time=   0.6s\n",
      "[CV] END ...algorithm=ball_tree, leaf_size=1, n_neighbors=38; total time=   0.6s\n",
      "[CV] END ...algorithm=ball_tree, leaf_size=1, n_neighbors=38; total time=   0.6s\n",
      "[CV] END ...algorithm=ball_tree, leaf_size=1, n_neighbors=38; total time=   0.6s\n",
      "[CV] END ...algorithm=ball_tree, leaf_size=1, n_neighbors=38; total time=   0.6s\n",
      "[CV] END ...algorithm=ball_tree, leaf_size=1, n_neighbors=38; total time=   0.6s\n",
      "[CV] END ...algorithm=ball_tree, leaf_size=1, n_neighbors=38; total time=   0.6s\n",
      "[CV] END ...algorithm=ball_tree, leaf_size=1, n_neighbors=38; total time=   0.6s\n",
      "[CV] END ...algorithm=ball_tree, leaf_size=1, n_neighbors=38; total time=   0.6s\n",
      "[CV] END ...algorithm=ball_tree, leaf_size=1, n_neighbors=38; total time=   0.6s\n",
      "[CV] END ...algorithm=ball_tree, leaf_size=1, n_neighbors=39; total time=   0.6s\n",
      "[CV] END ...algorithm=ball_tree, leaf_size=1, n_neighbors=39; total time=   0.6s\n",
      "[CV] END ...algorithm=ball_tree, leaf_size=1, n_neighbors=39; total time=   0.6s\n",
      "[CV] END ...algorithm=ball_tree, leaf_size=1, n_neighbors=39; total time=   0.6s\n",
      "[CV] END ...algorithm=ball_tree, leaf_size=1, n_neighbors=39; total time=   0.6s\n",
      "[CV] END ...algorithm=ball_tree, leaf_size=1, n_neighbors=39; total time=   0.6s\n",
      "[CV] END ...algorithm=ball_tree, leaf_size=1, n_neighbors=39; total time=   0.6s\n",
      "[CV] END ...algorithm=ball_tree, leaf_size=1, n_neighbors=39; total time=   0.6s\n",
      "[CV] END ...algorithm=ball_tree, leaf_size=1, n_neighbors=39; total time=   0.6s\n",
      "[CV] END ...algorithm=ball_tree, leaf_size=1, n_neighbors=39; total time=   0.6s\n",
      "[CV] END ...algorithm=ball_tree, leaf_size=1, n_neighbors=40; total time=   0.6s\n",
      "[CV] END ...algorithm=ball_tree, leaf_size=1, n_neighbors=40; total time=   0.6s\n",
      "[CV] END ...algorithm=ball_tree, leaf_size=1, n_neighbors=40; total time=   0.6s\n",
      "[CV] END ...algorithm=ball_tree, leaf_size=1, n_neighbors=40; total time=   0.6s\n",
      "[CV] END ...algorithm=ball_tree, leaf_size=1, n_neighbors=40; total time=   0.6s\n",
      "[CV] END ...algorithm=ball_tree, leaf_size=1, n_neighbors=40; total time=   0.6s\n",
      "[CV] END ...algorithm=ball_tree, leaf_size=1, n_neighbors=40; total time=   0.6s\n",
      "[CV] END ...algorithm=ball_tree, leaf_size=1, n_neighbors=40; total time=   0.6s\n",
      "[CV] END ...algorithm=ball_tree, leaf_size=1, n_neighbors=40; total time=   0.6s\n",
      "[CV] END ...algorithm=ball_tree, leaf_size=1, n_neighbors=40; total time=   0.6s\n",
      "[CV] END ....algorithm=ball_tree, leaf_size=2, n_neighbors=1; total time=   0.4s\n",
      "[CV] END ....algorithm=ball_tree, leaf_size=2, n_neighbors=1; total time=   0.4s\n",
      "[CV] END ....algorithm=ball_tree, leaf_size=2, n_neighbors=1; total time=   0.4s\n",
      "[CV] END ....algorithm=ball_tree, leaf_size=2, n_neighbors=1; total time=   0.4s\n",
      "[CV] END ....algorithm=ball_tree, leaf_size=2, n_neighbors=1; total time=   0.4s\n",
      "[CV] END ....algorithm=ball_tree, leaf_size=2, n_neighbors=1; total time=   0.4s\n",
      "[CV] END ....algorithm=ball_tree, leaf_size=2, n_neighbors=1; total time=   0.4s\n",
      "[CV] END ....algorithm=ball_tree, leaf_size=2, n_neighbors=1; total time=   0.4s\n",
      "[CV] END ....algorithm=ball_tree, leaf_size=2, n_neighbors=1; total time=   0.4s\n",
      "[CV] END ....algorithm=ball_tree, leaf_size=2, n_neighbors=1; total time=   0.4s\n",
      "[CV] END ....algorithm=ball_tree, leaf_size=2, n_neighbors=2; total time=   0.5s\n",
      "[CV] END ....algorithm=ball_tree, leaf_size=2, n_neighbors=2; total time=   0.5s\n",
      "[CV] END ....algorithm=ball_tree, leaf_size=2, n_neighbors=2; total time=   0.5s\n",
      "[CV] END ....algorithm=ball_tree, leaf_size=2, n_neighbors=2; total time=   0.5s\n",
      "[CV] END ....algorithm=ball_tree, leaf_size=2, n_neighbors=2; total time=   0.5s\n",
      "[CV] END ....algorithm=ball_tree, leaf_size=2, n_neighbors=2; total time=   0.5s\n",
      "[CV] END ....algorithm=ball_tree, leaf_size=2, n_neighbors=2; total time=   0.5s\n",
      "[CV] END ....algorithm=ball_tree, leaf_size=2, n_neighbors=2; total time=   0.5s\n",
      "[CV] END ....algorithm=ball_tree, leaf_size=2, n_neighbors=2; total time=   0.5s\n",
      "[CV] END ....algorithm=ball_tree, leaf_size=2, n_neighbors=2; total time=   0.5s\n",
      "[CV] END ....algorithm=ball_tree, leaf_size=2, n_neighbors=3; total time=   0.5s\n",
      "[CV] END ....algorithm=ball_tree, leaf_size=2, n_neighbors=3; total time=   0.5s\n",
      "[CV] END ....algorithm=ball_tree, leaf_size=2, n_neighbors=3; total time=   0.5s\n",
      "[CV] END ....algorithm=ball_tree, leaf_size=2, n_neighbors=3; total time=   0.5s\n",
      "[CV] END ....algorithm=ball_tree, leaf_size=2, n_neighbors=3; total time=   0.5s\n",
      "[CV] END ....algorithm=ball_tree, leaf_size=2, n_neighbors=3; total time=   0.5s\n",
      "[CV] END ....algorithm=ball_tree, leaf_size=2, n_neighbors=3; total time=   0.5s\n",
      "[CV] END ....algorithm=ball_tree, leaf_size=2, n_neighbors=3; total time=   0.5s\n",
      "[CV] END ....algorithm=ball_tree, leaf_size=2, n_neighbors=3; total time=   0.5s\n",
      "[CV] END ....algorithm=ball_tree, leaf_size=2, n_neighbors=3; total time=   0.5s\n",
      "[CV] END ....algorithm=ball_tree, leaf_size=2, n_neighbors=4; total time=   0.5s\n",
      "[CV] END ....algorithm=ball_tree, leaf_size=2, n_neighbors=4; total time=   0.5s\n",
      "[CV] END ....algorithm=ball_tree, leaf_size=2, n_neighbors=4; total time=   0.5s\n",
      "[CV] END ....algorithm=ball_tree, leaf_size=2, n_neighbors=4; total time=   0.5s\n",
      "[CV] END ....algorithm=ball_tree, leaf_size=2, n_neighbors=4; total time=   0.5s\n",
      "[CV] END ....algorithm=ball_tree, leaf_size=2, n_neighbors=4; total time=   0.5s\n",
      "[CV] END ....algorithm=ball_tree, leaf_size=2, n_neighbors=4; total time=   0.5s\n",
      "[CV] END ....algorithm=ball_tree, leaf_size=2, n_neighbors=4; total time=   0.5s\n",
      "[CV] END ....algorithm=ball_tree, leaf_size=2, n_neighbors=4; total time=   0.5s\n",
      "[CV] END ....algorithm=ball_tree, leaf_size=2, n_neighbors=4; total time=   0.5s\n",
      "[CV] END ....algorithm=ball_tree, leaf_size=2, n_neighbors=5; total time=   0.5s\n",
      "[CV] END ....algorithm=ball_tree, leaf_size=2, n_neighbors=5; total time=   0.5s\n",
      "[CV] END ....algorithm=ball_tree, leaf_size=2, n_neighbors=5; total time=   0.5s\n",
      "[CV] END ....algorithm=ball_tree, leaf_size=2, n_neighbors=5; total time=   0.5s\n",
      "[CV] END ....algorithm=ball_tree, leaf_size=2, n_neighbors=5; total time=   0.5s\n",
      "[CV] END ....algorithm=ball_tree, leaf_size=2, n_neighbors=5; total time=   0.5s\n",
      "[CV] END ....algorithm=ball_tree, leaf_size=2, n_neighbors=5; total time=   0.5s\n",
      "[CV] END ....algorithm=ball_tree, leaf_size=2, n_neighbors=5; total time=   0.5s\n",
      "[CV] END ....algorithm=ball_tree, leaf_size=2, n_neighbors=5; total time=   0.5s\n",
      "[CV] END ....algorithm=ball_tree, leaf_size=2, n_neighbors=5; total time=   0.5s\n",
      "[CV] END ....algorithm=ball_tree, leaf_size=2, n_neighbors=6; total time=   0.5s\n",
      "[CV] END ....algorithm=ball_tree, leaf_size=2, n_neighbors=6; total time=   0.5s\n",
      "[CV] END ....algorithm=ball_tree, leaf_size=2, n_neighbors=6; total time=   0.5s\n",
      "[CV] END ....algorithm=ball_tree, leaf_size=2, n_neighbors=6; total time=   0.5s\n",
      "[CV] END ....algorithm=ball_tree, leaf_size=2, n_neighbors=6; total time=   0.5s\n",
      "[CV] END ....algorithm=ball_tree, leaf_size=2, n_neighbors=6; total time=   0.5s\n",
      "[CV] END ....algorithm=ball_tree, leaf_size=2, n_neighbors=6; total time=   0.5s\n",
      "[CV] END ....algorithm=ball_tree, leaf_size=2, n_neighbors=6; total time=   0.5s\n",
      "[CV] END ....algorithm=ball_tree, leaf_size=2, n_neighbors=6; total time=   0.5s\n",
      "[CV] END ....algorithm=ball_tree, leaf_size=2, n_neighbors=6; total time=   0.5s\n",
      "[CV] END ....algorithm=ball_tree, leaf_size=2, n_neighbors=7; total time=   0.5s\n",
      "[CV] END ....algorithm=ball_tree, leaf_size=2, n_neighbors=7; total time=   0.5s\n",
      "[CV] END ....algorithm=ball_tree, leaf_size=2, n_neighbors=7; total time=   0.5s\n",
      "[CV] END ....algorithm=ball_tree, leaf_size=2, n_neighbors=7; total time=   0.5s\n",
      "[CV] END ....algorithm=ball_tree, leaf_size=2, n_neighbors=7; total time=   0.5s\n",
      "[CV] END ....algorithm=ball_tree, leaf_size=2, n_neighbors=7; total time=   0.5s\n",
      "[CV] END ....algorithm=ball_tree, leaf_size=2, n_neighbors=7; total time=   0.5s\n",
      "[CV] END ....algorithm=ball_tree, leaf_size=2, n_neighbors=7; total time=   0.5s\n",
      "[CV] END ....algorithm=ball_tree, leaf_size=2, n_neighbors=7; total time=   0.5s\n",
      "[CV] END ....algorithm=ball_tree, leaf_size=2, n_neighbors=7; total time=   0.5s\n",
      "[CV] END ....algorithm=ball_tree, leaf_size=2, n_neighbors=8; total time=   0.6s\n",
      "[CV] END ....algorithm=ball_tree, leaf_size=2, n_neighbors=8; total time=   0.5s\n",
      "[CV] END ....algorithm=ball_tree, leaf_size=2, n_neighbors=8; total time=   0.5s\n",
      "[CV] END ....algorithm=ball_tree, leaf_size=2, n_neighbors=8; total time=   0.5s\n",
      "[CV] END ....algorithm=ball_tree, leaf_size=2, n_neighbors=8; total time=   0.5s\n",
      "[CV] END ....algorithm=ball_tree, leaf_size=2, n_neighbors=8; total time=   0.5s\n",
      "[CV] END ....algorithm=ball_tree, leaf_size=2, n_neighbors=8; total time=   0.5s\n",
      "[CV] END ....algorithm=ball_tree, leaf_size=2, n_neighbors=8; total time=   0.5s\n",
      "[CV] END ....algorithm=ball_tree, leaf_size=2, n_neighbors=8; total time=   0.5s\n",
      "[CV] END ....algorithm=ball_tree, leaf_size=2, n_neighbors=8; total time=   0.5s\n",
      "[CV] END ....algorithm=ball_tree, leaf_size=2, n_neighbors=9; total time=   0.5s\n",
      "[CV] END ....algorithm=ball_tree, leaf_size=2, n_neighbors=9; total time=   0.5s\n",
      "[CV] END ....algorithm=ball_tree, leaf_size=2, n_neighbors=9; total time=   0.5s\n",
      "[CV] END ....algorithm=ball_tree, leaf_size=2, n_neighbors=9; total time=   0.5s\n",
      "[CV] END ....algorithm=ball_tree, leaf_size=2, n_neighbors=9; total time=   0.5s\n",
      "[CV] END ....algorithm=ball_tree, leaf_size=2, n_neighbors=9; total time=   0.5s\n",
      "[CV] END ....algorithm=ball_tree, leaf_size=2, n_neighbors=9; total time=   0.5s\n",
      "[CV] END ....algorithm=ball_tree, leaf_size=2, n_neighbors=9; total time=   0.5s\n",
      "[CV] END ....algorithm=ball_tree, leaf_size=2, n_neighbors=9; total time=   0.5s\n",
      "[CV] END ....algorithm=ball_tree, leaf_size=2, n_neighbors=9; total time=   0.5s\n",
      "[CV] END ...algorithm=ball_tree, leaf_size=2, n_neighbors=10; total time=   0.5s\n",
      "[CV] END ...algorithm=ball_tree, leaf_size=2, n_neighbors=10; total time=   0.5s\n",
      "[CV] END ...algorithm=ball_tree, leaf_size=2, n_neighbors=10; total time=   0.5s\n",
      "[CV] END ...algorithm=ball_tree, leaf_size=2, n_neighbors=10; total time=   0.5s\n",
      "[CV] END ...algorithm=ball_tree, leaf_size=2, n_neighbors=10; total time=   0.5s\n",
      "[CV] END ...algorithm=ball_tree, leaf_size=2, n_neighbors=10; total time=   0.5s\n",
      "[CV] END ...algorithm=ball_tree, leaf_size=2, n_neighbors=10; total time=   0.5s\n",
      "[CV] END ...algorithm=ball_tree, leaf_size=2, n_neighbors=10; total time=   0.5s\n",
      "[CV] END ...algorithm=ball_tree, leaf_size=2, n_neighbors=10; total time=   0.5s\n",
      "[CV] END ...algorithm=ball_tree, leaf_size=2, n_neighbors=10; total time=   0.5s\n",
      "[CV] END ...algorithm=ball_tree, leaf_size=2, n_neighbors=11; total time=   0.5s\n",
      "[CV] END ...algorithm=ball_tree, leaf_size=2, n_neighbors=11; total time=   0.5s\n",
      "[CV] END ...algorithm=ball_tree, leaf_size=2, n_neighbors=11; total time=   0.5s\n",
      "[CV] END ...algorithm=ball_tree, leaf_size=2, n_neighbors=11; total time=   0.5s\n",
      "[CV] END ...algorithm=ball_tree, leaf_size=2, n_neighbors=11; total time=   0.5s\n",
      "[CV] END ...algorithm=ball_tree, leaf_size=2, n_neighbors=11; total time=   0.5s\n",
      "[CV] END ...algorithm=ball_tree, leaf_size=2, n_neighbors=11; total time=   0.5s\n",
      "[CV] END ...algorithm=ball_tree, leaf_size=2, n_neighbors=11; total time=   0.5s\n",
      "[CV] END ...algorithm=ball_tree, leaf_size=2, n_neighbors=11; total time=   0.5s\n",
      "[CV] END ...algorithm=ball_tree, leaf_size=2, n_neighbors=11; total time=   0.5s\n",
      "[CV] END ...algorithm=ball_tree, leaf_size=2, n_neighbors=12; total time=   0.5s\n",
      "[CV] END ...algorithm=ball_tree, leaf_size=2, n_neighbors=12; total time=   0.5s\n",
      "[CV] END ...algorithm=ball_tree, leaf_size=2, n_neighbors=12; total time=   0.5s\n",
      "[CV] END ...algorithm=ball_tree, leaf_size=2, n_neighbors=12; total time=   0.5s\n",
      "[CV] END ...algorithm=ball_tree, leaf_size=2, n_neighbors=12; total time=   0.5s\n",
      "[CV] END ...algorithm=ball_tree, leaf_size=2, n_neighbors=12; total time=   0.6s\n",
      "[CV] END ...algorithm=ball_tree, leaf_size=2, n_neighbors=12; total time=   0.5s\n",
      "[CV] END ...algorithm=ball_tree, leaf_size=2, n_neighbors=12; total time=   0.5s\n",
      "[CV] END ...algorithm=ball_tree, leaf_size=2, n_neighbors=12; total time=   0.5s\n",
      "[CV] END ...algorithm=ball_tree, leaf_size=2, n_neighbors=12; total time=   0.5s\n",
      "[CV] END ...algorithm=ball_tree, leaf_size=2, n_neighbors=13; total time=   0.5s\n",
      "[CV] END ...algorithm=ball_tree, leaf_size=2, n_neighbors=13; total time=   0.5s\n",
      "[CV] END ...algorithm=ball_tree, leaf_size=2, n_neighbors=13; total time=   0.5s\n",
      "[CV] END ...algorithm=ball_tree, leaf_size=2, n_neighbors=13; total time=   0.5s\n",
      "[CV] END ...algorithm=ball_tree, leaf_size=2, n_neighbors=13; total time=   0.5s\n",
      "[CV] END ...algorithm=ball_tree, leaf_size=2, n_neighbors=13; total time=   0.5s\n",
      "[CV] END ...algorithm=ball_tree, leaf_size=2, n_neighbors=13; total time=   0.5s\n",
      "[CV] END ...algorithm=ball_tree, leaf_size=2, n_neighbors=13; total time=   0.5s\n",
      "[CV] END ...algorithm=ball_tree, leaf_size=2, n_neighbors=13; total time=   0.5s\n",
      "[CV] END ...algorithm=ball_tree, leaf_size=2, n_neighbors=13; total time=   0.5s\n",
      "[CV] END ...algorithm=ball_tree, leaf_size=2, n_neighbors=14; total time=   0.5s\n",
      "[CV] END ...algorithm=ball_tree, leaf_size=2, n_neighbors=14; total time=   0.5s\n",
      "[CV] END ...algorithm=ball_tree, leaf_size=2, n_neighbors=14; total time=   0.5s\n",
      "[CV] END ...algorithm=ball_tree, leaf_size=2, n_neighbors=14; total time=   0.5s\n",
      "[CV] END ...algorithm=ball_tree, leaf_size=2, n_neighbors=14; total time=   0.5s\n",
      "[CV] END ...algorithm=ball_tree, leaf_size=2, n_neighbors=14; total time=   0.5s\n",
      "[CV] END ...algorithm=ball_tree, leaf_size=2, n_neighbors=14; total time=   0.5s\n",
      "[CV] END ...algorithm=ball_tree, leaf_size=2, n_neighbors=14; total time=   0.5s\n",
      "[CV] END ...algorithm=ball_tree, leaf_size=2, n_neighbors=14; total time=   0.5s\n",
      "[CV] END ...algorithm=ball_tree, leaf_size=2, n_neighbors=14; total time=   0.5s\n",
      "[CV] END ...algorithm=ball_tree, leaf_size=2, n_neighbors=15; total time=   0.5s\n",
      "[CV] END ...algorithm=ball_tree, leaf_size=2, n_neighbors=15; total time=   0.5s\n",
      "[CV] END ...algorithm=ball_tree, leaf_size=2, n_neighbors=15; total time=   0.5s\n",
      "[CV] END ...algorithm=ball_tree, leaf_size=2, n_neighbors=15; total time=   0.5s\n",
      "[CV] END ...algorithm=ball_tree, leaf_size=2, n_neighbors=15; total time=   0.5s\n",
      "[CV] END ...algorithm=ball_tree, leaf_size=2, n_neighbors=15; total time=   0.5s\n",
      "[CV] END ...algorithm=ball_tree, leaf_size=2, n_neighbors=15; total time=   0.5s\n",
      "[CV] END ...algorithm=ball_tree, leaf_size=2, n_neighbors=15; total time=   0.5s\n",
      "[CV] END ...algorithm=ball_tree, leaf_size=2, n_neighbors=15; total time=   0.5s\n",
      "[CV] END ...algorithm=ball_tree, leaf_size=2, n_neighbors=15; total time=   0.5s\n",
      "[CV] END ...algorithm=ball_tree, leaf_size=2, n_neighbors=16; total time=   0.5s\n",
      "[CV] END ...algorithm=ball_tree, leaf_size=2, n_neighbors=16; total time=   0.5s\n",
      "[CV] END ...algorithm=ball_tree, leaf_size=2, n_neighbors=16; total time=   0.5s\n",
      "[CV] END ...algorithm=ball_tree, leaf_size=2, n_neighbors=16; total time=   0.5s\n",
      "[CV] END ...algorithm=ball_tree, leaf_size=2, n_neighbors=16; total time=   0.5s\n",
      "[CV] END ...algorithm=ball_tree, leaf_size=2, n_neighbors=16; total time=   0.5s\n",
      "[CV] END ...algorithm=ball_tree, leaf_size=2, n_neighbors=16; total time=   0.5s\n",
      "[CV] END ...algorithm=ball_tree, leaf_size=2, n_neighbors=16; total time=   0.5s\n",
      "[CV] END ...algorithm=ball_tree, leaf_size=2, n_neighbors=16; total time=   0.5s\n",
      "[CV] END ...algorithm=ball_tree, leaf_size=2, n_neighbors=16; total time=   0.5s\n",
      "[CV] END ...algorithm=ball_tree, leaf_size=2, n_neighbors=17; total time=   0.5s\n",
      "[CV] END ...algorithm=ball_tree, leaf_size=2, n_neighbors=17; total time=   0.5s\n",
      "[CV] END ...algorithm=ball_tree, leaf_size=2, n_neighbors=17; total time=   0.5s\n",
      "[CV] END ...algorithm=ball_tree, leaf_size=2, n_neighbors=17; total time=   0.5s\n",
      "[CV] END ...algorithm=ball_tree, leaf_size=2, n_neighbors=17; total time=   0.5s\n",
      "[CV] END ...algorithm=ball_tree, leaf_size=2, n_neighbors=17; total time=   0.5s\n",
      "[CV] END ...algorithm=ball_tree, leaf_size=2, n_neighbors=17; total time=   0.5s\n",
      "[CV] END ...algorithm=ball_tree, leaf_size=2, n_neighbors=17; total time=   0.5s\n",
      "[CV] END ...algorithm=ball_tree, leaf_size=2, n_neighbors=17; total time=   0.5s\n",
      "[CV] END ...algorithm=ball_tree, leaf_size=2, n_neighbors=17; total time=   0.5s\n",
      "[CV] END ...algorithm=ball_tree, leaf_size=2, n_neighbors=18; total time=   0.5s\n",
      "[CV] END ...algorithm=ball_tree, leaf_size=2, n_neighbors=18; total time=   0.5s\n",
      "[CV] END ...algorithm=ball_tree, leaf_size=2, n_neighbors=18; total time=   0.5s\n",
      "[CV] END ...algorithm=ball_tree, leaf_size=2, n_neighbors=18; total time=   0.5s\n",
      "[CV] END ...algorithm=ball_tree, leaf_size=2, n_neighbors=18; total time=   0.5s\n",
      "[CV] END ...algorithm=ball_tree, leaf_size=2, n_neighbors=18; total time=   0.5s\n",
      "[CV] END ...algorithm=ball_tree, leaf_size=2, n_neighbors=18; total time=   0.5s\n",
      "[CV] END ...algorithm=ball_tree, leaf_size=2, n_neighbors=18; total time=   0.5s\n",
      "[CV] END ...algorithm=ball_tree, leaf_size=2, n_neighbors=18; total time=   0.5s\n",
      "[CV] END ...algorithm=ball_tree, leaf_size=2, n_neighbors=18; total time=   0.5s\n",
      "[CV] END ...algorithm=ball_tree, leaf_size=2, n_neighbors=19; total time=   0.5s\n",
      "[CV] END ...algorithm=ball_tree, leaf_size=2, n_neighbors=19; total time=   0.5s\n",
      "[CV] END ...algorithm=ball_tree, leaf_size=2, n_neighbors=19; total time=   0.5s\n",
      "[CV] END ...algorithm=ball_tree, leaf_size=2, n_neighbors=19; total time=   0.5s\n",
      "[CV] END ...algorithm=ball_tree, leaf_size=2, n_neighbors=19; total time=   0.5s\n",
      "[CV] END ...algorithm=ball_tree, leaf_size=2, n_neighbors=19; total time=   0.5s\n",
      "[CV] END ...algorithm=ball_tree, leaf_size=2, n_neighbors=19; total time=   0.5s\n",
      "[CV] END ...algorithm=ball_tree, leaf_size=2, n_neighbors=19; total time=   0.5s\n",
      "[CV] END ...algorithm=ball_tree, leaf_size=2, n_neighbors=19; total time=   0.5s\n",
      "[CV] END ...algorithm=ball_tree, leaf_size=2, n_neighbors=19; total time=   0.5s\n",
      "[CV] END ...algorithm=ball_tree, leaf_size=2, n_neighbors=20; total time=   0.5s\n",
      "[CV] END ...algorithm=ball_tree, leaf_size=2, n_neighbors=20; total time=   0.5s\n",
      "[CV] END ...algorithm=ball_tree, leaf_size=2, n_neighbors=20; total time=   0.5s\n",
      "[CV] END ...algorithm=ball_tree, leaf_size=2, n_neighbors=20; total time=   0.5s\n",
      "[CV] END ...algorithm=ball_tree, leaf_size=2, n_neighbors=20; total time=   0.5s\n",
      "[CV] END ...algorithm=ball_tree, leaf_size=2, n_neighbors=20; total time=   0.5s\n",
      "[CV] END ...algorithm=ball_tree, leaf_size=2, n_neighbors=20; total time=   0.5s\n",
      "[CV] END ...algorithm=ball_tree, leaf_size=2, n_neighbors=20; total time=   0.5s\n",
      "[CV] END ...algorithm=ball_tree, leaf_size=2, n_neighbors=20; total time=   0.5s\n",
      "[CV] END ...algorithm=ball_tree, leaf_size=2, n_neighbors=20; total time=   0.5s\n",
      "[CV] END ...algorithm=ball_tree, leaf_size=2, n_neighbors=21; total time=   0.5s\n",
      "[CV] END ...algorithm=ball_tree, leaf_size=2, n_neighbors=21; total time=   0.5s\n",
      "[CV] END ...algorithm=ball_tree, leaf_size=2, n_neighbors=21; total time=   0.5s\n",
      "[CV] END ...algorithm=ball_tree, leaf_size=2, n_neighbors=21; total time=   0.5s\n",
      "[CV] END ...algorithm=ball_tree, leaf_size=2, n_neighbors=21; total time=   0.5s\n",
      "[CV] END ...algorithm=ball_tree, leaf_size=2, n_neighbors=21; total time=   0.5s\n",
      "[CV] END ...algorithm=ball_tree, leaf_size=2, n_neighbors=21; total time=   0.5s\n",
      "[CV] END ...algorithm=ball_tree, leaf_size=2, n_neighbors=21; total time=   0.5s\n",
      "[CV] END ...algorithm=ball_tree, leaf_size=2, n_neighbors=21; total time=   0.5s\n",
      "[CV] END ...algorithm=ball_tree, leaf_size=2, n_neighbors=21; total time=   0.5s\n",
      "[CV] END ...algorithm=ball_tree, leaf_size=2, n_neighbors=22; total time=   0.5s\n",
      "[CV] END ...algorithm=ball_tree, leaf_size=2, n_neighbors=22; total time=   0.5s\n",
      "[CV] END ...algorithm=ball_tree, leaf_size=2, n_neighbors=22; total time=   0.5s\n",
      "[CV] END ...algorithm=ball_tree, leaf_size=2, n_neighbors=22; total time=   0.5s\n",
      "[CV] END ...algorithm=ball_tree, leaf_size=2, n_neighbors=22; total time=   0.5s\n",
      "[CV] END ...algorithm=ball_tree, leaf_size=2, n_neighbors=22; total time=   0.5s\n",
      "[CV] END ...algorithm=ball_tree, leaf_size=2, n_neighbors=22; total time=   0.5s\n",
      "[CV] END ...algorithm=ball_tree, leaf_size=2, n_neighbors=22; total time=   0.5s\n",
      "[CV] END ...algorithm=ball_tree, leaf_size=2, n_neighbors=22; total time=   0.5s\n",
      "[CV] END ...algorithm=ball_tree, leaf_size=2, n_neighbors=22; total time=   0.5s\n",
      "[CV] END ...algorithm=ball_tree, leaf_size=2, n_neighbors=23; total time=   0.5s\n",
      "[CV] END ...algorithm=ball_tree, leaf_size=2, n_neighbors=23; total time=   0.5s\n",
      "[CV] END ...algorithm=ball_tree, leaf_size=2, n_neighbors=23; total time=   0.5s\n",
      "[CV] END ...algorithm=ball_tree, leaf_size=2, n_neighbors=23; total time=   0.5s\n",
      "[CV] END ...algorithm=ball_tree, leaf_size=2, n_neighbors=23; total time=   0.5s\n",
      "[CV] END ...algorithm=ball_tree, leaf_size=2, n_neighbors=23; total time=   0.5s\n",
      "[CV] END ...algorithm=ball_tree, leaf_size=2, n_neighbors=23; total time=   0.6s\n",
      "[CV] END ...algorithm=ball_tree, leaf_size=2, n_neighbors=23; total time=   0.5s\n",
      "[CV] END ...algorithm=ball_tree, leaf_size=2, n_neighbors=23; total time=   0.5s\n",
      "[CV] END ...algorithm=ball_tree, leaf_size=2, n_neighbors=23; total time=   0.5s\n",
      "[CV] END ...algorithm=ball_tree, leaf_size=2, n_neighbors=24; total time=   0.5s\n",
      "[CV] END ...algorithm=ball_tree, leaf_size=2, n_neighbors=24; total time=   0.5s\n",
      "[CV] END ...algorithm=ball_tree, leaf_size=2, n_neighbors=24; total time=   0.5s\n",
      "[CV] END ...algorithm=ball_tree, leaf_size=2, n_neighbors=24; total time=   0.5s\n",
      "[CV] END ...algorithm=ball_tree, leaf_size=2, n_neighbors=24; total time=   0.5s\n",
      "[CV] END ...algorithm=ball_tree, leaf_size=2, n_neighbors=24; total time=   0.5s\n",
      "[CV] END ...algorithm=ball_tree, leaf_size=2, n_neighbors=24; total time=   0.5s\n",
      "[CV] END ...algorithm=ball_tree, leaf_size=2, n_neighbors=24; total time=   0.5s\n",
      "[CV] END ...algorithm=ball_tree, leaf_size=2, n_neighbors=24; total time=   0.5s\n",
      "[CV] END ...algorithm=ball_tree, leaf_size=2, n_neighbors=24; total time=   0.5s\n",
      "[CV] END ...algorithm=ball_tree, leaf_size=2, n_neighbors=25; total time=   0.5s\n",
      "[CV] END ...algorithm=ball_tree, leaf_size=2, n_neighbors=25; total time=   0.5s\n",
      "[CV] END ...algorithm=ball_tree, leaf_size=2, n_neighbors=25; total time=   0.5s\n",
      "[CV] END ...algorithm=ball_tree, leaf_size=2, n_neighbors=25; total time=   0.5s\n",
      "[CV] END ...algorithm=ball_tree, leaf_size=2, n_neighbors=25; total time=   0.5s\n",
      "[CV] END ...algorithm=ball_tree, leaf_size=2, n_neighbors=25; total time=   0.5s\n",
      "[CV] END ...algorithm=ball_tree, leaf_size=2, n_neighbors=25; total time=   0.7s\n",
      "[CV] END ...algorithm=ball_tree, leaf_size=2, n_neighbors=25; total time=   0.5s\n",
      "[CV] END ...algorithm=ball_tree, leaf_size=2, n_neighbors=25; total time=   0.5s\n",
      "[CV] END ...algorithm=ball_tree, leaf_size=2, n_neighbors=25; total time=   0.5s\n",
      "[CV] END ...algorithm=ball_tree, leaf_size=2, n_neighbors=26; total time=   0.5s\n",
      "[CV] END ...algorithm=ball_tree, leaf_size=2, n_neighbors=26; total time=   0.5s\n",
      "[CV] END ...algorithm=ball_tree, leaf_size=2, n_neighbors=26; total time=   0.5s\n",
      "[CV] END ...algorithm=ball_tree, leaf_size=2, n_neighbors=26; total time=   0.5s\n",
      "[CV] END ...algorithm=ball_tree, leaf_size=2, n_neighbors=26; total time=   0.5s\n",
      "[CV] END ...algorithm=ball_tree, leaf_size=2, n_neighbors=26; total time=   0.5s\n",
      "[CV] END ...algorithm=ball_tree, leaf_size=2, n_neighbors=26; total time=   0.5s\n",
      "[CV] END ...algorithm=ball_tree, leaf_size=2, n_neighbors=26; total time=   0.5s\n",
      "[CV] END ...algorithm=ball_tree, leaf_size=2, n_neighbors=26; total time=   0.5s\n",
      "[CV] END ...algorithm=ball_tree, leaf_size=2, n_neighbors=26; total time=   0.5s\n",
      "[CV] END ...algorithm=ball_tree, leaf_size=2, n_neighbors=27; total time=   0.5s\n",
      "[CV] END ...algorithm=ball_tree, leaf_size=2, n_neighbors=27; total time=   0.5s\n",
      "[CV] END ...algorithm=ball_tree, leaf_size=2, n_neighbors=27; total time=   0.5s\n",
      "[CV] END ...algorithm=ball_tree, leaf_size=2, n_neighbors=27; total time=   0.5s\n",
      "[CV] END ...algorithm=ball_tree, leaf_size=2, n_neighbors=27; total time=   0.5s\n",
      "[CV] END ...algorithm=ball_tree, leaf_size=2, n_neighbors=27; total time=   0.5s\n",
      "[CV] END ...algorithm=ball_tree, leaf_size=2, n_neighbors=27; total time=   0.5s\n",
      "[CV] END ...algorithm=ball_tree, leaf_size=2, n_neighbors=27; total time=   0.5s\n",
      "[CV] END ...algorithm=ball_tree, leaf_size=2, n_neighbors=27; total time=   0.5s\n",
      "[CV] END ...algorithm=ball_tree, leaf_size=2, n_neighbors=27; total time=   0.5s\n",
      "[CV] END ...algorithm=ball_tree, leaf_size=2, n_neighbors=28; total time=   0.5s\n",
      "[CV] END ...algorithm=ball_tree, leaf_size=2, n_neighbors=28; total time=   0.5s\n",
      "[CV] END ...algorithm=ball_tree, leaf_size=2, n_neighbors=28; total time=   0.5s\n",
      "[CV] END ...algorithm=ball_tree, leaf_size=2, n_neighbors=28; total time=   0.5s\n",
      "[CV] END ...algorithm=ball_tree, leaf_size=2, n_neighbors=28; total time=   0.5s\n",
      "[CV] END ...algorithm=ball_tree, leaf_size=2, n_neighbors=28; total time=   0.5s\n",
      "[CV] END ...algorithm=ball_tree, leaf_size=2, n_neighbors=28; total time=   0.5s\n",
      "[CV] END ...algorithm=ball_tree, leaf_size=2, n_neighbors=28; total time=   0.5s\n",
      "[CV] END ...algorithm=ball_tree, leaf_size=2, n_neighbors=28; total time=   0.5s\n",
      "[CV] END ...algorithm=ball_tree, leaf_size=2, n_neighbors=28; total time=   0.5s\n",
      "[CV] END ...algorithm=ball_tree, leaf_size=2, n_neighbors=29; total time=   0.5s\n",
      "[CV] END ...algorithm=ball_tree, leaf_size=2, n_neighbors=29; total time=   0.5s\n",
      "[CV] END ...algorithm=ball_tree, leaf_size=2, n_neighbors=29; total time=   0.5s\n",
      "[CV] END ...algorithm=ball_tree, leaf_size=2, n_neighbors=29; total time=   0.5s\n",
      "[CV] END ...algorithm=ball_tree, leaf_size=2, n_neighbors=29; total time=   0.5s\n",
      "[CV] END ...algorithm=ball_tree, leaf_size=2, n_neighbors=29; total time=   0.5s\n",
      "[CV] END ...algorithm=ball_tree, leaf_size=2, n_neighbors=29; total time=   0.5s\n",
      "[CV] END ...algorithm=ball_tree, leaf_size=2, n_neighbors=29; total time=   0.5s\n",
      "[CV] END ...algorithm=ball_tree, leaf_size=2, n_neighbors=29; total time=   0.5s\n",
      "[CV] END ...algorithm=ball_tree, leaf_size=2, n_neighbors=29; total time=   0.5s\n",
      "[CV] END ...algorithm=ball_tree, leaf_size=2, n_neighbors=30; total time=   0.5s\n",
      "[CV] END ...algorithm=ball_tree, leaf_size=2, n_neighbors=30; total time=   0.5s\n",
      "[CV] END ...algorithm=ball_tree, leaf_size=2, n_neighbors=30; total time=   0.5s\n",
      "[CV] END ...algorithm=ball_tree, leaf_size=2, n_neighbors=30; total time=   0.5s\n",
      "[CV] END ...algorithm=ball_tree, leaf_size=2, n_neighbors=30; total time=   0.5s\n",
      "[CV] END ...algorithm=ball_tree, leaf_size=2, n_neighbors=30; total time=   0.5s\n",
      "[CV] END ...algorithm=ball_tree, leaf_size=2, n_neighbors=30; total time=   0.5s\n",
      "[CV] END ...algorithm=ball_tree, leaf_size=2, n_neighbors=30; total time=   0.5s\n",
      "[CV] END ...algorithm=ball_tree, leaf_size=2, n_neighbors=30; total time=   0.5s\n",
      "[CV] END ...algorithm=ball_tree, leaf_size=2, n_neighbors=30; total time=   0.5s\n",
      "[CV] END ...algorithm=ball_tree, leaf_size=2, n_neighbors=31; total time=   0.5s\n",
      "[CV] END ...algorithm=ball_tree, leaf_size=2, n_neighbors=31; total time=   0.5s\n",
      "[CV] END ...algorithm=ball_tree, leaf_size=2, n_neighbors=31; total time=   0.5s\n",
      "[CV] END ...algorithm=ball_tree, leaf_size=2, n_neighbors=31; total time=   0.5s\n",
      "[CV] END ...algorithm=ball_tree, leaf_size=2, n_neighbors=31; total time=   0.5s\n",
      "[CV] END ...algorithm=ball_tree, leaf_size=2, n_neighbors=31; total time=   0.5s\n",
      "[CV] END ...algorithm=ball_tree, leaf_size=2, n_neighbors=31; total time=   0.5s\n",
      "[CV] END ...algorithm=ball_tree, leaf_size=2, n_neighbors=31; total time=   0.5s\n",
      "[CV] END ...algorithm=ball_tree, leaf_size=2, n_neighbors=31; total time=   0.5s\n",
      "[CV] END ...algorithm=ball_tree, leaf_size=2, n_neighbors=31; total time=   0.5s\n",
      "[CV] END ...algorithm=ball_tree, leaf_size=2, n_neighbors=32; total time=   0.5s\n",
      "[CV] END ...algorithm=ball_tree, leaf_size=2, n_neighbors=32; total time=   0.6s\n",
      "[CV] END ...algorithm=ball_tree, leaf_size=2, n_neighbors=32; total time=   0.5s\n",
      "[CV] END ...algorithm=ball_tree, leaf_size=2, n_neighbors=32; total time=   0.5s\n",
      "[CV] END ...algorithm=ball_tree, leaf_size=2, n_neighbors=32; total time=   0.5s\n",
      "[CV] END ...algorithm=ball_tree, leaf_size=2, n_neighbors=32; total time=   0.5s\n",
      "[CV] END ...algorithm=ball_tree, leaf_size=2, n_neighbors=32; total time=   0.5s\n",
      "[CV] END ...algorithm=ball_tree, leaf_size=2, n_neighbors=32; total time=   0.6s\n",
      "[CV] END ...algorithm=ball_tree, leaf_size=2, n_neighbors=32; total time=   0.5s\n",
      "[CV] END ...algorithm=ball_tree, leaf_size=2, n_neighbors=32; total time=   0.5s\n",
      "[CV] END ...algorithm=ball_tree, leaf_size=2, n_neighbors=33; total time=   0.5s\n",
      "[CV] END ...algorithm=ball_tree, leaf_size=2, n_neighbors=33; total time=   0.5s\n",
      "[CV] END ...algorithm=ball_tree, leaf_size=2, n_neighbors=33; total time=   0.5s\n",
      "[CV] END ...algorithm=ball_tree, leaf_size=2, n_neighbors=33; total time=   0.5s\n",
      "[CV] END ...algorithm=ball_tree, leaf_size=2, n_neighbors=33; total time=   0.5s\n",
      "[CV] END ...algorithm=ball_tree, leaf_size=2, n_neighbors=33; total time=   0.5s\n",
      "[CV] END ...algorithm=ball_tree, leaf_size=2, n_neighbors=33; total time=   0.5s\n",
      "[CV] END ...algorithm=ball_tree, leaf_size=2, n_neighbors=33; total time=   0.5s\n",
      "[CV] END ...algorithm=ball_tree, leaf_size=2, n_neighbors=33; total time=   0.5s\n",
      "[CV] END ...algorithm=ball_tree, leaf_size=2, n_neighbors=33; total time=   0.5s\n",
      "[CV] END ...algorithm=ball_tree, leaf_size=2, n_neighbors=34; total time=   0.5s\n",
      "[CV] END ...algorithm=ball_tree, leaf_size=2, n_neighbors=34; total time=   0.5s\n",
      "[CV] END ...algorithm=ball_tree, leaf_size=2, n_neighbors=34; total time=   0.5s\n",
      "[CV] END ...algorithm=ball_tree, leaf_size=2, n_neighbors=34; total time=   0.5s\n",
      "[CV] END ...algorithm=ball_tree, leaf_size=2, n_neighbors=34; total time=   0.5s\n",
      "[CV] END ...algorithm=ball_tree, leaf_size=2, n_neighbors=34; total time=   0.5s\n",
      "[CV] END ...algorithm=ball_tree, leaf_size=2, n_neighbors=34; total time=   0.5s\n",
      "[CV] END ...algorithm=ball_tree, leaf_size=2, n_neighbors=34; total time=   0.5s\n",
      "[CV] END ...algorithm=ball_tree, leaf_size=2, n_neighbors=34; total time=   0.5s\n",
      "[CV] END ...algorithm=ball_tree, leaf_size=2, n_neighbors=34; total time=   0.5s\n",
      "[CV] END ...algorithm=ball_tree, leaf_size=2, n_neighbors=35; total time=   0.5s\n",
      "[CV] END ...algorithm=ball_tree, leaf_size=2, n_neighbors=35; total time=   0.5s\n",
      "[CV] END ...algorithm=ball_tree, leaf_size=2, n_neighbors=35; total time=   0.5s\n",
      "[CV] END ...algorithm=ball_tree, leaf_size=2, n_neighbors=35; total time=   0.5s\n",
      "[CV] END ...algorithm=ball_tree, leaf_size=2, n_neighbors=35; total time=   0.5s\n",
      "[CV] END ...algorithm=ball_tree, leaf_size=2, n_neighbors=35; total time=   0.5s\n",
      "[CV] END ...algorithm=ball_tree, leaf_size=2, n_neighbors=35; total time=   0.5s\n",
      "[CV] END ...algorithm=ball_tree, leaf_size=2, n_neighbors=35; total time=   0.5s\n",
      "[CV] END ...algorithm=ball_tree, leaf_size=2, n_neighbors=35; total time=   0.5s\n",
      "[CV] END ...algorithm=ball_tree, leaf_size=2, n_neighbors=35; total time=   0.5s\n",
      "[CV] END ...algorithm=ball_tree, leaf_size=2, n_neighbors=36; total time=   0.5s\n",
      "[CV] END ...algorithm=ball_tree, leaf_size=2, n_neighbors=36; total time=   0.5s\n",
      "[CV] END ...algorithm=ball_tree, leaf_size=2, n_neighbors=36; total time=   0.5s\n",
      "[CV] END ...algorithm=ball_tree, leaf_size=2, n_neighbors=36; total time=   0.5s\n",
      "[CV] END ...algorithm=ball_tree, leaf_size=2, n_neighbors=36; total time=   0.5s\n",
      "[CV] END ...algorithm=ball_tree, leaf_size=2, n_neighbors=36; total time=   0.5s\n",
      "[CV] END ...algorithm=ball_tree, leaf_size=2, n_neighbors=36; total time=   0.5s\n",
      "[CV] END ...algorithm=ball_tree, leaf_size=2, n_neighbors=36; total time=   0.5s\n",
      "[CV] END ...algorithm=ball_tree, leaf_size=2, n_neighbors=36; total time=   0.5s\n",
      "[CV] END ...algorithm=ball_tree, leaf_size=2, n_neighbors=36; total time=   0.5s\n",
      "[CV] END ...algorithm=ball_tree, leaf_size=2, n_neighbors=37; total time=   0.6s\n",
      "[CV] END ...algorithm=ball_tree, leaf_size=2, n_neighbors=37; total time=   0.5s\n",
      "[CV] END ...algorithm=ball_tree, leaf_size=2, n_neighbors=37; total time=   0.5s\n",
      "[CV] END ...algorithm=ball_tree, leaf_size=2, n_neighbors=37; total time=   0.5s\n",
      "[CV] END ...algorithm=ball_tree, leaf_size=2, n_neighbors=37; total time=   0.5s\n",
      "[CV] END ...algorithm=ball_tree, leaf_size=2, n_neighbors=37; total time=   0.7s\n",
      "[CV] END ...algorithm=ball_tree, leaf_size=2, n_neighbors=37; total time=   0.5s\n",
      "[CV] END ...algorithm=ball_tree, leaf_size=2, n_neighbors=37; total time=   0.5s\n",
      "[CV] END ...algorithm=ball_tree, leaf_size=2, n_neighbors=37; total time=   0.5s\n",
      "[CV] END ...algorithm=ball_tree, leaf_size=2, n_neighbors=37; total time=   0.5s\n",
      "[CV] END ...algorithm=ball_tree, leaf_size=2, n_neighbors=38; total time=   0.5s\n",
      "[CV] END ...algorithm=ball_tree, leaf_size=2, n_neighbors=38; total time=   0.5s\n",
      "[CV] END ...algorithm=ball_tree, leaf_size=2, n_neighbors=38; total time=   0.5s\n",
      "[CV] END ...algorithm=ball_tree, leaf_size=2, n_neighbors=38; total time=   0.5s\n",
      "[CV] END ...algorithm=ball_tree, leaf_size=2, n_neighbors=38; total time=   0.5s\n",
      "[CV] END ...algorithm=ball_tree, leaf_size=2, n_neighbors=38; total time=   0.5s\n",
      "[CV] END ...algorithm=ball_tree, leaf_size=2, n_neighbors=38; total time=   0.5s\n",
      "[CV] END ...algorithm=ball_tree, leaf_size=2, n_neighbors=38; total time=   0.5s\n",
      "[CV] END ...algorithm=ball_tree, leaf_size=2, n_neighbors=38; total time=   0.5s\n",
      "[CV] END ...algorithm=ball_tree, leaf_size=2, n_neighbors=38; total time=   0.5s\n",
      "[CV] END ...algorithm=ball_tree, leaf_size=2, n_neighbors=39; total time=   0.5s\n",
      "[CV] END ...algorithm=ball_tree, leaf_size=2, n_neighbors=39; total time=   0.5s\n",
      "[CV] END ...algorithm=ball_tree, leaf_size=2, n_neighbors=39; total time=   0.5s\n",
      "[CV] END ...algorithm=ball_tree, leaf_size=2, n_neighbors=39; total time=   0.5s\n",
      "[CV] END ...algorithm=ball_tree, leaf_size=2, n_neighbors=39; total time=   0.5s\n",
      "[CV] END ...algorithm=ball_tree, leaf_size=2, n_neighbors=39; total time=   0.5s\n",
      "[CV] END ...algorithm=ball_tree, leaf_size=2, n_neighbors=39; total time=   0.5s\n",
      "[CV] END ...algorithm=ball_tree, leaf_size=2, n_neighbors=39; total time=   0.5s\n",
      "[CV] END ...algorithm=ball_tree, leaf_size=2, n_neighbors=39; total time=   0.5s\n",
      "[CV] END ...algorithm=ball_tree, leaf_size=2, n_neighbors=39; total time=   0.5s\n",
      "[CV] END ...algorithm=ball_tree, leaf_size=2, n_neighbors=40; total time=   0.5s\n",
      "[CV] END ...algorithm=ball_tree, leaf_size=2, n_neighbors=40; total time=   0.5s\n",
      "[CV] END ...algorithm=ball_tree, leaf_size=2, n_neighbors=40; total time=   0.5s\n",
      "[CV] END ...algorithm=ball_tree, leaf_size=2, n_neighbors=40; total time=   0.5s\n",
      "[CV] END ...algorithm=ball_tree, leaf_size=2, n_neighbors=40; total time=   0.5s\n",
      "[CV] END ...algorithm=ball_tree, leaf_size=2, n_neighbors=40; total time=   0.5s\n",
      "[CV] END ...algorithm=ball_tree, leaf_size=2, n_neighbors=40; total time=   0.5s\n",
      "[CV] END ...algorithm=ball_tree, leaf_size=2, n_neighbors=40; total time=   0.5s\n",
      "[CV] END ...algorithm=ball_tree, leaf_size=2, n_neighbors=40; total time=   0.5s\n",
      "[CV] END ...algorithm=ball_tree, leaf_size=2, n_neighbors=40; total time=   0.5s\n",
      "[CV] END ....algorithm=ball_tree, leaf_size=3, n_neighbors=1; total time=   0.4s\n",
      "[CV] END ....algorithm=ball_tree, leaf_size=3, n_neighbors=1; total time=   0.4s\n",
      "[CV] END ....algorithm=ball_tree, leaf_size=3, n_neighbors=1; total time=   0.4s\n",
      "[CV] END ....algorithm=ball_tree, leaf_size=3, n_neighbors=1; total time=   0.3s\n",
      "[CV] END ....algorithm=ball_tree, leaf_size=3, n_neighbors=1; total time=   0.4s\n",
      "[CV] END ....algorithm=ball_tree, leaf_size=3, n_neighbors=1; total time=   0.3s\n",
      "[CV] END ....algorithm=ball_tree, leaf_size=3, n_neighbors=1; total time=   0.3s\n",
      "[CV] END ....algorithm=ball_tree, leaf_size=3, n_neighbors=1; total time=   0.3s\n",
      "[CV] END ....algorithm=ball_tree, leaf_size=3, n_neighbors=1; total time=   0.3s\n",
      "[CV] END ....algorithm=ball_tree, leaf_size=3, n_neighbors=1; total time=   0.3s\n",
      "[CV] END ....algorithm=ball_tree, leaf_size=3, n_neighbors=2; total time=   0.4s\n",
      "[CV] END ....algorithm=ball_tree, leaf_size=3, n_neighbors=2; total time=   0.4s\n",
      "[CV] END ....algorithm=ball_tree, leaf_size=3, n_neighbors=2; total time=   0.4s\n",
      "[CV] END ....algorithm=ball_tree, leaf_size=3, n_neighbors=2; total time=   0.4s\n",
      "[CV] END ....algorithm=ball_tree, leaf_size=3, n_neighbors=2; total time=   0.4s\n",
      "[CV] END ....algorithm=ball_tree, leaf_size=3, n_neighbors=2; total time=   0.4s\n",
      "[CV] END ....algorithm=ball_tree, leaf_size=3, n_neighbors=2; total time=   0.4s\n",
      "[CV] END ....algorithm=ball_tree, leaf_size=3, n_neighbors=2; total time=   0.4s\n",
      "[CV] END ....algorithm=ball_tree, leaf_size=3, n_neighbors=2; total time=   0.4s\n",
      "[CV] END ....algorithm=ball_tree, leaf_size=3, n_neighbors=2; total time=   0.4s\n",
      "[CV] END ....algorithm=ball_tree, leaf_size=3, n_neighbors=3; total time=   0.4s\n",
      "[CV] END ....algorithm=ball_tree, leaf_size=3, n_neighbors=3; total time=   0.4s\n",
      "[CV] END ....algorithm=ball_tree, leaf_size=3, n_neighbors=3; total time=   0.4s\n",
      "[CV] END ....algorithm=ball_tree, leaf_size=3, n_neighbors=3; total time=   0.4s\n",
      "[CV] END ....algorithm=ball_tree, leaf_size=3, n_neighbors=3; total time=   0.6s\n",
      "[CV] END ....algorithm=ball_tree, leaf_size=3, n_neighbors=3; total time=   0.4s\n",
      "[CV] END ....algorithm=ball_tree, leaf_size=3, n_neighbors=3; total time=   0.5s\n",
      "[CV] END ....algorithm=ball_tree, leaf_size=3, n_neighbors=3; total time=   0.5s\n",
      "[CV] END ....algorithm=ball_tree, leaf_size=3, n_neighbors=3; total time=   0.4s\n",
      "[CV] END ....algorithm=ball_tree, leaf_size=3, n_neighbors=3; total time=   0.4s\n",
      "[CV] END ....algorithm=ball_tree, leaf_size=3, n_neighbors=4; total time=   0.4s\n",
      "[CV] END ....algorithm=ball_tree, leaf_size=3, n_neighbors=4; total time=   0.4s\n",
      "[CV] END ....algorithm=ball_tree, leaf_size=3, n_neighbors=4; total time=   0.4s\n",
      "[CV] END ....algorithm=ball_tree, leaf_size=3, n_neighbors=4; total time=   0.4s\n",
      "[CV] END ....algorithm=ball_tree, leaf_size=3, n_neighbors=4; total time=   0.4s\n",
      "[CV] END ....algorithm=ball_tree, leaf_size=3, n_neighbors=4; total time=   0.4s\n",
      "[CV] END ....algorithm=ball_tree, leaf_size=3, n_neighbors=4; total time=   0.4s\n",
      "[CV] END ....algorithm=ball_tree, leaf_size=3, n_neighbors=4; total time=   0.4s\n",
      "[CV] END ....algorithm=ball_tree, leaf_size=3, n_neighbors=4; total time=   0.4s\n",
      "[CV] END ....algorithm=ball_tree, leaf_size=3, n_neighbors=4; total time=   0.4s\n",
      "[CV] END ....algorithm=ball_tree, leaf_size=3, n_neighbors=5; total time=   0.4s\n",
      "[CV] END ....algorithm=ball_tree, leaf_size=3, n_neighbors=5; total time=   0.4s\n",
      "[CV] END ....algorithm=ball_tree, leaf_size=3, n_neighbors=5; total time=   0.4s\n",
      "[CV] END ....algorithm=ball_tree, leaf_size=3, n_neighbors=5; total time=   0.4s\n",
      "[CV] END ....algorithm=ball_tree, leaf_size=3, n_neighbors=5; total time=   0.4s\n",
      "[CV] END ....algorithm=ball_tree, leaf_size=3, n_neighbors=5; total time=   0.4s\n",
      "[CV] END ....algorithm=ball_tree, leaf_size=3, n_neighbors=5; total time=   0.4s\n",
      "[CV] END ....algorithm=ball_tree, leaf_size=3, n_neighbors=5; total time=   0.5s\n",
      "[CV] END ....algorithm=ball_tree, leaf_size=3, n_neighbors=5; total time=   0.4s\n",
      "[CV] END ....algorithm=ball_tree, leaf_size=3, n_neighbors=5; total time=   0.4s\n",
      "[CV] END ....algorithm=ball_tree, leaf_size=3, n_neighbors=6; total time=   0.4s\n",
      "[CV] END ....algorithm=ball_tree, leaf_size=3, n_neighbors=6; total time=   0.4s\n",
      "[CV] END ....algorithm=ball_tree, leaf_size=3, n_neighbors=6; total time=   0.4s\n",
      "[CV] END ....algorithm=ball_tree, leaf_size=3, n_neighbors=6; total time=   0.4s\n",
      "[CV] END ....algorithm=ball_tree, leaf_size=3, n_neighbors=6; total time=   0.4s\n",
      "[CV] END ....algorithm=ball_tree, leaf_size=3, n_neighbors=6; total time=   0.4s\n",
      "[CV] END ....algorithm=ball_tree, leaf_size=3, n_neighbors=6; total time=   0.4s\n",
      "[CV] END ....algorithm=ball_tree, leaf_size=3, n_neighbors=6; total time=   0.4s\n",
      "[CV] END ....algorithm=ball_tree, leaf_size=3, n_neighbors=6; total time=   0.4s\n",
      "[CV] END ....algorithm=ball_tree, leaf_size=3, n_neighbors=6; total time=   0.4s\n",
      "[CV] END ....algorithm=ball_tree, leaf_size=3, n_neighbors=7; total time=   0.4s\n",
      "[CV] END ....algorithm=ball_tree, leaf_size=3, n_neighbors=7; total time=   0.4s\n",
      "[CV] END ....algorithm=ball_tree, leaf_size=3, n_neighbors=7; total time=   0.4s\n",
      "[CV] END ....algorithm=ball_tree, leaf_size=3, n_neighbors=7; total time=   0.4s\n",
      "[CV] END ....algorithm=ball_tree, leaf_size=3, n_neighbors=7; total time=   0.4s\n",
      "[CV] END ....algorithm=ball_tree, leaf_size=3, n_neighbors=7; total time=   0.4s\n",
      "[CV] END ....algorithm=ball_tree, leaf_size=3, n_neighbors=7; total time=   0.4s\n",
      "[CV] END ....algorithm=ball_tree, leaf_size=3, n_neighbors=7; total time=   0.4s\n",
      "[CV] END ....algorithm=ball_tree, leaf_size=3, n_neighbors=7; total time=   0.4s\n",
      "[CV] END ....algorithm=ball_tree, leaf_size=3, n_neighbors=7; total time=   0.4s\n",
      "[CV] END ....algorithm=ball_tree, leaf_size=3, n_neighbors=8; total time=   0.4s\n",
      "[CV] END ....algorithm=ball_tree, leaf_size=3, n_neighbors=8; total time=   0.4s\n",
      "[CV] END ....algorithm=ball_tree, leaf_size=3, n_neighbors=8; total time=   0.4s\n",
      "[CV] END ....algorithm=ball_tree, leaf_size=3, n_neighbors=8; total time=   0.4s\n",
      "[CV] END ....algorithm=ball_tree, leaf_size=3, n_neighbors=8; total time=   0.4s\n",
      "[CV] END ....algorithm=ball_tree, leaf_size=3, n_neighbors=8; total time=   0.4s\n",
      "[CV] END ....algorithm=ball_tree, leaf_size=3, n_neighbors=8; total time=   0.4s\n",
      "[CV] END ....algorithm=ball_tree, leaf_size=3, n_neighbors=8; total time=   0.4s\n",
      "[CV] END ....algorithm=ball_tree, leaf_size=3, n_neighbors=8; total time=   0.4s\n",
      "[CV] END ....algorithm=ball_tree, leaf_size=3, n_neighbors=8; total time=   0.4s\n",
      "[CV] END ....algorithm=ball_tree, leaf_size=3, n_neighbors=9; total time=   0.4s\n",
      "[CV] END ....algorithm=ball_tree, leaf_size=3, n_neighbors=9; total time=   0.4s\n",
      "[CV] END ....algorithm=ball_tree, leaf_size=3, n_neighbors=9; total time=   0.4s\n",
      "[CV] END ....algorithm=ball_tree, leaf_size=3, n_neighbors=9; total time=   0.4s\n",
      "[CV] END ....algorithm=ball_tree, leaf_size=3, n_neighbors=9; total time=   0.5s\n",
      "[CV] END ....algorithm=ball_tree, leaf_size=3, n_neighbors=9; total time=   0.4s\n",
      "[CV] END ....algorithm=ball_tree, leaf_size=3, n_neighbors=9; total time=   0.4s\n",
      "[CV] END ....algorithm=ball_tree, leaf_size=3, n_neighbors=9; total time=   0.4s\n",
      "[CV] END ....algorithm=ball_tree, leaf_size=3, n_neighbors=9; total time=   0.4s\n",
      "[CV] END ....algorithm=ball_tree, leaf_size=3, n_neighbors=9; total time=   0.4s\n",
      "[CV] END ...algorithm=ball_tree, leaf_size=3, n_neighbors=10; total time=   0.4s\n",
      "[CV] END ...algorithm=ball_tree, leaf_size=3, n_neighbors=10; total time=   0.4s\n",
      "[CV] END ...algorithm=ball_tree, leaf_size=3, n_neighbors=10; total time=   0.4s\n",
      "[CV] END ...algorithm=ball_tree, leaf_size=3, n_neighbors=10; total time=   0.4s\n",
      "[CV] END ...algorithm=ball_tree, leaf_size=3, n_neighbors=10; total time=   0.4s\n",
      "[CV] END ...algorithm=ball_tree, leaf_size=3, n_neighbors=10; total time=   0.4s\n",
      "[CV] END ...algorithm=ball_tree, leaf_size=3, n_neighbors=10; total time=   0.4s\n",
      "[CV] END ...algorithm=ball_tree, leaf_size=3, n_neighbors=10; total time=   0.4s\n",
      "[CV] END ...algorithm=ball_tree, leaf_size=3, n_neighbors=10; total time=   0.4s\n",
      "[CV] END ...algorithm=ball_tree, leaf_size=3, n_neighbors=10; total time=   0.4s\n",
      "[CV] END ...algorithm=ball_tree, leaf_size=3, n_neighbors=11; total time=   0.4s\n",
      "[CV] END ...algorithm=ball_tree, leaf_size=3, n_neighbors=11; total time=   0.4s\n",
      "[CV] END ...algorithm=ball_tree, leaf_size=3, n_neighbors=11; total time=   0.4s\n",
      "[CV] END ...algorithm=ball_tree, leaf_size=3, n_neighbors=11; total time=   0.4s\n",
      "[CV] END ...algorithm=ball_tree, leaf_size=3, n_neighbors=11; total time=   0.4s\n",
      "[CV] END ...algorithm=ball_tree, leaf_size=3, n_neighbors=11; total time=   0.4s\n",
      "[CV] END ...algorithm=ball_tree, leaf_size=3, n_neighbors=11; total time=   0.4s\n",
      "[CV] END ...algorithm=ball_tree, leaf_size=3, n_neighbors=11; total time=   0.4s\n",
      "[CV] END ...algorithm=ball_tree, leaf_size=3, n_neighbors=11; total time=   0.4s\n",
      "[CV] END ...algorithm=ball_tree, leaf_size=3, n_neighbors=11; total time=   0.4s\n",
      "[CV] END ...algorithm=ball_tree, leaf_size=3, n_neighbors=12; total time=   0.4s\n",
      "[CV] END ...algorithm=ball_tree, leaf_size=3, n_neighbors=12; total time=   0.4s\n",
      "[CV] END ...algorithm=ball_tree, leaf_size=3, n_neighbors=12; total time=   0.4s\n",
      "[CV] END ...algorithm=ball_tree, leaf_size=3, n_neighbors=12; total time=   0.4s\n",
      "[CV] END ...algorithm=ball_tree, leaf_size=3, n_neighbors=12; total time=   0.4s\n",
      "[CV] END ...algorithm=ball_tree, leaf_size=3, n_neighbors=12; total time=   0.4s\n",
      "[CV] END ...algorithm=ball_tree, leaf_size=3, n_neighbors=12; total time=   0.4s\n",
      "[CV] END ...algorithm=ball_tree, leaf_size=3, n_neighbors=12; total time=   0.4s\n",
      "[CV] END ...algorithm=ball_tree, leaf_size=3, n_neighbors=12; total time=   0.4s\n",
      "[CV] END ...algorithm=ball_tree, leaf_size=3, n_neighbors=12; total time=   0.4s\n",
      "[CV] END ...algorithm=ball_tree, leaf_size=3, n_neighbors=13; total time=   0.4s\n",
      "[CV] END ...algorithm=ball_tree, leaf_size=3, n_neighbors=13; total time=   0.4s\n",
      "[CV] END ...algorithm=ball_tree, leaf_size=3, n_neighbors=13; total time=   0.4s\n",
      "[CV] END ...algorithm=ball_tree, leaf_size=3, n_neighbors=13; total time=   0.4s\n",
      "[CV] END ...algorithm=ball_tree, leaf_size=3, n_neighbors=13; total time=   0.4s\n",
      "[CV] END ...algorithm=ball_tree, leaf_size=3, n_neighbors=13; total time=   0.4s\n",
      "[CV] END ...algorithm=ball_tree, leaf_size=3, n_neighbors=13; total time=   0.4s\n",
      "[CV] END ...algorithm=ball_tree, leaf_size=3, n_neighbors=13; total time=   0.4s\n",
      "[CV] END ...algorithm=ball_tree, leaf_size=3, n_neighbors=13; total time=   0.4s\n",
      "[CV] END ...algorithm=ball_tree, leaf_size=3, n_neighbors=13; total time=   0.4s\n",
      "[CV] END ...algorithm=ball_tree, leaf_size=3, n_neighbors=14; total time=   0.4s\n",
      "[CV] END ...algorithm=ball_tree, leaf_size=3, n_neighbors=14; total time=   0.4s\n",
      "[CV] END ...algorithm=ball_tree, leaf_size=3, n_neighbors=14; total time=   0.4s\n",
      "[CV] END ...algorithm=ball_tree, leaf_size=3, n_neighbors=14; total time=   0.4s\n",
      "[CV] END ...algorithm=ball_tree, leaf_size=3, n_neighbors=14; total time=   0.4s\n",
      "[CV] END ...algorithm=ball_tree, leaf_size=3, n_neighbors=14; total time=   0.4s\n",
      "[CV] END ...algorithm=ball_tree, leaf_size=3, n_neighbors=14; total time=   0.4s\n",
      "[CV] END ...algorithm=ball_tree, leaf_size=3, n_neighbors=14; total time=   0.4s\n",
      "[CV] END ...algorithm=ball_tree, leaf_size=3, n_neighbors=14; total time=   0.4s\n",
      "[CV] END ...algorithm=ball_tree, leaf_size=3, n_neighbors=14; total time=   0.4s\n",
      "[CV] END ...algorithm=ball_tree, leaf_size=3, n_neighbors=15; total time=   0.4s\n",
      "[CV] END ...algorithm=ball_tree, leaf_size=3, n_neighbors=15; total time=   0.4s\n",
      "[CV] END ...algorithm=ball_tree, leaf_size=3, n_neighbors=15; total time=   0.4s\n",
      "[CV] END ...algorithm=ball_tree, leaf_size=3, n_neighbors=15; total time=   0.4s\n",
      "[CV] END ...algorithm=ball_tree, leaf_size=3, n_neighbors=15; total time=   0.4s\n",
      "[CV] END ...algorithm=ball_tree, leaf_size=3, n_neighbors=15; total time=   0.4s\n",
      "[CV] END ...algorithm=ball_tree, leaf_size=3, n_neighbors=15; total time=   0.4s\n",
      "[CV] END ...algorithm=ball_tree, leaf_size=3, n_neighbors=15; total time=   0.4s\n",
      "[CV] END ...algorithm=ball_tree, leaf_size=3, n_neighbors=15; total time=   0.4s\n",
      "[CV] END ...algorithm=ball_tree, leaf_size=3, n_neighbors=15; total time=   0.4s\n",
      "[CV] END ...algorithm=ball_tree, leaf_size=3, n_neighbors=16; total time=   0.4s\n",
      "[CV] END ...algorithm=ball_tree, leaf_size=3, n_neighbors=16; total time=   0.4s\n",
      "[CV] END ...algorithm=ball_tree, leaf_size=3, n_neighbors=16; total time=   0.4s\n",
      "[CV] END ...algorithm=ball_tree, leaf_size=3, n_neighbors=16; total time=   0.4s\n",
      "[CV] END ...algorithm=ball_tree, leaf_size=3, n_neighbors=16; total time=   0.4s\n",
      "[CV] END ...algorithm=ball_tree, leaf_size=3, n_neighbors=16; total time=   0.4s\n",
      "[CV] END ...algorithm=ball_tree, leaf_size=3, n_neighbors=16; total time=   0.4s\n",
      "[CV] END ...algorithm=ball_tree, leaf_size=3, n_neighbors=16; total time=   0.4s\n",
      "[CV] END ...algorithm=ball_tree, leaf_size=3, n_neighbors=16; total time=   0.4s\n",
      "[CV] END ...algorithm=ball_tree, leaf_size=3, n_neighbors=16; total time=   0.4s\n",
      "[CV] END ...algorithm=ball_tree, leaf_size=3, n_neighbors=17; total time=   0.4s\n",
      "[CV] END ...algorithm=ball_tree, leaf_size=3, n_neighbors=17; total time=   0.4s\n",
      "[CV] END ...algorithm=ball_tree, leaf_size=3, n_neighbors=17; total time=   0.4s\n",
      "[CV] END ...algorithm=ball_tree, leaf_size=3, n_neighbors=17; total time=   0.4s\n",
      "[CV] END ...algorithm=ball_tree, leaf_size=3, n_neighbors=17; total time=   0.4s\n",
      "[CV] END ...algorithm=ball_tree, leaf_size=3, n_neighbors=17; total time=   0.4s\n",
      "[CV] END ...algorithm=ball_tree, leaf_size=3, n_neighbors=17; total time=   0.4s\n",
      "[CV] END ...algorithm=ball_tree, leaf_size=3, n_neighbors=17; total time=   0.4s\n",
      "[CV] END ...algorithm=ball_tree, leaf_size=3, n_neighbors=17; total time=   0.4s\n",
      "[CV] END ...algorithm=ball_tree, leaf_size=3, n_neighbors=17; total time=   0.4s\n",
      "[CV] END ...algorithm=ball_tree, leaf_size=3, n_neighbors=18; total time=   0.4s\n",
      "[CV] END ...algorithm=ball_tree, leaf_size=3, n_neighbors=18; total time=   0.4s\n",
      "[CV] END ...algorithm=ball_tree, leaf_size=3, n_neighbors=18; total time=   0.4s\n",
      "[CV] END ...algorithm=ball_tree, leaf_size=3, n_neighbors=18; total time=   0.4s\n",
      "[CV] END ...algorithm=ball_tree, leaf_size=3, n_neighbors=18; total time=   0.4s\n",
      "[CV] END ...algorithm=ball_tree, leaf_size=3, n_neighbors=18; total time=   0.4s\n",
      "[CV] END ...algorithm=ball_tree, leaf_size=3, n_neighbors=18; total time=   0.4s\n",
      "[CV] END ...algorithm=ball_tree, leaf_size=3, n_neighbors=18; total time=   0.4s\n",
      "[CV] END ...algorithm=ball_tree, leaf_size=3, n_neighbors=18; total time=   0.4s\n",
      "[CV] END ...algorithm=ball_tree, leaf_size=3, n_neighbors=18; total time=   0.4s\n",
      "[CV] END ...algorithm=ball_tree, leaf_size=3, n_neighbors=19; total time=   0.4s\n",
      "[CV] END ...algorithm=ball_tree, leaf_size=3, n_neighbors=19; total time=   0.4s\n",
      "[CV] END ...algorithm=ball_tree, leaf_size=3, n_neighbors=19; total time=   0.4s\n",
      "[CV] END ...algorithm=ball_tree, leaf_size=3, n_neighbors=19; total time=   0.4s\n",
      "[CV] END ...algorithm=ball_tree, leaf_size=3, n_neighbors=19; total time=   0.4s\n",
      "[CV] END ...algorithm=ball_tree, leaf_size=3, n_neighbors=19; total time=   0.4s\n",
      "[CV] END ...algorithm=ball_tree, leaf_size=3, n_neighbors=19; total time=   0.4s\n",
      "[CV] END ...algorithm=ball_tree, leaf_size=3, n_neighbors=19; total time=   0.4s\n",
      "[CV] END ...algorithm=ball_tree, leaf_size=3, n_neighbors=19; total time=   0.4s\n",
      "[CV] END ...algorithm=ball_tree, leaf_size=3, n_neighbors=19; total time=   0.4s\n",
      "[CV] END ...algorithm=ball_tree, leaf_size=3, n_neighbors=20; total time=   0.4s\n",
      "[CV] END ...algorithm=ball_tree, leaf_size=3, n_neighbors=20; total time=   0.4s\n",
      "[CV] END ...algorithm=ball_tree, leaf_size=3, n_neighbors=20; total time=   0.4s\n",
      "[CV] END ...algorithm=ball_tree, leaf_size=3, n_neighbors=20; total time=   0.4s\n",
      "[CV] END ...algorithm=ball_tree, leaf_size=3, n_neighbors=20; total time=   0.4s\n",
      "[CV] END ...algorithm=ball_tree, leaf_size=3, n_neighbors=20; total time=   0.4s\n",
      "[CV] END ...algorithm=ball_tree, leaf_size=3, n_neighbors=20; total time=   0.4s\n",
      "[CV] END ...algorithm=ball_tree, leaf_size=3, n_neighbors=20; total time=   0.4s\n",
      "[CV] END ...algorithm=ball_tree, leaf_size=3, n_neighbors=20; total time=   0.4s\n",
      "[CV] END ...algorithm=ball_tree, leaf_size=3, n_neighbors=20; total time=   0.4s\n",
      "[CV] END ...algorithm=ball_tree, leaf_size=3, n_neighbors=21; total time=   0.4s\n",
      "[CV] END ...algorithm=ball_tree, leaf_size=3, n_neighbors=21; total time=   0.4s\n",
      "[CV] END ...algorithm=ball_tree, leaf_size=3, n_neighbors=21; total time=   0.4s\n",
      "[CV] END ...algorithm=ball_tree, leaf_size=3, n_neighbors=21; total time=   0.4s\n",
      "[CV] END ...algorithm=ball_tree, leaf_size=3, n_neighbors=21; total time=   0.4s\n",
      "[CV] END ...algorithm=ball_tree, leaf_size=3, n_neighbors=21; total time=   0.4s\n",
      "[CV] END ...algorithm=ball_tree, leaf_size=3, n_neighbors=21; total time=   0.4s\n",
      "[CV] END ...algorithm=ball_tree, leaf_size=3, n_neighbors=21; total time=   0.4s\n",
      "[CV] END ...algorithm=ball_tree, leaf_size=3, n_neighbors=21; total time=   0.4s\n",
      "[CV] END ...algorithm=ball_tree, leaf_size=3, n_neighbors=21; total time=   0.4s\n",
      "[CV] END ...algorithm=ball_tree, leaf_size=3, n_neighbors=22; total time=   0.4s\n",
      "[CV] END ...algorithm=ball_tree, leaf_size=3, n_neighbors=22; total time=   0.4s\n",
      "[CV] END ...algorithm=ball_tree, leaf_size=3, n_neighbors=22; total time=   0.4s\n",
      "[CV] END ...algorithm=ball_tree, leaf_size=3, n_neighbors=22; total time=   0.4s\n",
      "[CV] END ...algorithm=ball_tree, leaf_size=3, n_neighbors=22; total time=   0.4s\n",
      "[CV] END ...algorithm=ball_tree, leaf_size=3, n_neighbors=22; total time=   0.4s\n",
      "[CV] END ...algorithm=ball_tree, leaf_size=3, n_neighbors=22; total time=   0.4s\n",
      "[CV] END ...algorithm=ball_tree, leaf_size=3, n_neighbors=22; total time=   0.4s\n",
      "[CV] END ...algorithm=ball_tree, leaf_size=3, n_neighbors=22; total time=   0.4s\n",
      "[CV] END ...algorithm=ball_tree, leaf_size=3, n_neighbors=22; total time=   0.4s\n",
      "[CV] END ...algorithm=ball_tree, leaf_size=3, n_neighbors=23; total time=   0.4s\n",
      "[CV] END ...algorithm=ball_tree, leaf_size=3, n_neighbors=23; total time=   0.4s\n",
      "[CV] END ...algorithm=ball_tree, leaf_size=3, n_neighbors=23; total time=   0.4s\n",
      "[CV] END ...algorithm=ball_tree, leaf_size=3, n_neighbors=23; total time=   0.4s\n",
      "[CV] END ...algorithm=ball_tree, leaf_size=3, n_neighbors=23; total time=   0.4s\n",
      "[CV] END ...algorithm=ball_tree, leaf_size=3, n_neighbors=23; total time=   0.4s\n",
      "[CV] END ...algorithm=ball_tree, leaf_size=3, n_neighbors=23; total time=   0.4s\n",
      "[CV] END ...algorithm=ball_tree, leaf_size=3, n_neighbors=23; total time=   0.4s\n",
      "[CV] END ...algorithm=ball_tree, leaf_size=3, n_neighbors=23; total time=   0.4s\n",
      "[CV] END ...algorithm=ball_tree, leaf_size=3, n_neighbors=23; total time=   0.4s\n",
      "[CV] END ...algorithm=ball_tree, leaf_size=3, n_neighbors=24; total time=   0.4s\n",
      "[CV] END ...algorithm=ball_tree, leaf_size=3, n_neighbors=24; total time=   0.4s\n",
      "[CV] END ...algorithm=ball_tree, leaf_size=3, n_neighbors=24; total time=   0.4s\n",
      "[CV] END ...algorithm=ball_tree, leaf_size=3, n_neighbors=24; total time=   0.4s\n",
      "[CV] END ...algorithm=ball_tree, leaf_size=3, n_neighbors=24; total time=   0.4s\n",
      "[CV] END ...algorithm=ball_tree, leaf_size=3, n_neighbors=24; total time=   0.4s\n",
      "[CV] END ...algorithm=ball_tree, leaf_size=3, n_neighbors=24; total time=   0.4s\n",
      "[CV] END ...algorithm=ball_tree, leaf_size=3, n_neighbors=24; total time=   0.4s\n",
      "[CV] END ...algorithm=ball_tree, leaf_size=3, n_neighbors=24; total time=   0.4s\n",
      "[CV] END ...algorithm=ball_tree, leaf_size=3, n_neighbors=24; total time=   0.4s\n",
      "[CV] END ...algorithm=ball_tree, leaf_size=3, n_neighbors=25; total time=   0.4s\n",
      "[CV] END ...algorithm=ball_tree, leaf_size=3, n_neighbors=25; total time=   0.4s\n",
      "[CV] END ...algorithm=ball_tree, leaf_size=3, n_neighbors=25; total time=   0.4s\n",
      "[CV] END ...algorithm=ball_tree, leaf_size=3, n_neighbors=25; total time=   0.4s\n",
      "[CV] END ...algorithm=ball_tree, leaf_size=3, n_neighbors=25; total time=   0.4s\n",
      "[CV] END ...algorithm=ball_tree, leaf_size=3, n_neighbors=25; total time=   0.4s\n",
      "[CV] END ...algorithm=ball_tree, leaf_size=3, n_neighbors=25; total time=   0.4s\n",
      "[CV] END ...algorithm=ball_tree, leaf_size=3, n_neighbors=25; total time=   0.4s\n",
      "[CV] END ...algorithm=ball_tree, leaf_size=3, n_neighbors=25; total time=   0.4s\n",
      "[CV] END ...algorithm=ball_tree, leaf_size=3, n_neighbors=25; total time=   0.4s\n",
      "[CV] END ...algorithm=ball_tree, leaf_size=3, n_neighbors=26; total time=   0.4s\n",
      "[CV] END ...algorithm=ball_tree, leaf_size=3, n_neighbors=26; total time=   0.4s\n",
      "[CV] END ...algorithm=ball_tree, leaf_size=3, n_neighbors=26; total time=   0.4s\n",
      "[CV] END ...algorithm=ball_tree, leaf_size=3, n_neighbors=26; total time=   0.4s\n",
      "[CV] END ...algorithm=ball_tree, leaf_size=3, n_neighbors=26; total time=   0.4s\n",
      "[CV] END ...algorithm=ball_tree, leaf_size=3, n_neighbors=26; total time=   0.4s\n",
      "[CV] END ...algorithm=ball_tree, leaf_size=3, n_neighbors=26; total time=   0.4s\n",
      "[CV] END ...algorithm=ball_tree, leaf_size=3, n_neighbors=26; total time=   0.5s\n",
      "[CV] END ...algorithm=ball_tree, leaf_size=3, n_neighbors=26; total time=   0.4s\n",
      "[CV] END ...algorithm=ball_tree, leaf_size=3, n_neighbors=26; total time=   0.4s\n",
      "[CV] END ...algorithm=ball_tree, leaf_size=3, n_neighbors=27; total time=   0.4s\n",
      "[CV] END ...algorithm=ball_tree, leaf_size=3, n_neighbors=27; total time=   0.4s\n",
      "[CV] END ...algorithm=ball_tree, leaf_size=3, n_neighbors=27; total time=   0.4s\n",
      "[CV] END ...algorithm=ball_tree, leaf_size=3, n_neighbors=27; total time=   0.4s\n",
      "[CV] END ...algorithm=ball_tree, leaf_size=3, n_neighbors=27; total time=   0.4s\n",
      "[CV] END ...algorithm=ball_tree, leaf_size=3, n_neighbors=27; total time=   0.4s\n",
      "[CV] END ...algorithm=ball_tree, leaf_size=3, n_neighbors=27; total time=   0.4s\n",
      "[CV] END ...algorithm=ball_tree, leaf_size=3, n_neighbors=27; total time=   0.4s\n",
      "[CV] END ...algorithm=ball_tree, leaf_size=3, n_neighbors=27; total time=   0.4s\n",
      "[CV] END ...algorithm=ball_tree, leaf_size=3, n_neighbors=27; total time=   0.4s\n",
      "[CV] END ...algorithm=ball_tree, leaf_size=3, n_neighbors=28; total time=   0.4s\n",
      "[CV] END ...algorithm=ball_tree, leaf_size=3, n_neighbors=28; total time=   0.4s\n",
      "[CV] END ...algorithm=ball_tree, leaf_size=3, n_neighbors=28; total time=   0.4s\n",
      "[CV] END ...algorithm=ball_tree, leaf_size=3, n_neighbors=28; total time=   0.4s\n",
      "[CV] END ...algorithm=ball_tree, leaf_size=3, n_neighbors=28; total time=   0.4s\n",
      "[CV] END ...algorithm=ball_tree, leaf_size=3, n_neighbors=28; total time=   0.4s\n",
      "[CV] END ...algorithm=ball_tree, leaf_size=3, n_neighbors=28; total time=   0.4s\n",
      "[CV] END ...algorithm=ball_tree, leaf_size=3, n_neighbors=28; total time=   0.4s\n",
      "[CV] END ...algorithm=ball_tree, leaf_size=3, n_neighbors=28; total time=   0.4s\n",
      "[CV] END ...algorithm=ball_tree, leaf_size=3, n_neighbors=28; total time=   0.4s\n",
      "[CV] END ...algorithm=ball_tree, leaf_size=3, n_neighbors=29; total time=   0.4s\n",
      "[CV] END ...algorithm=ball_tree, leaf_size=3, n_neighbors=29; total time=   0.4s\n",
      "[CV] END ...algorithm=ball_tree, leaf_size=3, n_neighbors=29; total time=   0.4s\n",
      "[CV] END ...algorithm=ball_tree, leaf_size=3, n_neighbors=29; total time=   0.4s\n",
      "[CV] END ...algorithm=ball_tree, leaf_size=3, n_neighbors=29; total time=   0.4s\n",
      "[CV] END ...algorithm=ball_tree, leaf_size=3, n_neighbors=29; total time=   0.4s\n",
      "[CV] END ...algorithm=ball_tree, leaf_size=3, n_neighbors=29; total time=   0.4s\n",
      "[CV] END ...algorithm=ball_tree, leaf_size=3, n_neighbors=29; total time=   0.4s\n",
      "[CV] END ...algorithm=ball_tree, leaf_size=3, n_neighbors=29; total time=   0.4s\n",
      "[CV] END ...algorithm=ball_tree, leaf_size=3, n_neighbors=29; total time=   0.4s\n",
      "[CV] END ...algorithm=ball_tree, leaf_size=3, n_neighbors=30; total time=   0.4s\n",
      "[CV] END ...algorithm=ball_tree, leaf_size=3, n_neighbors=30; total time=   0.4s\n",
      "[CV] END ...algorithm=ball_tree, leaf_size=3, n_neighbors=30; total time=   0.4s\n",
      "[CV] END ...algorithm=ball_tree, leaf_size=3, n_neighbors=30; total time=   0.4s\n",
      "[CV] END ...algorithm=ball_tree, leaf_size=3, n_neighbors=30; total time=   0.4s\n",
      "[CV] END ...algorithm=ball_tree, leaf_size=3, n_neighbors=30; total time=   0.4s\n",
      "[CV] END ...algorithm=ball_tree, leaf_size=3, n_neighbors=30; total time=   0.4s\n",
      "[CV] END ...algorithm=ball_tree, leaf_size=3, n_neighbors=30; total time=   0.4s\n",
      "[CV] END ...algorithm=ball_tree, leaf_size=3, n_neighbors=30; total time=   0.4s\n",
      "[CV] END ...algorithm=ball_tree, leaf_size=3, n_neighbors=30; total time=   0.4s\n",
      "[CV] END ...algorithm=ball_tree, leaf_size=3, n_neighbors=31; total time=   0.4s\n",
      "[CV] END ...algorithm=ball_tree, leaf_size=3, n_neighbors=31; total time=   0.4s\n",
      "[CV] END ...algorithm=ball_tree, leaf_size=3, n_neighbors=31; total time=   0.4s\n",
      "[CV] END ...algorithm=ball_tree, leaf_size=3, n_neighbors=31; total time=   0.4s\n",
      "[CV] END ...algorithm=ball_tree, leaf_size=3, n_neighbors=31; total time=   0.4s\n",
      "[CV] END ...algorithm=ball_tree, leaf_size=3, n_neighbors=31; total time=   0.4s\n",
      "[CV] END ...algorithm=ball_tree, leaf_size=3, n_neighbors=31; total time=   0.4s\n",
      "[CV] END ...algorithm=ball_tree, leaf_size=3, n_neighbors=31; total time=   0.4s\n",
      "[CV] END ...algorithm=ball_tree, leaf_size=3, n_neighbors=31; total time=   0.4s\n",
      "[CV] END ...algorithm=ball_tree, leaf_size=3, n_neighbors=31; total time=   0.4s\n",
      "[CV] END ...algorithm=ball_tree, leaf_size=3, n_neighbors=32; total time=   0.4s\n",
      "[CV] END ...algorithm=ball_tree, leaf_size=3, n_neighbors=32; total time=   0.4s\n",
      "[CV] END ...algorithm=ball_tree, leaf_size=3, n_neighbors=32; total time=   0.4s\n",
      "[CV] END ...algorithm=ball_tree, leaf_size=3, n_neighbors=32; total time=   0.4s\n",
      "[CV] END ...algorithm=ball_tree, leaf_size=3, n_neighbors=32; total time=   0.4s\n",
      "[CV] END ...algorithm=ball_tree, leaf_size=3, n_neighbors=32; total time=   0.4s\n",
      "[CV] END ...algorithm=ball_tree, leaf_size=3, n_neighbors=32; total time=   0.4s\n",
      "[CV] END ...algorithm=ball_tree, leaf_size=3, n_neighbors=32; total time=   0.4s\n",
      "[CV] END ...algorithm=ball_tree, leaf_size=3, n_neighbors=32; total time=   0.4s\n",
      "[CV] END ...algorithm=ball_tree, leaf_size=3, n_neighbors=32; total time=   0.4s\n",
      "[CV] END ...algorithm=ball_tree, leaf_size=3, n_neighbors=33; total time=   0.4s\n",
      "[CV] END ...algorithm=ball_tree, leaf_size=3, n_neighbors=33; total time=   0.4s\n",
      "[CV] END ...algorithm=ball_tree, leaf_size=3, n_neighbors=33; total time=   0.4s\n",
      "[CV] END ...algorithm=ball_tree, leaf_size=3, n_neighbors=33; total time=   0.4s\n",
      "[CV] END ...algorithm=ball_tree, leaf_size=3, n_neighbors=33; total time=   0.4s\n",
      "[CV] END ...algorithm=ball_tree, leaf_size=3, n_neighbors=33; total time=   0.4s\n",
      "[CV] END ...algorithm=ball_tree, leaf_size=3, n_neighbors=33; total time=   0.4s\n",
      "[CV] END ...algorithm=ball_tree, leaf_size=3, n_neighbors=33; total time=   0.4s\n",
      "[CV] END ...algorithm=ball_tree, leaf_size=3, n_neighbors=33; total time=   0.4s\n",
      "[CV] END ...algorithm=ball_tree, leaf_size=3, n_neighbors=33; total time=   0.4s\n",
      "[CV] END ...algorithm=ball_tree, leaf_size=3, n_neighbors=34; total time=   0.4s\n",
      "[CV] END ...algorithm=ball_tree, leaf_size=3, n_neighbors=34; total time=   0.4s\n",
      "[CV] END ...algorithm=ball_tree, leaf_size=3, n_neighbors=34; total time=   0.4s\n",
      "[CV] END ...algorithm=ball_tree, leaf_size=3, n_neighbors=34; total time=   0.4s\n",
      "[CV] END ...algorithm=ball_tree, leaf_size=3, n_neighbors=34; total time=   0.4s\n",
      "[CV] END ...algorithm=ball_tree, leaf_size=3, n_neighbors=34; total time=   0.4s\n",
      "[CV] END ...algorithm=ball_tree, leaf_size=3, n_neighbors=34; total time=   0.4s\n",
      "[CV] END ...algorithm=ball_tree, leaf_size=3, n_neighbors=34; total time=   0.4s\n",
      "[CV] END ...algorithm=ball_tree, leaf_size=3, n_neighbors=34; total time=   0.4s\n",
      "[CV] END ...algorithm=ball_tree, leaf_size=3, n_neighbors=34; total time=   0.4s\n",
      "[CV] END ...algorithm=ball_tree, leaf_size=3, n_neighbors=35; total time=   0.4s\n",
      "[CV] END ...algorithm=ball_tree, leaf_size=3, n_neighbors=35; total time=   0.4s\n",
      "[CV] END ...algorithm=ball_tree, leaf_size=3, n_neighbors=35; total time=   0.4s\n",
      "[CV] END ...algorithm=ball_tree, leaf_size=3, n_neighbors=35; total time=   0.4s\n",
      "[CV] END ...algorithm=ball_tree, leaf_size=3, n_neighbors=35; total time=   0.4s\n",
      "[CV] END ...algorithm=ball_tree, leaf_size=3, n_neighbors=35; total time=   0.4s\n",
      "[CV] END ...algorithm=ball_tree, leaf_size=3, n_neighbors=35; total time=   0.4s\n",
      "[CV] END ...algorithm=ball_tree, leaf_size=3, n_neighbors=35; total time=   0.4s\n",
      "[CV] END ...algorithm=ball_tree, leaf_size=3, n_neighbors=35; total time=   0.4s\n",
      "[CV] END ...algorithm=ball_tree, leaf_size=3, n_neighbors=35; total time=   0.4s\n",
      "[CV] END ...algorithm=ball_tree, leaf_size=3, n_neighbors=36; total time=   0.4s\n",
      "[CV] END ...algorithm=ball_tree, leaf_size=3, n_neighbors=36; total time=   0.4s\n",
      "[CV] END ...algorithm=ball_tree, leaf_size=3, n_neighbors=36; total time=   0.4s\n",
      "[CV] END ...algorithm=ball_tree, leaf_size=3, n_neighbors=36; total time=   0.4s\n",
      "[CV] END ...algorithm=ball_tree, leaf_size=3, n_neighbors=36; total time=   0.4s\n",
      "[CV] END ...algorithm=ball_tree, leaf_size=3, n_neighbors=36; total time=   0.4s\n",
      "[CV] END ...algorithm=ball_tree, leaf_size=3, n_neighbors=36; total time=   0.4s\n",
      "[CV] END ...algorithm=ball_tree, leaf_size=3, n_neighbors=36; total time=   0.4s\n",
      "[CV] END ...algorithm=ball_tree, leaf_size=3, n_neighbors=36; total time=   0.4s\n",
      "[CV] END ...algorithm=ball_tree, leaf_size=3, n_neighbors=36; total time=   0.4s\n",
      "[CV] END ...algorithm=ball_tree, leaf_size=3, n_neighbors=37; total time=   0.4s\n",
      "[CV] END ...algorithm=ball_tree, leaf_size=3, n_neighbors=37; total time=   0.4s\n",
      "[CV] END ...algorithm=ball_tree, leaf_size=3, n_neighbors=37; total time=   0.4s\n",
      "[CV] END ...algorithm=ball_tree, leaf_size=3, n_neighbors=37; total time=   0.4s\n",
      "[CV] END ...algorithm=ball_tree, leaf_size=3, n_neighbors=37; total time=   0.4s\n",
      "[CV] END ...algorithm=ball_tree, leaf_size=3, n_neighbors=37; total time=   0.4s\n",
      "[CV] END ...algorithm=ball_tree, leaf_size=3, n_neighbors=37; total time=   0.4s\n",
      "[CV] END ...algorithm=ball_tree, leaf_size=3, n_neighbors=37; total time=   0.4s\n",
      "[CV] END ...algorithm=ball_tree, leaf_size=3, n_neighbors=37; total time=   0.4s\n",
      "[CV] END ...algorithm=ball_tree, leaf_size=3, n_neighbors=37; total time=   0.4s\n",
      "[CV] END ...algorithm=ball_tree, leaf_size=3, n_neighbors=38; total time=   0.4s\n",
      "[CV] END ...algorithm=ball_tree, leaf_size=3, n_neighbors=38; total time=   0.4s\n",
      "[CV] END ...algorithm=ball_tree, leaf_size=3, n_neighbors=38; total time=   0.4s\n",
      "[CV] END ...algorithm=ball_tree, leaf_size=3, n_neighbors=38; total time=   0.4s\n",
      "[CV] END ...algorithm=ball_tree, leaf_size=3, n_neighbors=38; total time=   0.4s\n",
      "[CV] END ...algorithm=ball_tree, leaf_size=3, n_neighbors=38; total time=   0.5s\n"
     ]
    }
   ],
   "source": [
    "knn_grid_pca.fit(X_train_pca, np.log(1 + y_train))"
   ],
   "metadata": {
    "collapsed": false,
    "pycharm": {
     "is_executing": true
    }
   }
  },
  {
   "cell_type": "code",
   "execution_count": null,
   "outputs": [],
   "source": [
    "print(\"The best parameter K is:\", knn_grid_pca.best_params_)\n",
    "print(\"The best RMSE is:\", knn_grid_pca.best_score_)"
   ],
   "metadata": {
    "collapsed": false
   }
  },
  {
   "cell_type": "code",
   "execution_count": null,
   "outputs": [],
   "source": [
    "knn_grid_ica.fit(X_train_ica, np.log(1 + y_train))"
   ],
   "metadata": {
    "collapsed": false
   }
  },
  {
   "cell_type": "code",
   "execution_count": null,
   "outputs": [],
   "source": [
    "print(\"The best parameter K is:\", knn_grid_ica.best_params_)\n",
    "print(\"The best RMSE is:\", knn_grid_ica.best_score_)"
   ],
   "metadata": {
    "collapsed": false
   }
  },
  {
   "cell_type": "code",
   "execution_count": null,
   "outputs": [],
   "source": [
    "knn_grid_ica.fit(X_train_tsne, np.log(1 + y_train))"
   ],
   "metadata": {
    "collapsed": false
   }
  },
  {
   "cell_type": "code",
   "execution_count": null,
   "outputs": [],
   "source": [
    "print(\"The best parameter K is:\", knn_grid_ica.best_params_)\n",
    "print(\"The best RMSE is:\", knn_grid_ica.best_score_)"
   ],
   "metadata": {
    "collapsed": false
   }
  },
  {
   "cell_type": "code",
   "execution_count": null,
   "outputs": [],
   "source": [
    "knn_grid_ica.cv_results_"
   ],
   "metadata": {
    "collapsed": false
   }
  },
  {
   "cell_type": "code",
   "execution_count": null,
   "outputs": [],
   "source": [
    "def plot_rmse_line(grid_search_0, grid_search_1, label_1, label_2, fig_name):\n",
    "    cv_results_0 = grid_search_0.cv_results_\n",
    "    mean_test_score_0 = np.abs(cv_results_0['mean_test_score'])\n",
    "    cv_results_1 = grid_search_1.cv_results_\n",
    "    mean_test_score_1 = np.abs(cv_results_1['mean_test_score'])\n",
    "\n",
    "    min_x_0 = np.argmin(mean_test_score_0) + 1\n",
    "    min_y_0 = np.min(mean_test_score_0)\n",
    "    min_x_1 = np.argmin(mean_test_score_1) + 1\n",
    "    min_y_1 = np.min(mean_test_score_1)\n",
    "\n",
    "    plt.figure()\n",
    "    plt.plot(mean_test_score_0, label=label_1)\n",
    "    plt.plot(mean_test_score_1, label=label_2)\n",
    "\n",
    "    plt.scatter(min_x_0, min_y_0, c='r', marker='x', label='minimum')\n",
    "    plt.scatter(min_x_1, min_y_1, c='r', marker='x')\n",
    "\n",
    "    plt.legend()\n",
    "    plt.xlabel('K neighbours')\n",
    "    plt.ylabel('RMSE')\n",
    "    plt.savefig('../Figures/' + fig_name)\n",
    "    plt.show()"
   ],
   "metadata": {
    "collapsed": false
   }
  },
  {
   "cell_type": "code",
   "execution_count": null,
   "outputs": [],
   "source": [
    "plot_rmse_line(knn_grid_pca, knn_grid_ica, 'PCA embeddings', 'ICA embeddings', 'KNN_model_selection.pdf')"
   ],
   "metadata": {
    "collapsed": false
   }
  },
  {
   "cell_type": "markdown",
   "source": [
    "#### Use the best K parameters"
   ],
   "metadata": {
    "collapsed": false
   }
  },
  {
   "cell_type": "code",
   "execution_count": null,
   "outputs": [],
   "source": [
    "knn_16 = KNeighborsRegressor(n_neighbors=16) # PCA\n",
    "knn_8 = KNeighborsRegressor(n_neighbors=8) # ICA"
   ],
   "metadata": {
    "collapsed": false
   }
  },
  {
   "cell_type": "code",
   "execution_count": null,
   "outputs": [],
   "source": [
    "# np.random.seed(42)\n",
    "scores = cross_val_score(knn_16, X_train_pca, np.log(1 + y_train), scoring='r2', cv=10)\n",
    "print(\"R^2 of the Linear Regression based on the PCA embeddings: {:.6} %\".format(scores.mean()*100))\n",
    "scores = cross_val_score(knn_16, X_train_pca, np.log(1 + y_train), scoring='neg_root_mean_squared_error', cv=10)\n",
    "print(\"RMSE of the Linear Regression based on the PCA embeddings: {:.4}\".format(scores.mean()))"
   ],
   "metadata": {
    "collapsed": false
   }
  },
  {
   "cell_type": "code",
   "execution_count": null,
   "outputs": [],
   "source": [
    "# np.random.seed(42)\n",
    "scores = cross_val_score(knn_8, X_train_pca, np.log(1 + y_train), scoring='r2', cv=10)\n",
    "print(\"R^2 of the Linear Regression based on the PCA embeddings: {:.6} %\".format(scores.mean()*100))\n",
    "scores = cross_val_score(knn_8, X_train_pca, np.log(1 + y_train), scoring='neg_root_mean_squared_error', cv=10)\n",
    "print(\"RMSE of the Linear Regression based on the PCA embeddings: {:.4}\".format(scores.mean()))"
   ],
   "metadata": {
    "collapsed": false
   }
  },
  {
   "cell_type": "code",
   "execution_count": null,
   "outputs": [],
   "source": [
    "X_train_models, X_test_models, y_train_models, y_test_models = train_test_split(X_train_pca, y_train, random_state=42,\n",
    "                                                                                train_size=0.9)\n",
    "knn_16.fit(X_train_models, np.log(1+y_train_models))\n",
    "y_pre = knn_16.predict(X_test_models)\n",
    "\n",
    "from sklearn.metrics import mean_squared_error\n",
    "\n",
    "print(\"Mean squared error: %.2f Millions\" % (np.sqrt(mean_squared_error(y_test_models, np.exp(y_pre-1))) / 1000000))\n",
    "# print(np.exp(np.log(10)))\n"
   ],
   "metadata": {
    "collapsed": false
   }
  },
  {
   "cell_type": "code",
   "execution_count": null,
   "outputs": [],
   "source": [
    "plt.rc(\"font\", size=20)\n",
    "plt.figure(figsize=(12, 7))\n",
    "plt.title('Linear regression')\n",
    "plt.xlabel(\"y predicted\")\n",
    "plt.ylabel(\"y test\")\n",
    "plt.plot(y_pre, np.log(y_test_models), 'o')\n",
    "plt.plot(np.linspace(np.min(y_pre), np.max(y_pre), 2), np.linspace(np.min(y_pre), np.max(y_pre), 2),\n",
    "         label=\"y predicted\", color=\"red\")\n",
    "plt.legend()"
   ],
   "metadata": {
    "collapsed": false
   }
  },
  {
   "cell_type": "markdown",
   "source": [
    "### 5.3 MLP"
   ],
   "metadata": {
    "collapsed": false
   }
  },
  {
   "cell_type": "code",
   "execution_count": null,
   "outputs": [],
   "source": [
    "X_train_pca.shape"
   ],
   "metadata": {
    "collapsed": false
   }
  },
  {
   "cell_type": "code",
   "execution_count": null,
   "outputs": [],
   "source": [
    "model = Sequential()\n",
    "\n",
    "model.add(Dense(200, input_shape = (219, ), kernel_initializer='he_normal'))\n",
    "# model.add(BatchNormalization())\n",
    "model.add(Activation('relu'))\n",
    "model.add(Dense(175, kernel_initializer='he_normal'))\n",
    "# model.add(BatchNormalization())\n",
    "model.add(Activation('relu'))\n",
    "model.add(Dense(150, kernel_initializer='he_normal'))\n",
    "# model.add(BatchNormalization())\n",
    "model.add(Activation('relu'))\n",
    "model.add(Dense(125, kernel_initializer='he_normal'))\n",
    "# model.add(BatchNormalization())\n",
    "model.add(Activation('relu'))\n",
    "model.add(Dense(100, kernel_initializer='he_normal'))\n",
    "# model.add(BatchNormalization())\n",
    "model.add(Activation('relu'))\n",
    "model.add(Dense(75, kernel_initializer='he_normal'))\n",
    "# model.add(BatchNormalization())\n",
    "model.add(Activation('relu'))\n",
    "model.add(Dense(50, kernel_initializer='he_normal'))\n",
    "# model.add(BatchNormalization())\n",
    "model.add(Activation('relu'))\n",
    "model.add(Dense(25, kernel_initializer='he_normal'))\n",
    "# model.add(BatchNormalization())\n",
    "model.add(Activation('relu'))\n",
    "model.add(Dense(10, kernel_initializer='he_normal'))\n",
    "# model.add(BatchNormalization())\n",
    "model.add(Activation('relu'))\n",
    "model.add(Dense(5, kernel_initializer='he_normal'))\n",
    "# model.add(BatchNormalization())\n",
    "model.add(Activation('relu'))\n",
    "model.add(Dense(1, kernel_initializer='he_normal'))"
   ],
   "metadata": {
    "collapsed": false
   }
  },
  {
   "cell_type": "code",
   "execution_count": null,
   "outputs": [],
   "source": [
    "sgd = optimizers.Adam(lr = 0.001)\n",
    "model.compile(optimizer = sgd, loss = 'mean_squared_error', metrics = ['mse'])"
   ],
   "metadata": {
    "collapsed": false
   }
  },
  {
   "cell_type": "code",
   "execution_count": null,
   "outputs": [],
   "source": [
    "history = model.fit(X_train_pca, y_train, batch_size = 177, validation_split = 0.3, epochs = 300, verbose = 2)"
   ],
   "metadata": {
    "collapsed": false
   }
  },
  {
   "cell_type": "code",
   "execution_count": null,
   "outputs": [],
   "source": [
    "plt.plot(np.sqrt(history.history['mse']))\n",
    "plt.plot(np.sqrt(history.history['val_mse']))\n",
    "plt.legend(['training', 'validation'])\n",
    "plt.show()"
   ],
   "metadata": {
    "collapsed": false
   }
  },
  {
   "cell_type": "code",
   "execution_count": null,
   "outputs": [],
   "source": [
    "y_pre = np.exp(model.predict(X_test_models)-1)"
   ],
   "metadata": {
    "collapsed": false
   }
  },
  {
   "cell_type": "code",
   "execution_count": null,
   "outputs": [],
   "source": [
    "print(\"Mean squared error: %.2f Millions\" % (np.sqrt(mean_squared_error(y_test_models, y_pre)) / 1000000))\n",
    "# print(np.exp(np.log(10)))"
   ],
   "metadata": {
    "collapsed": false
   }
  },
  {
   "cell_type": "code",
   "execution_count": null,
   "outputs": [],
   "source": [
    "np.sqrt(7640352577377621) / 1000000"
   ],
   "metadata": {
    "collapsed": false
   }
  },
  {
   "cell_type": "code",
   "execution_count": null,
   "outputs": [],
   "source": [],
   "metadata": {
    "collapsed": false
   }
  }
 ],
 "metadata": {
  "kernelspec": {
   "display_name": "Python 3",
   "language": "python",
   "name": "python3"
  },
  "language_info": {
   "codemirror_mode": {
    "name": "ipython",
    "version": 2
   },
   "file_extension": ".py",
   "mimetype": "text/x-python",
   "name": "python",
   "nbconvert_exporter": "python",
   "pygments_lexer": "ipython2",
   "version": "2.7.6"
  }
 },
 "nbformat": 4,
 "nbformat_minor": 0
}

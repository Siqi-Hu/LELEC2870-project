{
 "cells": [
  {
   "cell_type": "markdown",
   "source": [
    "## 1. Load the packages"
   ],
   "metadata": {
    "collapsed": false
   },
   "execution_count": 1
  },
  {
   "cell_type": "code",
   "execution_count": 1,
   "outputs": [],
   "source": [
    "# Data processing packages\n",
    "import numpy as np\n",
    "import pandas as pd\n",
    "from collections import Counter\n",
    "\n",
    "# Machine learning packages\n",
    "from sklearn.model_selection import GridSearchCV, RepeatedKFold, cross_val_score, KFold, train_test_split\n",
    "from sklearn.preprocessing import MinMaxScaler, StandardScaler, MultiLabelBinarizer, FunctionTransformer\n",
    "from sklearn.pipeline import Pipeline\n",
    "from mlxtend.feature_selection import SequentialFeatureSelector\n",
    "from sklearn.feature_selection import RFE, SelectPercentile, chi2, mutual_info_regression, SelectFromModel\n",
    "from mlxtend.plotting import plot_sequential_feature_selection as plot_sfs\n",
    "from sklearn.linear_model import LinearRegression, Lasso\n",
    "from sklearn.neighbors import KNeighborsRegressor\n",
    "from sklearn.tree import DecisionTreeRegressor\n",
    "from sklearn.ensemble import RandomForestRegressor\n",
    "from sklearn.decomposition import PCA, KernelPCA, FastICA\n",
    "from sklearn.manifold import TSNE\n",
    "from sklearn.metrics import mean_squared_error, r2_score\n",
    "from sklearn.neural_network import MLPRegressor\n",
    "\n",
    "import torch\n",
    "\n",
    "# Visualization packages\n",
    "import seaborn as sns\n",
    "import matplotlib.pyplot as plt\n",
    "\n",
    "# Others\n",
    "import time\n",
    "from pathlib import Path"
   ],
   "metadata": {
    "collapsed": false
   }
  },
  {
   "cell_type": "markdown",
   "source": [
    "## 2. Read the data"
   ],
   "metadata": {
    "collapsed": false
   }
  },
  {
   "cell_type": "code",
   "execution_count": null,
   "outputs": [],
   "source": [
    "X1 = pd.read_csv(\"X1.csv\")\n",
    "Y1 = pd.read_csv(\"Y1.csv\", header=None, names=['revenue '])\n",
    "X2 = pd.read_csv(\"X2.csv\")"
   ],
   "metadata": {
    "collapsed": false
   }
  },
  {
   "cell_type": "code",
   "execution_count": null,
   "outputs": [],
   "source": [
    "X1"
   ],
   "metadata": {
    "collapsed": false
   }
  },
  {
   "cell_type": "markdown",
   "source": [
    "## 3. Data Preprocessing"
   ],
   "metadata": {
    "collapsed": false
   }
  },
  {
   "cell_type": "markdown",
   "source": [
    "### STEP 1: Data Cleaning (columns drop off and missing value processing)"
   ],
   "metadata": {
    "collapsed": false
   }
  },
  {
   "cell_type": "code",
   "execution_count": null,
   "outputs": [],
   "source": [
    "def data_cleaning_process(df):\n",
    "    \"\"\"\n",
    "    This function will drop columns, like \"Unnamed: 0\", \"title\", \"img_url\", \"description\" from the dataset, and replace the missing value in `runtime` column with a median value, and replace the missing value in `genres` with \"Others\".\n",
    "    :param df: A dataframe (X1 or X2)\n",
    "    :return: A new cleaned dataframe\n",
    "    \"\"\"\n",
    "\n",
    "    new_df = df.copy()\n",
    "    # missing value for runtime: replace \"\\\\N\" with median value\n",
    "    median_runtime = np.median(new_df.loc[new_df['runtime'] != '\\\\N', 'runtime'].astype(np.int64))\n",
    "    new_df['runtime'] = np.where(new_df['runtime'] == '\\\\N', median_runtime, new_df['runtime']).astype(np.int64)\n",
    "\n",
    "    # missing value for genres: replace \"\\\\N\" with \"Others\"\n",
    "    new_df.loc[new_df['genres'] == \"\\\\N\", \"genres\"] = \"Others\"\n",
    "\n",
    "    # drop \"Unnamed: 0\", \"title\", \"img_url\", \"description\"\n",
    "    new_df = new_df.drop([\"Unnamed: 0\", \"title\", \"img_url\", \"description\"], axis=1)\n",
    "\n",
    "    return new_df"
   ],
   "metadata": {
    "collapsed": false
   }
  },
  {
   "cell_type": "code",
   "execution_count": null,
   "outputs": [],
   "source": [
    "X1_cleaned = data_cleaning_process(X1)"
   ],
   "metadata": {
    "collapsed": false
   }
  },
  {
   "cell_type": "markdown",
   "source": [
    "### STEP 2: Data Type Split (Numerical, Categorical, Embeddings)"
   ],
   "metadata": {
    "collapsed": false
   }
  },
  {
   "cell_type": "code",
   "execution_count": null,
   "outputs": [],
   "source": [
    "def data_type_split(df):\n",
    "    \"\"\"\n",
    "    This function will split the whole dataset into different sub dataset according to the data types of the columns\n",
    "    :param df: A dataframe\n",
    "    :return: three datadrames, which are numerical, categorical, embeddings\n",
    "    \"\"\"\n",
    "\n",
    "    new_df = df.copy()\n",
    "    numeric_features = new_df.select_dtypes(include=\"number\").columns.tolist()\n",
    "    non_numeric_features = new_df.select_dtypes(exclude=\"number\").columns.tolist()\n",
    "    embedding_features = ['img_embeddings', 'text_embeddings']\n",
    "    numeric_features.remove('is_adult')\n",
    "    categorical_features = non_numeric_features.copy()\n",
    "    [categorical_features.remove(col) for col in embedding_features]\n",
    "    categorical_features.append('is_adult')\n",
    "    return new_df.loc[:, numeric_features], new_df.loc[:, categorical_features], new_df.loc[:, embedding_features]"
   ],
   "metadata": {
    "collapsed": false
   }
  },
  {
   "cell_type": "code",
   "execution_count": null,
   "outputs": [],
   "source": [
    "df_num, df_cat, df_emb = data_type_split(X1_cleaned)"
   ],
   "metadata": {
    "collapsed": false
   }
  },
  {
   "cell_type": "code",
   "execution_count": null,
   "outputs": [],
   "source": [
    "df_num.head()"
   ],
   "metadata": {
    "collapsed": false
   }
  },
  {
   "cell_type": "code",
   "execution_count": null,
   "outputs": [],
   "source": [
    "df_cat.head()"
   ],
   "metadata": {
    "collapsed": false
   }
  },
  {
   "cell_type": "code",
   "execution_count": null,
   "outputs": [],
   "source": [
    "df_emb.head()"
   ],
   "metadata": {
    "collapsed": false
   }
  },
  {
   "cell_type": "markdown",
   "source": [
    "### STEP 3: Categorical Columns Processing (Genres --> multilable binary type, Studio --> studio_frequency)"
   ],
   "metadata": {
    "collapsed": false
   }
  },
  {
   "cell_type": "code",
   "execution_count": null,
   "outputs": [],
   "source": [
    "dict_cat_freq = torch.load(\"studio_freq\")"
   ],
   "metadata": {
    "collapsed": false
   }
  },
  {
   "cell_type": "code",
   "execution_count": null,
   "outputs": [],
   "source": [
    "mlb = MultiLabelBinarizer()\n",
    "df_cat['genres_split'] = df_cat['genres'].apply(lambda x: x.split(\",\"))\n",
    "mlb.fit(df_cat['genres_split'])"
   ],
   "metadata": {
    "collapsed": false
   }
  },
  {
   "cell_type": "code",
   "execution_count": null,
   "outputs": [],
   "source": [
    "def categorical_process(df):\n",
    "    \"\"\"\n",
    "    This function will process on `genres` and `studio` columns.\n",
    "    `genres` will be transformed to multilabel binary variables;\n",
    "    `studio` will be transformed to a frequency type.\n",
    "    :param df: A categorical datframe\n",
    "    :return: A new dataframe\n",
    "    \"\"\"\n",
    "\n",
    "    new_df = df.copy()\n",
    "\n",
    "    # processing on `genres` column\n",
    "    new_df['genres_split'] = new_df['genres'].apply(lambda x: x.split(\",\"))\n",
    "    # mlb = MultiLabelBinarizer()\n",
    "    genere_encoder_df = pd.DataFrame(mlb.transform(new_df['genres_split']))\n",
    "    genere_encoder_df.columns = mlb.classes_.tolist()\n",
    "\n",
    "    # processing on `studio` column\n",
    "    studio_freq_df = pd.DataFrame(new_df['studio'].apply(lambda x: dict_cat_freq[x] if x in dict_cat_freq.keys() else min(dict_cat_freq.values())))\n",
    "    studio_freq_df.columns = ['studio_freq']\n",
    "\n",
    "\n",
    "    processed_cat_df = pd.concat([genere_encoder_df, studio_freq_df, new_df['is_adult']], axis=1)\n",
    "\n",
    "    return processed_cat_df"
   ],
   "metadata": {
    "collapsed": false
   }
  },
  {
   "cell_type": "code",
   "execution_count": null,
   "outputs": [],
   "source": [
    "categorical_process(df_cat).columns"
   ],
   "metadata": {
    "collapsed": false
   }
  },
  {
   "cell_type": "markdown",
   "source": [
    "### STEP 4: Embedding Column Processing"
   ],
   "metadata": {
    "collapsed": false
   }
  },
  {
   "cell_type": "code",
   "execution_count": null,
   "outputs": [],
   "source": [
    "def listToDF(df, column_name):\n",
    "\n",
    "    new_df = []\n",
    "    for row in df[column_name]:\n",
    "        ls = []\n",
    "        row = eval(row)\n",
    "        for each in row:\n",
    "            ls.append(each)\n",
    "        new_df.append(ls)\n",
    "\n",
    "    new_df = pd.DataFrame(new_df)\n",
    "\n",
    "    return new_df"
   ],
   "metadata": {
    "collapsed": false
   }
  },
  {
   "cell_type": "code",
   "execution_count": null,
   "outputs": [],
   "source": [
    "def embedding_process(df):\n",
    "    new_df = df.copy()\n",
    "\n",
    "    # image embeddings\n",
    "    img_emb_df = listToDF(new_df, 'img_embeddings')\n",
    "    text_emb_df = listToDF(new_df, 'text_embeddings')\n",
    "\n",
    "    processed_emb_df = pd.concat([img_emb_df, text_emb_df], axis=1)\n",
    "    return processed_emb_df"
   ],
   "metadata": {
    "collapsed": false
   }
  },
  {
   "cell_type": "code",
   "execution_count": null,
   "outputs": [],
   "source": [
    "embedding_process(X1.loc[:, ['img_embeddings', 'text_embeddings']])"
   ],
   "metadata": {
    "collapsed": false
   }
  },
  {
   "cell_type": "markdown",
   "source": [
    "### STEP 5: Combine Everything"
   ],
   "metadata": {
    "collapsed": false
   }
  },
  {
   "cell_type": "code",
   "execution_count": null,
   "outputs": [],
   "source": [
    "def data_combine(df_num, df_cat, df_emb):\n",
    "    new_df = pd.concat([df_num, df_cat, df_emb], axis=1)\n",
    "    return new_df"
   ],
   "metadata": {
    "collapsed": false
   }
  },
  {
   "cell_type": "code",
   "execution_count": null,
   "outputs": [],
   "source": [
    "df_processed = data_combine(df_num, categorical_process(df_cat), df_emb)"
   ],
   "metadata": {
    "collapsed": false
   }
  },
  {
   "cell_type": "code",
   "execution_count": null,
   "outputs": [],
   "source": [
    "df_processed"
   ],
   "metadata": {
    "collapsed": false
   }
  },
  {
   "cell_type": "markdown",
   "source": [
    "### STEP 6: Normalization and Standarization"
   ],
   "metadata": {
    "collapsed": false
   }
  },
  {
   "cell_type": "code",
   "execution_count": null,
   "outputs": [],
   "source": [
    "def data_scaling(df):\n",
    "    \"\"\"\n",
    "    This function will process on the numercial columns.\n",
    "    For `ratings`, we will use normalization\n",
    "    For the other columns, we will use standardization\n",
    "    :param df:\n",
    "    :return:\n",
    "    \"\"\"\n",
    "    new_X = df.copy().to_numpy()\n",
    "    # new_df = df.copy()\n",
    "\n",
    "    # df_norm = new_df[\"ratings\"]\n",
    "    # df_stad = new_df.iloc[:, 1:]\n",
    "    scaler_norm = MinMaxScaler().fit(new_X[:, 0].reshape([-1, 1]))\n",
    "    scaler_stad = StandardScaler().fit(new_X[:, 1:5])\n",
    "    new_X[:, 0] = scaler_norm.transform(new_X[:, 0].reshape([-1, 1])).ravel()\n",
    "    new_X[:, 1:5] = scaler_stad.transform(new_X[:, 1:5])\n",
    "\n",
    "    return new_X"
   ],
   "metadata": {
    "collapsed": false
   }
  },
  {
   "cell_type": "code",
   "execution_count": null,
   "outputs": [],
   "source": [
    "data_scaling(df_processed)"
   ],
   "metadata": {
    "collapsed": false
   }
  },
  {
   "cell_type": "markdown",
   "source": [
    "### Construct Data Engineering Pipeline"
   ],
   "metadata": {
    "collapsed": false
   }
  },
  {
   "cell_type": "code",
   "execution_count": null,
   "outputs": [],
   "source": [
    "def DataEngineering(df):\n",
    "    df_cleaned = data_cleaning_process(df)\n",
    "    df_num, df_cat, df_emb = data_type_split(df_cleaned)\n",
    "    df_cat_processed = categorical_process(df_cat)\n",
    "    df_emb_processed = embedding_process(df_emb)\n",
    "    df_processed = data_combine(df_num, df_cat_processed, df_emb_processed)\n",
    "    X_ready = data_scaling(df_processed)\n",
    "\n",
    "    return X_ready"
   ],
   "metadata": {
    "collapsed": false
   }
  },
  {
   "cell_type": "code",
   "execution_count": null,
   "outputs": [],
   "source": [
    "preprocess_transformer = FunctionTransformer(DataEngineering)"
   ],
   "metadata": {
    "collapsed": false
   }
  },
  {
   "cell_type": "code",
   "execution_count": null,
   "outputs": [],
   "source": [
    "p1 = Pipeline([\n",
    "    ('Preprocessor', preprocess_transformer)\n",
    "])"
   ],
   "metadata": {
    "collapsed": false
   }
  },
  {
   "cell_type": "code",
   "execution_count": null,
   "outputs": [],
   "source": [
    "X1_pre = p1.fit_transform(X1)\n",
    "X1_pre[:5, :]"
   ],
   "metadata": {
    "collapsed": false
   }
  },
  {
   "cell_type": "markdown",
   "source": [
    "## 4. Feature Selection"
   ],
   "metadata": {
    "collapsed": false
   }
  },
  {
   "cell_type": "markdown",
   "source": [
    "### 4.1 Give the column names to the dataset"
   ],
   "metadata": {
    "collapsed": false
   }
  },
  {
   "cell_type": "code",
   "execution_count": null,
   "outputs": [],
   "source": [
    "def renamingDataset(X):\n",
    "    new_X = X.copy()\n",
    "    new_df = pd.DataFrame(new_X)\n",
    "    num_col_names = ['ratings', 'n_votes', 'production_year', 'runtime', 'release_year']\n",
    "    cat_col_names = ['Action', 'Adventure', 'Animation', 'Biography', 'Comedy', 'Crime',\n",
    "       'Documentary', 'Drama', 'Family', 'Fantasy', 'Film-Noir', 'Game-Show',\n",
    "       'History', 'Horror', 'Music', 'Musical', 'Mystery', 'News', 'Others',\n",
    "       'Reality-TV', 'Romance', 'Sci-Fi', 'Short', 'Sport', 'Thriller', 'War',\n",
    "       'Western', 'studio_freq', 'is_adult']\n",
    "    img_emb_names = []\n",
    "    for i in range(2048):\n",
    "        img_emb_names.append(\"img_emb_\" + str(i))\n",
    "\n",
    "    text_emb_names = []\n",
    "    for i in range(768):\n",
    "        text_emb_names.append(\"text_emb_\" + str(i))\n",
    "\n",
    "    all_col_names = num_col_names + cat_col_names + img_emb_names + text_emb_names\n",
    "\n",
    "    new_df.columns = all_col_names\n",
    "\n",
    "    return new_df"
   ],
   "metadata": {
    "collapsed": false
   }
  },
  {
   "cell_type": "code",
   "execution_count": null,
   "outputs": [],
   "source": [
    "renamed_df_ready = renamingDataset(X1_pre)\n",
    "renamed_df_ready.head()"
   ],
   "metadata": {
    "collapsed": false
   }
  },
  {
   "cell_type": "code",
   "execution_count": null,
   "outputs": [],
   "source": [
    "def divideDataset(df):\n",
    "    new_df = df.copy()\n",
    "\n",
    "    non_emb_df = new_df.iloc[:, :34]\n",
    "    img_emb_df = new_df.iloc[:, 34:2082]\n",
    "    text_emb_df = new_df.iloc[:, 2082:]\n",
    "\n",
    "    return non_emb_df, img_emb_df, text_emb_df # pd.dataframe type"
   ],
   "metadata": {
    "collapsed": false
   }
  },
  {
   "cell_type": "code",
   "execution_count": null,
   "outputs": [],
   "source": [
    "non_emb_df, img_emb_df, text_emb_df = divideDataset(renamed_df_ready)"
   ],
   "metadata": {
    "collapsed": false
   }
  },
  {
   "cell_type": "markdown",
   "source": [
    "### 4.2 DR on Embeddings"
   ],
   "metadata": {
    "collapsed": false
   }
  },
  {
   "cell_type": "markdown",
   "source": [
    "#### 4.2.1 Implement PCA for reducing the embedding features"
   ],
   "metadata": {
    "collapsed": false
   }
  },
  {
   "cell_type": "code",
   "execution_count": null,
   "outputs": [],
   "source": [
    "scaler_emb = MinMaxScaler()\n",
    "emb_df_scaled = scaler_emb.fit_transform(pd.concat([img_emb_df, text_emb_df], axis=1))\n",
    "pca_emb = PCA(n_components=0.9)\n",
    "pca_emb.fit(emb_df_scaled)\n",
    "\n",
    "def DRembeddings_pca(img_emb_df, text_emb_df):\n",
    "\n",
    "    # scale the data to the range between 0 and 1 before using PCA\n",
    "    # scaler_emb = MinMaxScaler()\n",
    "    # img_emb_df_scaled = scaler_emb.fit_transform(img_emb_df)\n",
    "    # text_emb_df_scaled = scaler_emb.fit_transform(text_emb_df)\n",
    "    emb_df_scaled = scaler_emb.fit_transform(pd.concat([img_emb_df, text_emb_df], axis=1))\n",
    "\n",
    "    # pca_emb = PCA(n_components=n_components)\n",
    "    # df_reduced_emb = pd.DataFrame(pca_emb.fit_transform(emb_df_scaled))\n",
    "    df_reduced_emb = pd.DataFrame(pca_emb.transform(emb_df_scaled))\n",
    "\n",
    "    emb_col_names = []\n",
    "    for i in range(df_reduced_emb.shape[1]):\n",
    "        emb_col_names.append(\"emb_\" + str(i))\n",
    "\n",
    "    df_reduced_emb.columns = emb_col_names\n",
    "\n",
    "    return df_reduced_emb"
   ],
   "metadata": {
    "collapsed": false
   }
  },
  {
   "cell_type": "code",
   "execution_count": null,
   "outputs": [],
   "source": [
    "df_reduced_emb_pca = DRembeddings_pca(img_emb_df, text_emb_df)\n",
    "df_reduced_emb_pca.head()"
   ],
   "metadata": {
    "collapsed": false
   }
  },
  {
   "cell_type": "markdown",
   "source": [
    "#### 4.2.2 tSNE for reducing the embedding features"
   ],
   "metadata": {
    "collapsed": false
   }
  },
  {
   "cell_type": "code",
   "execution_count": null,
   "outputs": [],
   "source": [
    "scaler_emb = MinMaxScaler()\n",
    "emb_df_scaled = scaler_emb.fit_transform(pd.concat([img_emb_df, text_emb_df], axis=1))\n",
    "\n",
    "def DRembeddings_tsne(img_emb_df, text_emb_df, n_components=2, perplexity=50):\n",
    "\n",
    "    # scale the data to the range between 0 and 1 before using PCA\n",
    "    # scaler_emb = MinMaxScaler()\n",
    "    # img_emb_df_scaled = scaler_emb.fit_transform(img_emb_df)\n",
    "    # text_emb_df_scaled = scaler_emb.fit_transform(text_emb_df)\n",
    "    emb_df_scaled = scaler_emb.fit_transform(pd.concat([img_emb_df, text_emb_df], axis=1))\n",
    "\n",
    "    # pca_emb = PCA(n_components=n_components)\n",
    "    tsne_emb = TSNE(n_components=n_components, perplexity=perplexity, init='pca', learning_rate='auto', random_state=42)\n",
    "    df_reduced_emb = pd.DataFrame(tsne_emb.fit_transform(emb_df_scaled))\n",
    "\n",
    "    emb_col_names = []\n",
    "    for i in range(df_reduced_emb.shape[1]):\n",
    "        emb_col_names.append(\"emb_\" + str(i))\n",
    "\n",
    "    df_reduced_emb.columns = emb_col_names\n",
    "\n",
    "    return df_reduced_emb"
   ],
   "metadata": {
    "collapsed": false
   }
  },
  {
   "cell_type": "code",
   "execution_count": null,
   "outputs": [],
   "source": [
    "df_reduced_emb_tsne = DRembeddings_tsne(img_emb_df, text_emb_df)\n",
    "df_reduced_emb_tsne.head()"
   ],
   "metadata": {
    "collapsed": false
   }
  },
  {
   "cell_type": "markdown",
   "source": [
    "#### 4.2.3 ICA for reducing the embedding features"
   ],
   "metadata": {
    "collapsed": false
   }
  },
  {
   "cell_type": "code",
   "execution_count": null,
   "outputs": [],
   "source": [
    "scaler_emb = MinMaxScaler()\n",
    "emb_df_scaled = scaler_emb.fit_transform(pd.concat([img_emb_df, text_emb_df], axis=1))\n",
    "\n",
    "def DRembeddings_ica(img_emb_df, text_emb_df, n_components=2):\n",
    "\n",
    "    # scale the data to the range between 0 and 1 before using PCA\n",
    "    # scaler_emb = MinMaxScaler()\n",
    "    # img_emb_df_scaled = scaler_emb.fit_transform(img_emb_df)\n",
    "    # text_emb_df_scaled = scaler_emb.fit_transform(text_emb_df)\n",
    "    emb_df_scaled = scaler_emb.fit_transform(pd.concat([img_emb_df, text_emb_df], axis=1))\n",
    "\n",
    "    # pca_emb = PCA(n_components=n_components)\n",
    "    ica_emb = FastICA(n_components=n_components, random_state=42, whiten='unit-variance')\n",
    "    df_reduced_emb = pd.DataFrame(ica_emb.fit_transform(emb_df_scaled))\n",
    "\n",
    "    emb_col_names = []\n",
    "    for i in range(df_reduced_emb.shape[1]):\n",
    "        emb_col_names.append(\"emb_\" + str(i))\n",
    "\n",
    "    df_reduced_emb.columns = emb_col_names\n",
    "\n",
    "    return df_reduced_emb"
   ],
   "metadata": {
    "collapsed": false
   }
  },
  {
   "cell_type": "code",
   "execution_count": null,
   "outputs": [],
   "source": [
    "df_reduced_emb_ica = DRembeddings_ica(img_emb_df, text_emb_df, n_components=199)\n",
    "df_reduced_emb_ica.head()"
   ],
   "metadata": {
    "collapsed": false
   }
  },
  {
   "cell_type": "markdown",
   "source": [
    "### 4.3 Feature Selection"
   ],
   "metadata": {
    "collapsed": false
   }
  },
  {
   "cell_type": "markdown",
   "source": [
    "We will predict the log(1 + Y1)"
   ],
   "metadata": {
    "collapsed": false
   }
  },
  {
   "cell_type": "code",
   "execution_count": null,
   "outputs": [],
   "source": [
    "\"\"\"\n",
    "    The forward feature selection takes a bit time, so we saved the feature selection reulst into a file using torch\n",
    "\"\"\"\n",
    "np.random.seed(42)\n",
    "rfr = RandomForestRegressor(n_jobs=-1)\n",
    "sfs_34features = SequentialFeatureSelector(\n",
    "    rfr,\n",
    "    k_features=34,\n",
    "    forward=True,\n",
    "    floating=False,\n",
    "    verbose=2,\n",
    "    scoring='neg_mean_squared_error',\n",
    "    cv=10,\n",
    ").fit(non_emb_df, np.log(1 + Y1.to_numpy().ravel()))\n"
   ],
   "metadata": {
    "collapsed": false
   }
  },
  {
   "cell_type": "code",
   "execution_count": null,
   "outputs": [],
   "source": [
    "if Path('../models').exists():\n",
    "    torch.save(sfs_34features, \"../models/foward_feature_selection_34features\")\n",
    "else:\n",
    "    Path('../model').mkdir(parents=True, exist_ok=True)\n",
    "    torch.save(sfs_34features, \"../models/foward_feature_selection_34features\")"
   ],
   "metadata": {
    "collapsed": false
   }
  },
  {
   "cell_type": "code",
   "execution_count": null,
   "outputs": [],
   "source": [
    "# Load the feature selection result\n",
    "sfs_34 = torch.load(\"../models/foward_feature_selection_34features\")"
   ],
   "metadata": {
    "collapsed": false
   }
  },
  {
   "cell_type": "code",
   "execution_count": null,
   "outputs": [],
   "source": [
    "sfs_result = pd.DataFrame.from_dict(sfs_34.get_metric_dict()).T\n",
    "sfs_result"
   ],
   "metadata": {
    "collapsed": false
   }
  },
  {
   "cell_type": "code",
   "execution_count": null,
   "outputs": [],
   "source": [
    "fig1 = plot_sfs(sfs_34.get_metric_dict(), kind='std_dev')\n",
    "# plt.title('Forward Feature Selection (w. StdDev)')\n",
    "plt.grid()\n",
    "plt.savefig('../Figures/foward_selection.pdf')\n",
    "plt.show()"
   ],
   "metadata": {
    "collapsed": false
   }
  },
  {
   "cell_type": "code",
   "execution_count": null,
   "outputs": [],
   "source": [
    "sfs_34.k_score_"
   ],
   "metadata": {
    "collapsed": false
   }
  },
  {
   "cell_type": "code",
   "execution_count": null,
   "outputs": [],
   "source": [
    "sfs_34.k_feature_idx_"
   ],
   "metadata": {
    "collapsed": false
   }
  },
  {
   "cell_type": "code",
   "execution_count": null,
   "outputs": [],
   "source": [
    "np.argmax(sfs_result.loc[:, 'avg_score'])"
   ],
   "metadata": {
    "collapsed": false
   }
  },
  {
   "cell_type": "code",
   "execution_count": null,
   "outputs": [],
   "source": [
    "features_selected = list(sfs_result.iloc[27, :]['feature_names'])\n",
    "non_emb_df_selected = non_emb_df[features_selected]\n",
    "non_emb_df_selected.head()"
   ],
   "metadata": {
    "collapsed": false
   }
  },
  {
   "cell_type": "markdown",
   "source": [
    "### 4.4 Combine selected non_emb with reduced emb"
   ],
   "metadata": {
    "collapsed": false
   }
  },
  {
   "cell_type": "code",
   "execution_count": null,
   "outputs": [],
   "source": [
    "def combineNonReducedEmb(non_emb_df_selected, reduced_emb_df):\n",
    "    DR_df = pd.concat([non_emb_df_selected, reduced_emb_df], axis=1)\n",
    "    return DR_df"
   ],
   "metadata": {
    "collapsed": false
   }
  },
  {
   "cell_type": "code",
   "execution_count": null,
   "outputs": [],
   "source": [
    "DR_df = combineNonReducedEmb(non_emb_df_selected, df_reduced_emb_pca)\n",
    "DR_df.head()"
   ],
   "metadata": {
    "collapsed": false
   }
  },
  {
   "cell_type": "markdown",
   "source": [
    "### Construct Feature Selection Pipeline"
   ],
   "metadata": {
    "collapsed": false
   }
  },
  {
   "cell_type": "code",
   "execution_count": null,
   "outputs": [],
   "source": [
    "def FeatureSelection(X, dr_method, n_components=2, perplexity=50):\n",
    "    renamed_df_ready = renamingDataset(X)\n",
    "    non_emb_df, img_emb_df, text_emb_df = divideDataset(renamed_df_ready)\n",
    "    if dr_method == \"pca\":\n",
    "        reduced_emb_df = DRembeddings_pca(img_emb_df, text_emb_df)\n",
    "    elif dr_method == \"tsne\":\n",
    "        reduced_emb_df = DRembeddings_tsne(img_emb_df, text_emb_df, n_components=n_components, perplexity=perplexity)\n",
    "    elif dr_method == 'ica':\n",
    "        reduced_emb_df = DRembeddings_ica(img_emb_df, text_emb_df, n_components=n_components)\n",
    "    non_emb_df_selected = non_emb_df[features_selected]\n",
    "    DR_df = combineNonReducedEmb(non_emb_df_selected, reduced_emb_df)\n",
    "\n",
    "    return DR_df"
   ],
   "metadata": {
    "collapsed": false
   }
  },
  {
   "cell_type": "code",
   "execution_count": null,
   "outputs": [],
   "source": [
    "feature_selection_transformer_pca = FunctionTransformer(FeatureSelection, kw_args={'dr_method':'pca'})\n",
    "feature_selection_transformer_tsne = FunctionTransformer(FeatureSelection, kw_args={'dr_method':'tsne', 'n_components':3, 'perplexity':100})"
   ],
   "metadata": {
    "collapsed": false
   }
  },
  {
   "cell_type": "code",
   "execution_count": null,
   "outputs": [],
   "source": [
    "p2_pca = Pipeline([\n",
    "    ('Preprocessor', preprocess_transformer),\n",
    "    ('FeatureSelectionPCA', FunctionTransformer(FeatureSelection, kw_args={'dr_method':'pca'})),\n",
    "])\n",
    "\n",
    "p2_tsne = Pipeline([\n",
    "    ('Preprocessor', preprocess_transformer),\n",
    "    ('FeatureSelectionTSNE', FunctionTransformer(FeatureSelection, kw_args={'dr_method':'tsne', 'n_components':3, 'perplexity':100})),\n",
    "])\n",
    "\n",
    "p2_ica = Pipeline([\n",
    "    ('Preprocessor', preprocess_transformer),\n",
    "    ('FeatureSelectionICA', FunctionTransformer(FeatureSelection, kw_args={'dr_method':'ica', 'n_components':199})),\n",
    "])"
   ],
   "metadata": {
    "collapsed": false
   }
  },
  {
   "cell_type": "code",
   "execution_count": null,
   "outputs": [],
   "source": [
    "X1_pca = p2_pca.fit_transform(X1)\n",
    "torch.save(X1_pca, \"X1_pca\")\n",
    "X1_pca.head()"
   ],
   "metadata": {
    "collapsed": false
   }
  },
  {
   "cell_type": "code",
   "execution_count": null,
   "outputs": [],
   "source": [
    "X1_tsne = p2_tsne.fit_transform(X1)\n",
    "torch.save(X1_tsne, \"X1_tsne\")\n",
    "X1_tsne.head()"
   ],
   "metadata": {
    "collapsed": false
   }
  },
  {
   "cell_type": "code",
   "execution_count": null,
   "outputs": [],
   "source": [
    "X1_ica = p2_ica.fit_transform(X1)\n",
    "torch.save(X1_ica, \"X1_ica\")\n",
    "X1_ica.head()"
   ],
   "metadata": {
    "collapsed": false
   }
  },
  {
   "cell_type": "markdown",
   "source": [
    "## 5. Models"
   ],
   "metadata": {
    "collapsed": false
   }
  },
  {
   "cell_type": "code",
   "execution_count": 2,
   "outputs": [],
   "source": [
    "X1_pca = torch.load('X1_pca').to_numpy()\n",
    "X1_ica = torch.load('X1_ica').to_numpy()\n",
    "X1_tsne = torch.load('X1_tsne').to_numpy()\n",
    "Y1 = pd.read_csv(\"Y1.csv\", header=None, names=['revenue ']).to_numpy().ravel()"
   ],
   "metadata": {
    "collapsed": false
   }
  },
  {
   "cell_type": "code",
   "execution_count": 3,
   "outputs": [],
   "source": [
    "X_train_pca, X_test_pca, y_train, y_test = train_test_split(X1_pca, Y1, random_state=42, test_size=0.1)\n",
    "X_train_ica, X_test_ica, _, _ = train_test_split(X1_ica, Y1, random_state=42, test_size=0.1)\n",
    "X_train_tsne, X_test_tsne, _, _ = train_test_split(X1_tsne, Y1, random_state=42, test_size=0.1)"
   ],
   "metadata": {
    "collapsed": false
   }
  },
  {
   "cell_type": "markdown",
   "source": [
    "### 5.1 Linear regression"
   ],
   "metadata": {
    "collapsed": false
   }
  },
  {
   "cell_type": "code",
   "execution_count": 4,
   "outputs": [],
   "source": [
    "LR_pca = LinearRegression()\n",
    "LR_ica = LinearRegression()\n",
    "LR_tsne = LinearRegression()"
   ],
   "metadata": {
    "collapsed": false
   }
  },
  {
   "cell_type": "code",
   "execution_count": 5,
   "outputs": [],
   "source": [
    "# # np.random.seed(42)\n",
    "# scores = cross_val_score(LR_model_pca, X_train_pca, np.log(1 + y_train), scoring='r2', cv=10)\n",
    "# print(\"R^2 of the Linear Regression based on the PCA embeddings: {:.6} %\".format(scores.mean()*100))\n",
    "# scores = cross_val_score(LR_model_pca, X_train_pca, np.log(1 + y_train), scoring='neg_root_mean_squared_error', cv=10)\n",
    "# print(\"RMSE of the Linear Regression based on the PCA embeddings: {:.4}\".format(scores.mean()))"
   ],
   "metadata": {
    "collapsed": false
   }
  },
  {
   "cell_type": "code",
   "execution_count": 6,
   "outputs": [],
   "source": [
    "# scores = cross_val_score(LR_model_ica, X_train_ica, np.log(1 + y_train), scoring='r2', cv=10)\n",
    "# print(\"R^2 of the Linear Regression based on the ICA embeddings: {:.6} %\".format(scores.mean()*100))\n",
    "# scores = cross_val_score(LR_model_ica, X_train_ica, np.log(1 + y_train), scoring='neg_root_mean_squared_error', cv=10)\n",
    "# print(\"RMSE of the Linear Regression based on the ICA embeddings: {:.4} \".format(scores.mean()))"
   ],
   "metadata": {
    "collapsed": false
   }
  },
  {
   "cell_type": "code",
   "execution_count": 7,
   "outputs": [
    {
     "name": "stdout",
     "output_type": "stream",
     "text": [
      "Root mean squared error (PCA Embeddings): 1478.50 Millions\n"
     ]
    }
   ],
   "source": [
    "LR_pca.fit(X_train_pca, np.log(1 + y_train))\n",
    "y_pred_LR_pca = np.exp(LR_pca.predict(X_test_pca)) - 1\n",
    "print(\"Root mean squared error (PCA Embeddings): {:.2f} Millions\".format(np.sqrt(mean_squared_error(y_test, y_pred_LR_pca))/1000000))\n",
    "# r2_score(y_test, y_pred_LR_pca)"
   ],
   "metadata": {
    "collapsed": false
   }
  },
  {
   "cell_type": "code",
   "execution_count": 8,
   "outputs": [
    {
     "name": "stdout",
     "output_type": "stream",
     "text": [
      "Root mean squared error (ICA Embeddings): 1462.45 Millions\n"
     ]
    }
   ],
   "source": [
    "LR_ica.fit(X_train_ica, np.log(1 + y_train))\n",
    "y_pred_LR_ica = np.exp(LR_ica.predict(X_test_ica)) - 1\n",
    "print(\"Root mean squared error (ICA Embeddings): {:.2f} Millions\".format(np.sqrt(mean_squared_error(y_test, y_pred_LR_ica)) / 1000000))"
   ],
   "metadata": {
    "collapsed": false
   }
  },
  {
   "cell_type": "code",
   "execution_count": 9,
   "outputs": [
    {
     "name": "stdout",
     "output_type": "stream",
     "text": [
      "Root mean squared error (tSNE Embeddings): 1261.71 Millions\n"
     ]
    }
   ],
   "source": [
    "LR_tsne.fit(X_train_tsne, np.log(1 + y_train))\n",
    "y_pred_LR_tsne = np.exp(LR_tsne.predict(X_test_tsne)) - 1\n",
    "print(\"Root mean squared error (tSNE Embeddings): {:.2f} Millions\".format(np.sqrt(mean_squared_error(y_test, y_pred_LR_tsne))/1000000))"
   ],
   "metadata": {
    "collapsed": false
   }
  },
  {
   "cell_type": "code",
   "execution_count": 10,
   "outputs": [
    {
     "data": {
      "text/plain": "<matplotlib.legend.Legend at 0x7fc71df28e50>"
     },
     "execution_count": 10,
     "metadata": {},
     "output_type": "execute_result"
    },
    {
     "data": {
      "text/plain": "<Figure size 1200x700 with 1 Axes>",
      "image/png": "[encoded data removed]"
     },
     "metadata": {},
     "output_type": "display_data"
    }
   ],
   "source": [
    "plt.rc(\"font\", size=20)\n",
    "plt.figure(figsize=(12,7))\n",
    "plt.title('Linear regression')\n",
    "plt.xlabel(\"y predicted\")\n",
    "plt.ylabel(\"y test\")\n",
    "plt.plot(np.log(y_pred_LR_tsne), np.log(y_test),'o')\n",
    "plt.plot(np.linspace(np.min(np.log(y_pred_LR_tsne)),np.max(np.log(y_pred_LR_tsne)),2),np.linspace(np.min(np.log(y_pred_LR_tsne)),np.max(np.log(y_pred_LR_tsne)),2), label=\"y predicted\",color=\"red\")\n",
    "plt.legend()"
   ],
   "metadata": {
    "collapsed": false
   }
  },
  {
   "cell_type": "markdown",
   "source": [
    "### 5.2 KNN"
   ],
   "metadata": {
    "collapsed": false
   }
  },
  {
   "cell_type": "code",
   "execution_count": 17,
   "outputs": [],
   "source": [
    "knn = KNeighborsRegressor()\n",
    "knn_k_range = list(range(1, 41))\n",
    "knn_param_grid = {\n",
    "    'n_neighbors': knn_k_range\n",
    "}"
   ],
   "metadata": {
    "collapsed": false
   }
  },
  {
   "cell_type": "code",
   "execution_count": 18,
   "outputs": [],
   "source": [
    "knn_grid_pca = GridSearchCV(knn, knn_param_grid, cv=10, scoring='neg_root_mean_squared_error', return_train_score=True,verbose=2)\n",
    "knn_grid_ica = GridSearchCV(knn, knn_param_grid, cv=10, scoring='neg_root_mean_squared_error', return_train_score=True,verbose=2)\n",
    "knn_grid_tsne = GridSearchCV(knn, knn_param_grid, cv=10, scoring='neg_root_mean_squared_error', return_train_score=True,verbose=2)"
   ],
   "metadata": {
    "collapsed": false
   }
  },
  {
   "cell_type": "code",
   "execution_count": 19,
   "outputs": [],
   "source": [
    "## Model selection\n",
    "# knn_grid_pca.fit(X_train_pca, np.log(1 + y_train))\n",
    "# knn_grid_ica.fit(X_train_ica, np.log(1 + y_train))\n",
    "# knn_grid_tsne.fit(X_train_tsne, np.log(1 + y_train))\n",
    "\n",
    "## Save the model selection results\n",
    "# torch.save(knn_grid_pca, '../models/knn_grid_pca')\n",
    "# torch.save(knn_grid_ica, '../models/knn_grid_ica')\n",
    "# torch.save(knn_grid_tsne, '../models/knn_grid_tsne')\n",
    "\n",
    "## Load the results\n",
    "knn_grid_pca = torch.load('../models/knn_grid_pca')\n",
    "knn_grid_ica = torch.load('../models/knn_grid_ica')\n",
    "knn_grid_tsne = torch.load('../models/knn_grid_tsne')"
   ],
   "metadata": {
    "collapsed": false
   }
  },
  {
   "cell_type": "code",
   "execution_count": 24,
   "outputs": [
    {
     "name": "stdout",
     "output_type": "stream",
     "text": [
      "[knn_grid_pca] The best parameter K is: {'n_neighbors': 22}\n",
      "[knn_grid_pca] The best RMSE is: -2.9175044373092835\n",
      "\n",
      "[knn_grid_ica] The best parameter K is: {'n_neighbors': 13}\n",
      "[knn_grid_ica] The best RMSE is: -2.5662457263191483\n",
      "\n",
      "[knn_grid_tsne] The best parameter K is: {'n_neighbors': 12}\n",
      "[knn_grid_tsne] The best RMSE is: -3.24501342188343\n"
     ]
    }
   ],
   "source": [
    "print(\"[knn_grid_pca] The best parameter K is:\", knn_grid_pca.best_params_)\n",
    "print(\"[knn_grid_pca] The best RMSE is:\", knn_grid_pca.best_score_)\n",
    "print()\n",
    "print(\"[knn_grid_ica] The best parameter K is:\", knn_grid_ica.best_params_)\n",
    "print(\"[knn_grid_ica] The best RMSE is:\", knn_grid_ica.best_score_)\n",
    "print()\n",
    "print(\"[knn_grid_tsne] The best parameter K is:\", knn_grid_tsne.best_params_)\n",
    "print(\"[knn_grid_tsne] The best RMSE is:\", knn_grid_tsne.best_score_)"
   ],
   "metadata": {
    "collapsed": false
   }
  },
  {
   "cell_type": "code",
   "execution_count": 25,
   "outputs": [
    {
     "data": {
      "text/plain": "{'mean_fit_time': array([0.00166638, 0.00181937, 0.00144291, 0.00183141, 0.00130978,\n        0.00158269, 0.00156178, 0.00159557, 0.00137258, 0.00138652,\n        0.00157666, 0.00232878, 0.00127811, 0.00140305, 0.00205228,\n        0.00141797, 0.00133142, 0.00130665, 0.00157607, 0.00126796,\n        0.00142775, 0.00134478, 0.00139878, 0.00137756, 0.00128474,\n        0.00161676, 0.00144441, 0.00128818, 0.00145438, 0.0014478 ,\n        0.00136271, 0.00139809, 0.00142486, 0.00131814, 0.00131304,\n        0.00146976, 0.00146518, 0.00126913, 0.00123951, 0.0014806 ]),\n 'std_fit_time': array([3.40235292e-04, 5.14408116e-04, 2.52818818e-04, 4.77451373e-04,\n        1.59315077e-04, 4.69406852e-04, 3.80521433e-04, 5.25550136e-04,\n        1.81547318e-04, 2.16160525e-04, 4.63528837e-04, 1.71800472e-03,\n        1.56065305e-04, 3.26339924e-04, 6.87919728e-04, 2.82120780e-04,\n        2.53279794e-04, 1.48772974e-04, 5.46477105e-04, 2.34310735e-04,\n        2.60402977e-04, 2.53694200e-04, 2.45599131e-04, 1.48960656e-04,\n        1.31494415e-04, 5.95872480e-04, 3.03162739e-04, 2.12615187e-04,\n        2.74391124e-04, 5.05251208e-04, 2.40868621e-04, 3.32521273e-04,\n        2.87483222e-04, 1.13576318e-04, 1.48644455e-04, 3.83906778e-04,\n        3.40919898e-04, 9.36707396e-05, 1.09749977e-04, 3.06713256e-04]),\n 'mean_score_time': array([0.01860788, 0.01497643, 0.01461802, 0.02556458, 0.01487584,\n        0.0205636 , 0.01621027, 0.01521702, 0.0217474 , 0.02114027,\n        0.01633708, 0.01745715, 0.01559944, 0.02011724, 0.02564905,\n        0.01986852, 0.01481054, 0.01474171, 0.01491842, 0.01642337,\n        0.01522627, 0.0192683 , 0.01534576, 0.01846161, 0.01862345,\n        0.01687036, 0.01548989, 0.01721039, 0.01646309, 0.01697831,\n        0.015344  , 0.01797445, 0.01550941, 0.01595786, 0.01655827,\n        0.01600289, 0.01752262, 0.0167505 , 0.01629066, 0.01830444]),\n 'std_score_time': array([0.00675731, 0.0065401 , 0.00385546, 0.00823096, 0.00150946,\n        0.01029298, 0.00443796, 0.00154167, 0.00969432, 0.01484383,\n        0.00392755, 0.0053395 , 0.00251203, 0.00961703, 0.01162875,\n        0.00934119, 0.00147253, 0.00083849, 0.00146042, 0.00327446,\n        0.00127829, 0.00574498, 0.00197532, 0.00462085, 0.00487615,\n        0.00293483, 0.00073383, 0.00388086, 0.00340089, 0.00233376,\n        0.00176956, 0.00374364, 0.00192147, 0.00290002, 0.00353066,\n        0.00219953, 0.00397701, 0.0027432 , 0.00225744, 0.0044291 ]),\n 'param_n_neighbors': masked_array(data=[1, 2, 3, 4, 5, 6, 7, 8, 9, 10, 11, 12, 13, 14, 15, 16,\n                    17, 18, 19, 20, 21, 22, 23, 24, 25, 26, 27, 28, 29, 30,\n                    31, 32, 33, 34, 35, 36, 37, 38, 39, 40],\n              mask=[False, False, False, False, False, False, False, False,\n                    False, False, False, False, False, False, False, False,\n                    False, False, False, False, False, False, False, False,\n                    False, False, False, False, False, False, False, False,\n                    False, False, False, False, False, False, False, False],\n        fill_value='?',\n             dtype=object),\n 'params': [{'n_neighbors': 1},\n  {'n_neighbors': 2},\n  {'n_neighbors': 3},\n  {'n_neighbors': 4},\n  {'n_neighbors': 5},\n  {'n_neighbors': 6},\n  {'n_neighbors': 7},\n  {'n_neighbors': 8},\n  {'n_neighbors': 9},\n  {'n_neighbors': 10},\n  {'n_neighbors': 11},\n  {'n_neighbors': 12},\n  {'n_neighbors': 13},\n  {'n_neighbors': 14},\n  {'n_neighbors': 15},\n  {'n_neighbors': 16},\n  {'n_neighbors': 17},\n  {'n_neighbors': 18},\n  {'n_neighbors': 19},\n  {'n_neighbors': 20},\n  {'n_neighbors': 21},\n  {'n_neighbors': 22},\n  {'n_neighbors': 23},\n  {'n_neighbors': 24},\n  {'n_neighbors': 25},\n  {'n_neighbors': 26},\n  {'n_neighbors': 27},\n  {'n_neighbors': 28},\n  {'n_neighbors': 29},\n  {'n_neighbors': 30},\n  {'n_neighbors': 31},\n  {'n_neighbors': 32},\n  {'n_neighbors': 33},\n  {'n_neighbors': 34},\n  {'n_neighbors': 35},\n  {'n_neighbors': 36},\n  {'n_neighbors': 37},\n  {'n_neighbors': 38},\n  {'n_neighbors': 39},\n  {'n_neighbors': 40}],\n 'split0_test_score': array([-3.21540416, -2.84214124, -2.73720397, -2.70553889, -2.67857525,\n        -2.69291906, -2.67564112, -2.67115889, -2.66769514, -2.66753916,\n        -2.67913761, -2.69541884, -2.68274982, -2.67923503, -2.68729601,\n        -2.67763706, -2.68816603, -2.69212743, -2.69517238, -2.70302402,\n        -2.7041659 , -2.70426353, -2.70783258, -2.724532  , -2.73610305,\n        -2.73895605, -2.73311944, -2.7364343 , -2.73923577, -2.73855948,\n        -2.73038298, -2.72575709, -2.73537654, -2.73976516, -2.74148162,\n        -2.73881644, -2.74196082, -2.74035262, -2.74578812, -2.75006527]),\n 'split1_test_score': array([-3.10853404, -2.75577229, -2.51547794, -2.46053456, -2.49400546,\n        -2.45814065, -2.40546446, -2.39357767, -2.42529287, -2.43577852,\n        -2.40890349, -2.4026159 , -2.38624452, -2.40354771, -2.4134717 ,\n        -2.41779939, -2.41379467, -2.40467968, -2.42611231, -2.4340682 ,\n        -2.44137034, -2.44814361, -2.45128836, -2.46255034, -2.47669182,\n        -2.49217512, -2.49974543, -2.50899928, -2.51459302, -2.51565803,\n        -2.51784993, -2.52049368, -2.52517121, -2.53299892, -2.54113353,\n        -2.54135824, -2.54786394, -2.54670617, -2.54529662, -2.54125499]),\n 'split2_test_score': array([-2.79398853, -2.51219291, -2.53135101, -2.53383233, -2.51684832,\n        -2.48623629, -2.53112488, -2.52398463, -2.53959541, -2.55033245,\n        -2.55208928, -2.54337206, -2.53903817, -2.55311162, -2.55733275,\n        -2.57270301, -2.57916409, -2.58266724, -2.59133052, -2.61106415,\n        -2.63095351, -2.63887634, -2.6385949 , -2.65059577, -2.665449  ,\n        -2.67372974, -2.68161805, -2.69530851, -2.71028221, -2.72049701,\n        -2.721351  , -2.72360058, -2.72556161, -2.73613325, -2.74038397,\n        -2.7467635 , -2.75382563, -2.75898848, -2.7635109 , -2.76837846]),\n 'split3_test_score': array([-2.78295608, -2.59036793, -2.56273834, -2.59802841, -2.65380879,\n        -2.61016265, -2.63665188, -2.61502522, -2.60056876, -2.59189494,\n        -2.57101604, -2.57429837, -2.57984592, -2.57900379, -2.56924049,\n        -2.56954741, -2.55424508, -2.56393356, -2.56999089, -2.58082168,\n        -2.59532946, -2.58649691, -2.59087236, -2.60039888, -2.60793821,\n        -2.61319711, -2.61537189, -2.61227347, -2.62329849, -2.62947746,\n        -2.6340213 , -2.63387648, -2.63295182, -2.63602629, -2.64010916,\n        -2.64049685, -2.64295886, -2.65117794, -2.65735944, -2.65709186]),\n 'split4_test_score': array([-2.89167783, -2.67146215, -2.60974688, -2.5164669 , -2.46372409,\n        -2.49322938, -2.46575331, -2.46097186, -2.42282898, -2.39359512,\n        -2.38344225, -2.38534595, -2.39640404, -2.41740249, -2.43302653,\n        -2.42428199, -2.42065926, -2.43492847, -2.44180356, -2.44736507,\n        -2.45453007, -2.46688015, -2.46470008, -2.4765798 , -2.48841373,\n        -2.49773976, -2.49861255, -2.49200518, -2.48911206, -2.48820109,\n        -2.48661713, -2.49376754, -2.50074133, -2.50491261, -2.50830388,\n        -2.50761136, -2.50930223, -2.50859674, -2.50814404, -2.51408074]),\n 'split5_test_score': array([-3.04268509, -2.8531916 , -2.78411737, -2.76325064, -2.72183238,\n        -2.67292882, -2.67829949, -2.67999678, -2.69289151, -2.70097145,\n        -2.6963523 , -2.66263485, -2.66548131, -2.65694586, -2.64935552,\n        -2.64174864, -2.653037  , -2.65505589, -2.66125949, -2.66664124,\n        -2.67319228, -2.66855428, -2.66579471, -2.670334  , -2.67435735,\n        -2.68433946, -2.69192599, -2.69308673, -2.69662232, -2.70121709,\n        -2.69655413, -2.69529913, -2.69740479, -2.70146656, -2.70094093,\n        -2.70636471, -2.70545212, -2.70452824, -2.70442898, -2.70696556]),\n 'split6_test_score': array([-3.01532403, -2.83986302, -2.74691377, -2.64788381, -2.66710469,\n        -2.6843395 , -2.65433795, -2.66130563, -2.69059849, -2.67850837,\n        -2.64164799, -2.64457875, -2.62804543, -2.6262053 , -2.63757311,\n        -2.6516562 , -2.65149914, -2.65515006, -2.67173559, -2.66847916,\n        -2.67983567, -2.68718427, -2.69801993, -2.69705585, -2.70004844,\n        -2.69594207, -2.69978643, -2.69999116, -2.695801  , -2.69342344,\n        -2.69561887, -2.70673763, -2.71108866, -2.71265281, -2.7275372 ,\n        -2.73294763, -2.7387853 , -2.73368307, -2.73026317, -2.72503885]),\n 'split7_test_score': array([-3.0888532 , -2.95523386, -2.86371036, -2.72870655, -2.67264833,\n        -2.6844931 , -2.61330542, -2.60841835, -2.6027137 , -2.61780701,\n        -2.61964151, -2.64924703, -2.63535891, -2.64370379, -2.64040255,\n        -2.62939727, -2.62377862, -2.62106562, -2.61503269, -2.61426697,\n        -2.59815058, -2.60064845, -2.59766086, -2.60489152, -2.61007433,\n        -2.6148767 , -2.62456864, -2.62530993, -2.624975  , -2.62718064,\n        -2.63418447, -2.63205275, -2.62984812, -2.63143228, -2.63062999,\n        -2.63621432, -2.64092988, -2.64483765, -2.64600194, -2.64753606]),\n 'split8_test_score': array([-3.08625816, -2.73948917, -2.69816719, -2.62409408, -2.55665633,\n        -2.50207824, -2.50998845, -2.50131723, -2.51442422, -2.5240232 ,\n        -2.5199483 , -2.54145779, -2.54719154, -2.54944515, -2.54124966,\n        -2.55146967, -2.54609139, -2.5567846 , -2.550628  , -2.56125994,\n        -2.56859785, -2.58631377, -2.59635257, -2.59710396, -2.60707694,\n        -2.62062499, -2.62768559, -2.62643529, -2.63628019, -2.63825591,\n        -2.64434538, -2.64522497, -2.64860556, -2.65515915, -2.65211142,\n        -2.6578111 , -2.6675114 , -2.67561688, -2.67718304, -2.68499908]),\n 'split9_test_score': array([-3.00939204, -2.7558445 , -2.6674256 , -2.61320429, -2.58096823,\n        -2.58452186, -2.5825192 , -2.60362877, -2.60068734, -2.59566607,\n        -2.60904079, -2.61332739, -2.6020976 , -2.58486024, -2.6010632 ,\n        -2.60821179, -2.62061806, -2.63386744, -2.63721455, -2.64006546,\n        -2.63953315, -2.63603468, -2.6460894 , -2.66615965, -2.67755792,\n        -2.6720777 , -2.66541718, -2.66309147, -2.66729171, -2.67990196,\n        -2.68008409, -2.68054132, -2.68378697, -2.68178614, -2.68172006,\n        -2.68501777, -2.68293846, -2.68825977, -2.69118572, -2.69238494]),\n 'mean_test_score': array([-3.00350732, -2.75155587, -2.67168524, -2.61915404, -2.60061719,\n        -2.58690496, -2.57530861, -2.5719385 , -2.57572964, -2.57561163,\n        -2.56812196, -2.57122969, -2.56624573, -2.5693461 , -2.57300115,\n        -2.57444524, -2.57510533, -2.580026  , -2.586028  , -2.59270559,\n        -2.59856588, -2.6023396 , -2.60572057, -2.61502018, -2.62437108,\n        -2.63036587, -2.63378512, -2.63529353, -2.63974918, -2.64323721,\n        -2.64410093, -2.64573512, -2.64905366, -2.65323332, -2.65643518,\n        -2.65934019, -2.66315286, -2.66527476, -2.6669162 , -2.66877958]),\n 'std_test_score': array([0.13297311, 0.12557522, 0.10953826, 0.09194781, 0.08523535,\n        0.08993761, 0.08902047, 0.09225638, 0.0940326 , 0.09653237,\n        0.10027234, 0.10083256, 0.09789638, 0.08948791, 0.08643125,\n        0.08540583, 0.08961067, 0.09001595, 0.08734505, 0.08593189,\n        0.08509877, 0.08190124, 0.0832914 , 0.08289351, 0.08142054,\n        0.07742186, 0.07588931, 0.07701926, 0.07801537, 0.07941325,\n        0.07813632, 0.07678774, 0.07659596, 0.07633018, 0.07625246,\n        0.07751232, 0.07759859, 0.07778024, 0.07886345, 0.07921679]),\n 'rank_test_score': array([40, 39, 38, 21, 17, 14,  9,  5, 11, 10,  2,  4,  1,  3,  6,  7,  8,\n        12, 13, 15, 16, 18, 19, 20, 22, 23, 24, 25, 26, 27, 28, 29, 30, 31,\n        32, 33, 34, 35, 36, 37], dtype=int32),\n 'split0_train_score': array([-0.        , -1.48134136, -1.85389284, -2.0078386 , -2.10281321,\n        -2.1700942 , -2.21228171, -2.24935252, -2.27380505, -2.302671  ,\n        -2.32684738, -2.3416485 , -2.3581907 , -2.37675657, -2.39367804,\n        -2.40158815, -2.41099494, -2.41927688, -2.43266749, -2.44251864,\n        -2.45614327, -2.46715071, -2.48174529, -2.4922932 , -2.50284667,\n        -2.5139496 , -2.52267978, -2.52873348, -2.53515985, -2.54157346,\n        -2.54544725, -2.55164592, -2.56041274, -2.56665361, -2.57003765,\n        -2.57290997, -2.57984836, -2.58508007, -2.59205928, -2.59675389]),\n 'split1_train_score': array([-0.        , -1.49698037, -1.86546112, -2.01968464, -2.12894656,\n        -2.19265172, -2.23234328, -2.27053102, -2.30546959, -2.33355656,\n        -2.35322261, -2.3714207 , -2.38746343, -2.40502373, -2.41795248,\n        -2.43229953, -2.44225284, -2.45336437, -2.4626597 , -2.47088716,\n        -2.48484551, -2.49426111, -2.50599726, -2.51359985, -2.52367454,\n        -2.53228302, -2.54453514, -2.54983801, -2.55380282, -2.56252842,\n        -2.56720113, -2.56991488, -2.57514784, -2.5807964 , -2.5865806 ,\n        -2.59301126, -2.59769996, -2.60162513, -2.60583161, -2.60979774]),\n 'split2_train_score': array([-0.        , -1.51980046, -1.87367534, -2.03185445, -2.12377173,\n        -2.17631595, -2.22276094, -2.25300936, -2.2794419 , -2.32249702,\n        -2.34020966, -2.3542215 , -2.37181871, -2.39206124, -2.40514224,\n        -2.42048774, -2.43083803, -2.44328457, -2.45489944, -2.4649891 ,\n        -2.47994722, -2.488756  , -2.49930395, -2.50869049, -2.51368518,\n        -2.52462222, -2.53258217, -2.54087352, -2.54800011, -2.55337651,\n        -2.55878514, -2.56351971, -2.56912571, -2.5767148 , -2.58197317,\n        -2.58615935, -2.59092147, -2.59330631, -2.59834331, -2.60175204]),\n 'split3_train_score': array([-0.        , -1.52379299, -1.86060237, -2.01873679, -2.10494977,\n        -2.17020638, -2.21733919, -2.25788625, -2.29576061, -2.32060629,\n        -2.34225757, -2.35603244, -2.37552086, -2.39507718, -2.40875333,\n        -2.41935206, -2.42886491, -2.4411988 , -2.45081126, -2.45990795,\n        -2.47123472, -2.48055167, -2.4921475 , -2.50592963, -2.51244255,\n        -2.52471112, -2.53395214, -2.54080894, -2.54319871, -2.54785454,\n        -2.55294734, -2.55907463, -2.56509909, -2.57097991, -2.58022014,\n        -2.58343447, -2.58738659, -2.5909457 , -2.59634674, -2.59964211]),\n 'split4_train_score': array([-0.        , -1.49421486, -1.8533533 , -2.02619733, -2.12577681,\n        -2.18970354, -2.23327437, -2.27228773, -2.31303428, -2.33202087,\n        -2.36233364, -2.37842981, -2.3889412 , -2.40544388, -2.42066878,\n        -2.4282125 , -2.43939947, -2.45087291, -2.46295325, -2.47465771,\n        -2.48271862, -2.49159261, -2.50497657, -2.51255841, -2.52405998,\n        -2.53474039, -2.54456293, -2.55130101, -2.55538497, -2.56039312,\n        -2.56906034, -2.57589654, -2.58123495, -2.58587653, -2.59002412,\n        -2.59628072, -2.6051632 , -2.60653986, -2.60964612, -2.61603211]),\n 'split5_train_score': array([-0.        , -1.46522013, -1.84586612, -2.00665001, -2.09073069,\n        -2.1569606 , -2.19852362, -2.23461056, -2.26510833, -2.29751871,\n        -2.31894642, -2.33345391, -2.34756506, -2.36213159, -2.37792897,\n        -2.39207479, -2.40264734, -2.41495614, -2.4284091 , -2.43674828,\n        -2.4486425 , -2.46200808, -2.47278454, -2.48018818, -2.49270792,\n        -2.50323404, -2.50997725, -2.5229299 , -2.52666883, -2.53183191,\n        -2.53539673, -2.54069104, -2.54759556, -2.55344651, -2.55912078,\n        -2.56429939, -2.57047399, -2.57440045, -2.57826859, -2.58216942]),\n 'split6_train_score': array([-0.        , -1.50761587, -1.8434741 , -2.01735682, -2.10303387,\n        -2.16136025, -2.19617685, -2.23691242, -2.27434121, -2.29735111,\n        -2.32649828, -2.33924701, -2.36036919, -2.38052037, -2.39365823,\n        -2.40591754, -2.4116179 , -2.42084858, -2.43138298, -2.4424614 ,\n        -2.45054827, -2.46447635, -2.47437752, -2.48624943, -2.49670809,\n        -2.5056635 , -2.51477271, -2.52439511, -2.52820452, -2.53306886,\n        -2.54137286, -2.54741628, -2.55233504, -2.55741318, -2.56498174,\n        -2.56980077, -2.57261139, -2.57751818, -2.58181161, -2.58451187]),\n 'split7_train_score': array([-0.        , -1.49836836, -1.82430017, -1.99345624, -2.10488732,\n        -2.15425955, -2.19244776, -2.22448574, -2.27009899, -2.30198604,\n        -2.32238197, -2.33852792, -2.348289  , -2.36569182, -2.37809327,\n        -2.39500212, -2.40815686, -2.42205778, -2.43342817, -2.44359518,\n        -2.45529306, -2.47476945, -2.48241142, -2.49319102, -2.50527888,\n        -2.51526994, -2.52432509, -2.53184997, -2.53834007, -2.54350061,\n        -2.54935131, -2.55527994, -2.5610553 , -2.56886768, -2.57421633,\n        -2.58054675, -2.58419654, -2.58699435, -2.58891491, -2.59628282]),\n 'split8_train_score': array([-0.        , -1.49922272, -1.85706985, -2.0234325 , -2.12351302,\n        -2.17930142, -2.22033893, -2.26295258, -2.29218077, -2.3215887 ,\n        -2.34085828, -2.36400045, -2.37090757, -2.38558235, -2.40011795,\n        -2.41158446, -2.42252818, -2.42805878, -2.4409181 , -2.45576304,\n        -2.47056964, -2.48059775, -2.49317068, -2.50258464, -2.50943909,\n        -2.51865679, -2.53084626, -2.53799123, -2.54465069, -2.54920713,\n        -2.55276683, -2.55887931, -2.56321604, -2.56864413, -2.57752476,\n        -2.58487483, -2.58783894, -2.59440272, -2.59977787, -2.60425571]),\n 'split9_train_score': array([-0.        , -1.47170956, -1.84142067, -2.00764326, -2.10472638,\n        -2.18863971, -2.2296165 , -2.26138816, -2.2919286 , -2.31777926,\n        -2.33632525, -2.35802674, -2.37431165, -2.39305716, -2.41657343,\n        -2.42530335, -2.42815828, -2.4356311 , -2.44499144, -2.46309766,\n        -2.47517036, -2.48543501, -2.49627949, -2.50429738, -2.51510444,\n        -2.52687316, -2.53786741, -2.54481798, -2.55169121, -2.55463556,\n        -2.55918543, -2.56650098, -2.57192449, -2.57579222, -2.58152822,\n        -2.58839725, -2.59405351, -2.59655593, -2.60197368, -2.6057432 ]),\n 'mean_train_score': array([ 0.        , -1.49582667, -1.85191159, -2.01528506, -2.11131494,\n        -2.17394933, -2.21551031, -2.25234164, -2.28611693, -2.31475755,\n        -2.33698811, -2.3535009 , -2.36833774, -2.38613459, -2.40125667,\n        -2.41318222, -2.42254588, -2.43295499, -2.44431209, -2.45546261,\n        -2.46751132, -2.47895987, -2.49031942, -2.49995822, -2.50959473,\n        -2.52000038, -2.52961009, -2.53735392, -2.54251018, -2.54779701,\n        -2.55315144, -2.55888192, -2.56471468, -2.5705185 , -2.57662075,\n        -2.58197148, -2.5870194 , -2.59073687, -2.59529737, -2.59969409]),\n 'std_train_score': array([0.        , 0.01801662, 0.01321204, 0.01077253, 0.01230362,\n        0.01308315, 0.01442831, 0.01513822, 0.01515044, 0.01307932,\n        0.0130814 , 0.01431763, 0.01377032, 0.01416505, 0.01469243,\n        0.01339974, 0.0129168 , 0.01311394, 0.01234732, 0.0126606 ,\n        0.01300216, 0.01091317, 0.01134024, 0.01079735, 0.00988989,\n        0.0100318 , 0.01106933, 0.00954676, 0.00969427, 0.00992249,\n        0.01023027, 0.01009219, 0.00966344, 0.00944617, 0.00914433,\n        0.00969845, 0.01024459, 0.00953862, 0.0095653 , 0.00994257])}"
     },
     "execution_count": 25,
     "metadata": {},
     "output_type": "execute_result"
    }
   ],
   "source": [
    "knn_grid_ica.cv_results_"
   ],
   "metadata": {
    "collapsed": false
   }
  },
  {
   "cell_type": "code",
   "execution_count": 31,
   "outputs": [],
   "source": [
    "def plot_rmse_line(grid_search_list, label_list, fig_name):\n",
    "\n",
    "    plt.figure(figsize=(16, 8))\n",
    "\n",
    "    for i in range(len(grid_search_list)):\n",
    "        grid_search = grid_search_list[i]\n",
    "        cv_result = grid_search.cv_results_\n",
    "        mean_test_score = np.abs(cv_result['mean_test_score'])\n",
    "        min_x = np.argmin(mean_test_score) + 1\n",
    "        min_y = np.min(mean_test_score)\n",
    "\n",
    "        plt.plot(mean_test_score, label=label_list[i])\n",
    "        if i == len(grid_search_list) - 1:\n",
    "            plt.scatter(min_x, min_y, c='r', marker='x', label='minimum')\n",
    "        else:\n",
    "            plt.scatter(min_x, min_y, c='r', marker='x')\n",
    "\n",
    "    plt.legend()\n",
    "    plt.xlabel('K neighbours')\n",
    "    plt.ylabel('RMSE')\n",
    "    plt.savefig('../Figures/' + fig_name)\n",
    "    plt.show()"
   ],
   "metadata": {
    "collapsed": false
   }
  },
  {
   "cell_type": "code",
   "execution_count": 32,
   "outputs": [
    {
     "data": {
      "text/plain": "<Figure size 1600x800 with 1 Axes>",
      "image/png": "[encoded data removed]"
     },
     "metadata": {},
     "output_type": "display_data"
    }
   ],
   "source": [
    "grid_search_list = [knn_grid_pca, knn_grid_ica, knn_grid_tsne]\n",
    "label_list = ['PCA Embeddings', 'ICA Embeddings', 'tSNE Embeddings']\n",
    "plot_rmse_line(grid_search_list, label_list, 'KNN_model_selection.pdf')"
   ],
   "metadata": {
    "collapsed": false
   }
  },
  {
   "cell_type": "markdown",
   "source": [
    "#### Use the best K parameters"
   ],
   "metadata": {
    "collapsed": false
   }
  },
  {
   "cell_type": "code",
   "execution_count": 33,
   "outputs": [],
   "source": [
    "knn_22 = KNeighborsRegressor(n_neighbors=22) # PCA\n",
    "knn_13 = KNeighborsRegressor(n_neighbors=13) # ICA\n",
    "knn_12 = KNeighborsRegressor(n_neighbors=12) # TSNE"
   ],
   "metadata": {
    "collapsed": false
   }
  },
  {
   "cell_type": "code",
   "execution_count": 39,
   "outputs": [
    {
     "name": "stdout",
     "output_type": "stream",
     "text": [
      "Root mean squared error (PCA Embeddings): 92.45 Millions\n",
      "Root mean squared error (PCA Embeddings): 14.28 %\n"
     ]
    }
   ],
   "source": [
    "knn_22.fit(X_train_pca, np.log(1 + y_train))\n",
    "y_pred_knn_22_pca = np.exp(knn_22.predict(X_test_pca)) - 1\n",
    "print(\"Root mean squared error (PCA Embeddings): {:.2f} Millions\".format(np.sqrt(mean_squared_error(y_test, y_pred_knn_22_pca))/1000000))\n",
    "print(\"R-square (PCA Embeddings): {:.2f} %\".format(r2_score(y_test, y_pred_knn_22_pca)*100))"
   ],
   "metadata": {
    "collapsed": false
   }
  },
  {
   "cell_type": "code",
   "execution_count": 43,
   "outputs": [
    {
     "name": "stdout",
     "output_type": "stream",
     "text": [
      "Root mean squared error (ICA Embeddings): 82.24 Millions\n",
      "Root mean squared error (ICA Embeddings): 32.18 %\n"
     ]
    }
   ],
   "source": [
    "knn_13.fit(X_train_ica, np.log(1 + y_train))\n",
    "y_pred_knn_13_ica = np.exp(knn_13.predict(X_test_ica)) - 1\n",
    "print(\"Root mean squared error (ICA Embeddings): {:.2f} Millions\".format(np.sqrt(mean_squared_error(y_test, y_pred_knn_13_ica))/1000000))\n",
    "print(\"R-square (ICA Embeddings): {:.2f} %\".format(r2_score(y_test, y_pred_knn_13_ica)*100))"
   ],
   "metadata": {
    "collapsed": false
   }
  },
  {
   "cell_type": "code",
   "execution_count": 44,
   "outputs": [
    {
     "name": "stdout",
     "output_type": "stream",
     "text": [
      "Root mean squared error (TSNE Embeddings): 104.16 Millions\n",
      "Root mean squared error (TSNE Embeddings): -8.79 %\n"
     ]
    }
   ],
   "source": [
    "knn_12.fit(X_train_tsne, np.log(1 + y_train))\n",
    "y_pred_knn_12_ica = np.exp(knn_12.predict(X_test_tsne)) - 1\n",
    "print(\"Root mean squared error (TSNE Embeddings): {:.2f} Millions\".format(np.sqrt(mean_squared_error(y_test, y_pred_knn_12_ica))/1000000))\n",
    "print(\"R-square (TSNE Embeddings): {:.2f} %\".format(r2_score(y_test, y_pred_knn_12_ica)*100))"
   ],
   "metadata": {
    "collapsed": false
   }
  },
  {
   "cell_type": "markdown",
   "source": [
    "### 5.3 MLP"
   ],
   "metadata": {
    "collapsed": false
   }
  },
  {
   "cell_type": "code",
   "execution_count": 48,
   "outputs": [],
   "source": [
    "mlp = MLPRegressor(random_state=42, max_iter=1000, verbose=0)\n",
    "hidden_layer_lists = [\n",
    "    (200,),\n",
    "    (200, 175,),\n",
    "    (200, 175, 150,),\n",
    "    (200, 175, 150, 125,),\n",
    "    (200, 175, 150, 125, 100,),\n",
    "    (200, 175, 150, 125, 100, 75,),\n",
    "    (200, 175, 150, 125, 100, 75, 50,),\n",
    "    (200, 175, 150, 125, 100, 75, 50, 25,),\n",
    "    (200, 175, 150, 125, 100, 75, 50, 25, 10)\n",
    "]\n",
    "mlp_parameter_grid = {\n",
    "    'hidden_layer_sizes': hidden_layer_lists,\n",
    "    'activation': ['tanh', 'relu'],\n",
    "    'solver': ['sgd', 'adam'],\n",
    "    'alpha': [0.0001, 0.05],\n",
    "    'batch_size': [177],\n",
    "    'learning_rate': ['constant','adaptive'],\n",
    "}"
   ],
   "metadata": {
    "collapsed": false
   }
  },
  {
   "cell_type": "code",
   "execution_count": 49,
   "outputs": [],
   "source": [
    "mlp_grid_pca = GridSearchCV(mlp, mlp_parameter_grid, cv=10, scoring='neg_root_mean_squared_error', return_train_score=True,verbose=2)\n",
    "mlp_grid_ica = GridSearchCV(mlp, mlp_parameter_grid, cv=10, scoring='neg_root_mean_squared_error', return_train_score=True,verbose=2)\n",
    "mlp_grid_tsne = GridSearchCV(mlp, mlp_parameter_grid, cv=10, scoring='neg_root_mean_squared_error', return_train_score=True,verbose=2)"
   ],
   "metadata": {
    "collapsed": false
   }
  },
  {
   "cell_type": "code",
   "execution_count": 50,
   "outputs": [],
   "source": [
    "## Find the best parameters for mlp regressor using three different features\n",
    "# mlp_grid_pca.fit(X_train_pca, np.log(1 + y_train))\n",
    "# mlp_grid_ica.fit(X_train_ica, np.log(1 + y_train))\n",
    "# mlp_grid_tsne.fit(X_train_tsne, np.log(1 + y_train))\n",
    "\n",
    "## Save the grid search results\n",
    "# torch.save(mlp_grid_pca, \"../models/mlp_grid_pca\")\n",
    "# torch.save(mlp_grid_ica, \"../models/mlp_grid_ica\")\n",
    "# torch.save(mlp_grid_tsne, \"../models/mlp_grid_tsne\")"
   ],
   "metadata": {
    "collapsed": false
   }
  },
  {
   "cell_type": "code",
   "execution_count": 22,
   "outputs": [],
   "source": [
    "## Load the model selection results\n",
    "mlp_grid_pca = torch.load(\"../models/mlp_grid_pca\")\n",
    "mlp_grid_ica = torch.load(\"../models/mlp_grid_ica\")\n",
    "mlp_grid_tsne = torch.load(\"../models/mlp_grid_tsne\")"
   ],
   "metadata": {
    "collapsed": false
   }
  },
  {
   "cell_type": "code",
   "execution_count": 53,
   "outputs": [
    {
     "name": "stdout",
     "output_type": "stream",
     "text": [
      "[mlp_grid_pca] The best parameters are: {'activation': 'tanh', 'alpha': 0.0001, 'batch_size': 177, 'hidden_layer_sizes': (200,), 'learning_rate': 'constant', 'solver': 'adam'}\n",
      "[mlp_grid_pca] The best RMSE is: -2.366255956054574\n",
      "\n",
      "[mlp_grid_ica] The best parameters are: {'activation': 'relu', 'alpha': 0.0001, 'batch_size': 177, 'hidden_layer_sizes': (200,), 'learning_rate': 'adaptive', 'solver': 'sgd'}\n",
      "[mlp_grid_ica] The best RMSE is: -2.189728879932728\n",
      "\n",
      "[mlp_grid_tsne] The best parameters are: {'activation': 'relu', 'alpha': 0.0001, 'batch_size': 177, 'hidden_layer_sizes': (200,), 'learning_rate': 'constant', 'solver': 'adam'}\n",
      "[mlp_grid_tsne] The best RMSE is: -2.2697205948344994\n"
     ]
    }
   ],
   "source": [
    "print(\"[mlp_grid_pca] The best parameters are:\", mlp_grid_pca.best_params_)\n",
    "print(\"[mlp_grid_pca] The best RMSE is:\", mlp_grid_pca.best_score_)\n",
    "print()\n",
    "print(\"[mlp_grid_ica] The best parameters are:\", mlp_grid_ica.best_params_)\n",
    "print(\"[mlp_grid_ica] The best RMSE is:\", mlp_grid_ica.best_score_)\n",
    "print()\n",
    "print(\"[mlp_grid_tsne] The best parameters are:\", mlp_grid_tsne.best_params_)\n",
    "print(\"[mlp_grid_tsne] The best RMSE is:\", mlp_grid_tsne.best_score_)"
   ],
   "metadata": {
    "collapsed": false
   }
  },
  {
   "cell_type": "markdown",
   "source": [
    "#### Use the best parameters for MLP regressor"
   ],
   "metadata": {
    "collapsed": false
   }
  },
  {
   "cell_type": "code",
   "execution_count": 24,
   "outputs": [],
   "source": [
    "mlp_pca = MLPRegressor(\n",
    "    hidden_layer_sizes=(200,),\n",
    "    learning_rate='constant',\n",
    "    solver='adam',\n",
    "    activation='tanh',\n",
    "    alpha=0.0001,\n",
    "    batch_size=177,\n",
    "    random_state=42, max_iter=1000, verbose=0\n",
    ")\n",
    "\n",
    "mlp_ica = MLPRegressor(\n",
    "    hidden_layer_sizes=(200,),\n",
    "    learning_rate='adaptive',\n",
    "    solver='sgd',\n",
    "    activation='relu',\n",
    "    alpha=0.0001,\n",
    "    batch_size=177,\n",
    "    random_state=42, max_iter=1000, verbose=0\n",
    ")\n",
    "\n",
    "mlp_tsne = MLPRegressor(\n",
    "    hidden_layer_sizes=(200,),\n",
    "    learning_rate='constant',\n",
    "    solver='adam',\n",
    "    activation='relu',\n",
    "    alpha=0.0001,\n",
    "    batch_size=177,\n",
    "    random_state=42, max_iter=1000, verbose=0\n",
    ")"
   ],
   "metadata": {
    "collapsed": false
   }
  },
  {
   "cell_type": "code",
   "execution_count": 27,
   "outputs": [
    {
     "name": "stdout",
     "output_type": "stream",
     "text": [
      "Root mean squared error (PCA Embeddings): 179.91 Millions\n",
      "R-square (PCA Embeddings): -224.61 %\n"
     ]
    }
   ],
   "source": [
    "mlp_pca.fit(X_train_pca, np.log(1 + y_train))\n",
    "y_pred_mlp_pca = np.exp(mlp_pca.predict(X_test_pca)) - 1\n",
    "print(\"Root mean squared error (PCA Embeddings): {:.2f} Millions\".format(np.sqrt(mean_squared_error(y_test, y_pred_mlp_pca))/1000000))\n",
    "print(\"R-square (PCA Embeddings): {:.2f} %\".format(r2_score(y_test, y_pred_mlp_pca)*100))"
   ],
   "metadata": {
    "collapsed": false
   }
  },
  {
   "cell_type": "code",
   "execution_count": 57,
   "outputs": [
    {
     "name": "stdout",
     "output_type": "stream",
     "text": [
      "Root mean squared error (PCA Embeddings): 174.54 Millions\n",
      "R-square (PCA Embeddings): -205.51 %\n"
     ]
    },
    {
     "name": "stderr",
     "output_type": "stream",
     "text": [
      "/Users/maurice/opt/anaconda3/lib/python3.7/site-packages/sklearn/neural_network/_multilayer_perceptron.py:696: ConvergenceWarning: Stochastic Optimizer: Maximum iterations (1000) reached and the optimization hasn't converged yet.\n",
      "  ConvergenceWarning,\n"
     ]
    }
   ],
   "source": [
    "mlp_ica.fit(X_train_ica, np.log(1 + y_train))\n",
    "y_pred_mlp_ica = np.exp(mlp_ica.predict(X_test_ica)) - 1\n",
    "print(\"Root mean squared error (ICA Embeddings): {:.2f} Millions\".format(np.sqrt(mean_squared_error(y_test, y_pred_mlp_ica))/1000000))\n",
    "print(\"R-square (ICA Embeddings): {:.2f} %\".format(r2_score(y_test, y_pred_mlp_ica)*100))"
   ],
   "metadata": {
    "collapsed": false
   }
  },
  {
   "cell_type": "code",
   "execution_count": 58,
   "outputs": [
    {
     "name": "stdout",
     "output_type": "stream",
     "text": [
      "Root mean squared error (PCA Embeddings): 467.67 Millions\n",
      "R-square (PCA Embeddings): -2093.34 %\n"
     ]
    }
   ],
   "source": [
    "mlp_tsne.fit(X_train_tsne, np.log(1 + y_train))\n",
    "y_pred_mlp_tsne = np.exp(mlp_tsne.predict(X_test_tsne)) - 1\n",
    "print(\"Root mean squared error (PCA Embeddings): {:.2f} Millions\".format(np.sqrt(mean_squared_error(y_test, y_pred_mlp_tsne))/1000000))\n",
    "print(\"R-square (PCA Embeddings): {:.2f} %\".format(r2_score(y_test, y_pred_mlp_tsne)*100))"
   ],
   "metadata": {
    "collapsed": false
   }
  },
  {
   "cell_type": "markdown",
   "source": [
    "### 5.4 Random Forest"
   ],
   "metadata": {
    "collapsed": false
   }
  },
  {
   "cell_type": "code",
   "execution_count": 8,
   "outputs": [],
   "source": [
    "rfr = RandomForestRegressor(random_state=42)\n",
    "rfr_param_grid = {\n",
    "    'n_estimators': [200, 400, 600],\n",
    "    'bootstrap': [True, False],\n",
    "     'max_depth': [10],\n",
    "     'max_features': ['log2'],\n",
    "     'min_samples_leaf': [2, 4],\n",
    "     'min_samples_split': [2, 5],\n",
    "}"
   ],
   "metadata": {
    "collapsed": false
   }
  },
  {
   "cell_type": "code",
   "execution_count": 9,
   "outputs": [],
   "source": [
    "rfr_grid_pca = GridSearchCV(rfr, rfr_param_grid, cv=10, scoring='neg_root_mean_squared_error', return_train_score=True,verbose=2)\n",
    "rfr_grid_ica = GridSearchCV(rfr, rfr_param_grid, cv=10, scoring='neg_root_mean_squared_error', return_train_score=True,verbose=2)\n",
    "rfr_grid_tsne = GridSearchCV(rfr, rfr_param_grid, cv=10, scoring='neg_root_mean_squared_error', return_train_score=True,verbose=2)"
   ],
   "metadata": {
    "collapsed": false
   }
  },
  {
   "cell_type": "code",
   "execution_count": 10,
   "outputs": [
    {
     "name": "stdout",
     "output_type": "stream",
     "text": [
      "Fitting 10 folds for each of 24 candidates, totalling 240 fits\n",
      "[CV] END bootstrap=True, max_depth=10, max_features=log2, min_samples_leaf=2, min_samples_split=2, n_estimators=200; total time=   5.2s\n",
      "[CV] END bootstrap=True, max_depth=10, max_features=log2, min_samples_leaf=2, min_samples_split=2, n_estimators=200; total time=   5.1s\n",
      "[CV] END bootstrap=True, max_depth=10, max_features=log2, min_samples_leaf=2, min_samples_split=2, n_estimators=200; total time=   3.7s\n",
      "[CV] END bootstrap=True, max_depth=10, max_features=log2, min_samples_leaf=2, min_samples_split=2, n_estimators=200; total time=   2.8s\n",
      "[CV] END bootstrap=True, max_depth=10, max_features=log2, min_samples_leaf=2, min_samples_split=2, n_estimators=200; total time=   2.0s\n",
      "[CV] END bootstrap=True, max_depth=10, max_features=log2, min_samples_leaf=2, min_samples_split=2, n_estimators=200; total time=   1.9s\n",
      "[CV] END bootstrap=True, max_depth=10, max_features=log2, min_samples_leaf=2, min_samples_split=2, n_estimators=200; total time=   1.8s\n",
      "[CV] END bootstrap=True, max_depth=10, max_features=log2, min_samples_leaf=2, min_samples_split=2, n_estimators=200; total time=   1.9s\n",
      "[CV] END bootstrap=True, max_depth=10, max_features=log2, min_samples_leaf=2, min_samples_split=2, n_estimators=200; total time=   1.9s\n",
      "[CV] END bootstrap=True, max_depth=10, max_features=log2, min_samples_leaf=2, min_samples_split=2, n_estimators=200; total time=   1.9s\n",
      "[CV] END bootstrap=True, max_depth=10, max_features=log2, min_samples_leaf=2, min_samples_split=2, n_estimators=400; total time=   4.5s\n",
      "[CV] END bootstrap=True, max_depth=10, max_features=log2, min_samples_leaf=2, min_samples_split=2, n_estimators=400; total time=   3.9s\n",
      "[CV] END bootstrap=True, max_depth=10, max_features=log2, min_samples_leaf=2, min_samples_split=2, n_estimators=400; total time=   5.6s\n",
      "[CV] END bootstrap=True, max_depth=10, max_features=log2, min_samples_leaf=2, min_samples_split=2, n_estimators=400; total time=  10.4s\n",
      "[CV] END bootstrap=True, max_depth=10, max_features=log2, min_samples_leaf=2, min_samples_split=2, n_estimators=400; total time=   5.9s\n",
      "[CV] END bootstrap=True, max_depth=10, max_features=log2, min_samples_leaf=2, min_samples_split=2, n_estimators=400; total time=   5.3s\n",
      "[CV] END bootstrap=True, max_depth=10, max_features=log2, min_samples_leaf=2, min_samples_split=2, n_estimators=400; total time=   6.0s\n",
      "[CV] END bootstrap=True, max_depth=10, max_features=log2, min_samples_leaf=2, min_samples_split=2, n_estimators=400; total time=   5.6s\n",
      "[CV] END bootstrap=True, max_depth=10, max_features=log2, min_samples_leaf=2, min_samples_split=2, n_estimators=400; total time=   4.0s\n",
      "[CV] END bootstrap=True, max_depth=10, max_features=log2, min_samples_leaf=2, min_samples_split=2, n_estimators=400; total time=   5.6s\n",
      "[CV] END bootstrap=True, max_depth=10, max_features=log2, min_samples_leaf=2, min_samples_split=2, n_estimators=600; total time=   8.4s\n",
      "[CV] END bootstrap=True, max_depth=10, max_features=log2, min_samples_leaf=2, min_samples_split=2, n_estimators=600; total time=   5.8s\n",
      "[CV] END bootstrap=True, max_depth=10, max_features=log2, min_samples_leaf=2, min_samples_split=2, n_estimators=600; total time=   5.5s\n",
      "[CV] END bootstrap=True, max_depth=10, max_features=log2, min_samples_leaf=2, min_samples_split=2, n_estimators=600; total time=   5.5s\n",
      "[CV] END bootstrap=True, max_depth=10, max_features=log2, min_samples_leaf=2, min_samples_split=2, n_estimators=600; total time=  11.6s\n",
      "[CV] END bootstrap=True, max_depth=10, max_features=log2, min_samples_leaf=2, min_samples_split=2, n_estimators=600; total time=  11.5s\n",
      "[CV] END bootstrap=True, max_depth=10, max_features=log2, min_samples_leaf=2, min_samples_split=2, n_estimators=600; total time=   8.0s\n",
      "[CV] END bootstrap=True, max_depth=10, max_features=log2, min_samples_leaf=2, min_samples_split=2, n_estimators=600; total time=   7.6s\n",
      "[CV] END bootstrap=True, max_depth=10, max_features=log2, min_samples_leaf=2, min_samples_split=2, n_estimators=600; total time=   6.6s\n",
      "[CV] END bootstrap=True, max_depth=10, max_features=log2, min_samples_leaf=2, min_samples_split=2, n_estimators=600; total time=   5.7s\n",
      "[CV] END bootstrap=True, max_depth=10, max_features=log2, min_samples_leaf=2, min_samples_split=5, n_estimators=200; total time=   3.7s\n",
      "[CV] END bootstrap=True, max_depth=10, max_features=log2, min_samples_leaf=2, min_samples_split=5, n_estimators=200; total time=   6.4s\n",
      "[CV] END bootstrap=True, max_depth=10, max_features=log2, min_samples_leaf=2, min_samples_split=5, n_estimators=200; total time=   8.9s\n",
      "[CV] END bootstrap=True, max_depth=10, max_features=log2, min_samples_leaf=2, min_samples_split=5, n_estimators=200; total time=   4.3s\n",
      "[CV] END bootstrap=True, max_depth=10, max_features=log2, min_samples_leaf=2, min_samples_split=5, n_estimators=200; total time=   3.1s\n",
      "[CV] END bootstrap=True, max_depth=10, max_features=log2, min_samples_leaf=2, min_samples_split=5, n_estimators=200; total time=   2.1s\n",
      "[CV] END bootstrap=True, max_depth=10, max_features=log2, min_samples_leaf=2, min_samples_split=5, n_estimators=200; total time=   2.0s\n",
      "[CV] END bootstrap=True, max_depth=10, max_features=log2, min_samples_leaf=2, min_samples_split=5, n_estimators=200; total time=   2.0s\n",
      "[CV] END bootstrap=True, max_depth=10, max_features=log2, min_samples_leaf=2, min_samples_split=5, n_estimators=200; total time=   2.2s\n",
      "[CV] END bootstrap=True, max_depth=10, max_features=log2, min_samples_leaf=2, min_samples_split=5, n_estimators=200; total time=   2.8s\n",
      "[CV] END bootstrap=True, max_depth=10, max_features=log2, min_samples_leaf=2, min_samples_split=5, n_estimators=400; total time=   4.8s\n",
      "[CV] END bootstrap=True, max_depth=10, max_features=log2, min_samples_leaf=2, min_samples_split=5, n_estimators=400; total time=   6.0s\n",
      "[CV] END bootstrap=True, max_depth=10, max_features=log2, min_samples_leaf=2, min_samples_split=5, n_estimators=400; total time=   8.7s\n",
      "[CV] END bootstrap=True, max_depth=10, max_features=log2, min_samples_leaf=2, min_samples_split=5, n_estimators=400; total time=   4.9s\n",
      "[CV] END bootstrap=True, max_depth=10, max_features=log2, min_samples_leaf=2, min_samples_split=5, n_estimators=400; total time=   5.5s\n",
      "[CV] END bootstrap=True, max_depth=10, max_features=log2, min_samples_leaf=2, min_samples_split=5, n_estimators=400; total time=   4.4s\n",
      "[CV] END bootstrap=True, max_depth=10, max_features=log2, min_samples_leaf=2, min_samples_split=5, n_estimators=400; total time=   4.6s\n",
      "[CV] END bootstrap=True, max_depth=10, max_features=log2, min_samples_leaf=2, min_samples_split=5, n_estimators=400; total time=   5.9s\n",
      "[CV] END bootstrap=True, max_depth=10, max_features=log2, min_samples_leaf=2, min_samples_split=5, n_estimators=400; total time=   4.5s\n",
      "[CV] END bootstrap=True, max_depth=10, max_features=log2, min_samples_leaf=2, min_samples_split=5, n_estimators=400; total time=   3.7s\n",
      "[CV] END bootstrap=True, max_depth=10, max_features=log2, min_samples_leaf=2, min_samples_split=5, n_estimators=600; total time=   6.3s\n",
      "[CV] END bootstrap=True, max_depth=10, max_features=log2, min_samples_leaf=2, min_samples_split=5, n_estimators=600; total time=   7.7s\n",
      "[CV] END bootstrap=True, max_depth=10, max_features=log2, min_samples_leaf=2, min_samples_split=5, n_estimators=600; total time=   9.4s\n",
      "[CV] END bootstrap=True, max_depth=10, max_features=log2, min_samples_leaf=2, min_samples_split=5, n_estimators=600; total time=   8.9s\n",
      "[CV] END bootstrap=True, max_depth=10, max_features=log2, min_samples_leaf=2, min_samples_split=5, n_estimators=600; total time=   7.6s\n",
      "[CV] END bootstrap=True, max_depth=10, max_features=log2, min_samples_leaf=2, min_samples_split=5, n_estimators=600; total time=   8.5s\n",
      "[CV] END bootstrap=True, max_depth=10, max_features=log2, min_samples_leaf=2, min_samples_split=5, n_estimators=600; total time=   8.6s\n",
      "[CV] END bootstrap=True, max_depth=10, max_features=log2, min_samples_leaf=2, min_samples_split=5, n_estimators=600; total time=   6.6s\n",
      "[CV] END bootstrap=True, max_depth=10, max_features=log2, min_samples_leaf=2, min_samples_split=5, n_estimators=600; total time=   5.6s\n",
      "[CV] END bootstrap=True, max_depth=10, max_features=log2, min_samples_leaf=2, min_samples_split=5, n_estimators=600; total time=   5.8s\n",
      "[CV] END bootstrap=True, max_depth=10, max_features=log2, min_samples_leaf=4, min_samples_split=2, n_estimators=200; total time=   4.9s\n",
      "[CV] END bootstrap=True, max_depth=10, max_features=log2, min_samples_leaf=4, min_samples_split=2, n_estimators=200; total time=   3.4s\n",
      "[CV] END bootstrap=True, max_depth=10, max_features=log2, min_samples_leaf=4, min_samples_split=2, n_estimators=200; total time=   2.1s\n",
      "[CV] END bootstrap=True, max_depth=10, max_features=log2, min_samples_leaf=4, min_samples_split=2, n_estimators=200; total time=   1.8s\n",
      "[CV] END bootstrap=True, max_depth=10, max_features=log2, min_samples_leaf=4, min_samples_split=2, n_estimators=200; total time=   2.6s\n",
      "[CV] END bootstrap=True, max_depth=10, max_features=log2, min_samples_leaf=4, min_samples_split=2, n_estimators=200; total time=   1.9s\n",
      "[CV] END bootstrap=True, max_depth=10, max_features=log2, min_samples_leaf=4, min_samples_split=2, n_estimators=200; total time=   2.4s\n",
      "[CV] END bootstrap=True, max_depth=10, max_features=log2, min_samples_leaf=4, min_samples_split=2, n_estimators=200; total time=   1.9s\n",
      "[CV] END bootstrap=True, max_depth=10, max_features=log2, min_samples_leaf=4, min_samples_split=2, n_estimators=200; total time=   2.0s\n",
      "[CV] END bootstrap=True, max_depth=10, max_features=log2, min_samples_leaf=4, min_samples_split=2, n_estimators=200; total time=   3.6s\n",
      "[CV] END bootstrap=True, max_depth=10, max_features=log2, min_samples_leaf=4, min_samples_split=2, n_estimators=400; total time=   4.7s\n",
      "[CV] END bootstrap=True, max_depth=10, max_features=log2, min_samples_leaf=4, min_samples_split=2, n_estimators=400; total time=   4.6s\n",
      "[CV] END bootstrap=True, max_depth=10, max_features=log2, min_samples_leaf=4, min_samples_split=2, n_estimators=400; total time=   3.7s\n",
      "[CV] END bootstrap=True, max_depth=10, max_features=log2, min_samples_leaf=4, min_samples_split=2, n_estimators=400; total time=   3.7s\n",
      "[CV] END bootstrap=True, max_depth=10, max_features=log2, min_samples_leaf=4, min_samples_split=2, n_estimators=400; total time=   3.5s\n",
      "[CV] END bootstrap=True, max_depth=10, max_features=log2, min_samples_leaf=4, min_samples_split=2, n_estimators=400; total time=   3.5s\n",
      "[CV] END bootstrap=True, max_depth=10, max_features=log2, min_samples_leaf=4, min_samples_split=2, n_estimators=400; total time=   5.2s\n",
      "[CV] END bootstrap=True, max_depth=10, max_features=log2, min_samples_leaf=4, min_samples_split=2, n_estimators=400; total time=   3.7s\n",
      "[CV] END bootstrap=True, max_depth=10, max_features=log2, min_samples_leaf=4, min_samples_split=2, n_estimators=400; total time=   3.5s\n",
      "[CV] END bootstrap=True, max_depth=10, max_features=log2, min_samples_leaf=4, min_samples_split=2, n_estimators=400; total time=   4.1s\n",
      "[CV] END bootstrap=True, max_depth=10, max_features=log2, min_samples_leaf=4, min_samples_split=2, n_estimators=600; total time=   5.6s\n",
      "[CV] END bootstrap=True, max_depth=10, max_features=log2, min_samples_leaf=4, min_samples_split=2, n_estimators=600; total time=   5.4s\n",
      "[CV] END bootstrap=True, max_depth=10, max_features=log2, min_samples_leaf=4, min_samples_split=2, n_estimators=600; total time=   5.6s\n",
      "[CV] END bootstrap=True, max_depth=10, max_features=log2, min_samples_leaf=4, min_samples_split=2, n_estimators=600; total time=   5.6s\n",
      "[CV] END bootstrap=True, max_depth=10, max_features=log2, min_samples_leaf=4, min_samples_split=2, n_estimators=600; total time=   5.6s\n",
      "[CV] END bootstrap=True, max_depth=10, max_features=log2, min_samples_leaf=4, min_samples_split=2, n_estimators=600; total time=   5.5s\n",
      "[CV] END bootstrap=True, max_depth=10, max_features=log2, min_samples_leaf=4, min_samples_split=2, n_estimators=600; total time=   5.4s\n",
      "[CV] END bootstrap=True, max_depth=10, max_features=log2, min_samples_leaf=4, min_samples_split=2, n_estimators=600; total time=   5.3s\n",
      "[CV] END bootstrap=True, max_depth=10, max_features=log2, min_samples_leaf=4, min_samples_split=2, n_estimators=600; total time=   5.3s\n",
      "[CV] END bootstrap=True, max_depth=10, max_features=log2, min_samples_leaf=4, min_samples_split=2, n_estimators=600; total time=   5.2s\n",
      "[CV] END bootstrap=True, max_depth=10, max_features=log2, min_samples_leaf=4, min_samples_split=5, n_estimators=200; total time=   2.0s\n",
      "[CV] END bootstrap=True, max_depth=10, max_features=log2, min_samples_leaf=4, min_samples_split=5, n_estimators=200; total time=   1.8s\n",
      "[CV] END bootstrap=True, max_depth=10, max_features=log2, min_samples_leaf=4, min_samples_split=5, n_estimators=200; total time=   1.8s\n",
      "[CV] END bootstrap=True, max_depth=10, max_features=log2, min_samples_leaf=4, min_samples_split=5, n_estimators=200; total time=   1.8s\n",
      "[CV] END bootstrap=True, max_depth=10, max_features=log2, min_samples_leaf=4, min_samples_split=5, n_estimators=200; total time=   1.8s\n",
      "[CV] END bootstrap=True, max_depth=10, max_features=log2, min_samples_leaf=4, min_samples_split=5, n_estimators=200; total time=   1.9s\n",
      "[CV] END bootstrap=True, max_depth=10, max_features=log2, min_samples_leaf=4, min_samples_split=5, n_estimators=200; total time=   1.8s\n",
      "[CV] END bootstrap=True, max_depth=10, max_features=log2, min_samples_leaf=4, min_samples_split=5, n_estimators=200; total time=   1.8s\n",
      "[CV] END bootstrap=True, max_depth=10, max_features=log2, min_samples_leaf=4, min_samples_split=5, n_estimators=200; total time=   1.8s\n",
      "[CV] END bootstrap=True, max_depth=10, max_features=log2, min_samples_leaf=4, min_samples_split=5, n_estimators=200; total time=   1.8s\n",
      "[CV] END bootstrap=True, max_depth=10, max_features=log2, min_samples_leaf=4, min_samples_split=5, n_estimators=400; total time=   3.5s\n",
      "[CV] END bootstrap=True, max_depth=10, max_features=log2, min_samples_leaf=4, min_samples_split=5, n_estimators=400; total time=   3.5s\n",
      "[CV] END bootstrap=True, max_depth=10, max_features=log2, min_samples_leaf=4, min_samples_split=5, n_estimators=400; total time=   3.5s\n",
      "[CV] END bootstrap=True, max_depth=10, max_features=log2, min_samples_leaf=4, min_samples_split=5, n_estimators=400; total time=   3.5s\n",
      "[CV] END bootstrap=True, max_depth=10, max_features=log2, min_samples_leaf=4, min_samples_split=5, n_estimators=400; total time=   4.5s\n",
      "[CV] END bootstrap=True, max_depth=10, max_features=log2, min_samples_leaf=4, min_samples_split=5, n_estimators=400; total time=   3.7s\n",
      "[CV] END bootstrap=True, max_depth=10, max_features=log2, min_samples_leaf=4, min_samples_split=5, n_estimators=400; total time=   3.6s\n",
      "[CV] END bootstrap=True, max_depth=10, max_features=log2, min_samples_leaf=4, min_samples_split=5, n_estimators=400; total time=   3.6s\n",
      "[CV] END bootstrap=True, max_depth=10, max_features=log2, min_samples_leaf=4, min_samples_split=5, n_estimators=400; total time=   3.5s\n",
      "[CV] END bootstrap=True, max_depth=10, max_features=log2, min_samples_leaf=4, min_samples_split=5, n_estimators=400; total time=   3.5s\n",
      "[CV] END bootstrap=True, max_depth=10, max_features=log2, min_samples_leaf=4, min_samples_split=5, n_estimators=600; total time=   9.0s\n",
      "[CV] END bootstrap=True, max_depth=10, max_features=log2, min_samples_leaf=4, min_samples_split=5, n_estimators=600; total time=   7.6s\n",
      "[CV] END bootstrap=True, max_depth=10, max_features=log2, min_samples_leaf=4, min_samples_split=5, n_estimators=600; total time=   5.9s\n",
      "[CV] END bootstrap=True, max_depth=10, max_features=log2, min_samples_leaf=4, min_samples_split=5, n_estimators=600; total time=   5.5s\n",
      "[CV] END bootstrap=True, max_depth=10, max_features=log2, min_samples_leaf=4, min_samples_split=5, n_estimators=600; total time=   5.6s\n",
      "[CV] END bootstrap=True, max_depth=10, max_features=log2, min_samples_leaf=4, min_samples_split=5, n_estimators=600; total time=   5.4s\n",
      "[CV] END bootstrap=True, max_depth=10, max_features=log2, min_samples_leaf=4, min_samples_split=5, n_estimators=600; total time=   5.4s\n",
      "[CV] END bootstrap=True, max_depth=10, max_features=log2, min_samples_leaf=4, min_samples_split=5, n_estimators=600; total time=   6.5s\n",
      "[CV] END bootstrap=True, max_depth=10, max_features=log2, min_samples_leaf=4, min_samples_split=5, n_estimators=600; total time=   8.7s\n",
      "[CV] END bootstrap=True, max_depth=10, max_features=log2, min_samples_leaf=4, min_samples_split=5, n_estimators=600; total time=   5.8s\n",
      "[CV] END bootstrap=False, max_depth=10, max_features=log2, min_samples_leaf=2, min_samples_split=2, n_estimators=200; total time=   2.9s\n",
      "[CV] END bootstrap=False, max_depth=10, max_features=log2, min_samples_leaf=2, min_samples_split=2, n_estimators=200; total time=   2.9s\n",
      "[CV] END bootstrap=False, max_depth=10, max_features=log2, min_samples_leaf=2, min_samples_split=2, n_estimators=200; total time=   2.8s\n",
      "[CV] END bootstrap=False, max_depth=10, max_features=log2, min_samples_leaf=2, min_samples_split=2, n_estimators=200; total time=   2.7s\n",
      "[CV] END bootstrap=False, max_depth=10, max_features=log2, min_samples_leaf=2, min_samples_split=2, n_estimators=200; total time=   2.8s\n",
      "[CV] END bootstrap=False, max_depth=10, max_features=log2, min_samples_leaf=2, min_samples_split=2, n_estimators=200; total time=   2.7s\n",
      "[CV] END bootstrap=False, max_depth=10, max_features=log2, min_samples_leaf=2, min_samples_split=2, n_estimators=200; total time=   2.7s\n",
      "[CV] END bootstrap=False, max_depth=10, max_features=log2, min_samples_leaf=2, min_samples_split=2, n_estimators=200; total time=   2.8s\n",
      "[CV] END bootstrap=False, max_depth=10, max_features=log2, min_samples_leaf=2, min_samples_split=2, n_estimators=200; total time=   2.8s\n",
      "[CV] END bootstrap=False, max_depth=10, max_features=log2, min_samples_leaf=2, min_samples_split=2, n_estimators=200; total time=   2.7s\n",
      "[CV] END bootstrap=False, max_depth=10, max_features=log2, min_samples_leaf=2, min_samples_split=2, n_estimators=400; total time=   5.5s\n",
      "[CV] END bootstrap=False, max_depth=10, max_features=log2, min_samples_leaf=2, min_samples_split=2, n_estimators=400; total time=   5.6s\n",
      "[CV] END bootstrap=False, max_depth=10, max_features=log2, min_samples_leaf=2, min_samples_split=2, n_estimators=400; total time=   5.5s\n",
      "[CV] END bootstrap=False, max_depth=10, max_features=log2, min_samples_leaf=2, min_samples_split=2, n_estimators=400; total time=   7.5s\n",
      "[CV] END bootstrap=False, max_depth=10, max_features=log2, min_samples_leaf=2, min_samples_split=2, n_estimators=400; total time=   6.2s\n",
      "[CV] END bootstrap=False, max_depth=10, max_features=log2, min_samples_leaf=2, min_samples_split=2, n_estimators=400; total time=   5.8s\n",
      "[CV] END bootstrap=False, max_depth=10, max_features=log2, min_samples_leaf=2, min_samples_split=2, n_estimators=400; total time=   7.8s\n",
      "[CV] END bootstrap=False, max_depth=10, max_features=log2, min_samples_leaf=2, min_samples_split=2, n_estimators=400; total time=   9.6s\n",
      "[CV] END bootstrap=False, max_depth=10, max_features=log2, min_samples_leaf=2, min_samples_split=2, n_estimators=400; total time=   7.9s\n",
      "[CV] END bootstrap=False, max_depth=10, max_features=log2, min_samples_leaf=2, min_samples_split=2, n_estimators=400; total time=   8.7s\n",
      "[CV] END bootstrap=False, max_depth=10, max_features=log2, min_samples_leaf=2, min_samples_split=2, n_estimators=600; total time=   9.1s\n",
      "[CV] END bootstrap=False, max_depth=10, max_features=log2, min_samples_leaf=2, min_samples_split=2, n_estimators=600; total time=   8.3s\n",
      "[CV] END bootstrap=False, max_depth=10, max_features=log2, min_samples_leaf=2, min_samples_split=2, n_estimators=600; total time=   8.1s\n",
      "[CV] END bootstrap=False, max_depth=10, max_features=log2, min_samples_leaf=2, min_samples_split=2, n_estimators=600; total time=   8.1s\n",
      "[CV] END bootstrap=False, max_depth=10, max_features=log2, min_samples_leaf=2, min_samples_split=2, n_estimators=600; total time=   8.1s\n",
      "[CV] END bootstrap=False, max_depth=10, max_features=log2, min_samples_leaf=2, min_samples_split=2, n_estimators=600; total time=   8.1s\n",
      "[CV] END bootstrap=False, max_depth=10, max_features=log2, min_samples_leaf=2, min_samples_split=2, n_estimators=600; total time=   8.2s\n",
      "[CV] END bootstrap=False, max_depth=10, max_features=log2, min_samples_leaf=2, min_samples_split=2, n_estimators=600; total time=   8.1s\n",
      "[CV] END bootstrap=False, max_depth=10, max_features=log2, min_samples_leaf=2, min_samples_split=2, n_estimators=600; total time=  10.5s\n",
      "[CV] END bootstrap=False, max_depth=10, max_features=log2, min_samples_leaf=2, min_samples_split=2, n_estimators=600; total time=  17.3s\n",
      "[CV] END bootstrap=False, max_depth=10, max_features=log2, min_samples_leaf=2, min_samples_split=5, n_estimators=200; total time=   3.3s\n",
      "[CV] END bootstrap=False, max_depth=10, max_features=log2, min_samples_leaf=2, min_samples_split=5, n_estimators=200; total time=   3.0s\n",
      "[CV] END bootstrap=False, max_depth=10, max_features=log2, min_samples_leaf=2, min_samples_split=5, n_estimators=200; total time=   2.8s\n",
      "[CV] END bootstrap=False, max_depth=10, max_features=log2, min_samples_leaf=2, min_samples_split=5, n_estimators=200; total time=   2.7s\n",
      "[CV] END bootstrap=False, max_depth=10, max_features=log2, min_samples_leaf=2, min_samples_split=5, n_estimators=200; total time=   2.8s\n",
      "[CV] END bootstrap=False, max_depth=10, max_features=log2, min_samples_leaf=2, min_samples_split=5, n_estimators=200; total time=   2.8s\n",
      "[CV] END bootstrap=False, max_depth=10, max_features=log2, min_samples_leaf=2, min_samples_split=5, n_estimators=200; total time=   2.7s\n",
      "[CV] END bootstrap=False, max_depth=10, max_features=log2, min_samples_leaf=2, min_samples_split=5, n_estimators=200; total time=   3.0s\n",
      "[CV] END bootstrap=False, max_depth=10, max_features=log2, min_samples_leaf=2, min_samples_split=5, n_estimators=200; total time=   2.7s\n",
      "[CV] END bootstrap=False, max_depth=10, max_features=log2, min_samples_leaf=2, min_samples_split=5, n_estimators=200; total time=   2.7s\n",
      "[CV] END bootstrap=False, max_depth=10, max_features=log2, min_samples_leaf=2, min_samples_split=5, n_estimators=400; total time=   5.5s\n",
      "[CV] END bootstrap=False, max_depth=10, max_features=log2, min_samples_leaf=2, min_samples_split=5, n_estimators=400; total time=   5.4s\n",
      "[CV] END bootstrap=False, max_depth=10, max_features=log2, min_samples_leaf=2, min_samples_split=5, n_estimators=400; total time=   6.3s\n",
      "[CV] END bootstrap=False, max_depth=10, max_features=log2, min_samples_leaf=2, min_samples_split=5, n_estimators=400; total time=   5.7s\n",
      "[CV] END bootstrap=False, max_depth=10, max_features=log2, min_samples_leaf=2, min_samples_split=5, n_estimators=400; total time=   5.8s\n",
      "[CV] END bootstrap=False, max_depth=10, max_features=log2, min_samples_leaf=2, min_samples_split=5, n_estimators=400; total time=   5.5s\n",
      "[CV] END bootstrap=False, max_depth=10, max_features=log2, min_samples_leaf=2, min_samples_split=5, n_estimators=400; total time=   5.6s\n",
      "[CV] END bootstrap=False, max_depth=10, max_features=log2, min_samples_leaf=2, min_samples_split=5, n_estimators=400; total time=   5.6s\n",
      "[CV] END bootstrap=False, max_depth=10, max_features=log2, min_samples_leaf=2, min_samples_split=5, n_estimators=400; total time=   5.8s\n",
      "[CV] END bootstrap=False, max_depth=10, max_features=log2, min_samples_leaf=2, min_samples_split=5, n_estimators=400; total time=   5.6s\n",
      "[CV] END bootstrap=False, max_depth=10, max_features=log2, min_samples_leaf=2, min_samples_split=5, n_estimators=600; total time=   8.4s\n",
      "[CV] END bootstrap=False, max_depth=10, max_features=log2, min_samples_leaf=2, min_samples_split=5, n_estimators=600; total time=   8.2s\n",
      "[CV] END bootstrap=False, max_depth=10, max_features=log2, min_samples_leaf=2, min_samples_split=5, n_estimators=600; total time=   9.4s\n",
      "[CV] END bootstrap=False, max_depth=10, max_features=log2, min_samples_leaf=2, min_samples_split=5, n_estimators=600; total time=   8.2s\n",
      "[CV] END bootstrap=False, max_depth=10, max_features=log2, min_samples_leaf=2, min_samples_split=5, n_estimators=600; total time=   8.3s\n",
      "[CV] END bootstrap=False, max_depth=10, max_features=log2, min_samples_leaf=2, min_samples_split=5, n_estimators=600; total time=   8.2s\n",
      "[CV] END bootstrap=False, max_depth=10, max_features=log2, min_samples_leaf=2, min_samples_split=5, n_estimators=600; total time=   8.4s\n",
      "[CV] END bootstrap=False, max_depth=10, max_features=log2, min_samples_leaf=2, min_samples_split=5, n_estimators=600; total time=   8.6s\n",
      "[CV] END bootstrap=False, max_depth=10, max_features=log2, min_samples_leaf=2, min_samples_split=5, n_estimators=600; total time=   8.4s\n",
      "[CV] END bootstrap=False, max_depth=10, max_features=log2, min_samples_leaf=2, min_samples_split=5, n_estimators=600; total time=   8.2s\n",
      "[CV] END bootstrap=False, max_depth=10, max_features=log2, min_samples_leaf=4, min_samples_split=2, n_estimators=200; total time=   2.7s\n",
      "[CV] END bootstrap=False, max_depth=10, max_features=log2, min_samples_leaf=4, min_samples_split=2, n_estimators=200; total time=   2.7s\n",
      "[CV] END bootstrap=False, max_depth=10, max_features=log2, min_samples_leaf=4, min_samples_split=2, n_estimators=200; total time=   2.6s\n",
      "[CV] END bootstrap=False, max_depth=10, max_features=log2, min_samples_leaf=4, min_samples_split=2, n_estimators=200; total time=   2.7s\n",
      "[CV] END bootstrap=False, max_depth=10, max_features=log2, min_samples_leaf=4, min_samples_split=2, n_estimators=200; total time=   2.6s\n",
      "[CV] END bootstrap=False, max_depth=10, max_features=log2, min_samples_leaf=4, min_samples_split=2, n_estimators=200; total time=   2.7s\n",
      "[CV] END bootstrap=False, max_depth=10, max_features=log2, min_samples_leaf=4, min_samples_split=2, n_estimators=200; total time=   3.3s\n",
      "[CV] END bootstrap=False, max_depth=10, max_features=log2, min_samples_leaf=4, min_samples_split=2, n_estimators=200; total time=   3.0s\n",
      "[CV] END bootstrap=False, max_depth=10, max_features=log2, min_samples_leaf=4, min_samples_split=2, n_estimators=200; total time=   2.7s\n",
      "[CV] END bootstrap=False, max_depth=10, max_features=log2, min_samples_leaf=4, min_samples_split=2, n_estimators=200; total time=   2.7s\n",
      "[CV] END bootstrap=False, max_depth=10, max_features=log2, min_samples_leaf=4, min_samples_split=2, n_estimators=400; total time=   5.4s\n",
      "[CV] END bootstrap=False, max_depth=10, max_features=log2, min_samples_leaf=4, min_samples_split=2, n_estimators=400; total time=   5.5s\n",
      "[CV] END bootstrap=False, max_depth=10, max_features=log2, min_samples_leaf=4, min_samples_split=2, n_estimators=400; total time=   5.6s\n",
      "[CV] END bootstrap=False, max_depth=10, max_features=log2, min_samples_leaf=4, min_samples_split=2, n_estimators=400; total time=   7.0s\n",
      "[CV] END bootstrap=False, max_depth=10, max_features=log2, min_samples_leaf=4, min_samples_split=2, n_estimators=400; total time=   6.2s\n",
      "[CV] END bootstrap=False, max_depth=10, max_features=log2, min_samples_leaf=4, min_samples_split=2, n_estimators=400; total time=  10.8s\n",
      "[CV] END bootstrap=False, max_depth=10, max_features=log2, min_samples_leaf=4, min_samples_split=2, n_estimators=400; total time=   8.6s\n",
      "[CV] END bootstrap=False, max_depth=10, max_features=log2, min_samples_leaf=4, min_samples_split=2, n_estimators=400; total time=   5.6s\n",
      "[CV] END bootstrap=False, max_depth=10, max_features=log2, min_samples_leaf=4, min_samples_split=2, n_estimators=400; total time=   5.4s\n",
      "[CV] END bootstrap=False, max_depth=10, max_features=log2, min_samples_leaf=4, min_samples_split=2, n_estimators=400; total time=   5.3s\n",
      "[CV] END bootstrap=False, max_depth=10, max_features=log2, min_samples_leaf=4, min_samples_split=2, n_estimators=600; total time=   8.1s\n",
      "[CV] END bootstrap=False, max_depth=10, max_features=log2, min_samples_leaf=4, min_samples_split=2, n_estimators=600; total time=   8.2s\n",
      "[CV] END bootstrap=False, max_depth=10, max_features=log2, min_samples_leaf=4, min_samples_split=2, n_estimators=600; total time=   8.4s\n",
      "[CV] END bootstrap=False, max_depth=10, max_features=log2, min_samples_leaf=4, min_samples_split=2, n_estimators=600; total time=  18.8s\n",
      "[CV] END bootstrap=False, max_depth=10, max_features=log2, min_samples_leaf=4, min_samples_split=2, n_estimators=600; total time=  12.7s\n",
      "[CV] END bootstrap=False, max_depth=10, max_features=log2, min_samples_leaf=4, min_samples_split=2, n_estimators=600; total time=   8.9s\n",
      "[CV] END bootstrap=False, max_depth=10, max_features=log2, min_samples_leaf=4, min_samples_split=2, n_estimators=600; total time=   8.3s\n",
      "[CV] END bootstrap=False, max_depth=10, max_features=log2, min_samples_leaf=4, min_samples_split=2, n_estimators=600; total time=   9.1s\n",
      "[CV] END bootstrap=False, max_depth=10, max_features=log2, min_samples_leaf=4, min_samples_split=2, n_estimators=600; total time=  11.1s\n",
      "[CV] END bootstrap=False, max_depth=10, max_features=log2, min_samples_leaf=4, min_samples_split=2, n_estimators=600; total time=  11.3s\n",
      "[CV] END bootstrap=False, max_depth=10, max_features=log2, min_samples_leaf=4, min_samples_split=5, n_estimators=200; total time=   2.9s\n",
      "[CV] END bootstrap=False, max_depth=10, max_features=log2, min_samples_leaf=4, min_samples_split=5, n_estimators=200; total time=   4.5s\n",
      "[CV] END bootstrap=False, max_depth=10, max_features=log2, min_samples_leaf=4, min_samples_split=5, n_estimators=200; total time=   3.2s\n",
      "[CV] END bootstrap=False, max_depth=10, max_features=log2, min_samples_leaf=4, min_samples_split=5, n_estimators=200; total time=   4.9s\n",
      "[CV] END bootstrap=False, max_depth=10, max_features=log2, min_samples_leaf=4, min_samples_split=5, n_estimators=200; total time=   3.0s\n",
      "[CV] END bootstrap=False, max_depth=10, max_features=log2, min_samples_leaf=4, min_samples_split=5, n_estimators=200; total time=   2.8s\n",
      "[CV] END bootstrap=False, max_depth=10, max_features=log2, min_samples_leaf=4, min_samples_split=5, n_estimators=200; total time=   2.7s\n",
      "[CV] END bootstrap=False, max_depth=10, max_features=log2, min_samples_leaf=4, min_samples_split=5, n_estimators=200; total time=   3.1s\n",
      "[CV] END bootstrap=False, max_depth=10, max_features=log2, min_samples_leaf=4, min_samples_split=5, n_estimators=200; total time=   3.0s\n",
      "[CV] END bootstrap=False, max_depth=10, max_features=log2, min_samples_leaf=4, min_samples_split=5, n_estimators=200; total time=   2.8s\n",
      "[CV] END bootstrap=False, max_depth=10, max_features=log2, min_samples_leaf=4, min_samples_split=5, n_estimators=400; total time=   5.5s\n",
      "[CV] END bootstrap=False, max_depth=10, max_features=log2, min_samples_leaf=4, min_samples_split=5, n_estimators=400; total time=   5.4s\n",
      "[CV] END bootstrap=False, max_depth=10, max_features=log2, min_samples_leaf=4, min_samples_split=5, n_estimators=400; total time=   5.3s\n",
      "[CV] END bootstrap=False, max_depth=10, max_features=log2, min_samples_leaf=4, min_samples_split=5, n_estimators=400; total time=   5.8s\n",
      "[CV] END bootstrap=False, max_depth=10, max_features=log2, min_samples_leaf=4, min_samples_split=5, n_estimators=400; total time=   5.4s\n",
      "[CV] END bootstrap=False, max_depth=10, max_features=log2, min_samples_leaf=4, min_samples_split=5, n_estimators=400; total time=   5.4s\n",
      "[CV] END bootstrap=False, max_depth=10, max_features=log2, min_samples_leaf=4, min_samples_split=5, n_estimators=400; total time=   5.8s\n",
      "[CV] END bootstrap=False, max_depth=10, max_features=log2, min_samples_leaf=4, min_samples_split=5, n_estimators=400; total time=   5.5s\n",
      "[CV] END bootstrap=False, max_depth=10, max_features=log2, min_samples_leaf=4, min_samples_split=5, n_estimators=400; total time=   5.8s\n",
      "[CV] END bootstrap=False, max_depth=10, max_features=log2, min_samples_leaf=4, min_samples_split=5, n_estimators=400; total time=   6.4s\n",
      "[CV] END bootstrap=False, max_depth=10, max_features=log2, min_samples_leaf=4, min_samples_split=5, n_estimators=600; total time=   8.2s\n",
      "[CV] END bootstrap=False, max_depth=10, max_features=log2, min_samples_leaf=4, min_samples_split=5, n_estimators=600; total time=   8.1s\n",
      "[CV] END bootstrap=False, max_depth=10, max_features=log2, min_samples_leaf=4, min_samples_split=5, n_estimators=600; total time=   8.3s\n",
      "[CV] END bootstrap=False, max_depth=10, max_features=log2, min_samples_leaf=4, min_samples_split=5, n_estimators=600; total time=   8.2s\n",
      "[CV] END bootstrap=False, max_depth=10, max_features=log2, min_samples_leaf=4, min_samples_split=5, n_estimators=600; total time=   8.3s\n",
      "[CV] END bootstrap=False, max_depth=10, max_features=log2, min_samples_leaf=4, min_samples_split=5, n_estimators=600; total time=   8.5s\n",
      "[CV] END bootstrap=False, max_depth=10, max_features=log2, min_samples_leaf=4, min_samples_split=5, n_estimators=600; total time=  10.1s\n",
      "[CV] END bootstrap=False, max_depth=10, max_features=log2, min_samples_leaf=4, min_samples_split=5, n_estimators=600; total time=   8.2s\n",
      "[CV] END bootstrap=False, max_depth=10, max_features=log2, min_samples_leaf=4, min_samples_split=5, n_estimators=600; total time=   8.3s\n",
      "[CV] END bootstrap=False, max_depth=10, max_features=log2, min_samples_leaf=4, min_samples_split=5, n_estimators=600; total time=   8.3s\n"
     ]
    }
   ],
   "source": [
    "## Model Selection for Random Forest Regressor\n",
    "# rfr_grid_pca.fit(X_train_pca, np.log(1 + y_train))\n",
    "# rfr_grid_ica.fit(X_train_ica, np.log(1 + y_train))\n",
    "# rfr_grid_tsne.fit(X_train_tsne, np.log(1 + y_train))\n",
    "\n",
    "## Save the grid search results\n",
    "# torch.save(rfr_grid_pca, \"../models/rfr_grid_pca\")\n",
    "# torch.save(rfr_grid_ica, \"../models/rfr_grid_ica\")\n",
    "# torch.save(rfr_grid_tsne, \"../models/rfr_grid_tsne\")"
   ],
   "metadata": {
    "collapsed": false
   }
  },
  {
   "cell_type": "code",
   "execution_count": 29,
   "outputs": [],
   "source": [
    "## Load the model selection results\n",
    "rfr_grid_pca = torch.load(\"../models/rfr_grid_pca\")\n",
    "rfr_grid_ica = torch.load(\"../models/rfr_grid_ica\")\n",
    "rfr_grid_tsne = torch.load(\"../models/rfr_grid_tsne\")"
   ],
   "metadata": {
    "collapsed": false
   }
  },
  {
   "cell_type": "code",
   "execution_count": 30,
   "outputs": [
    {
     "name": "stdout",
     "output_type": "stream",
     "text": [
      "[rfr_grid_pca] The best parameters are: {'bootstrap': False, 'max_depth': 10, 'max_features': 'log2', 'min_samples_leaf': 2, 'min_samples_split': 2, 'n_estimators': 400}\n",
      "[rfr_grid_pca] The best RMSE is: -2.547160281036047\n",
      "\n",
      "[rfr_grid_ica] The best parameters are: {'bootstrap': False, 'max_depth': 10, 'max_features': 'log2', 'min_samples_leaf': 2, 'min_samples_split': 2, 'n_estimators': 600}\n",
      "[rfr_grid_ica] The best RMSE is: -2.5702710570313307\n",
      "\n",
      "[rfr_grid_tsne] The best parameters are: {'bootstrap': False, 'max_depth': 10, 'max_features': 'log2', 'min_samples_leaf': 2, 'min_samples_split': 2, 'n_estimators': 600}\n",
      "[rfr_grid_tsne] The best RMSE is: -2.041374795876287\n"
     ]
    }
   ],
   "source": [
    "print(\"[rfr_grid_pca] The best parameters are:\", rfr_grid_pca.best_params_)\n",
    "print(\"[rfr_grid_pca] The best RMSE is:\", rfr_grid_pca.best_score_)\n",
    "print()\n",
    "print(\"[rfr_grid_ica] The best parameters are:\", rfr_grid_ica.best_params_)\n",
    "print(\"[rfr_grid_ica] The best RMSE is:\", rfr_grid_ica.best_score_)\n",
    "print()\n",
    "print(\"[rfr_grid_tsne] The best parameters are:\", rfr_grid_tsne.best_params_)\n",
    "print(\"[rfr_grid_tsne] The best RMSE is:\", rfr_grid_tsne.best_score_)"
   ],
   "metadata": {
    "collapsed": false
   }
  },
  {
   "cell_type": "code",
   "execution_count": 15,
   "outputs": [
    {
     "name": "stdout",
     "output_type": "stream",
     "text": [
      "Root mean squared error (PCA Embeddings): 104.38 Millions\n",
      "R-square (PCA Embeddings): -9.25 %\n"
     ]
    }
   ],
   "source": [
    "y_pred_rfr_pca = np.exp(rfr_grid_pca.predict(X_test_pca)) - 1\n",
    "print(\"Root mean squared error (PCA Embeddings): {:.2f} Millions\".format(np.sqrt(mean_squared_error(y_test, y_pred_rfr_pca))/1000000))\n",
    "print(\"R-square (PCA Embeddings): {:.2f} %\".format(r2_score(y_test, y_pred_rfr_pca)*100))"
   ],
   "metadata": {
    "collapsed": false
   }
  },
  {
   "cell_type": "code",
   "execution_count": 31,
   "outputs": [
    {
     "name": "stdout",
     "output_type": "stream",
     "text": [
      "Root mean squared error (ICA Embeddings): 104.67 Millions\n",
      "R-square (ICA Embeddings): -9.86 %\n"
     ]
    }
   ],
   "source": [
    "y_pred_rfr_ica = np.exp(rfr_grid_ica.predict(X_test_ica)) - 1\n",
    "print(\"Root mean squared error (ICA Embeddings): {:.2f} Millions\".format(np.sqrt(mean_squared_error(y_test, y_pred_rfr_ica))/1000000))\n",
    "print(\"R-square (ICA Embeddings): {:.2f} %\".format(r2_score(y_test, y_pred_rfr_ica)*100))"
   ],
   "metadata": {
    "collapsed": false
   }
  },
  {
   "cell_type": "code",
   "execution_count": 32,
   "outputs": [
    {
     "name": "stdout",
     "output_type": "stream",
     "text": [
      "Root mean squared error (ICA Embeddings): 94.97 Millions\n",
      "R-square (ICA Embeddings): 9.56 %\n"
     ]
    }
   ],
   "source": [
    "y_pred_rfr_tsne = np.exp(rfr_grid_tsne.predict(X_test_tsne)) - 1\n",
    "print(\"Root mean squared error (ICA Embeddings): {:.2f} Millions\".format(np.sqrt(mean_squared_error(y_test, y_pred_rfr_tsne))/1000000))\n",
    "print(\"R-square (ICA Embeddings): {:.2f} %\".format(r2_score(y_test, y_pred_rfr_tsne)*100))"
   ],
   "metadata": {
    "collapsed": false
   }
  },
  {
   "cell_type": "markdown",
   "source": [
    "## 6. Prediction"
   ],
   "metadata": {
    "collapsed": false
   }
  },
  {
   "cell_type": "code",
   "execution_count": null,
   "outputs": [],
   "source": [
    "pipe = Pipeline(\n",
    "    ('Preprocessor', preprocess_transformer),\n",
    "    ('FeatureSelectionICA', FunctionTransformer(FeatureSelection, kw_args={'dr_method':'ica', 'n_components':199})),\n",
    "    ('Model', knn_13)\n",
    ")"
   ],
   "metadata": {
    "collapsed": false
   }
  }
 ],
 "metadata": {
  "kernelspec": {
   "display_name": "Python 3",
   "language": "python",
   "name": "python3"
  },
  "language_info": {
   "codemirror_mode": {
    "name": "ipython",
    "version": 2
   },
   "file_extension": ".py",
   "mimetype": "text/x-python",
   "name": "python",
   "nbconvert_exporter": "python",
   "pygments_lexer": "ipython2",
   "version": "2.7.6"
  }
 },
 "nbformat": 4,
 "nbformat_minor": 0
}

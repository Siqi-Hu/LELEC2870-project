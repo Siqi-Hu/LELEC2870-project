{
 "cells": [
  {
   "cell_type": "markdown",
   "id": "67e96d4c",
   "metadata": {},
   "source": [
    "# Load the packages"
   ]
  },
  {
   "cell_type": "code",
   "execution_count": 1,
   "id": "1e258235",
   "metadata": {},
   "outputs": [],
   "source": [
    "import pandas as pd\n",
    "# Use pandas to load into a DataFrame\n",
    "# Y1. csv doesn ’ t have a header so\n",
    "# add one when loading the file\n",
    "X1 = pd.read_csv(\"X1.csv\")\n",
    "Y1 = pd.read_csv(\"Y1.csv\", header=None, names=['revenue '])"
   ]
  },
  {
   "cell_type": "code",
   "execution_count": 2,
   "id": "5de98862",
   "metadata": {},
   "outputs": [],
   "source": [
    "X1.drop('Unnamed: 0', inplace=True, axis=1)"
   ]
  },
  {
   "cell_type": "code",
   "execution_count": 3,
   "id": "3955caea",
   "metadata": {},
   "outputs": [
    {
     "data": {
      "text/plain": "                           title  \\\n0              Letters to Juliet   \n1                  Veil of Tears   \n2           International Velvet   \n3                      8 Seconds   \n4                Penitentiary II   \n...                          ...   \n3535            Stiff Upper Lips   \n3536                  Twenty Two   \n3537                   Girlfight   \n3538  This Film Is Not Yet Rated   \n3539  MVP: Most Valuable Primate   \n\n                                                img_url  \\\n0     https://m.media-amazon.com/images/M/MV5BMjg0OT...   \n1     https://m.media-amazon.com/images/M/MV5BZjMxOD...   \n2     https://m.media-amazon.com/images/M/MV5BOGVkYj...   \n3     https://m.media-amazon.com/images/M/MV5BYjY4Nz...   \n4     https://m.media-amazon.com/images/M/MV5BNjQyZW...   \n...                                                 ...   \n3535  https://m.media-amazon.com/images/M/MV5BNGRiMz...   \n3536  https://m.media-amazon.com/images/M/MV5BMjMyMz...   \n3537  https://m.media-amazon.com/images/M/MV5BMTMzMz...   \n3538  https://m.media-amazon.com/images/M/MV5BMTk0ND...   \n3539  https://m.media-amazon.com/images/M/MV5BMjMzOD...   \n\n                                            description  ratings  n_votes  \\\n0     Letters to Juliet: Directed by Gary Winick. Wi...      6.5  92937.0   \n1     Veil of Tears: Directed by William Gereghty. W...      7.9     11.0   \n2     International Velvet: Directed by Bryan Forbes...      5.9   1345.0   \n3     8 Seconds: Directed by John G. Avildsen. With ...      6.6   4851.0   \n4     Penitentiary II: Directed by Jamaa Fanaka. Wit...      4.1    549.0   \n...                                                 ...      ...      ...   \n3535  Stiff Upper Lips: Directed by Gary Sinyor. Wit...      6.3    973.0   \n3536  Twenty Two: Directed by Jack Smight. With Barb...      8.0   2190.0   \n3537  Girlfight: Directed by Lawrence Trilling. With...      7.6     34.0   \n3538  This Film Is Not Yet Rated: Directed by Kirby ...      7.5  27379.0   \n3539  MVP: Most Valuable Primate: Directed by Robert...      4.1   2296.0   \n\n      is_adult  production_year runtime                  genres  release_year  \\\n0            0             2010     105  Adventure,Comedy,Drama        2010.0   \n1            0             1996      \\N      Action,Crime,Drama        2014.0   \n2            0             1978     127      Drama,Family,Sport        1978.0   \n3            0             1994     105   Biography,Drama,Sport        1994.0   \n4            0             1982     108       Crime,Drama,Sport        1982.0   \n...        ...              ...     ...                     ...           ...   \n3535         0             1997      94                  Comedy        1999.0   \n3536         0             1961      25    Drama,Fantasy,Horror        2017.0   \n3537         0             2001      44           Drama,Romance        2000.0   \n3538         0             2006      98             Documentary        2006.0   \n3539         0             2000      93     Comedy,Family,Sport        2000.0   \n\n      studio                                     img_embeddings  \\\n0       Sum.  [0.25030804, 2.4058464, 1.0431569, 0.030648155...   \n1         WF  [0.51250213, 2.8152602, 0.46308166, 0.29031387...   \n2        MGM  [0.18073043, 0.24735461, 0.63652813, 0.2496522...   \n3         NL  [0.025015268, 0.9105338, 0.3878257, 0.3421247,...   \n4        MGM  [0.19079691, 1.9068279, 0.29114372, 0.19527505...   \n...      ...                                                ...   \n3535    Cow.  [0.19991912, 1.3718543, 1.1531808, 0.052152418...   \n3536      CL  [0.38660493, 0.81947947, 1.9521054, 0.23831718...   \n3537    SGem  [0.15014637, 2.0139444, 1.0844889, 0.17270318,...   \n3538     IFC  [0.25391683, 3.8994913, 0.23327282, 0.17322594...   \n3539  Equin.  [0.3297945, 1.6534383, 0.968067, 0.37325135, 0...   \n\n                                        text_embeddings  \n0     [-0.6795498, 0.35658365, 0.9994932, -0.9793934...  \n1     [-0.6202415, 0.31657028, 0.9992422, -0.9703722...  \n2     [-0.709996, 0.4233521, 0.99980927, -0.98892415...  \n3     [-0.7416838, 0.38435012, 0.9998453, -0.9874693...  \n4     [-0.65501904, 0.3845747, 0.9996712, -0.9766391...  \n...                                                 ...  \n3535  [-0.55224955, 0.26953417, 0.99950045, -0.98031...  \n3536  [-0.52293366, 0.35181606, 0.9992165, -0.974448...  \n3537  [-0.61463475, 0.4013893, 0.99981415, -0.985390...  \n3538  [-0.74685824, 0.43955636, 0.99979496, -0.98784...  \n3539  [-0.5932971, 0.37042698, 0.9994072, -0.9731243...  \n\n[3540 rows x 13 columns]",
      "text/html": "<div>\n<style scoped>\n    .dataframe tbody tr th:only-of-type {\n        vertical-align: middle;\n    }\n\n    .dataframe tbody tr th {\n        vertical-align: top;\n    }\n\n    .dataframe thead th {\n        text-align: right;\n    }\n</style>\n<table border=\"1\" class=\"dataframe\">\n  <thead>\n    <tr style=\"text-align: right;\">\n      <th></th>\n      <th>title</th>\n      <th>img_url</th>\n      <th>description</th>\n      <th>ratings</th>\n      <th>n_votes</th>\n      <th>is_adult</th>\n      <th>production_year</th>\n      <th>runtime</th>\n      <th>genres</th>\n      <th>release_year</th>\n      <th>studio</th>\n      <th>img_embeddings</th>\n      <th>text_embeddings</th>\n    </tr>\n  </thead>\n  <tbody>\n    <tr>\n      <th>0</th>\n      <td>Letters to Juliet</td>\n      <td>https://m.media-amazon.com/images/M/MV5BMjg0OT...</td>\n      <td>Letters to Juliet: Directed by Gary Winick. Wi...</td>\n      <td>6.5</td>\n      <td>92937.0</td>\n      <td>0</td>\n      <td>2010</td>\n      <td>105</td>\n      <td>Adventure,Comedy,Drama</td>\n      <td>2010.0</td>\n      <td>Sum.</td>\n      <td>[0.25030804, 2.4058464, 1.0431569, 0.030648155...</td>\n      <td>[-0.6795498, 0.35658365, 0.9994932, -0.9793934...</td>\n    </tr>\n    <tr>\n      <th>1</th>\n      <td>Veil of Tears</td>\n      <td>https://m.media-amazon.com/images/M/MV5BZjMxOD...</td>\n      <td>Veil of Tears: Directed by William Gereghty. W...</td>\n      <td>7.9</td>\n      <td>11.0</td>\n      <td>0</td>\n      <td>1996</td>\n      <td>\\N</td>\n      <td>Action,Crime,Drama</td>\n      <td>2014.0</td>\n      <td>WF</td>\n      <td>[0.51250213, 2.8152602, 0.46308166, 0.29031387...</td>\n      <td>[-0.6202415, 0.31657028, 0.9992422, -0.9703722...</td>\n    </tr>\n    <tr>\n      <th>2</th>\n      <td>International Velvet</td>\n      <td>https://m.media-amazon.com/images/M/MV5BOGVkYj...</td>\n      <td>International Velvet: Directed by Bryan Forbes...</td>\n      <td>5.9</td>\n      <td>1345.0</td>\n      <td>0</td>\n      <td>1978</td>\n      <td>127</td>\n      <td>Drama,Family,Sport</td>\n      <td>1978.0</td>\n      <td>MGM</td>\n      <td>[0.18073043, 0.24735461, 0.63652813, 0.2496522...</td>\n      <td>[-0.709996, 0.4233521, 0.99980927, -0.98892415...</td>\n    </tr>\n    <tr>\n      <th>3</th>\n      <td>8 Seconds</td>\n      <td>https://m.media-amazon.com/images/M/MV5BYjY4Nz...</td>\n      <td>8 Seconds: Directed by John G. Avildsen. With ...</td>\n      <td>6.6</td>\n      <td>4851.0</td>\n      <td>0</td>\n      <td>1994</td>\n      <td>105</td>\n      <td>Biography,Drama,Sport</td>\n      <td>1994.0</td>\n      <td>NL</td>\n      <td>[0.025015268, 0.9105338, 0.3878257, 0.3421247,...</td>\n      <td>[-0.7416838, 0.38435012, 0.9998453, -0.9874693...</td>\n    </tr>\n    <tr>\n      <th>4</th>\n      <td>Penitentiary II</td>\n      <td>https://m.media-amazon.com/images/M/MV5BNjQyZW...</td>\n      <td>Penitentiary II: Directed by Jamaa Fanaka. Wit...</td>\n      <td>4.1</td>\n      <td>549.0</td>\n      <td>0</td>\n      <td>1982</td>\n      <td>108</td>\n      <td>Crime,Drama,Sport</td>\n      <td>1982.0</td>\n      <td>MGM</td>\n      <td>[0.19079691, 1.9068279, 0.29114372, 0.19527505...</td>\n      <td>[-0.65501904, 0.3845747, 0.9996712, -0.9766391...</td>\n    </tr>\n    <tr>\n      <th>...</th>\n      <td>...</td>\n      <td>...</td>\n      <td>...</td>\n      <td>...</td>\n      <td>...</td>\n      <td>...</td>\n      <td>...</td>\n      <td>...</td>\n      <td>...</td>\n      <td>...</td>\n      <td>...</td>\n      <td>...</td>\n      <td>...</td>\n    </tr>\n    <tr>\n      <th>3535</th>\n      <td>Stiff Upper Lips</td>\n      <td>https://m.media-amazon.com/images/M/MV5BNGRiMz...</td>\n      <td>Stiff Upper Lips: Directed by Gary Sinyor. Wit...</td>\n      <td>6.3</td>\n      <td>973.0</td>\n      <td>0</td>\n      <td>1997</td>\n      <td>94</td>\n      <td>Comedy</td>\n      <td>1999.0</td>\n      <td>Cow.</td>\n      <td>[0.19991912, 1.3718543, 1.1531808, 0.052152418...</td>\n      <td>[-0.55224955, 0.26953417, 0.99950045, -0.98031...</td>\n    </tr>\n    <tr>\n      <th>3536</th>\n      <td>Twenty Two</td>\n      <td>https://m.media-amazon.com/images/M/MV5BMjMyMz...</td>\n      <td>Twenty Two: Directed by Jack Smight. With Barb...</td>\n      <td>8.0</td>\n      <td>2190.0</td>\n      <td>0</td>\n      <td>1961</td>\n      <td>25</td>\n      <td>Drama,Fantasy,Horror</td>\n      <td>2017.0</td>\n      <td>CL</td>\n      <td>[0.38660493, 0.81947947, 1.9521054, 0.23831718...</td>\n      <td>[-0.52293366, 0.35181606, 0.9992165, -0.974448...</td>\n    </tr>\n    <tr>\n      <th>3537</th>\n      <td>Girlfight</td>\n      <td>https://m.media-amazon.com/images/M/MV5BMTMzMz...</td>\n      <td>Girlfight: Directed by Lawrence Trilling. With...</td>\n      <td>7.6</td>\n      <td>34.0</td>\n      <td>0</td>\n      <td>2001</td>\n      <td>44</td>\n      <td>Drama,Romance</td>\n      <td>2000.0</td>\n      <td>SGem</td>\n      <td>[0.15014637, 2.0139444, 1.0844889, 0.17270318,...</td>\n      <td>[-0.61463475, 0.4013893, 0.99981415, -0.985390...</td>\n    </tr>\n    <tr>\n      <th>3538</th>\n      <td>This Film Is Not Yet Rated</td>\n      <td>https://m.media-amazon.com/images/M/MV5BMTk0ND...</td>\n      <td>This Film Is Not Yet Rated: Directed by Kirby ...</td>\n      <td>7.5</td>\n      <td>27379.0</td>\n      <td>0</td>\n      <td>2006</td>\n      <td>98</td>\n      <td>Documentary</td>\n      <td>2006.0</td>\n      <td>IFC</td>\n      <td>[0.25391683, 3.8994913, 0.23327282, 0.17322594...</td>\n      <td>[-0.74685824, 0.43955636, 0.99979496, -0.98784...</td>\n    </tr>\n    <tr>\n      <th>3539</th>\n      <td>MVP: Most Valuable Primate</td>\n      <td>https://m.media-amazon.com/images/M/MV5BMjMzOD...</td>\n      <td>MVP: Most Valuable Primate: Directed by Robert...</td>\n      <td>4.1</td>\n      <td>2296.0</td>\n      <td>0</td>\n      <td>2000</td>\n      <td>93</td>\n      <td>Comedy,Family,Sport</td>\n      <td>2000.0</td>\n      <td>Equin.</td>\n      <td>[0.3297945, 1.6534383, 0.968067, 0.37325135, 0...</td>\n      <td>[-0.5932971, 0.37042698, 0.9994072, -0.9731243...</td>\n    </tr>\n  </tbody>\n</table>\n<p>3540 rows × 13 columns</p>\n</div>"
     },
     "execution_count": 3,
     "metadata": {},
     "output_type": "execute_result"
    }
   ],
   "source": [
    "X1"
   ]
  },
  {
   "cell_type": "code",
   "execution_count": 8,
   "outputs": [
    {
     "data": {
      "text/plain": "array([0])"
     },
     "execution_count": 8,
     "metadata": {},
     "output_type": "execute_result"
    }
   ],
   "source": [
    "X1.loc[:, 'is_adult'].unique()"
   ],
   "metadata": {
    "collapsed": false
   }
  },
  {
   "cell_type": "code",
   "execution_count": 4,
   "id": "f526239a",
   "metadata": {},
   "outputs": [],
   "source": [
    "X2 = pd.read_csv(\"X2.csv\")"
   ]
  },
  {
   "cell_type": "code",
   "execution_count": 5,
   "outputs": [
    {
     "data": {
      "text/plain": "      Unnamed: 0               title  \\\n0           3450  My Life Without Me   \n1            327          Fist Fight   \n2           1911           Ballerina   \n3            986             Hidalgo   \n4           7396       Frank & Jesse   \n...          ...                 ...   \n1513        7222       Love at Stake   \n1514        7029         Sky on Fire   \n1515        4435  Outside Providence   \n1516        2575               U-571   \n1517        8692       Choose Connor   \n\n                                                img_url  \\\n0     https://m.media-amazon.com/images/M/MV5BNTkxNW...   \n1     https://m.media-amazon.com/images/M/MV5BZjg5Nj...   \n2     https://m.media-amazon.com/images/M/MV5BMzJmMj...   \n3     https://m.media-amazon.com/images/M/MV5BM2MxZG...   \n4     https://m.media-amazon.com/images/M/MV5BMjA0MD...   \n...                                                 ...   \n1513  https://m.media-amazon.com/images/M/MV5BMTAyMT...   \n1514  https://m.media-amazon.com/images/M/MV5BNjYyZD...   \n1515  https://m.media-amazon.com/images/M/MV5BMTMyOD...   \n1516  https://m.media-amazon.com/images/M/MV5BMDE0Yz...   \n1517  https://m.media-amazon.com/images/M/MV5BNzFiOD...   \n\n                                            description  ratings  n_votes  \\\n0     My Life Without Me: Directed by Isabel Coixet....      7.5  24256.0   \n1     Fist Fight: Directed by Robert Breer. An autob...      5.9     48.0   \n2     Ballerina: Directed by Harold D. Schuster. Wit...      6.3      6.0   \n3     Hidalgo: Directed by Paul Stanley. With James ...      7.9     80.0   \n4     Frank & Jesse: Directed by Robert Boris. With ...      5.8   1359.0   \n...                                                 ...      ...      ...   \n1513  Love at Stake: Directed by John Moffitt. With ...      5.2    503.0   \n1514  Sky on Fire: Directed by Jesse Hibbs. With Efr...      8.2     12.0   \n1515  Outside Providence: Directed by Michael Corren...      6.5   8496.0   \n1516  U-571: Directed by Jonathan Mostow. With Matth...      6.6  78189.0   \n1517  Choose Connor: Directed by Lucas Elliot Eberl....      6.3    290.0   \n\n      is_adult  production_year runtime                genres  release_year  \\\n0            0             2003     106         Drama,Romance        2003.0   \n1            0             1964      11                 Short        2017.0   \n2            0             1957      30           Crime,Drama        2009.0   \n3            0             1972      60               Western        2004.0   \n4            0             1994     105     Biography,Western        1994.0   \n...        ...              ...     ...                   ...           ...   \n1513         0             1987      86                Comedy        1988.0   \n1514         0             1967      60   Crime,Drama,Mystery        2016.0   \n1515         0             1999      96  Comedy,Drama,Romance        1999.0   \n1516         0             2000     116            Action,War        2000.0   \n1517         0             2007     109                 Drama        2008.0   \n\n       studio                                     img_embeddings  \\\n0         SPC  [0.2698399, 3.1845033, 0.13669977, 0.14299123,...   \n1     WB (NL)  [0.4279979, 0.82890534, 1.0090543, 0.17800629,...   \n2        FRun  [0.3227182, 4.6717577, 0.24727274, 0.30942556,...   \n3          BV  [0.011863205, 1.0377717, 0.6964849, 0.27411973...   \n4       Trim.  [0.18395236, 2.0983813, 0.29292667, 0.59968936...   \n...       ...                                                ...   \n1513     TriS  [0.6907283, 1.729979, 0.55596817, 0.27663177, ...   \n1514    WGUSA  [0.032674238, 1.3305097, 0.5538778, 0.22841696...   \n1515    Mira.  [0.5881883, 2.1023622, 0.56811166, 0.4214271, ...   \n1516     Uni.  [0.6784923, 3.2537642, 0.07126416, 0.4950616, ...   \n1517   Strand  [0.31448624, 1.9837804, 0.76102763, 0.25271362...   \n\n                                        text_embeddings  \n0     [-0.62699246, 0.3949766, 0.9997058, -0.9845231...  \n1     [-0.78522605, 0.46340582, 0.9999196, -0.991904...  \n2     [-0.51733744, 0.3527469, 0.9993828, -0.9729327...  \n3     [-0.52853703, 0.24114524, 0.998973, -0.9659761...  \n4     [-0.6487137, 0.4033376, 0.999519, -0.97546834,...  \n...                                                 ...  \n1513  [-0.7183374, 0.38522938, 0.9998054, -0.9850116...  \n1514  [-0.48803085, 0.2479086, 0.99892545, -0.969775...  \n1515  [-0.60516053, 0.32674095, 0.9993118, -0.975308...  \n1516  [-0.6654562, 0.32529247, 0.9996618, -0.9790677...  \n1517  [-0.5956515, 0.34550932, 0.9994821, -0.9760057...  \n\n[1518 rows x 14 columns]",
      "text/html": "<div>\n<style scoped>\n    .dataframe tbody tr th:only-of-type {\n        vertical-align: middle;\n    }\n\n    .dataframe tbody tr th {\n        vertical-align: top;\n    }\n\n    .dataframe thead th {\n        text-align: right;\n    }\n</style>\n<table border=\"1\" class=\"dataframe\">\n  <thead>\n    <tr style=\"text-align: right;\">\n      <th></th>\n      <th>Unnamed: 0</th>\n      <th>title</th>\n      <th>img_url</th>\n      <th>description</th>\n      <th>ratings</th>\n      <th>n_votes</th>\n      <th>is_adult</th>\n      <th>production_year</th>\n      <th>runtime</th>\n      <th>genres</th>\n      <th>release_year</th>\n      <th>studio</th>\n      <th>img_embeddings</th>\n      <th>text_embeddings</th>\n    </tr>\n  </thead>\n  <tbody>\n    <tr>\n      <th>0</th>\n      <td>3450</td>\n      <td>My Life Without Me</td>\n      <td>https://m.media-amazon.com/images/M/MV5BNTkxNW...</td>\n      <td>My Life Without Me: Directed by Isabel Coixet....</td>\n      <td>7.5</td>\n      <td>24256.0</td>\n      <td>0</td>\n      <td>2003</td>\n      <td>106</td>\n      <td>Drama,Romance</td>\n      <td>2003.0</td>\n      <td>SPC</td>\n      <td>[0.2698399, 3.1845033, 0.13669977, 0.14299123,...</td>\n      <td>[-0.62699246, 0.3949766, 0.9997058, -0.9845231...</td>\n    </tr>\n    <tr>\n      <th>1</th>\n      <td>327</td>\n      <td>Fist Fight</td>\n      <td>https://m.media-amazon.com/images/M/MV5BZjg5Nj...</td>\n      <td>Fist Fight: Directed by Robert Breer. An autob...</td>\n      <td>5.9</td>\n      <td>48.0</td>\n      <td>0</td>\n      <td>1964</td>\n      <td>11</td>\n      <td>Short</td>\n      <td>2017.0</td>\n      <td>WB (NL)</td>\n      <td>[0.4279979, 0.82890534, 1.0090543, 0.17800629,...</td>\n      <td>[-0.78522605, 0.46340582, 0.9999196, -0.991904...</td>\n    </tr>\n    <tr>\n      <th>2</th>\n      <td>1911</td>\n      <td>Ballerina</td>\n      <td>https://m.media-amazon.com/images/M/MV5BMzJmMj...</td>\n      <td>Ballerina: Directed by Harold D. Schuster. Wit...</td>\n      <td>6.3</td>\n      <td>6.0</td>\n      <td>0</td>\n      <td>1957</td>\n      <td>30</td>\n      <td>Crime,Drama</td>\n      <td>2009.0</td>\n      <td>FRun</td>\n      <td>[0.3227182, 4.6717577, 0.24727274, 0.30942556,...</td>\n      <td>[-0.51733744, 0.3527469, 0.9993828, -0.9729327...</td>\n    </tr>\n    <tr>\n      <th>3</th>\n      <td>986</td>\n      <td>Hidalgo</td>\n      <td>https://m.media-amazon.com/images/M/MV5BM2MxZG...</td>\n      <td>Hidalgo: Directed by Paul Stanley. With James ...</td>\n      <td>7.9</td>\n      <td>80.0</td>\n      <td>0</td>\n      <td>1972</td>\n      <td>60</td>\n      <td>Western</td>\n      <td>2004.0</td>\n      <td>BV</td>\n      <td>[0.011863205, 1.0377717, 0.6964849, 0.27411973...</td>\n      <td>[-0.52853703, 0.24114524, 0.998973, -0.9659761...</td>\n    </tr>\n    <tr>\n      <th>4</th>\n      <td>7396</td>\n      <td>Frank &amp; Jesse</td>\n      <td>https://m.media-amazon.com/images/M/MV5BMjA0MD...</td>\n      <td>Frank &amp; Jesse: Directed by Robert Boris. With ...</td>\n      <td>5.8</td>\n      <td>1359.0</td>\n      <td>0</td>\n      <td>1994</td>\n      <td>105</td>\n      <td>Biography,Western</td>\n      <td>1994.0</td>\n      <td>Trim.</td>\n      <td>[0.18395236, 2.0983813, 0.29292667, 0.59968936...</td>\n      <td>[-0.6487137, 0.4033376, 0.999519, -0.97546834,...</td>\n    </tr>\n    <tr>\n      <th>...</th>\n      <td>...</td>\n      <td>...</td>\n      <td>...</td>\n      <td>...</td>\n      <td>...</td>\n      <td>...</td>\n      <td>...</td>\n      <td>...</td>\n      <td>...</td>\n      <td>...</td>\n      <td>...</td>\n      <td>...</td>\n      <td>...</td>\n      <td>...</td>\n    </tr>\n    <tr>\n      <th>1513</th>\n      <td>7222</td>\n      <td>Love at Stake</td>\n      <td>https://m.media-amazon.com/images/M/MV5BMTAyMT...</td>\n      <td>Love at Stake: Directed by John Moffitt. With ...</td>\n      <td>5.2</td>\n      <td>503.0</td>\n      <td>0</td>\n      <td>1987</td>\n      <td>86</td>\n      <td>Comedy</td>\n      <td>1988.0</td>\n      <td>TriS</td>\n      <td>[0.6907283, 1.729979, 0.55596817, 0.27663177, ...</td>\n      <td>[-0.7183374, 0.38522938, 0.9998054, -0.9850116...</td>\n    </tr>\n    <tr>\n      <th>1514</th>\n      <td>7029</td>\n      <td>Sky on Fire</td>\n      <td>https://m.media-amazon.com/images/M/MV5BNjYyZD...</td>\n      <td>Sky on Fire: Directed by Jesse Hibbs. With Efr...</td>\n      <td>8.2</td>\n      <td>12.0</td>\n      <td>0</td>\n      <td>1967</td>\n      <td>60</td>\n      <td>Crime,Drama,Mystery</td>\n      <td>2016.0</td>\n      <td>WGUSA</td>\n      <td>[0.032674238, 1.3305097, 0.5538778, 0.22841696...</td>\n      <td>[-0.48803085, 0.2479086, 0.99892545, -0.969775...</td>\n    </tr>\n    <tr>\n      <th>1515</th>\n      <td>4435</td>\n      <td>Outside Providence</td>\n      <td>https://m.media-amazon.com/images/M/MV5BMTMyOD...</td>\n      <td>Outside Providence: Directed by Michael Corren...</td>\n      <td>6.5</td>\n      <td>8496.0</td>\n      <td>0</td>\n      <td>1999</td>\n      <td>96</td>\n      <td>Comedy,Drama,Romance</td>\n      <td>1999.0</td>\n      <td>Mira.</td>\n      <td>[0.5881883, 2.1023622, 0.56811166, 0.4214271, ...</td>\n      <td>[-0.60516053, 0.32674095, 0.9993118, -0.975308...</td>\n    </tr>\n    <tr>\n      <th>1516</th>\n      <td>2575</td>\n      <td>U-571</td>\n      <td>https://m.media-amazon.com/images/M/MV5BMDE0Yz...</td>\n      <td>U-571: Directed by Jonathan Mostow. With Matth...</td>\n      <td>6.6</td>\n      <td>78189.0</td>\n      <td>0</td>\n      <td>2000</td>\n      <td>116</td>\n      <td>Action,War</td>\n      <td>2000.0</td>\n      <td>Uni.</td>\n      <td>[0.6784923, 3.2537642, 0.07126416, 0.4950616, ...</td>\n      <td>[-0.6654562, 0.32529247, 0.9996618, -0.9790677...</td>\n    </tr>\n    <tr>\n      <th>1517</th>\n      <td>8692</td>\n      <td>Choose Connor</td>\n      <td>https://m.media-amazon.com/images/M/MV5BNzFiOD...</td>\n      <td>Choose Connor: Directed by Lucas Elliot Eberl....</td>\n      <td>6.3</td>\n      <td>290.0</td>\n      <td>0</td>\n      <td>2007</td>\n      <td>109</td>\n      <td>Drama</td>\n      <td>2008.0</td>\n      <td>Strand</td>\n      <td>[0.31448624, 1.9837804, 0.76102763, 0.25271362...</td>\n      <td>[-0.5956515, 0.34550932, 0.9994821, -0.9760057...</td>\n    </tr>\n  </tbody>\n</table>\n<p>1518 rows × 14 columns</p>\n</div>"
     },
     "execution_count": 5,
     "metadata": {},
     "output_type": "execute_result"
    }
   ],
   "source": [
    "X2"
   ],
   "metadata": {
    "collapsed": false
   }
  },
  {
   "cell_type": "code",
   "execution_count": 9,
   "outputs": [
    {
     "data": {
      "text/plain": "array([0])"
     },
     "execution_count": 9,
     "metadata": {},
     "output_type": "execute_result"
    }
   ],
   "source": [
    "X2.loc[:, 'is_adult'].unique()"
   ],
   "metadata": {
    "collapsed": false
   }
  },
  {
   "cell_type": "code",
   "execution_count": null,
   "outputs": [],
   "source": [],
   "metadata": {
    "collapsed": false
   }
  }
 ],
 "metadata": {
  "kernelspec": {
   "display_name": "Python 3",
   "language": "python",
   "name": "python3"
  },
  "language_info": {
   "codemirror_mode": {
    "name": "ipython",
    "version": 3
   },
   "file_extension": ".py",
   "mimetype": "text/x-python",
   "name": "python",
   "nbconvert_exporter": "python",
   "pygments_lexer": "ipython3",
   "version": "3.7.4"
  },
  "varInspector": {
   "cols": {
    "lenName": 16,
    "lenType": 16,
    "lenVar": 40
   },
   "kernels_config": {
    "python": {
     "delete_cmd_postfix": "",
     "delete_cmd_prefix": "del ",
     "library": "var_list.py",
     "varRefreshCmd": "print(var_dic_list())"
    },
    "r": {
     "delete_cmd_postfix": ") ",
     "delete_cmd_prefix": "rm(",
     "library": "var_list.r",
     "varRefreshCmd": "cat(var_dic_list()) "
    }
   },
   "types_to_exclude": [
    "module",
    "function",
    "builtin_function_or_method",
    "instance",
    "_Feature"
   ],
   "window_display": true
  }
 },
 "nbformat": 4,
 "nbformat_minor": 5
}

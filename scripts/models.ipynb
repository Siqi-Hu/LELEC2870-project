{
 "cells": [
  {
   "cell_type": "code",
   "execution_count": 1,
   "metadata": {
    "collapsed": true
   },
   "outputs": [],
   "source": [
    "# Data processing packages\n",
    "import numpy as np\n",
    "import pandas as pd\n",
    "from collections import Counter\n",
    "\n",
    "# Machine learning packages\n",
    "from sklearn.model_selection import GridSearchCV, RepeatedKFold, cross_val_score, KFold\n",
    "from sklearn.preprocessing import MinMaxScaler, StandardScaler, MultiLabelBinarizer, FunctionTransformer\n",
    "from sklearn.pipeline import Pipeline\n",
    "from mlxtend.feature_selection import SequentialFeatureSelector as SFS\n",
    "from sklearn.feature_selection import SequentialFeatureSelector, RFE, SelectPercentile, chi2, mutual_info_regression, SelectFromModel\n",
    "from mlxtend.plotting import plot_sequential_feature_selection as plot_sfs\n",
    "from sklearn.linear_model import LinearRegression, Lasso\n",
    "from sklearn.neighbors import KNeighborsRegressor\n",
    "from sklearn.tree import DecisionTreeRegressor\n",
    "from sklearn.ensemble import RandomForestRegressor\n",
    "from sklearn.decomposition import PCA, KernelPCA\n",
    "from sklearn.manifold import TSNE\n",
    "from sklearn.neural_network import MLPRegressor\n",
    "\n",
    "import torch\n",
    "\n",
    "# Visualization packages\n",
    "import seaborn as sns\n",
    "import matplotlib.pyplot as plt\n",
    "\n",
    "# Others\n",
    "import time\n",
    "from pathlib import Path\n"
   ]
  },
  {
   "cell_type": "code",
   "execution_count": 2,
   "outputs": [
    {
     "data": {
      "text/plain": "    ratings   n_votes  production_year   runtime  release_year  Action  \\\n0  0.606742  0.809200         1.111354  0.398460      0.933839     0.0   \n1  0.764045 -0.271776        -0.073389  0.079814      1.366959     1.0   \n2  0.539326 -0.256258        -1.596629  1.099479     -2.531122     0.0   \n3  0.617978 -0.215474        -0.242638  0.398460     -0.798642     0.0   \n4  0.337079 -0.265518        -1.258132  0.494053     -2.098002     0.0   \n\n   Animation  Crime  Drama  Family  ...   emb_189   emb_190   emb_191  \\\n0        0.0    0.0    1.0     0.0  ... -0.020153 -0.015117  0.237029   \n1        0.0    1.0    1.0     0.0  ... -0.194736  0.081447  0.099483   \n2        0.0    0.0    1.0     1.0  ...  0.092746  0.026760  0.241836   \n3        0.0    0.0    1.0     0.0  ...  0.222160 -0.061716  0.269019   \n4        0.0    1.0    1.0     0.0  ... -0.053639 -0.288431  0.096173   \n\n    emb_192   emb_193   emb_194   emb_195   emb_196   emb_197   emb_198  \n0 -0.028050 -0.023873  0.079219 -0.031364 -0.071154 -0.091889 -0.235259  \n1 -0.115929  0.107830  0.129517 -0.144803 -0.000834 -0.156755  0.159004  \n2  0.224205  0.007772  0.136998  0.067925 -0.050262  0.116298  0.057964  \n3 -0.029332  0.159303  0.049171  0.240762 -0.297771 -0.147129  0.116596  \n4 -0.151598  0.179133  0.025855  0.221040  0.155626 -0.151701 -0.016146  \n\n[5 rows x 219 columns]",
      "text/html": "<div>\n<style scoped>\n    .dataframe tbody tr th:only-of-type {\n        vertical-align: middle;\n    }\n\n    .dataframe tbody tr th {\n        vertical-align: top;\n    }\n\n    .dataframe thead th {\n        text-align: right;\n    }\n</style>\n<table border=\"1\" class=\"dataframe\">\n  <thead>\n    <tr style=\"text-align: right;\">\n      <th></th>\n      <th>ratings</th>\n      <th>n_votes</th>\n      <th>production_year</th>\n      <th>runtime</th>\n      <th>release_year</th>\n      <th>Action</th>\n      <th>Animation</th>\n      <th>Crime</th>\n      <th>Drama</th>\n      <th>Family</th>\n      <th>...</th>\n      <th>emb_189</th>\n      <th>emb_190</th>\n      <th>emb_191</th>\n      <th>emb_192</th>\n      <th>emb_193</th>\n      <th>emb_194</th>\n      <th>emb_195</th>\n      <th>emb_196</th>\n      <th>emb_197</th>\n      <th>emb_198</th>\n    </tr>\n  </thead>\n  <tbody>\n    <tr>\n      <th>0</th>\n      <td>0.606742</td>\n      <td>0.809200</td>\n      <td>1.111354</td>\n      <td>0.398460</td>\n      <td>0.933839</td>\n      <td>0.0</td>\n      <td>0.0</td>\n      <td>0.0</td>\n      <td>1.0</td>\n      <td>0.0</td>\n      <td>...</td>\n      <td>-0.020153</td>\n      <td>-0.015117</td>\n      <td>0.237029</td>\n      <td>-0.028050</td>\n      <td>-0.023873</td>\n      <td>0.079219</td>\n      <td>-0.031364</td>\n      <td>-0.071154</td>\n      <td>-0.091889</td>\n      <td>-0.235259</td>\n    </tr>\n    <tr>\n      <th>1</th>\n      <td>0.764045</td>\n      <td>-0.271776</td>\n      <td>-0.073389</td>\n      <td>0.079814</td>\n      <td>1.366959</td>\n      <td>1.0</td>\n      <td>0.0</td>\n      <td>1.0</td>\n      <td>1.0</td>\n      <td>0.0</td>\n      <td>...</td>\n      <td>-0.194736</td>\n      <td>0.081447</td>\n      <td>0.099483</td>\n      <td>-0.115929</td>\n      <td>0.107830</td>\n      <td>0.129517</td>\n      <td>-0.144803</td>\n      <td>-0.000834</td>\n      <td>-0.156755</td>\n      <td>0.159004</td>\n    </tr>\n    <tr>\n      <th>2</th>\n      <td>0.539326</td>\n      <td>-0.256258</td>\n      <td>-1.596629</td>\n      <td>1.099479</td>\n      <td>-2.531122</td>\n      <td>0.0</td>\n      <td>0.0</td>\n      <td>0.0</td>\n      <td>1.0</td>\n      <td>1.0</td>\n      <td>...</td>\n      <td>0.092746</td>\n      <td>0.026760</td>\n      <td>0.241836</td>\n      <td>0.224205</td>\n      <td>0.007772</td>\n      <td>0.136998</td>\n      <td>0.067925</td>\n      <td>-0.050262</td>\n      <td>0.116298</td>\n      <td>0.057964</td>\n    </tr>\n    <tr>\n      <th>3</th>\n      <td>0.617978</td>\n      <td>-0.215474</td>\n      <td>-0.242638</td>\n      <td>0.398460</td>\n      <td>-0.798642</td>\n      <td>0.0</td>\n      <td>0.0</td>\n      <td>0.0</td>\n      <td>1.0</td>\n      <td>0.0</td>\n      <td>...</td>\n      <td>0.222160</td>\n      <td>-0.061716</td>\n      <td>0.269019</td>\n      <td>-0.029332</td>\n      <td>0.159303</td>\n      <td>0.049171</td>\n      <td>0.240762</td>\n      <td>-0.297771</td>\n      <td>-0.147129</td>\n      <td>0.116596</td>\n    </tr>\n    <tr>\n      <th>4</th>\n      <td>0.337079</td>\n      <td>-0.265518</td>\n      <td>-1.258132</td>\n      <td>0.494053</td>\n      <td>-2.098002</td>\n      <td>0.0</td>\n      <td>0.0</td>\n      <td>1.0</td>\n      <td>1.0</td>\n      <td>0.0</td>\n      <td>...</td>\n      <td>-0.053639</td>\n      <td>-0.288431</td>\n      <td>0.096173</td>\n      <td>-0.151598</td>\n      <td>0.179133</td>\n      <td>0.025855</td>\n      <td>0.221040</td>\n      <td>0.155626</td>\n      <td>-0.151701</td>\n      <td>-0.016146</td>\n    </tr>\n  </tbody>\n</table>\n<p>5 rows × 219 columns</p>\n</div>"
     },
     "execution_count": 2,
     "metadata": {},
     "output_type": "execute_result"
    }
   ],
   "source": [
    "X1_pca = torch.load('X1_pca')\n",
    "X1_tsne = torch.load('X1_tsne')\n",
    "X1_ica = torch.load('X1_ica')\n",
    "Y1 = pd.read_csv(\"Y1.csv\", header=None, names=['revenue '])\n",
    "X1_pca.head()"
   ],
   "metadata": {
    "collapsed": false
   }
  },
  {
   "cell_type": "code",
   "execution_count": 3,
   "outputs": [
    {
     "data": {
      "text/plain": "    ratings   n_votes  production_year   runtime  release_year  Action  \\\n0  0.606742  0.809200         1.111354  0.398460      0.933839     0.0   \n1  0.764045 -0.271776        -0.073389  0.079814      1.366959     1.0   \n2  0.539326 -0.256258        -1.596629  1.099479     -2.531122     0.0   \n3  0.617978 -0.215474        -0.242638  0.398460     -0.798642     0.0   \n4  0.337079 -0.265518        -1.258132  0.494053     -2.098002     0.0   \n\n   Animation  Crime  Drama  Family  ...  Mystery  Romance  Short  Thriller  \\\n0        0.0    0.0    1.0     0.0  ...      0.0      0.0    0.0       0.0   \n1        0.0    1.0    1.0     0.0  ...      0.0      0.0    0.0       0.0   \n2        0.0    0.0    1.0     1.0  ...      0.0      0.0    0.0       0.0   \n3        0.0    0.0    1.0     0.0  ...      0.0      0.0    0.0       0.0   \n4        0.0    1.0    1.0     0.0  ...      0.0      0.0    0.0       0.0   \n\n   War  Western  studio_freq      emb_0      emb_1      emb_2  \n0  0.0      0.0     0.001695   1.008297  27.463465 -26.949211  \n1  0.0      0.0     0.000565  34.157619  -4.052936 -32.597328  \n2  0.0      0.0     0.025141  -1.671483  -5.202857  11.800252  \n3  0.0      0.0     0.016949 -20.894047  -3.049792   7.202212  \n4  0.0      0.0     0.025141   3.110168 -13.494096 -25.801357  \n\n[5 rows x 23 columns]",
      "text/html": "<div>\n<style scoped>\n    .dataframe tbody tr th:only-of-type {\n        vertical-align: middle;\n    }\n\n    .dataframe tbody tr th {\n        vertical-align: top;\n    }\n\n    .dataframe thead th {\n        text-align: right;\n    }\n</style>\n<table border=\"1\" class=\"dataframe\">\n  <thead>\n    <tr style=\"text-align: right;\">\n      <th></th>\n      <th>ratings</th>\n      <th>n_votes</th>\n      <th>production_year</th>\n      <th>runtime</th>\n      <th>release_year</th>\n      <th>Action</th>\n      <th>Animation</th>\n      <th>Crime</th>\n      <th>Drama</th>\n      <th>Family</th>\n      <th>...</th>\n      <th>Mystery</th>\n      <th>Romance</th>\n      <th>Short</th>\n      <th>Thriller</th>\n      <th>War</th>\n      <th>Western</th>\n      <th>studio_freq</th>\n      <th>emb_0</th>\n      <th>emb_1</th>\n      <th>emb_2</th>\n    </tr>\n  </thead>\n  <tbody>\n    <tr>\n      <th>0</th>\n      <td>0.606742</td>\n      <td>0.809200</td>\n      <td>1.111354</td>\n      <td>0.398460</td>\n      <td>0.933839</td>\n      <td>0.0</td>\n      <td>0.0</td>\n      <td>0.0</td>\n      <td>1.0</td>\n      <td>0.0</td>\n      <td>...</td>\n      <td>0.0</td>\n      <td>0.0</td>\n      <td>0.0</td>\n      <td>0.0</td>\n      <td>0.0</td>\n      <td>0.0</td>\n      <td>0.001695</td>\n      <td>1.008297</td>\n      <td>27.463465</td>\n      <td>-26.949211</td>\n    </tr>\n    <tr>\n      <th>1</th>\n      <td>0.764045</td>\n      <td>-0.271776</td>\n      <td>-0.073389</td>\n      <td>0.079814</td>\n      <td>1.366959</td>\n      <td>1.0</td>\n      <td>0.0</td>\n      <td>1.0</td>\n      <td>1.0</td>\n      <td>0.0</td>\n      <td>...</td>\n      <td>0.0</td>\n      <td>0.0</td>\n      <td>0.0</td>\n      <td>0.0</td>\n      <td>0.0</td>\n      <td>0.0</td>\n      <td>0.000565</td>\n      <td>34.157619</td>\n      <td>-4.052936</td>\n      <td>-32.597328</td>\n    </tr>\n    <tr>\n      <th>2</th>\n      <td>0.539326</td>\n      <td>-0.256258</td>\n      <td>-1.596629</td>\n      <td>1.099479</td>\n      <td>-2.531122</td>\n      <td>0.0</td>\n      <td>0.0</td>\n      <td>0.0</td>\n      <td>1.0</td>\n      <td>1.0</td>\n      <td>...</td>\n      <td>0.0</td>\n      <td>0.0</td>\n      <td>0.0</td>\n      <td>0.0</td>\n      <td>0.0</td>\n      <td>0.0</td>\n      <td>0.025141</td>\n      <td>-1.671483</td>\n      <td>-5.202857</td>\n      <td>11.800252</td>\n    </tr>\n    <tr>\n      <th>3</th>\n      <td>0.617978</td>\n      <td>-0.215474</td>\n      <td>-0.242638</td>\n      <td>0.398460</td>\n      <td>-0.798642</td>\n      <td>0.0</td>\n      <td>0.0</td>\n      <td>0.0</td>\n      <td>1.0</td>\n      <td>0.0</td>\n      <td>...</td>\n      <td>0.0</td>\n      <td>0.0</td>\n      <td>0.0</td>\n      <td>0.0</td>\n      <td>0.0</td>\n      <td>0.0</td>\n      <td>0.016949</td>\n      <td>-20.894047</td>\n      <td>-3.049792</td>\n      <td>7.202212</td>\n    </tr>\n    <tr>\n      <th>4</th>\n      <td>0.337079</td>\n      <td>-0.265518</td>\n      <td>-1.258132</td>\n      <td>0.494053</td>\n      <td>-2.098002</td>\n      <td>0.0</td>\n      <td>0.0</td>\n      <td>1.0</td>\n      <td>1.0</td>\n      <td>0.0</td>\n      <td>...</td>\n      <td>0.0</td>\n      <td>0.0</td>\n      <td>0.0</td>\n      <td>0.0</td>\n      <td>0.0</td>\n      <td>0.0</td>\n      <td>0.025141</td>\n      <td>3.110168</td>\n      <td>-13.494096</td>\n      <td>-25.801357</td>\n    </tr>\n  </tbody>\n</table>\n<p>5 rows × 23 columns</p>\n</div>"
     },
     "execution_count": 3,
     "metadata": {},
     "output_type": "execute_result"
    }
   ],
   "source": [
    "X1_tsne.head()"
   ],
   "metadata": {
    "collapsed": false
   }
  },
  {
   "cell_type": "code",
   "execution_count": 4,
   "outputs": [],
   "source": [
    "X_train_pca, X_train_tsne, X_train_ica, y_train = X1_pca.to_numpy(), X1_tsne.to_numpy(), X1_ica.to_numpy(), Y1.to_numpy().ravel()"
   ],
   "metadata": {
    "collapsed": false
   }
  },
  {
   "cell_type": "markdown",
   "source": [
    "## 5. Models"
   ],
   "metadata": {
    "collapsed": false
   }
  },
  {
   "cell_type": "markdown",
   "source": [
    "### 5.1 Linear regression"
   ],
   "metadata": {
    "collapsed": false
   }
  },
  {
   "cell_type": "code",
   "execution_count": 10,
   "outputs": [],
   "source": [
    "LR_model = LinearRegression()"
   ],
   "metadata": {
    "collapsed": false
   }
  },
  {
   "cell_type": "code",
   "execution_count": 28,
   "outputs": [
    {
     "name": "stdout",
     "output_type": "stream",
     "text": [
      "R^2 of the Linear Regression based on the PCA embeddings: 48.4111 %\n",
      "RMSE of the Linear Regression based on the PCA embeddings: -2.475\n"
     ]
    }
   ],
   "source": [
    "# np.random.seed(42)\n",
    "scores = cross_val_score(LR_model, X_train_pca, np.log(1 + y_train), scoring='r2', cv=10)\n",
    "print(\"R^2 of the Linear Regression based on the PCA embeddings: {:.6} %\".format(scores.mean()*100))\n",
    "scores = cross_val_score(LR_model, X_train_pca, np.log(1 + y_train), scoring='neg_root_mean_squared_error', cv=10)\n",
    "print(\"RMSE of the Linear Regression based on the PCA embeddings: {:.4}\".format(scores.mean()))"
   ],
   "metadata": {
    "collapsed": false
   }
  },
  {
   "cell_type": "code",
   "execution_count": 29,
   "outputs": [
    {
     "name": "stdout",
     "output_type": "stream",
     "text": [
      "R^2 of the Linear Regression based on the tSNE embeddings: 46.7319 %\n",
      "RMSE of the Linear Regression based on the tSNE embeddings: -2.514\n"
     ]
    }
   ],
   "source": [
    "# np.random.seed(42)\n",
    "scores = cross_val_score(LR_model, X_train_tsne, np.log(1 + y_train), scoring='r2', cv=10)\n",
    "print(\"R^2 of the Linear Regression based on the tSNE embeddings: {:.6} %\".format(scores.mean()*100))\n",
    "scores = cross_val_score(LR_model, X_train_tsne, np.log(1 + y_train), scoring='neg_root_mean_squared_error', cv=10)\n",
    "print(\"RMSE of the Linear Regression based on the tSNE embeddings: {:.4}\".format(scores.mean()))"
   ],
   "metadata": {
    "collapsed": false
   }
  },
  {
   "cell_type": "code",
   "execution_count": 30,
   "outputs": [
    {
     "name": "stdout",
     "output_type": "stream",
     "text": [
      "R^2 of the Linear Regression based on the ICA embeddings: 48.4111 %\n",
      "RMSE of the Linear Regression based on the ICA embeddings: -2.475 \n"
     ]
    }
   ],
   "source": [
    "scores = cross_val_score(LR_model, X_train_ica, np.log(1 + y_train), scoring='r2', cv=10)\n",
    "print(\"R^2 of the Linear Regression based on the ICA embeddings: {:.6} %\".format(scores.mean()*100))\n",
    "scores = cross_val_score(LR_model, X_train_ica, np.log(1 + y_train), scoring='neg_root_mean_squared_error', cv=10)\n",
    "print(\"RMSE of the Linear Regression based on the ICA embeddings: {:.4} \".format(scores.mean()))"
   ],
   "metadata": {
    "collapsed": false
   }
  },
  {
   "cell_type": "markdown",
   "source": [
    "### 5.2 KNN regressor"
   ],
   "metadata": {
    "collapsed": false
   }
  },
  {
   "cell_type": "code",
   "execution_count": 38,
   "outputs": [],
   "source": [
    "KNN_model = KNeighborsRegressor(n_neighbors=5)"
   ],
   "metadata": {
    "collapsed": false
   }
  },
  {
   "cell_type": "code",
   "execution_count": 39,
   "outputs": [
    {
     "data": {
      "text/plain": "0.2634309997284042"
     },
     "execution_count": 39,
     "metadata": {},
     "output_type": "execute_result"
    }
   ],
   "source": [
    "scores = cross_val_score(KNN_model, X_train_pca, np.log(1 + y_train), scoring='r2', cv=10)\n",
    "scores.mean()"
   ],
   "metadata": {
    "collapsed": false
   }
  },
  {
   "cell_type": "code",
   "execution_count": 40,
   "outputs": [
    {
     "data": {
      "text/plain": "0.09042428732665879"
     },
     "execution_count": 40,
     "metadata": {},
     "output_type": "execute_result"
    }
   ],
   "source": [
    "# np.random.seed(42)\n",
    "scores = cross_val_score(KNN_model, X_train_tsne, np.log(1 + y_train), scoring='r2', cv=10)\n",
    "scores.mean()"
   ],
   "metadata": {
    "collapsed": false
   }
  },
  {
   "cell_type": "code",
   "execution_count": 41,
   "outputs": [
    {
     "data": {
      "text/plain": "0.44347836955066217"
     },
     "execution_count": 41,
     "metadata": {},
     "output_type": "execute_result"
    }
   ],
   "source": [
    "scores = cross_val_score(KNN_model, X_train_ica, np.log(1 + y_train), scoring='r2', cv=10)\n",
    "scores.mean()"
   ],
   "metadata": {
    "collapsed": false
   }
  },
  {
   "cell_type": "markdown",
   "source": [
    "### 5.3 MLP regressor"
   ],
   "metadata": {
    "collapsed": false
   }
  },
  {
   "cell_type": "code",
   "execution_count": null,
   "outputs": [],
   "source": [
    "mlp = MLPRegressor(random_state=42, max_iter=1000, verbose=0)\n",
    "hidden_layer_lists = [\n",
    "    (200,),\n",
    "    (200, 175,),\n",
    "    (200, 175, 150,),\n",
    "    (200, 175, 150, 125,),\n",
    "    (200, 175, 150, 125, 100,),\n",
    "    (200, 175, 150, 125, 100, 75,),\n",
    "    (200, 175, 150, 125, 100, 75, 50,),\n",
    "    (200, 175, 150, 125, 100, 75, 50, 25,),\n",
    "    (200, 175, 150, 125, 100, 75, 50, 25, 10)\n",
    "]\n",
    "mlp_parameter_grid = {\n",
    "    'hidden_layer_sizes': hidden_layer_lists,\n",
    "    'activation': ['tanh', 'relu'],\n",
    "    'solver': ['sgd', 'adam'],\n",
    "    'alpha': [0.0001, 0.05],\n",
    "    'batch_size': [177],\n",
    "    'learning_rate': ['constant','adaptive'],\n",
    "}"
   ],
   "metadata": {
    "collapsed": false
   }
  },
  {
   "cell_type": "code",
   "execution_count": null,
   "outputs": [],
   "source": [
    "mlp_grid_pca = GridSearchCV(mlp, mlp_parameter_grid, cv=10, scoring='neg_root_mean_squared_error', return_train_score=True,verbose=2)\n",
    "mlp_grid_ica = GridSearchCV(mlp, mlp_parameter_grid, cv=10, scoring='neg_root_mean_squared_error', return_train_score=True,verbose=2)\n",
    "mlp_grid_tsne = GridSearchCV(mlp, mlp_parameter_grid, cv=10, scoring='neg_root_mean_squared_error', return_train_score=True,verbose=2)"
   ],
   "metadata": {
    "collapsed": false
   }
  },
  {
   "cell_type": "code",
   "execution_count": null,
   "outputs": [],
   "source": [
    "## Find the best parameters for mlp regressor using three different features\n",
    "# mlp_grid_pca.fit(X_train_pca, np.log(1 + y_train))\n",
    "# mlp_grid_ica.fit(X_train_ica, np.log(1 + y_train))\n",
    "# mlp_grid_tsne.fit(X_train_tsne, np.log(1 + y_train))\n",
    "\n",
    "## Save the grid search results\n",
    "# torch.save(mlp_grid_pca, \"../models/mlp_grid_pca\")\n",
    "# torch.save(mlp_grid_ica, \"../models/mlp_grid_ica\")\n",
    "# torch.save(mlp_grid_tsne, \"../models/mlp_grid_tsne\")"
   ],
   "metadata": {
    "collapsed": false
   }
  },
  {
   "cell_type": "code",
   "execution_count": null,
   "outputs": [],
   "source": [
    "## Load the model selection results\n",
    "mlp_grid_pca = torch.load(\"../models/mlp_grid_pca\")\n",
    "mlp_grid_ica = torch.load(\"../models/mlp_grid_ica\")\n",
    "mlp_grid_tsne = torch.load(\"../models/mlp_grid_tsne\")"
   ],
   "metadata": {
    "collapsed": false
   }
  },
  {
   "cell_type": "code",
   "execution_count": 1,
   "outputs": [
    {
     "ename": "NameError",
     "evalue": "name 'mlp_grid_ica' is not defined",
     "output_type": "error",
     "traceback": [
      "\u001B[0;31m---------------------------------------------------------------------------\u001B[0m",
      "\u001B[0;31mNameError\u001B[0m                                 Traceback (most recent call last)",
      "\u001B[0;32m/var/folders/p9/1bnh9_q90b5c28x182btbjsm0000gn/T/ipykernel_60966/4277703674.py\u001B[0m in \u001B[0;36m<module>\u001B[0;34m\u001B[0m\n\u001B[0;32m----> 1\u001B[0;31m \u001B[0mprint\u001B[0m\u001B[0;34m(\u001B[0m\u001B[0;34m\"[mlp_grid_pca] The best parameters are:\"\u001B[0m\u001B[0;34m,\u001B[0m \u001B[0mmlp_grid_ica\u001B[0m\u001B[0;34m.\u001B[0m\u001B[0mbest_params_\u001B[0m\u001B[0;34m)\u001B[0m\u001B[0;34m\u001B[0m\u001B[0;34m\u001B[0m\u001B[0m\n\u001B[0m\u001B[1;32m      2\u001B[0m \u001B[0mprint\u001B[0m\u001B[0;34m(\u001B[0m\u001B[0;34m\"[mlp_grid_pca] The best RMSE is:\"\u001B[0m\u001B[0;34m,\u001B[0m \u001B[0mmlp_grid_ica\u001B[0m\u001B[0;34m.\u001B[0m\u001B[0mbest_score_\u001B[0m\u001B[0;34m)\u001B[0m\u001B[0;34m\u001B[0m\u001B[0;34m\u001B[0m\u001B[0m\n\u001B[1;32m      3\u001B[0m \u001B[0mprint\u001B[0m\u001B[0;34m(\u001B[0m\u001B[0;34m)\u001B[0m\u001B[0;34m\u001B[0m\u001B[0;34m\u001B[0m\u001B[0m\n\u001B[1;32m      4\u001B[0m \u001B[0mprint\u001B[0m\u001B[0;34m(\u001B[0m\u001B[0;34m\"[mlp_grid_ica] The best parameters are:\"\u001B[0m\u001B[0;34m,\u001B[0m \u001B[0mmlp_grid_ica\u001B[0m\u001B[0;34m.\u001B[0m\u001B[0mbest_params_\u001B[0m\u001B[0;34m)\u001B[0m\u001B[0;34m\u001B[0m\u001B[0;34m\u001B[0m\u001B[0m\n\u001B[1;32m      5\u001B[0m \u001B[0mprint\u001B[0m\u001B[0;34m(\u001B[0m\u001B[0;34m\"[mlp_grid_ica] The best RMSE is:\"\u001B[0m\u001B[0;34m,\u001B[0m \u001B[0mmlp_grid_ica\u001B[0m\u001B[0;34m.\u001B[0m\u001B[0mbest_score_\u001B[0m\u001B[0;34m)\u001B[0m\u001B[0;34m\u001B[0m\u001B[0;34m\u001B[0m\u001B[0m\n",
      "\u001B[0;31mNameError\u001B[0m: name 'mlp_grid_ica' is not defined"
     ]
    }
   ],
   "source": [
    "print(\"[mlp_grid_pca] The best parameters are:\", mlp_grid_ica.best_params_)\n",
    "print(\"[mlp_grid_pca] The best RMSE is:\", mlp_grid_ica.best_score_)\n",
    "print()\n",
    "print(\"[mlp_grid_ica] The best parameters are:\", mlp_grid_ica.best_params_)\n",
    "print(\"[mlp_grid_ica] The best RMSE is:\", mlp_grid_ica.best_score_)\n",
    "print()\n",
    "print(\"[mlp_grid_tsne] The best parameters are:\", mlp_grid_ica.best_params_)\n",
    "print(\"[mlp_grid_tsne] The best RMSE is:\", mlp_grid_ica.best_score_)"
   ],
   "metadata": {
    "collapsed": false
   }
  },
  {
   "cell_type": "markdown",
   "source": [
    "### 5.4 Random Forest Regressor"
   ],
   "metadata": {
    "collapsed": false
   }
  },
  {
   "cell_type": "code",
   "execution_count": 5,
   "outputs": [],
   "source": [
    "RFR_model = RandomForestRegressor(n_jobs=-1)"
   ],
   "metadata": {
    "collapsed": false
   }
  },
  {
   "cell_type": "code",
   "execution_count": 6,
   "outputs": [
    {
     "data": {
      "text/plain": "0.701956181677617"
     },
     "execution_count": 6,
     "metadata": {},
     "output_type": "execute_result"
    }
   ],
   "source": [
    "scores = cross_val_score(RFR_model, X_train_pca, np.log(1 + y_train), scoring='r2', cv=10)\n",
    "scores.mean()"
   ],
   "metadata": {
    "collapsed": false
   }
  },
  {
   "cell_type": "code",
   "execution_count": 7,
   "outputs": [
    {
     "data": {
      "text/plain": "0.7291422912052102"
     },
     "execution_count": 7,
     "metadata": {},
     "output_type": "execute_result"
    }
   ],
   "source": [
    "scores = cross_val_score(RFR_model, X_train_tsne, np.log(1 + y_train), scoring='r2', cv=10)\n",
    "scores.mean()"
   ],
   "metadata": {
    "collapsed": false
   }
  },
  {
   "cell_type": "code",
   "execution_count": 8,
   "outputs": [
    {
     "data": {
      "text/plain": "0.7037980851176935"
     },
     "execution_count": 8,
     "metadata": {},
     "output_type": "execute_result"
    }
   ],
   "source": [
    "scores = cross_val_score(RFR_model, X_train_ica, np.log(1 + y_train), scoring='r2', cv=10)\n",
    "scores.mean()"
   ],
   "metadata": {
    "collapsed": false
   }
  },
  {
   "cell_type": "code",
   "execution_count": null,
   "outputs": [],
   "source": [],
   "metadata": {
    "collapsed": false
   }
  }
 ],
 "metadata": {
  "kernelspec": {
   "display_name": "Python 3",
   "language": "python",
   "name": "python3"
  },
  "language_info": {
   "codemirror_mode": {
    "name": "ipython",
    "version": 2
   },
   "file_extension": ".py",
   "mimetype": "text/x-python",
   "name": "python",
   "nbconvert_exporter": "python",
   "pygments_lexer": "ipython2",
   "version": "2.7.6"
  }
 },
 "nbformat": 4,
 "nbformat_minor": 0
}

{
 "cells": [
  {
   "cell_type": "code",
   "execution_count": 1,
   "metadata": {
    "collapsed": true
   },
   "outputs": [],
   "source": [
    "# Data processing packages\n",
    "import numpy as np\n",
    "import pandas as pd\n",
    "from collections import Counter\n",
    "\n",
    "# Machine learning packages\n",
    "from sklearn.model_selection import GridSearchCV, RepeatedKFold, cross_val_score, KFold\n",
    "from sklearn.preprocessing import MinMaxScaler, StandardScaler, MultiLabelBinarizer, FunctionTransformer\n",
    "from sklearn.pipeline import Pipeline\n",
    "from mlxtend.feature_selection import SequentialFeatureSelector as SFS\n",
    "from sklearn.feature_selection import SequentialFeatureSelector, RFE, SelectPercentile, chi2, mutual_info_regression, SelectFromModel\n",
    "from mlxtend.plotting import plot_sequential_feature_selection as plot_sfs\n",
    "from sklearn.linear_model import LinearRegression, Lasso\n",
    "from sklearn.neighbors import KNeighborsRegressor\n",
    "from sklearn.tree import DecisionTreeRegressor\n",
    "from sklearn.ensemble import RandomForestRegressor\n",
    "from sklearn.decomposition import PCA\n",
    "\n",
    "import torch\n",
    "\n",
    "# Visualization packages\n",
    "import seaborn as sns\n",
    "import matplotlib.pyplot as plt\n",
    "\n",
    "# Others\n",
    "import time\n",
    "from pathlib import Path"
   ]
  },
  {
   "cell_type": "code",
   "execution_count": 3,
   "outputs": [
    {
     "data": {
      "text/plain": "    ratings   n_votes  production_year   runtime  release_year  Action  \\\n0  0.606742  0.809200         1.111354  0.398460      0.933839     0.0   \n1  0.764045 -0.271776        -0.073389  0.079814      1.366959     1.0   \n2  0.539326 -0.256258        -1.596629  1.099479     -2.531122     0.0   \n3  0.617978 -0.215474        -0.242638  0.398460     -0.798642     0.0   \n4  0.337079 -0.265518        -1.258132  0.494053     -2.098002     0.0   \n\n   Animation  Crime  Drama  Family  ...   emb_189   emb_190   emb_191  \\\n0        0.0    0.0    1.0     0.0  ... -0.020153 -0.015117  0.237029   \n1        0.0    1.0    1.0     0.0  ... -0.194736  0.081447  0.099483   \n2        0.0    0.0    1.0     1.0  ...  0.092746  0.026760  0.241836   \n3        0.0    0.0    1.0     0.0  ...  0.222160 -0.061716  0.269019   \n4        0.0    1.0    1.0     0.0  ... -0.053639 -0.288431  0.096173   \n\n    emb_192   emb_193   emb_194   emb_195   emb_196   emb_197   emb_198  \n0 -0.028050 -0.023873  0.079219 -0.031364 -0.071154 -0.091889 -0.235259  \n1 -0.115929  0.107830  0.129517 -0.144803 -0.000834 -0.156755  0.159004  \n2  0.224205  0.007772  0.136998  0.067925 -0.050262  0.116298  0.057964  \n3 -0.029332  0.159303  0.049171  0.240762 -0.297771 -0.147129  0.116596  \n4 -0.151598  0.179133  0.025855  0.221040  0.155626 -0.151701 -0.016146  \n\n[5 rows x 219 columns]",
      "text/html": "<div>\n<style scoped>\n    .dataframe tbody tr th:only-of-type {\n        vertical-align: middle;\n    }\n\n    .dataframe tbody tr th {\n        vertical-align: top;\n    }\n\n    .dataframe thead th {\n        text-align: right;\n    }\n</style>\n<table border=\"1\" class=\"dataframe\">\n  <thead>\n    <tr style=\"text-align: right;\">\n      <th></th>\n      <th>ratings</th>\n      <th>n_votes</th>\n      <th>production_year</th>\n      <th>runtime</th>\n      <th>release_year</th>\n      <th>Action</th>\n      <th>Animation</th>\n      <th>Crime</th>\n      <th>Drama</th>\n      <th>Family</th>\n      <th>...</th>\n      <th>emb_189</th>\n      <th>emb_190</th>\n      <th>emb_191</th>\n      <th>emb_192</th>\n      <th>emb_193</th>\n      <th>emb_194</th>\n      <th>emb_195</th>\n      <th>emb_196</th>\n      <th>emb_197</th>\n      <th>emb_198</th>\n    </tr>\n  </thead>\n  <tbody>\n    <tr>\n      <th>0</th>\n      <td>0.606742</td>\n      <td>0.809200</td>\n      <td>1.111354</td>\n      <td>0.398460</td>\n      <td>0.933839</td>\n      <td>0.0</td>\n      <td>0.0</td>\n      <td>0.0</td>\n      <td>1.0</td>\n      <td>0.0</td>\n      <td>...</td>\n      <td>-0.020153</td>\n      <td>-0.015117</td>\n      <td>0.237029</td>\n      <td>-0.028050</td>\n      <td>-0.023873</td>\n      <td>0.079219</td>\n      <td>-0.031364</td>\n      <td>-0.071154</td>\n      <td>-0.091889</td>\n      <td>-0.235259</td>\n    </tr>\n    <tr>\n      <th>1</th>\n      <td>0.764045</td>\n      <td>-0.271776</td>\n      <td>-0.073389</td>\n      <td>0.079814</td>\n      <td>1.366959</td>\n      <td>1.0</td>\n      <td>0.0</td>\n      <td>1.0</td>\n      <td>1.0</td>\n      <td>0.0</td>\n      <td>...</td>\n      <td>-0.194736</td>\n      <td>0.081447</td>\n      <td>0.099483</td>\n      <td>-0.115929</td>\n      <td>0.107830</td>\n      <td>0.129517</td>\n      <td>-0.144803</td>\n      <td>-0.000834</td>\n      <td>-0.156755</td>\n      <td>0.159004</td>\n    </tr>\n    <tr>\n      <th>2</th>\n      <td>0.539326</td>\n      <td>-0.256258</td>\n      <td>-1.596629</td>\n      <td>1.099479</td>\n      <td>-2.531122</td>\n      <td>0.0</td>\n      <td>0.0</td>\n      <td>0.0</td>\n      <td>1.0</td>\n      <td>1.0</td>\n      <td>...</td>\n      <td>0.092746</td>\n      <td>0.026760</td>\n      <td>0.241836</td>\n      <td>0.224205</td>\n      <td>0.007772</td>\n      <td>0.136998</td>\n      <td>0.067925</td>\n      <td>-0.050262</td>\n      <td>0.116298</td>\n      <td>0.057964</td>\n    </tr>\n    <tr>\n      <th>3</th>\n      <td>0.617978</td>\n      <td>-0.215474</td>\n      <td>-0.242638</td>\n      <td>0.398460</td>\n      <td>-0.798642</td>\n      <td>0.0</td>\n      <td>0.0</td>\n      <td>0.0</td>\n      <td>1.0</td>\n      <td>0.0</td>\n      <td>...</td>\n      <td>0.222160</td>\n      <td>-0.061716</td>\n      <td>0.269019</td>\n      <td>-0.029332</td>\n      <td>0.159303</td>\n      <td>0.049171</td>\n      <td>0.240762</td>\n      <td>-0.297771</td>\n      <td>-0.147129</td>\n      <td>0.116596</td>\n    </tr>\n    <tr>\n      <th>4</th>\n      <td>0.337079</td>\n      <td>-0.265518</td>\n      <td>-1.258132</td>\n      <td>0.494053</td>\n      <td>-2.098002</td>\n      <td>0.0</td>\n      <td>0.0</td>\n      <td>1.0</td>\n      <td>1.0</td>\n      <td>0.0</td>\n      <td>...</td>\n      <td>-0.053639</td>\n      <td>-0.288431</td>\n      <td>0.096173</td>\n      <td>-0.151598</td>\n      <td>0.179133</td>\n      <td>0.025855</td>\n      <td>0.221040</td>\n      <td>0.155626</td>\n      <td>-0.151701</td>\n      <td>-0.016146</td>\n    </tr>\n  </tbody>\n</table>\n<p>5 rows × 219 columns</p>\n</div>"
     },
     "execution_count": 3,
     "metadata": {},
     "output_type": "execute_result"
    }
   ],
   "source": [
    "X1_ready = torch.load('X1_ready_for_model')\n",
    "X1_ready.head()"
   ],
   "metadata": {
    "collapsed": false
   }
  },
  {
   "cell_type": "markdown",
   "source": [
    "## 5. Models\n"
   ],
   "metadata": {
    "collapsed": false
   }
  },
  {
   "cell_type": "code",
   "execution_count": null,
   "outputs": [],
   "source": [],
   "metadata": {
    "collapsed": false
   }
  }
 ],
 "metadata": {
  "kernelspec": {
   "display_name": "Python 3",
   "language": "python",
   "name": "python3"
  },
  "language_info": {
   "codemirror_mode": {
    "name": "ipython",
    "version": 2
   },
   "file_extension": ".py",
   "mimetype": "text/x-python",
   "name": "python",
   "nbconvert_exporter": "python",
   "pygments_lexer": "ipython2",
   "version": "2.7.6"
  }
 },
 "nbformat": 4,
 "nbformat_minor": 0
}

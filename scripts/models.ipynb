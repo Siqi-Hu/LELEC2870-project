{
 "cells": [
  {
   "cell_type": "code",
   "execution_count": 1,
   "metadata": {
    "collapsed": true
   },
   "outputs": [],
   "source": [
    "# Data processing packages\n",
    "import numpy as np\n",
    "import pandas as pd\n",
    "from collections import Counter\n",
    "\n",
    "# Machine learning packages\n",
    "from sklearn.model_selection import GridSearchCV, RepeatedKFold, cross_val_score, KFold\n",
    "from sklearn.preprocessing import MinMaxScaler, StandardScaler, MultiLabelBinarizer, FunctionTransformer\n",
    "from sklearn.pipeline import Pipeline\n",
    "from mlxtend.feature_selection import SequentialFeatureSelector as SFS\n",
    "from sklearn.feature_selection import SequentialFeatureSelector, RFE, SelectPercentile, chi2, mutual_info_regression, SelectFromModel\n",
    "from mlxtend.plotting import plot_sequential_feature_selection as plot_sfs\n",
    "from sklearn.linear_model import LinearRegression, Lasso\n",
    "from sklearn.neighbors import KNeighborsRegressor\n",
    "from sklearn.tree import DecisionTreeRegressor\n",
    "from sklearn.ensemble import RandomForestRegressor\n",
    "from sklearn.decomposition import PCA\n",
    "\n",
    "import torch\n",
    "\n",
    "# Visualization packages\n",
    "import seaborn as sns\n",
    "import matplotlib.pyplot as plt\n",
    "\n",
    "# Others\n",
    "import time\n",
    "from pathlib import Path"
   ]
  },
  {
   "cell_type": "code",
   "execution_count": 19,
   "outputs": [
    {
     "data": {
      "text/plain": "    ratings   n_votes  production_year   runtime  release_year  Action  \\\n0  0.606742  0.809200         1.111354  0.398460      0.933839     0.0   \n1  0.764045 -0.271776        -0.073389  0.079814      1.366959     1.0   \n2  0.539326 -0.256258        -1.596629  1.099479     -2.531122     0.0   \n3  0.617978 -0.215474        -0.242638  0.398460     -0.798642     0.0   \n4  0.337079 -0.265518        -1.258132  0.494053     -2.098002     0.0   \n\n   Animation  Crime  Drama  Family  ...   emb_189   emb_190   emb_191  \\\n0        0.0    0.0    1.0     0.0  ... -0.020153 -0.015117  0.237029   \n1        0.0    1.0    1.0     0.0  ... -0.194736  0.081447  0.099483   \n2        0.0    0.0    1.0     1.0  ...  0.092746  0.026760  0.241836   \n3        0.0    0.0    1.0     0.0  ...  0.222160 -0.061716  0.269019   \n4        0.0    1.0    1.0     0.0  ... -0.053639 -0.288431  0.096173   \n\n    emb_192   emb_193   emb_194   emb_195   emb_196   emb_197   emb_198  \n0 -0.028050 -0.023873  0.079219 -0.031364 -0.071154 -0.091889 -0.235259  \n1 -0.115929  0.107830  0.129517 -0.144803 -0.000834 -0.156755  0.159004  \n2  0.224205  0.007772  0.136998  0.067925 -0.050262  0.116298  0.057964  \n3 -0.029332  0.159303  0.049171  0.240762 -0.297771 -0.147129  0.116596  \n4 -0.151598  0.179133  0.025855  0.221040  0.155626 -0.151701 -0.016146  \n\n[5 rows x 219 columns]",
      "text/html": "<div>\n<style scoped>\n    .dataframe tbody tr th:only-of-type {\n        vertical-align: middle;\n    }\n\n    .dataframe tbody tr th {\n        vertical-align: top;\n    }\n\n    .dataframe thead th {\n        text-align: right;\n    }\n</style>\n<table border=\"1\" class=\"dataframe\">\n  <thead>\n    <tr style=\"text-align: right;\">\n      <th></th>\n      <th>ratings</th>\n      <th>n_votes</th>\n      <th>production_year</th>\n      <th>runtime</th>\n      <th>release_year</th>\n      <th>Action</th>\n      <th>Animation</th>\n      <th>Crime</th>\n      <th>Drama</th>\n      <th>Family</th>\n      <th>...</th>\n      <th>emb_189</th>\n      <th>emb_190</th>\n      <th>emb_191</th>\n      <th>emb_192</th>\n      <th>emb_193</th>\n      <th>emb_194</th>\n      <th>emb_195</th>\n      <th>emb_196</th>\n      <th>emb_197</th>\n      <th>emb_198</th>\n    </tr>\n  </thead>\n  <tbody>\n    <tr>\n      <th>0</th>\n      <td>0.606742</td>\n      <td>0.809200</td>\n      <td>1.111354</td>\n      <td>0.398460</td>\n      <td>0.933839</td>\n      <td>0.0</td>\n      <td>0.0</td>\n      <td>0.0</td>\n      <td>1.0</td>\n      <td>0.0</td>\n      <td>...</td>\n      <td>-0.020153</td>\n      <td>-0.015117</td>\n      <td>0.237029</td>\n      <td>-0.028050</td>\n      <td>-0.023873</td>\n      <td>0.079219</td>\n      <td>-0.031364</td>\n      <td>-0.071154</td>\n      <td>-0.091889</td>\n      <td>-0.235259</td>\n    </tr>\n    <tr>\n      <th>1</th>\n      <td>0.764045</td>\n      <td>-0.271776</td>\n      <td>-0.073389</td>\n      <td>0.079814</td>\n      <td>1.366959</td>\n      <td>1.0</td>\n      <td>0.0</td>\n      <td>1.0</td>\n      <td>1.0</td>\n      <td>0.0</td>\n      <td>...</td>\n      <td>-0.194736</td>\n      <td>0.081447</td>\n      <td>0.099483</td>\n      <td>-0.115929</td>\n      <td>0.107830</td>\n      <td>0.129517</td>\n      <td>-0.144803</td>\n      <td>-0.000834</td>\n      <td>-0.156755</td>\n      <td>0.159004</td>\n    </tr>\n    <tr>\n      <th>2</th>\n      <td>0.539326</td>\n      <td>-0.256258</td>\n      <td>-1.596629</td>\n      <td>1.099479</td>\n      <td>-2.531122</td>\n      <td>0.0</td>\n      <td>0.0</td>\n      <td>0.0</td>\n      <td>1.0</td>\n      <td>1.0</td>\n      <td>...</td>\n      <td>0.092746</td>\n      <td>0.026760</td>\n      <td>0.241836</td>\n      <td>0.224205</td>\n      <td>0.007772</td>\n      <td>0.136998</td>\n      <td>0.067925</td>\n      <td>-0.050262</td>\n      <td>0.116298</td>\n      <td>0.057964</td>\n    </tr>\n    <tr>\n      <th>3</th>\n      <td>0.617978</td>\n      <td>-0.215474</td>\n      <td>-0.242638</td>\n      <td>0.398460</td>\n      <td>-0.798642</td>\n      <td>0.0</td>\n      <td>0.0</td>\n      <td>0.0</td>\n      <td>1.0</td>\n      <td>0.0</td>\n      <td>...</td>\n      <td>0.222160</td>\n      <td>-0.061716</td>\n      <td>0.269019</td>\n      <td>-0.029332</td>\n      <td>0.159303</td>\n      <td>0.049171</td>\n      <td>0.240762</td>\n      <td>-0.297771</td>\n      <td>-0.147129</td>\n      <td>0.116596</td>\n    </tr>\n    <tr>\n      <th>4</th>\n      <td>0.337079</td>\n      <td>-0.265518</td>\n      <td>-1.258132</td>\n      <td>0.494053</td>\n      <td>-2.098002</td>\n      <td>0.0</td>\n      <td>0.0</td>\n      <td>1.0</td>\n      <td>1.0</td>\n      <td>0.0</td>\n      <td>...</td>\n      <td>-0.053639</td>\n      <td>-0.288431</td>\n      <td>0.096173</td>\n      <td>-0.151598</td>\n      <td>0.179133</td>\n      <td>0.025855</td>\n      <td>0.221040</td>\n      <td>0.155626</td>\n      <td>-0.151701</td>\n      <td>-0.016146</td>\n    </tr>\n  </tbody>\n</table>\n<p>5 rows × 219 columns</p>\n</div>"
     },
     "execution_count": 19,
     "metadata": {},
     "output_type": "execute_result"
    }
   ],
   "source": [
    "X1_ready = torch.load('X1_ready_for_model')\n",
    "Y1 = pd.read_csv(\"Y1.csv\", header=None, names=['revenue '])\n",
    "X1_ready.head()"
   ],
   "metadata": {
    "collapsed": false
   }
  },
  {
   "cell_type": "code",
   "execution_count": 20,
   "outputs": [],
   "source": [
    "X_train, y_train = X1_ready.to_numpy(), Y1.to_numpy().ravel()"
   ],
   "metadata": {
    "collapsed": false
   }
  },
  {
   "cell_type": "markdown",
   "source": [
    "## 5. Models"
   ],
   "metadata": {
    "collapsed": false
   }
  },
  {
   "cell_type": "markdown",
   "source": [
    "### 5.1 Linear regression"
   ],
   "metadata": {
    "collapsed": false
   }
  },
  {
   "cell_type": "code",
   "execution_count": 21,
   "outputs": [],
   "source": [
    "LR_model = LinearRegression().fit(X_train, y_train)"
   ],
   "metadata": {
    "collapsed": false
   }
  },
  {
   "cell_type": "code",
   "execution_count": 23,
   "outputs": [
    {
     "data": {
      "text/plain": "array([ 3.91796732e+07,  2.86716314e+07, -1.03671547e+06,  3.37001652e+06,\n       -8.13546090e+06,  2.31374011e+07,  7.72336090e+06, -9.27714523e+06,\n       -4.27171746e+06,  1.18321188e+07,  9.70757095e+06,  2.59074368e+06,\n       -2.11575857e+06, -2.74855718e+06,  2.14840743e+06,  5.28482315e+07,\n       -3.98231722e+06, -1.87282586e+06, -1.23125694e+06,  1.02758311e+09,\n       -5.00127460e+05, -8.56010694e+05,  2.04044113e+04,  1.68138421e+06,\n       -1.80015036e+06, -9.80176343e+05,  1.30901008e+06,  3.30675224e+06,\n        1.24559574e+06, -3.35816962e+06,  8.50655814e+05,  1.00104568e+06,\n        3.09361471e+06,  1.05416105e+06,  5.90275461e+06, -3.17572343e+06,\n        1.60649340e+06, -1.45119924e+06,  1.22458586e+06,  5.22678015e+06,\n        4.72006545e+06, -1.82312758e+06,  3.43960096e+06,  2.34060334e+06,\n       -3.66932373e+06, -5.88853617e+06, -1.24679174e+06,  3.28693740e+06,\n       -5.03087547e+06,  1.85766010e+06, -8.53125781e+05,  9.85930017e+05,\n       -3.49554248e+06,  4.26432087e+06, -7.00945725e+05,  2.72673271e+06,\n        2.05898941e+06,  1.25460072e+06,  4.16431279e+05,  8.32151963e+05,\n        5.28081233e+06, -4.74985523e+06, -4.42426131e+06, -1.16661422e+06,\n       -4.22985798e+05, -3.32487268e+06, -2.92362795e+06,  2.89509914e+06,\n       -2.53512606e+06, -1.77758686e+06, -4.16535726e+06,  3.19396295e+06,\n        2.39703919e+05, -2.64879055e+06,  1.80912121e+06,  4.87975226e+06,\n       -2.81222811e+06,  1.16854450e+06,  3.49108136e+04,  6.69764134e+05,\n       -2.70284126e+06,  4.68797494e+06,  2.55920675e+06,  2.84906245e+05,\n        7.64115652e+06, -1.94270706e+06,  3.35644192e+06,  9.25993170e+06,\n        4.67733620e+05, -5.75692445e+06, -1.35881897e+06, -4.75223341e+06,\n       -6.57028907e+06,  4.44570312e+06,  2.05807222e+06,  1.52075328e+06,\n        3.05007607e+06, -4.42900607e+06,  1.32963102e+05,  5.96466696e+06,\n       -4.19043463e+05, -9.31929048e+06, -1.21069623e+06, -2.76788527e+05,\n        2.87273088e+06, -5.88659365e+06,  1.13094673e+06, -3.43168818e+06,\n       -7.32418591e+06, -1.86350218e+06,  2.51755341e+05, -2.14852119e+06,\n       -5.39109474e+06,  3.80705568e+06,  3.71414857e+06, -5.10762384e+06,\n       -5.67395236e+06,  2.72736626e+06,  3.62225318e+06, -7.24537098e+05,\n       -1.28483051e+06, -5.14429027e+06, -3.07417548e+06,  9.12048456e+05,\n        7.76705421e+06,  2.54538131e+06, -4.63849315e+06, -5.86834082e+06,\n        4.62771188e+06,  1.97041858e+05,  7.85899043e+05, -2.30815375e+06,\n       -5.57626002e+06,  3.38260468e+06, -1.07635436e+06,  5.69065794e+06,\n       -2.28320740e+06,  1.27019340e+06, -4.20945703e+06, -3.11940186e+06,\n       -3.04169444e+06, -9.45351287e+06,  1.60544210e+06,  2.80109202e+06,\n       -3.36583016e+05, -3.89571361e+06, -2.67813887e+06,  1.78478778e+06,\n        6.30004107e+06, -7.60029963e+06,  2.22733002e+05, -4.19511003e+06,\n       -2.68466898e+06, -1.41301444e+06,  2.36952386e+06,  6.25090209e+05,\n        1.78347715e+06, -6.97502194e+06,  3.12979131e+05,  8.01135603e+06,\n        4.01418425e+06,  3.14801183e+05,  8.99325546e+06,  8.61658515e+05,\n        2.47191526e+06,  1.31140158e+06, -4.65397176e+06, -5.18722989e+05,\n        3.28742789e+06, -7.91755410e+06,  1.06715129e+07,  6.21102103e+06,\n       -1.22876556e+06,  9.97894420e+06,  4.01653278e+06, -1.19278778e+07,\n       -5.91185281e+06,  3.66639858e+06, -4.11058168e+06,  3.50093826e+06,\n       -3.77840716e+06,  4.30276827e+06, -9.28355961e+06,  4.14165065e+06,\n        2.74919069e+06, -1.18187602e+06, -6.65176454e+06, -6.50252453e+06,\n        9.77791105e+06,  1.29734318e+07, -3.54457352e+05, -5.02510531e+06,\n        3.03568926e+05,  4.17652883e+06,  1.30652688e+07, -2.02733832e+06,\n        4.56126069e+05,  4.81409956e+06, -2.51660432e+06, -1.85654495e+06,\n        2.73159197e+05, -8.65614853e+05,  5.71281266e+06, -4.87255029e+06,\n        2.20630567e+06, -2.83644207e+06, -1.05667873e+07,  2.32623949e+06,\n       -8.14080223e+05, -1.16205265e+07, -5.30762748e+05,  1.86368570e+06,\n        4.24440480e+06, -2.21121559e+06,  6.53487522e+05, -1.37985121e+06,\n       -7.19596081e+06, -7.83696888e+06, -1.64296909e+06])"
     },
     "execution_count": 23,
     "metadata": {},
     "output_type": "execute_result"
    }
   ],
   "source": [
    "LR_model.coef_"
   ],
   "metadata": {
    "collapsed": false
   }
  },
  {
   "cell_type": "code",
   "execution_count": 38,
   "outputs": [
    {
     "data": {
      "text/plain": "array([0.48648144, 0.52817494, 0.5093083 , 0.44898358, 0.49262462,\n       0.4385946 , 0.49478958, 0.47264384, 0.45113356, 0.51837985])"
     },
     "execution_count": 38,
     "metadata": {},
     "output_type": "execute_result"
    }
   ],
   "source": [
    "# np.random.seed(42)\n",
    "scores = cross_val_score(LR_model, X_train, np.log(1 + y_train), scoring='r2', cv=10)\n",
    "scores"
   ],
   "metadata": {
    "collapsed": false
   }
  },
  {
   "cell_type": "code",
   "execution_count": null,
   "outputs": [],
   "source": [],
   "metadata": {
    "collapsed": false
   }
  }
 ],
 "metadata": {
  "kernelspec": {
   "display_name": "Python 3",
   "language": "python",
   "name": "python3"
  },
  "language_info": {
   "codemirror_mode": {
    "name": "ipython",
    "version": 2
   },
   "file_extension": ".py",
   "mimetype": "text/x-python",
   "name": "python",
   "nbconvert_exporter": "python",
   "pygments_lexer": "ipython2",
   "version": "2.7.6"
  }
 },
 "nbformat": 4,
 "nbformat_minor": 0
}
